{
 "cells": [
  {
   "cell_type": "markdown",
   "id": "06e0fccd-c9f6-47d8-8ad7-49092847f02e",
   "metadata": {},
   "source": [
    "## Summary\n",
    "\n",
    "A simple demonstration of [cuelang](https://cuelang.org/) within a notebook.\n",
    "\n",
    "Note: presumes already installed cue commandline client. More information here: https://cuelang.org/docs/install/"
   ]
  },
  {
   "cell_type": "markdown",
   "id": "ea66d44f-2ce0-4de0-ac36-8a67531f0bdb",
   "metadata": {},
   "source": [
    "## Types are Values\n",
    "\n",
    "Within cuelang, types are values. Duplicates are allowed so long as they don't conflict.\n",
    "\n",
    "Consider the following valid example:\n",
    "\n",
    "```cue\n",
    "bigCity: {\n",
    "  name:    \"Aurora\"\n",
    "  pop:     386261\n",
    "  capital: false\n",
    "}\n",
    "bigCity: {\n",
    "  name:    string\n",
    "  pop:     int\n",
    "  capital: bool\n",
    "}\n",
    "bigCity: {\n",
    "  name:    string\n",
    "  pop:     >100000\n",
    "  capital: bool\n",
    "}\n",
    "```\n",
    "\n",
    "Whereas, the following would be invalid, throwing an error (capital as string and bool types are mismatched):\n",
    "\n",
    "```cue\n",
    "bigCity: {\n",
    "  name:    \"Aurora\"\n",
    "  pop:     386261\n",
    "  capital: \"false\"\n",
    "}\n",
    "bigCity: {\n",
    "  name:    string\n",
    "  pop:     int\n",
    "  capital: bool\n",
    "}\n",
    "bigCity: {\n",
    "  name:    string\n",
    "  pop:     >100000\n",
    "  capital: bool\n",
    "}\n",
    "```\n",
    "\n",
    "\n",
    "See the following documentation for more:\n",
    "    - https://cuelang.org/docs/tutorials/tour/intro/cue/\n",
    "    - https://cuelang.org/docs/tutorials/tour/intro/duplicates/"
   ]
  },
  {
   "cell_type": "code",
   "execution_count": 1,
   "id": "fd997d0b-7f3e-44f1-a2f8-b585dc69c4f7",
   "metadata": {},
   "outputs": [],
   "source": [
    "import os"
   ]
  },
  {
   "cell_type": "code",
   "execution_count": 2,
   "id": "2495e9fa-8b13-4f91-a7bb-2fce9950841d",
   "metadata": {},
   "outputs": [],
   "source": [
    "# demonstrate invalid\n",
    "some_cue = \"\"\"\n",
    "bigCity: {\n",
    "  name:    \"Aurora\"\n",
    "  pop:     386261\n",
    "  capital: \"false\"\n",
    "}\n",
    "bigCity: {\n",
    "  name:    string\n",
    "  pop:     int\n",
    "  capital: bool\n",
    "}\n",
    "bigCity: {\n",
    "  name:    string\n",
    "  pop:     >100000\n",
    "  capital: bool\n",
    "}\n",
    "\"\"\"\n",
    "\n",
    "with open(\"./example.cue\", \"w\") as f:\n",
    "    f.write(some_cue)"
   ]
  },
  {
   "cell_type": "code",
   "execution_count": 3,
   "id": "89a60b5e-7e03-4e70-b917-d9fa6104c9fc",
   "metadata": {},
   "outputs": [
    {
     "name": "stderr",
     "output_type": "stream",
     "text": [
      "bigCity.capital: conflicting values \"false\" and bool (mismatched types string and bool):\n",
      "    ./example.cue:5:12\n",
      "    ./example.cue:10:12\n"
     ]
    },
    {
     "ename": "CalledProcessError",
     "evalue": "Command 'b'# shows conflicting values error\\ncue eval example.cue\\n'' returned non-zero exit status 1.",
     "output_type": "error",
     "traceback": [
      "\u001b[0;31m---------------------------------------------------------------------------\u001b[0m",
      "\u001b[0;31mCalledProcessError\u001b[0m                        Traceback (most recent call last)",
      "Input \u001b[0;32mIn [3]\u001b[0m, in \u001b[0;36m<cell line: 1>\u001b[0;34m()\u001b[0m\n\u001b[0;32m----> 1\u001b[0m \u001b[43mget_ipython\u001b[49m\u001b[43m(\u001b[49m\u001b[43m)\u001b[49m\u001b[38;5;241;43m.\u001b[39;49m\u001b[43mrun_cell_magic\u001b[49m\u001b[43m(\u001b[49m\u001b[38;5;124;43m'\u001b[39;49m\u001b[38;5;124;43msh\u001b[39;49m\u001b[38;5;124;43m'\u001b[39;49m\u001b[43m,\u001b[49m\u001b[43m \u001b[49m\u001b[38;5;124;43m'\u001b[39;49m\u001b[38;5;124;43m'\u001b[39;49m\u001b[43m,\u001b[49m\u001b[43m \u001b[49m\u001b[38;5;124;43m'\u001b[39;49m\u001b[38;5;124;43m# shows conflicting values error\u001b[39;49m\u001b[38;5;130;43;01m\\n\u001b[39;49;00m\u001b[38;5;124;43mcue eval example.cue\u001b[39;49m\u001b[38;5;130;43;01m\\n\u001b[39;49;00m\u001b[38;5;124;43m'\u001b[39;49m\u001b[43m)\u001b[49m\n",
      "File \u001b[0;32m~/Library/Caches/pypoetry/virtualenvs/center-notebooks-JbY3YOuo-py3.9/lib/python3.9/site-packages/IPython/core/interactiveshell.py:2358\u001b[0m, in \u001b[0;36mInteractiveShell.run_cell_magic\u001b[0;34m(self, magic_name, line, cell)\u001b[0m\n\u001b[1;32m   2356\u001b[0m \u001b[38;5;28;01mwith\u001b[39;00m \u001b[38;5;28mself\u001b[39m\u001b[38;5;241m.\u001b[39mbuiltin_trap:\n\u001b[1;32m   2357\u001b[0m     args \u001b[38;5;241m=\u001b[39m (magic_arg_s, cell)\n\u001b[0;32m-> 2358\u001b[0m     result \u001b[38;5;241m=\u001b[39m \u001b[43mfn\u001b[49m\u001b[43m(\u001b[49m\u001b[38;5;241;43m*\u001b[39;49m\u001b[43margs\u001b[49m\u001b[43m,\u001b[49m\u001b[43m \u001b[49m\u001b[38;5;241;43m*\u001b[39;49m\u001b[38;5;241;43m*\u001b[39;49m\u001b[43mkwargs\u001b[49m\u001b[43m)\u001b[49m\n\u001b[1;32m   2359\u001b[0m \u001b[38;5;28;01mreturn\u001b[39;00m result\n",
      "File \u001b[0;32m~/Library/Caches/pypoetry/virtualenvs/center-notebooks-JbY3YOuo-py3.9/lib/python3.9/site-packages/IPython/core/magics/script.py:153\u001b[0m, in \u001b[0;36mScriptMagics._make_script_magic.<locals>.named_script_magic\u001b[0;34m(line, cell)\u001b[0m\n\u001b[1;32m    151\u001b[0m \u001b[38;5;28;01melse\u001b[39;00m:\n\u001b[1;32m    152\u001b[0m     line \u001b[38;5;241m=\u001b[39m script\n\u001b[0;32m--> 153\u001b[0m \u001b[38;5;28;01mreturn\u001b[39;00m \u001b[38;5;28;43mself\u001b[39;49m\u001b[38;5;241;43m.\u001b[39;49m\u001b[43mshebang\u001b[49m\u001b[43m(\u001b[49m\u001b[43mline\u001b[49m\u001b[43m,\u001b[49m\u001b[43m \u001b[49m\u001b[43mcell\u001b[49m\u001b[43m)\u001b[49m\n",
      "File \u001b[0;32m~/Library/Caches/pypoetry/virtualenvs/center-notebooks-JbY3YOuo-py3.9/lib/python3.9/site-packages/IPython/core/magics/script.py:305\u001b[0m, in \u001b[0;36mScriptMagics.shebang\u001b[0;34m(self, line, cell)\u001b[0m\n\u001b[1;32m    300\u001b[0m \u001b[38;5;28;01mif\u001b[39;00m args\u001b[38;5;241m.\u001b[39mraise_error \u001b[38;5;129;01mand\u001b[39;00m p\u001b[38;5;241m.\u001b[39mreturncode \u001b[38;5;241m!=\u001b[39m \u001b[38;5;241m0\u001b[39m:\n\u001b[1;32m    301\u001b[0m     \u001b[38;5;66;03m# If we get here and p.returncode is still None, we must have\u001b[39;00m\n\u001b[1;32m    302\u001b[0m     \u001b[38;5;66;03m# killed it but not yet seen its return code. We don't wait for it,\u001b[39;00m\n\u001b[1;32m    303\u001b[0m     \u001b[38;5;66;03m# in case it's stuck in uninterruptible sleep. -9 = SIGKILL\u001b[39;00m\n\u001b[1;32m    304\u001b[0m     rc \u001b[38;5;241m=\u001b[39m p\u001b[38;5;241m.\u001b[39mreturncode \u001b[38;5;129;01mor\u001b[39;00m \u001b[38;5;241m-\u001b[39m\u001b[38;5;241m9\u001b[39m\n\u001b[0;32m--> 305\u001b[0m     \u001b[38;5;28;01mraise\u001b[39;00m CalledProcessError(rc, cell)\n",
      "\u001b[0;31mCalledProcessError\u001b[0m: Command 'b'# shows conflicting values error\\ncue eval example.cue\\n'' returned non-zero exit status 1."
     ]
    }
   ],
   "source": [
    "%%sh\n",
    "# run as shell\n",
    "# shows conflicting values error\n",
    "cue eval example.cue"
   ]
  },
  {
   "cell_type": "code",
   "execution_count": 4,
   "id": "1ac1c8f4-7f64-4ef6-bbc8-064126df7996",
   "metadata": {},
   "outputs": [],
   "source": [
    "# demonstrate valid\n",
    "some_cue = \"\"\"\n",
    "bigCity: {\n",
    "  name:    \"Aurora\"\n",
    "  pop:     386261\n",
    "  capital: false\n",
    "}\n",
    "bigCity: {\n",
    "  name:    string\n",
    "  pop:     int\n",
    "  capital: bool\n",
    "}\n",
    "bigCity: {\n",
    "  name:    string\n",
    "  pop:     >100000\n",
    "  capital: bool\n",
    "}\n",
    "\"\"\"\n",
    "\n",
    "with open(\"./example.cue\", \"w\") as f:\n",
    "    f.write(some_cue)"
   ]
  },
  {
   "cell_type": "code",
   "execution_count": 5,
   "id": "4aeabe97-8217-4674-a55f-0fd7caea9f30",
   "metadata": {},
   "outputs": [
    {
     "name": "stdout",
     "output_type": "stream",
     "text": [
      "bigCity: {\n",
      "    name:    \"Aurora\"\n",
      "    pop:     386261\n",
      "    capital: false\n",
      "}\n"
     ]
    }
   ],
   "source": [
    "%%sh\n",
    "# run as shell\n",
    "# shows valid result\n",
    "cue eval example.cue"
   ]
  },
  {
   "cell_type": "code",
   "execution_count": 6,
   "id": "02599e33-5b9f-4a1b-a945-ce401cd056ed",
   "metadata": {},
   "outputs": [],
   "source": [
    "# remove example file\n",
    "os.remove(\"./example.cue\")"
   ]
  }
 ],
 "metadata": {
  "jupytext": {
   "formats": "ipynb,md"
  },
  "kernelspec": {
   "display_name": "Python 3 (ipykernel)",
   "language": "python",
   "name": "python3"
  },
  "language_info": {
   "codemirror_mode": {
    "name": "ipython",
    "version": 3
   },
   "file_extension": ".py",
   "mimetype": "text/x-python",
   "name": "python",
   "nbconvert_exporter": "python",
   "pygments_lexer": "ipython3",
   "version": "3.9.12"
  }
 },
 "nbformat": 4,
 "nbformat_minor": 5
}
