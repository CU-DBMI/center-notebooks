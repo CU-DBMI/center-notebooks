{
 "cells": [
  {
   "cell_type": "markdown",
   "id": "f746c17b-eff7-4112-a52a-86d524b1c5e4",
   "metadata": {},
   "source": [
    "# Put Model\n",
    "\n",
    "Puts a model created by this notebook into a dir for later use."
   ]
  },
  {
   "cell_type": "code",
   "execution_count": null,
   "id": "5e0ed8d2-50c6-41be-8592-c63acf504ef0",
   "metadata": {},
   "outputs": [],
   "source": [
    "import os\n",
    "import sys\n",
    "import pickle\n",
    "\n",
    "import pandas as pd\n",
    "from sklearn.datasets import load_iris\n",
    "from sklearn.model_selection import train_test_split\n",
    "from sklearn.svm import SVC"
   ]
  },
  {
   "cell_type": "code",
   "execution_count": null,
   "id": "07938f29-c419-49c1-993a-b05cef4feabb",
   "metadata": {
    "tags": [
     "parameters"
    ]
   },
   "outputs": [],
   "source": [
    "# parameters cell\n",
    "model_export_dir = \"/src/notebooks/exports\""
   ]
  },
  {
   "cell_type": "code",
   "execution_count": null,
   "id": "4b5daa20-a8e7-4648-a400-b546dd2151ed",
   "metadata": {},
   "outputs": [],
   "source": [
    "# gather data\n",
    "X, y = load_iris(return_X_y=True)\n",
    "Xtrain, Xtest, ytrain, ytest = train_test_split(X, y, test_size=0.3, shuffle=True)"
   ]
  },
  {
   "cell_type": "code",
   "execution_count": null,
   "id": "7137d9b9-3798-4206-8a13-c652becbc6c5",
   "metadata": {},
   "outputs": [],
   "source": [
    "# fit model\n",
    "model = SVC()\n",
    "model.fit(X=Xtrain, y=ytrain)"
   ]
  },
  {
   "cell_type": "code",
   "execution_count": null,
   "id": "3218d9fa-c7cd-4a1d-8e14-ec1a4e54163d",
   "metadata": {},
   "outputs": [],
   "source": [
    "# score model\n",
    "model.score(Xtest, ytest)"
   ]
  },
  {
   "cell_type": "code",
   "execution_count": null,
   "id": "c7266d92-ae9d-4388-967f-88f8a0d20446",
   "metadata": {},
   "outputs": [],
   "source": [
    "# export model\n",
    "model_path = f\"{model_export_dir}/model.pkl\"\n",
    "with open(model_path, \"wb\") as f:\n",
    "    pickle.dump(model, f)"
   ]
  }
 ],
 "metadata": {
  "kernelspec": {
   "display_name": "Python 3 (ipykernel)",
   "language": "python",
   "name": "python3"
  },
  "language_info": {
   "codemirror_mode": {
    "name": "ipython",
    "version": 3
   },
   "file_extension": ".py",
   "mimetype": "text/x-python",
   "name": "python",
   "nbconvert_exporter": "python",
   "pygments_lexer": "ipython3",
   "version": "3.8.10"
  }
 },
 "nbformat": 4,
 "nbformat_minor": 5
}
