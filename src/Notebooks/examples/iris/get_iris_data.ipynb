{
 "cells": [
  {
   "cell_type": "markdown",
   "id": "ae8a08b5-74f9-4a45-aedb-696399acc8f7",
   "metadata": {},
   "source": [
    "# Get Iris Dataset\n",
    "\n",
    "Creates and stores Iris dataset.\n",
    "\n",
    "## Acknowledgements and Citations:\n",
    "Data Creator(s):\n",
    "- R.A. Fisher\n",
    "\n",
    "Data Donor(s):\n",
    "- Michael Marshall (MARSHALL%PLU@io.arc.nasa.gov)\n",
    "\n",
    "Data Source(s):\n",
    "- scikit-learn: https://scikit-learn.org/stable/datasets/toy_dataset.html#iris-dataset"
   ]
  },
  {
   "cell_type": "code",
   "execution_count": null,
   "id": "7b612235-7637-4a2c-8b4e-6374ba209707",
   "metadata": {},
   "outputs": [],
   "source": [
    "import os\n",
    "\n",
    "import pandas as pd\n",
    "from sklearn.datasets import load_iris"
   ]
  },
  {
   "cell_type": "code",
   "execution_count": null,
   "id": "aec6185a-1266-486f-84e7-fad7a9d33aed",
   "metadata": {},
   "outputs": [],
   "source": [
    "# load iris dataset and meta\n",
    "iris_data = load_iris(as_frame=True)\n",
    "\n",
    "# use shorthand var for iris dataframe\n",
    "df = iris_data[\"frame\"]\n",
    "df.head()"
   ]
  },
  {
   "cell_type": "code",
   "execution_count": null,
   "id": "d1821344-d1bf-4731-be39-4e55c20a2096",
   "metadata": {},
   "outputs": [],
   "source": [
    "df[\"species\"] = df[\"target\"].apply(lambda x: iris_data[\"target_names\"][x])\n",
    "df.head()"
   ]
  },
  {
   "cell_type": "code",
   "execution_count": null,
   "id": "6b0f96f1-d621-439d-8d0b-e1cf33018e1e",
   "metadata": {},
   "outputs": [],
   "source": [
    "# save the raw dataset for data version control and reproducibility\n",
    "df.to_parquet(\"./data/iris.parquet\")"
   ]
  },
  {
   "cell_type": "code",
   "execution_count": null,
   "id": "6d2e4544-0671-4a65-86e9-6d20a48abe74",
   "metadata": {},
   "outputs": [],
   "source": [
    "# ensure we have a local remote to store the data using dvc\n",
    "!python -m dvc remote add -d localremote /tmp/dvcstore"
   ]
  },
  {
   "cell_type": "code",
   "execution_count": null,
   "id": "faa65e7b-3746-49ec-81d2-ea04136d495d",
   "metadata": {},
   "outputs": [],
   "source": [
    "# add the dataset using dvc\n",
    "!python -m dvc add data/iris.parquet"
   ]
  },
  {
   "cell_type": "code",
   "execution_count": null,
   "id": "0f0d16ce-fd66-42fe-92f8-44f6964e0fa0",
   "metadata": {},
   "outputs": [],
   "source": [
    "# push the dataset using dvc\n",
    "!python -m dvc push"
   ]
  },
  {
   "cell_type": "code",
   "execution_count": null,
   "id": "2b2e29f6-f281-4eb8-96af-125f25ac9b61",
   "metadata": {},
   "outputs": [],
   "source": [
    "# remove the dataset from export destination for demonstrational purposes\n",
    "os.remove(\"./data/iris.parquet\")"
   ]
  }
 ],
 "metadata": {
  "kernelspec": {
   "display_name": "Python 3 (ipykernel)",
   "language": "python",
   "name": "python3"
  },
  "language_info": {
   "codemirror_mode": {
    "name": "ipython",
    "version": 3
   },
   "file_extension": ".py",
   "mimetype": "text/x-python",
   "name": "python",
   "nbconvert_exporter": "python",
   "pygments_lexer": "ipython3",
   "version": "3.9.12"
  }
 },
 "nbformat": 4,
 "nbformat_minor": 5
}
