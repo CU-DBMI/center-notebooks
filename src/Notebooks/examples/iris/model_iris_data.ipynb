{
 "cells": [
  {
   "cell_type": "markdown",
   "id": "71ae28c3-8a29-4038-af59-9cec3090b77a",
   "metadata": {},
   "source": [
    "# Model Iris Dataset\n",
    "\n",
    "Create model from Iris dataset.\n",
    "\n",
    "## Acknowledgements and Citations:\n",
    "Data Creator(s):\n",
    "- R.A. Fisher\n",
    "\n",
    "Data Donor(s):\n",
    "- Michael Marshall (MARSHALL%PLU@io.arc.nasa.gov)\n",
    "\n",
    "Data Source(s):\n",
    "- scikit-learn: https://scikit-learn.org/stable/datasets/toy_dataset.html#iris-dataset"
   ]
  },
  {
   "cell_type": "code",
   "execution_count": null,
   "id": "b9bdca2c-04e2-478e-a8d0-792aa1d88827",
   "metadata": {},
   "outputs": [],
   "source": [
    "import pickle\n",
    "\n",
    "import pandas as pd\n",
    "from sklearn.model_selection import train_test_split\n",
    "from sklearn.neighbors import KNeighborsClassifier\n",
    "from sklearn.preprocessing import StandardScaler"
   ]
  },
  {
   "cell_type": "code",
   "execution_count": null,
   "id": "86d2817e-4235-4b73-a5e7-d88608b092b6",
   "metadata": {},
   "outputs": [],
   "source": [
    "# checkout versioned dataset\n",
    "!python -m dvc checkout -f"
   ]
  },
  {
   "cell_type": "code",
   "execution_count": null,
   "id": "f6e12358-65b1-4695-a03e-8d12fac0f3c2",
   "metadata": {},
   "outputs": [],
   "source": [
    "# read the checked out dataset\n",
    "df = pd.read_parquet(\"./data/iris.parquet\")\n",
    "df.head()"
   ]
  },
  {
   "cell_type": "code",
   "execution_count": null,
   "id": "37b6ff0c-bf36-4f8a-aa53-775c3a802fc2",
   "metadata": {},
   "outputs": [],
   "source": [
    "df.info()"
   ]
  },
  {
   "cell_type": "code",
   "execution_count": null,
   "id": "9e05c4bf-a2db-45ca-bfed-4f9cbb8cb418",
   "metadata": {},
   "outputs": [],
   "source": [
    "# create copy of dataset for modeling\n",
    "df_modeling = df.drop(\"species\", axis=1).copy()\n",
    "df_modeling"
   ]
  },
  {
   "cell_type": "code",
   "execution_count": null,
   "id": "ef00b5fb-af65-4220-9c3c-a0dfa2c05c05",
   "metadata": {},
   "outputs": [],
   "source": [
    "# scale features\n",
    "scaler = StandardScaler()\n",
    "df_scaled = pd.DataFrame(\n",
    "    scaler.fit_transform(\n",
    "        X=df_modeling[\n",
    "            [\n",
    "                \"sepal length (cm)\",\n",
    "                \"sepal width (cm)\",\n",
    "                \"petal length (cm)\",\n",
    "                \"petal width (cm)\",\n",
    "            ]\n",
    "        ]\n",
    "    )\n",
    ")\n",
    "df_scaled.head()"
   ]
  },
  {
   "cell_type": "code",
   "execution_count": null,
   "id": "f06f2a55-f377-4081-b88e-526b3d60f766",
   "metadata": {},
   "outputs": [],
   "source": [
    "# create training and testing splits\n",
    "X_train, X_test, y_train, y_test = train_test_split(\n",
    "    df_scaled, df_modeling[\"target\"], test_size=0.3, shuffle=True\n",
    ")\n",
    "len(X_train)"
   ]
  },
  {
   "cell_type": "code",
   "execution_count": null,
   "id": "529f99f9-d132-4b25-975e-2c895a484826",
   "metadata": {},
   "outputs": [],
   "source": [
    "# experiment with n_neighbors to find a good fit\n",
    "selected_n_neighbors = 2\n",
    "selected_p = 1\n",
    "selected_knn_model = KNeighborsClassifier()\n",
    "best_score = 0.0\n",
    "for i in range(2, 21):\n",
    "\n",
    "    # create, fit, and score knn clasifier with variable n_neighbors\n",
    "    knn = KNeighborsClassifier(\n",
    "        n_neighbors=i, p=2, weights=\"distance\", metric=\"minkowski\"\n",
    "    )\n",
    "    knn.fit(X_train, y_train)\n",
    "    score = knn.score(X_test, y_test)\n",
    "\n",
    "    # if current score is better than our best score,\n",
    "    # and not too perfect (100% accurate), store it for use\n",
    "    if score > best_score and score < 0.97:\n",
    "        selected_n_neighbors = i\n",
    "        selected_p = x\n",
    "        selected_knn_model = knn\n",
    "\n",
    "    prev_score = score\n",
    "\n",
    "print(\"selected_n_neighbors: \", selected_n_neighbors)"
   ]
  },
  {
   "cell_type": "code",
   "execution_count": null,
   "id": "456d6365-9279-4a7b-9d57-7bea5cf91c93",
   "metadata": {},
   "outputs": [],
   "source": [
    "# save the model to disk\n",
    "filename = \"gpr_model.sav\"\n",
    "with open(\"./data/iris_knn_model.pkl\", \"wb\") as f:\n",
    "    pickle.dump(selected_knn_model, f)"
   ]
  },
  {
   "cell_type": "code",
   "execution_count": null,
   "id": "c4443011-8d03-4c16-8157-13eb06a87f22",
   "metadata": {},
   "outputs": [],
   "source": [
    "# add the saved visualization using dvc\n",
    "!python -m dvc add data/iris_knn_model.pkl"
   ]
  },
  {
   "cell_type": "code",
   "execution_count": null,
   "id": "a2ae0e51-db93-44fb-85d9-3da79d184937",
   "metadata": {},
   "outputs": [],
   "source": [
    "# push the dataset using dvc\n",
    "!python -m dvc push"
   ]
  }
 ],
 "metadata": {
  "kernelspec": {
   "display_name": "Python 3 (ipykernel)",
   "language": "python",
   "name": "python3"
  },
  "language_info": {
   "codemirror_mode": {
    "name": "ipython",
    "version": 3
   },
   "file_extension": ".py",
   "mimetype": "text/x-python",
   "name": "python",
   "nbconvert_exporter": "python",
   "pygments_lexer": "ipython3",
   "version": "3.9.12"
  }
 },
 "nbformat": 4,
 "nbformat_minor": 5
}
