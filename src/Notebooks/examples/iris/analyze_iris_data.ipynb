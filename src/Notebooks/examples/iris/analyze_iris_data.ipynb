{
 "cells": [
  {
   "cell_type": "markdown",
   "id": "71ae28c3-8a29-4038-af59-9cec3090b77a",
   "metadata": {},
   "source": [
    "# Analyze Iris Dataset\n",
    "\n",
    "Analyze Iris dataset and export any findings.\n",
    "\n",
    "## Acknowledgements and Citations:\n",
    "Data Creator(s):\n",
    "- R.A. Fisher\n",
    "\n",
    "Data Donor(s):\n",
    "- Michael Marshall (MARSHALL%PLU@io.arc.nasa.gov)\n",
    "\n",
    "Data Source(s):\n",
    "- scikit-learn: https://scikit-learn.org/stable/datasets/toy_dataset.html#iris-dataset"
   ]
  },
  {
   "cell_type": "code",
   "execution_count": null,
   "id": "b9bdca2c-04e2-478e-a8d0-792aa1d88827",
   "metadata": {},
   "outputs": [],
   "source": [
    "import pandas as pd\n",
    "import plotly.express as px"
   ]
  },
  {
   "cell_type": "code",
   "execution_count": null,
   "id": "86d2817e-4235-4b73-a5e7-d88608b092b6",
   "metadata": {},
   "outputs": [],
   "source": [
    "# checkout versioned dataset\n",
    "!python -m dvc checkout -f"
   ]
  },
  {
   "cell_type": "code",
   "execution_count": null,
   "id": "f6e12358-65b1-4695-a03e-8d12fac0f3c2",
   "metadata": {},
   "outputs": [],
   "source": [
    "# read the checked out dataset\n",
    "df = pd.read_parquet(\"./data/iris.parquet\")\n",
    "df.head()"
   ]
  },
  {
   "cell_type": "code",
   "execution_count": null,
   "id": "fe3eb915-29cc-4fc4-b685-9c3dc0da8496",
   "metadata": {},
   "outputs": [],
   "source": [
    "# show interactive figure showing groups\n",
    "# referenced from: https://plotly.com/python/3d-scatter-plots/\n",
    "fig = px.scatter_3d(\n",
    "    df,\n",
    "    x=\"sepal length (cm)\",\n",
    "    y=\"sepal width (cm)\",\n",
    "    z=\"petal width (cm)\",\n",
    "    color=\"petal length (cm)\",\n",
    "    symbol=\"species\",\n",
    "    height=600,\n",
    ")\n",
    "fig.write_html(\"./data/iris_3d_scatter.html\")\n",
    "fig.show()"
   ]
  },
  {
   "cell_type": "code",
   "execution_count": null,
   "id": "004dadae-0737-4a0f-86a0-50729138edb1",
   "metadata": {},
   "outputs": [],
   "source": [
    "# add the saved visualization using dvc\n",
    "!python -m dvc add data/iris_3d_scatter.html"
   ]
  },
  {
   "cell_type": "code",
   "execution_count": null,
   "id": "f06f2a55-f377-4081-b88e-526b3d60f766",
   "metadata": {},
   "outputs": [],
   "source": [
    "# push the dataset using dvc\n",
    "!python -m dvc push"
   ]
  }
 ],
 "metadata": {
  "kernelspec": {
   "display_name": "Python 3 (ipykernel)",
   "language": "python",
   "name": "python3"
  },
  "language_info": {
   "codemirror_mode": {
    "name": "ipython",
    "version": 3
   },
   "file_extension": ".py",
   "mimetype": "text/x-python",
   "name": "python",
   "nbconvert_exporter": "python",
   "pygments_lexer": "ipython3",
   "version": "3.9.12"
  }
 },
 "nbformat": 4,
 "nbformat_minor": 5
}
