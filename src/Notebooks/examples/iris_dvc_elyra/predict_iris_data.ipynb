{
 "cells": [
  {
   "cell_type": "markdown",
   "id": "71ae28c3-8a29-4038-af59-9cec3090b77a",
   "metadata": {},
   "source": [
    "# Predict Iris Dataset\n",
    "\n",
    "Create predictions from Iris dataset.\n",
    "\n",
    "## Acknowledgements and Citations:\n",
    "Data Creator(s):\n",
    "- R.A. Fisher\n",
    "\n",
    "Data Donor(s):\n",
    "- Michael Marshall (MARSHALL%PLU@io.arc.nasa.gov)\n",
    "\n",
    "Data Source(s):\n",
    "- scikit-learn: https://scikit-learn.org/stable/datasets/toy_dataset.html#iris-dataset"
   ]
  },
  {
   "cell_type": "code",
   "execution_count": null,
   "id": "b9bdca2c-04e2-478e-a8d0-792aa1d88827",
   "metadata": {},
   "outputs": [],
   "source": [
    "import os\n",
    "import pickle\n",
    "\n",
    "import pandas as pd\n",
    "from sklearn.preprocessing import StandardScaler"
   ]
  },
  {
   "cell_type": "code",
   "execution_count": null,
   "id": "86d2817e-4235-4b73-a5e7-d88608b092b6",
   "metadata": {},
   "outputs": [],
   "source": [
    "# checkout versioned dataset\n",
    "!dvc checkout -f"
   ]
  },
  {
   "cell_type": "code",
   "execution_count": null,
   "id": "f6e12358-65b1-4695-a03e-8d12fac0f3c2",
   "metadata": {},
   "outputs": [],
   "source": [
    "# read the checked out dataset\n",
    "df = pd.read_parquet(\"./data/iris_test.parquet\")\n",
    "df.head()"
   ]
  },
  {
   "cell_type": "code",
   "execution_count": null,
   "id": "37b6ff0c-bf36-4f8a-aa53-775c3a802fc2",
   "metadata": {},
   "outputs": [],
   "source": [
    "df.info()"
   ]
  },
  {
   "cell_type": "code",
   "execution_count": null,
   "id": "9e05c4bf-a2db-45ca-bfed-4f9cbb8cb418",
   "metadata": {},
   "outputs": [],
   "source": [
    "# load model\n",
    "with open(\"data/iris_knn_model.pkl\", \"rb\") as f:\n",
    "    knn = pickle.load(f)\n",
    "knn"
   ]
  },
  {
   "cell_type": "code",
   "execution_count": null,
   "id": "68af3c6b-6e0c-4fd2-bf88-1a9d4e56573e",
   "metadata": {},
   "outputs": [],
   "source": [
    "# create filtered set for X to test the model\n",
    "X_test = df.drop([\"target\", \"species\"], axis=1).reset_index(drop=True).copy()\n",
    "X_test.head()"
   ]
  },
  {
   "cell_type": "code",
   "execution_count": null,
   "id": "d6733c79-7595-4276-b4cd-6316769a7b16",
   "metadata": {},
   "outputs": [],
   "source": [
    "# scale features\n",
    "scaler = StandardScaler()\n",
    "X_scaled = pd.DataFrame(\n",
    "    scaler.fit_transform(\n",
    "        X=X_test[\n",
    "            [\n",
    "                \"sepal length (cm)\",\n",
    "                \"sepal width (cm)\",\n",
    "                \"petal length (cm)\",\n",
    "                \"petal width (cm)\",\n",
    "            ]\n",
    "        ]\n",
    "    )\n",
    ")\n",
    "X_scaled.head()"
   ]
  },
  {
   "cell_type": "code",
   "execution_count": null,
   "id": "99f0eaf9-8704-4fba-b8a9-c4347a102a27",
   "metadata": {},
   "outputs": [],
   "source": [
    "# create filtered set for y to test the model\n",
    "y_test = df[\"target\"].reset_index(drop=True).copy()\n",
    "y_test.head()"
   ]
  },
  {
   "cell_type": "code",
   "execution_count": null,
   "id": "ffe2c582-f513-4d20-8133-02a737193546",
   "metadata": {},
   "outputs": [],
   "source": [
    "# show score based on testing dataset\n",
    "knn.score(X_scaled, y_test)"
   ]
  },
  {
   "cell_type": "code",
   "execution_count": null,
   "id": "c4443011-8d03-4c16-8157-13eb06a87f22",
   "metadata": {},
   "outputs": [],
   "source": [
    "# gather predicted targets on testing dataset\n",
    "y_pred = knn.predict(X_scaled)"
   ]
  },
  {
   "cell_type": "code",
   "execution_count": null,
   "id": "c082cbca-eead-49e4-b0de-8e46666da709",
   "metadata": {},
   "outputs": [],
   "source": [
    "# gather full result dataset\n",
    "df_result = X_test.copy()\n",
    "df_result[\"target\"] = y_test\n",
    "df_result[\"predicted_target\"] = y_pred\n",
    "df_result.head()"
   ]
  },
  {
   "cell_type": "code",
   "execution_count": null,
   "id": "13052617-3b98-4ca6-a62b-c975272dc196",
   "metadata": {},
   "outputs": [],
   "source": [
    "# export results\n",
    "df_result.to_parquet(\"./data/iris_predictions.parquet\")"
   ]
  },
  {
   "cell_type": "code",
   "execution_count": null,
   "id": "f6bb6e13-3031-45dd-bd45-8dc027822689",
   "metadata": {},
   "outputs": [],
   "source": [
    "# add the saved visualization using dvc\n",
    "!dvc add data/iris_predictions.parquet"
   ]
  },
  {
   "cell_type": "code",
   "execution_count": null,
   "id": "f30e5a3f-8094-457d-9c0e-6852c092429f",
   "metadata": {},
   "outputs": [],
   "source": [
    "# push the dataset using dvc\n",
    "!dvc push"
   ]
  },
  {
   "cell_type": "code",
   "execution_count": null,
   "id": "4bd89663-a597-414c-9e29-b887b37932b4",
   "metadata": {},
   "outputs": [],
   "source": [
    "# remove the dataset from export destination for demonstrational purposes\n",
    "os.remove(\"data/iris_predictions.parquet\")"
   ]
  }
 ],
 "metadata": {
  "kernelspec": {
   "display_name": "Python 3 (ipykernel)",
   "language": "python",
   "name": "python3"
  },
  "language_info": {
   "codemirror_mode": {
    "name": "ipython",
    "version": 3
   },
   "file_extension": ".py",
   "mimetype": "text/x-python",
   "name": "python",
   "nbconvert_exporter": "python",
   "pygments_lexer": "ipython3",
   "version": "3.9.12"
  }
 },
 "nbformat": 4,
 "nbformat_minor": 5
}
