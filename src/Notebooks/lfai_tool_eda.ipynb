{
 "cells": [
  {
   "cell_type": "markdown",
   "id": "6b7b00dd-51a5-4c82-a378-652c289f2aef",
   "metadata": {},
   "source": [
    "# LF AI & Data Foundation - Tool Exploratory Data Analysis\n",
    "\n",
    "Exploring tools which are part of or associated with the LF AI & Data Foundation."
   ]
  },
  {
   "cell_type": "code",
   "execution_count": null,
   "id": "8ab2227c-a5d7-4752-9bac-8c0e22ca4ab6",
   "metadata": {},
   "outputs": [],
   "source": [
    "from datetime import datetime\n",
    "\n",
    "import pandas as pd\n",
    "import pytz\n",
    "import requests\n",
    "import yaml\n",
    "\n",
    "utc = pytz.UTC"
   ]
  },
  {
   "cell_type": "code",
   "execution_count": null,
   "id": "48b40e96-e9d7-48a4-9e5f-6c4cf6bb13d7",
   "metadata": {},
   "outputs": [],
   "source": [
    "# gather data\n",
    "link = (\n",
    "    \"https://raw.githubusercontent.com/lfai/lfai-landscape/main/processed_landscape.yml\"\n",
    ")\n",
    "raw_content = requests.get(link)\n",
    "len(raw_content.text)"
   ]
  },
  {
   "cell_type": "code",
   "execution_count": null,
   "id": "204dc2ff-2251-48cb-884f-33c2aefe8f00",
   "metadata": {},
   "outputs": [],
   "source": [
    "# load yaml as dict\n",
    "dict_content = yaml.safe_load(raw_content.text)\n",
    "dict_content.keys()"
   ]
  },
  {
   "cell_type": "code",
   "execution_count": null,
   "id": "e1ad5626-6455-4fb3-9f07-e2db8fe3f71b",
   "metadata": {},
   "outputs": [],
   "source": [
    "# flatten and store data in pandas df\n",
    "df = pd.json_normalize(\n",
    "    data=dict_content[\"landscape\"],\n",
    "    record_path=[\"subcategories\", \"items\"],\n",
    "    meta=[[\"category\", \"name\"]],\n",
    ").drop(\"item\", axis=1)\n",
    "df.head()"
   ]
  },
  {
   "cell_type": "code",
   "execution_count": null,
   "id": "9f981e5d-97c9-4a2e-b661-bdec47b04b26",
   "metadata": {},
   "outputs": [],
   "source": [
    "# gather days since initial commit\n",
    "df[\"github_start_commit_data.start_date\"] = pd.to_datetime(\n",
    "    df[\"github_start_commit_data.start_date\"]\n",
    ")\n",
    "df[\"days_since_first_commit\"] = (\n",
    "    (df[\"github_start_commit_data.start_date\"] - pd.to_datetime(datetime.now(tz=utc)))\n",
    "    .abs()\n",
    "    .astype(\"timedelta64[D]\")\n",
    ")\n",
    "df[\"days_since_first_commit\"].head()"
   ]
  },
  {
   "cell_type": "code",
   "execution_count": null,
   "id": "fac84cac-ce2c-48a6-bc2e-d75b66d95c31",
   "metadata": {},
   "outputs": [],
   "source": [
    "df[\"github_start_commit_data.start_date\"]"
   ]
  },
  {
   "cell_type": "code",
   "execution_count": null,
   "id": "048a9d74-dee8-43fc-a79c-3a0470084038",
   "metadata": {},
   "outputs": [],
   "source": [
    "df[\"category.name\"].value_counts()"
   ]
  },
  {
   "cell_type": "code",
   "execution_count": null,
   "id": "c8e8282f-7f99-40c4-815a-2ca431f07f40",
   "metadata": {},
   "outputs": [],
   "source": [
    "# show sorted workflow tools\n",
    "df[df[\"category.name\"] == \"Workflow\"].sort_values(\n",
    "    [\"github_data.stars\", \"github_data.contributors_count\", \"days_since_first_commit\"],\n",
    "    ascending=False,\n",
    ")[\n",
    "    [\n",
    "        \"name\",\n",
    "        \"homepage_url\",\n",
    "        \"crunchbase_data.name\",\n",
    "        \"github_data.stars\",\n",
    "        \"github_data.contributors_count\",\n",
    "        \"days_since_first_commit\",\n",
    "    ]\n",
    "]"
   ]
  },
  {
   "cell_type": "code",
   "execution_count": null,
   "id": "ed386d72-6eed-43bf-abcd-8c041384253f",
   "metadata": {},
   "outputs": [],
   "source": [
    "# show sorted vizualization tools\n",
    "df[df[\"category.name\"] == \"Visualization\"].sort_values(\n",
    "    [\"github_data.stars\", \"github_data.contributors_count\", \"days_since_first_commit\"],\n",
    "    ascending=False,\n",
    ")[\n",
    "    [\n",
    "        \"name\",\n",
    "        \"homepage_url\",\n",
    "        \"crunchbase_data.name\",\n",
    "        \"github_data.stars\",\n",
    "        \"github_data.contributors_count\",\n",
    "        \"days_since_first_commit\",\n",
    "    ]\n",
    "]"
   ]
  },
  {
   "cell_type": "code",
   "execution_count": null,
   "id": "8f41ba93-ecc0-443c-a3d1-ab5e606dc79c",
   "metadata": {},
   "outputs": [],
   "source": []
  }
 ],
 "metadata": {
  "kernelspec": {
   "display_name": "Python 3 (ipykernel)",
   "language": "python",
   "name": "python3"
  },
  "language_info": {
   "codemirror_mode": {
    "name": "ipython",
    "version": 3
   },
   "file_extension": ".py",
   "mimetype": "text/x-python",
   "name": "python",
   "nbconvert_exporter": "python",
   "pygments_lexer": "ipython3",
   "version": "3.9.12"
  }
 },
 "nbformat": 4,
 "nbformat_minor": 5
}
