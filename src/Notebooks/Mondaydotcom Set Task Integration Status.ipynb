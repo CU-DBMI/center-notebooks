{
 "cells": [
  {
   "cell_type": "markdown",
   "id": "19f92b40",
   "metadata": {},
   "source": [
    "# Validate Monday.com tasks for integration issues"
   ]
  },
  {
   "cell_type": "code",
   "execution_count": null,
   "id": "e2baec28",
   "metadata": {},
   "outputs": [],
   "source": [
    "#%load_ext nb_black\n",
    "\n",
    "import logging\n",
    "\n",
    "import pandas as pd\n",
    "\n",
    "import prefect\n",
    "from prefect import task, Flow, Parameter, unmapped\n",
    "from prefect.executors import LocalExecutor, LocalDaskExecutor\n",
    "from prefect.utilities.logging import get_logger\n",
    "\n",
    "from datetime import timedelta, datetime\n",
    "from box import Box\n",
    "\n",
    "from mondaydotcom_utils.formatted_value import FormattedValue, get_col_defs\n",
    "from mondaydotcom_utils.time_block import TimeBlock\n",
    "from mondaydotcom_utils.utilities import validate_task_record, get_items_by_board\n",
    "\n",
    "# uses the pretty okay SDK here: https://github.com/ProdPerfect/monday\n",
    "from monday import MondayClient\n",
    "from monday.resources.base import BaseResource\n",
    "\n",
    "logger = logging.getLogger(__name__)\n",
    "logger.setLevel(logging.INFO)"
   ]
  },
  {
   "cell_type": "code",
   "execution_count": null,
   "id": "8e9e05e7",
   "metadata": {},
   "outputs": [],
   "source": [
    "TASKS_BOARD_ID = \"1883170887\"\n",
    "\n",
    "MONDAY_KEY = \"\"\n",
    "environment = \"dev\""
   ]
  },
  {
   "cell_type": "code",
   "execution_count": null,
   "id": "6273af4b",
   "metadata": {},
   "outputs": [],
   "source": [
    "@task\n",
    "def get_monday_client(key):\n",
    "    logger = prefect.context.get(\"logger\")\n",
    "    conn = MondayClient(key)\n",
    "    logger.info(\"Monday.com client created.\")\n",
    "\n",
    "    return conn"
   ]
  },
  {
   "cell_type": "code",
   "execution_count": null,
   "id": "317dd1e2",
   "metadata": {},
   "outputs": [],
   "source": [
    "@task\n",
    "def get_users(monday_key):\n",
    "\n",
    "    logger = prefect.context.get(\"logger\")\n",
    "    # bug between ProdPerfect and MDC's API: https://github.com/ProdPerfect/monday/issues/57\n",
    "    query = \"\"\"query\n",
    "        {\n",
    "            users () {\n",
    "                id\n",
    "                name\n",
    "                email\n",
    "                enabled\n",
    "            }\n",
    "        }\"\"\"\n",
    "    \n",
    "    base_resource = BaseResource(monday_key)\n",
    "    users = base_resource._query(query)[\"data\"][\"users\"]\n",
    "\n",
    "    users_df = pd.DataFrame(users).set_index(\"id\")\n",
    "    return users_df"
   ]
  },
  {
   "cell_type": "code",
   "execution_count": null,
   "id": "f8694b3e",
   "metadata": {},
   "outputs": [],
   "source": [
    "def breakout_time_sessions(row):\n",
    "    \"\"\"\n",
    "    Break down the Monday.com time structure into something simpler for us.\n",
    "\n",
    "    This is used with a DataFrame.apply()\n",
    "    \"\"\"\n",
    "\n",
    "    mct = TimeBlock()\n",
    "    mct.parse(row[\"Actual Time\"])\n",
    "    return mct.total_duration_hours, mct.time_records"
   ]
  },
  {
   "cell_type": "code",
   "execution_count": null,
   "id": "6ca0e1d0",
   "metadata": {},
   "outputs": [],
   "source": [
    "@task\n",
    "def apply_time_session_breakout(tasks_df):\n",
    "    logger = prefect.context.get(\"logger\")\n",
    "\n",
    "    tasks_df[[\"Total Duration Hours\", \"Time Sessions\"]] = tasks_df.apply(\n",
    "        breakout_time_sessions, axis=1, result_type=\"expand\"\n",
    "    )\n",
    "    return tasks_df.reset_index()"
   ]
  },
  {
   "cell_type": "code",
   "execution_count": null,
   "id": "b24f5fd2",
   "metadata": {},
   "outputs": [],
   "source": [
    "@task\n",
    "def validate_tasks(tasks_df):\n",
    "    logger = prefect.context.get(\"logger\")\n",
    "\n",
    "    records = tasks_df.reset_index().to_dict(\"records\")\n",
    "\n",
    "    vald_recs = []\n",
    "\n",
    "    for record in records:\n",
    "        # break the record out into N records\n",
    "        vald_rec = validate_task_record(record)\n",
    "        if vald_rec:\n",
    "            vald_recs.append(vald_rec)\n",
    "\n",
    "    df = pd.DataFrame(vald_recs).set_index(\"index\")\n",
    "    return df"
   ]
  },
  {
   "cell_type": "code",
   "execution_count": null,
   "id": "4375fe85",
   "metadata": {},
   "outputs": [],
   "source": [
    "@task\n",
    "def get_tasks(monday_conn, get_only_done=False):\n",
    "\n",
    "    logger = prefect.context.get(\"logger\")\n",
    "\n",
    "    if get_only_done:\n",
    "        tasks_df = get_items_by_board(TASKS_BOARD_ID, \"status\", \"Done\")\n",
    "    else:\n",
    "        tasks_df = get_items_by_board(monday_conn, TASKS_BOARD_ID)\n",
    "\n",
    "    # Do not include Posted tasks\n",
    "    tasks_df = tasks_df.loc[\n",
    "        ~tasks_df[\"Integration Message\"].str.startswith(\"Posted\", na=False)\n",
    "    ]\n",
    "\n",
    "    return tasks_df"
   ]
  },
  {
   "cell_type": "code",
   "execution_count": null,
   "id": "4562abbb",
   "metadata": {},
   "outputs": [],
   "source": [
    "@task\n",
    "def get_df_as_records(df):\n",
    "    \"\"\"Helpful for setting up the collection for mapping.\"\"\"\n",
    "    logger = prefect.context.get(\"logger\")\n",
    "\n",
    "    return df.to_dict(\"records\")"
   ]
  },
  {
   "cell_type": "code",
   "execution_count": null,
   "id": "f61c401f",
   "metadata": {},
   "outputs": [],
   "source": [
    "@task(max_retries=3, retry_delay=timedelta(seconds=15))\n",
    "def update_task_integration_status(monday_conn, record):\n",
    "    logger = prefect.context.get(\"logger\")\n",
    "    logger.debug(f\"Updating Monday.com record for {record['Title']}\")\n",
    "    monday_conn.items.change_item_value(\n",
    "        TASKS_BOARD_ID,\n",
    "        record[\"monday_id\"],\n",
    "        \"text01\",\n",
    "        f\"{record['integration_state_rule']} - {datetime.now()}\",\n",
    "    )"
   ]
  },
  {
   "cell_type": "code",
   "execution_count": null,
   "id": "9d4946c4",
   "metadata": {},
   "outputs": [],
   "source": [
    "@task\n",
    "def display_df(df, title, count=5):\n",
    "    logger = prefect.context.get(\"logger\")\n",
    "    logger.info(title)\n",
    "    display(df.head(count))"
   ]
  },
  {
   "cell_type": "code",
   "execution_count": null,
   "id": "6cb45926",
   "metadata": {},
   "outputs": [],
   "source": [
    "with Flow(\"monday.com task integration\") as flow:\n",
    "\n",
    "    key = Parameter(\"key\")\n",
    "\n",
    "    conn = get_monday_client(key)\n",
    "\n",
    "    # get users\n",
    "    users_df = get_users(key)\n",
    "\n",
    "    # get tasks\n",
    "    task_items_df = get_tasks(conn)\n",
    "    task_items_df_with_brokedown_time = apply_time_session_breakout(task_items_df)\n",
    "\n",
    "    # validate against the actual time, session and owner count rules\n",
    "    validated_tasks_df = validate_tasks(task_items_df_with_brokedown_time)\n",
    "\n",
    "    # send updates back to Monday.com... this is all one-way so no reduce required\n",
    "    vald_items = get_df_as_records(validated_tasks_df)\n",
    "    update_task_integration_status.map(unmapped(conn), vald_items)"
   ]
  },
  {
   "cell_type": "code",
   "execution_count": null,
   "id": "aacd01a0",
   "metadata": {},
   "outputs": [],
   "source": [
    "if not MONDAY_KEY:\n",
    "    # key hasn't been passed as a papermill parameter... get it from a file?\n",
    "    secrets = Box.from_yaml(filename=f\"secrets-{environment}.yaml\")\n",
    "    MONDAY_KEY = secrets.apps.monday.API_KEY\n",
    "\n",
    "params = {\"key\": MONDAY_KEY}\n",
    "state = flow.run(parameters=params, executor=LocalDaskExecutor())"
   ]
  }
 ],
 "metadata": {
  "celltoolbar": "Tags",
  "kernelspec": {
   "display_name": "Python 3 (ipykernel)",
   "language": "python",
   "name": "python3"
  },
  "language_info": {
   "codemirror_mode": {
    "name": "ipython",
    "version": 3
   },
   "file_extension": ".py",
   "mimetype": "text/x-python",
   "name": "python",
   "nbconvert_exporter": "python",
   "pygments_lexer": "ipython3",
   "version": "3.9.12"
  }
 },
 "nbformat": 4,
 "nbformat_minor": 5
}
