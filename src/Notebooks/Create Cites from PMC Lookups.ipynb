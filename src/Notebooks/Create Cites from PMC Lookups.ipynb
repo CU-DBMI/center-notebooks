{
 "cells": [
  {
   "cell_type": "markdown",
   "id": "f2747125",
   "metadata": {},
   "source": [
    "# Published Items for the Center for Health AI\n",
    "\n",
    "This takes a list of authors and searches for any items published this year, grabs the proper citation from manubot-cite, and creates a markdown and MS Word document.\n",
    "\n",
    "This isn't a replacement for a proper data pipeline. Just a demo to see if the selection logic is sound.\n",
    "\n",
    "2021/12/20 stephen.taylor@cuanschutz.edu First demo"
   ]
  },
  {
   "cell_type": "code",
   "execution_count": 1,
   "id": "871f6395",
   "metadata": {},
   "outputs": [
    {
     "data": {
      "application/javascript": [
       "\n",
       "            setTimeout(function() {\n",
       "                var nbb_cell_id = 1;\n",
       "                var nbb_unformatted_code = \"%load_ext nb_black\";\n",
       "                var nbb_formatted_code = \"%load_ext nb_black\";\n",
       "                var nbb_cells = Jupyter.notebook.get_cells();\n",
       "                for (var i = 0; i < nbb_cells.length; ++i) {\n",
       "                    if (nbb_cells[i].input_prompt_number == nbb_cell_id) {\n",
       "                        if (nbb_cells[i].get_text() == nbb_unformatted_code) {\n",
       "                             nbb_cells[i].set_text(nbb_formatted_code);\n",
       "                        }\n",
       "                        break;\n",
       "                    }\n",
       "                }\n",
       "            }, 500);\n",
       "            "
      ],
      "text/plain": [
       "<IPython.core.display.Javascript object>"
      ]
     },
     "metadata": {},
     "output_type": "display_data"
    }
   ],
   "source": [
    "%load_ext nb_black"
   ]
  },
  {
   "cell_type": "code",
   "execution_count": 2,
   "id": "e9ac9ebc",
   "metadata": {},
   "outputs": [
    {
     "data": {
      "application/javascript": [
       "\n",
       "            setTimeout(function() {\n",
       "                var nbb_cell_id = 2;\n",
       "                var nbb_unformatted_code = \"import os\\nimport logging\\nimport manubot\\nimport subprocess\\nimport re\\nimport requests\\nimport pandas as pd\\nimport pandoc\\n\\nfrom datetime import date\\nfrom pprint import pprint\\nfrom typing import Tuple, Dict, List\\nfrom prefect import task, Flow, Parameter, unmapped\\nfrom prefect.executors import LocalExecutor, LocalDaskExecutor\\nfrom prefect.utilities.logging import prefect_logger\\nfrom ratelimit import limits, RateLimitException, sleep_and_retry\\n\\nlog = logging.getLogger(__name__)\\nlogging.basicConfig(level=logging.INFO)\\nprefect_logger = logging\\n\\nTHIS_YEAR = 2021\\nBUILD_FOLDER = \\\"_build\\\"\";\n",
       "                var nbb_formatted_code = \"import os\\nimport logging\\nimport manubot\\nimport subprocess\\nimport re\\nimport requests\\nimport pandas as pd\\nimport pandoc\\n\\nfrom datetime import date\\nfrom pprint import pprint\\nfrom typing import Tuple, Dict, List\\nfrom prefect import task, Flow, Parameter, unmapped\\nfrom prefect.executors import LocalExecutor, LocalDaskExecutor\\nfrom prefect.utilities.logging import prefect_logger\\nfrom ratelimit import limits, RateLimitException, sleep_and_retry\\n\\nlog = logging.getLogger(__name__)\\nlogging.basicConfig(level=logging.INFO)\\nprefect_logger = logging\\n\\nTHIS_YEAR = 2021\\nBUILD_FOLDER = \\\"_build\\\"\";\n",
       "                var nbb_cells = Jupyter.notebook.get_cells();\n",
       "                for (var i = 0; i < nbb_cells.length; ++i) {\n",
       "                    if (nbb_cells[i].input_prompt_number == nbb_cell_id) {\n",
       "                        if (nbb_cells[i].get_text() == nbb_unformatted_code) {\n",
       "                             nbb_cells[i].set_text(nbb_formatted_code);\n",
       "                        }\n",
       "                        break;\n",
       "                    }\n",
       "                }\n",
       "            }, 500);\n",
       "            "
      ],
      "text/plain": [
       "<IPython.core.display.Javascript object>"
      ]
     },
     "metadata": {},
     "output_type": "display_data"
    }
   ],
   "source": [
    "import os\n",
    "import logging\n",
    "import manubot\n",
    "import subprocess\n",
    "import re\n",
    "import requests\n",
    "import pandas as pd\n",
    "import pandoc\n",
    "\n",
    "from datetime import date\n",
    "from pprint import pprint\n",
    "from typing import Tuple, Dict, List\n",
    "from prefect import task, Flow, Parameter, unmapped\n",
    "from prefect.executors import LocalExecutor, LocalDaskExecutor\n",
    "from prefect.utilities.logging import prefect_logger\n",
    "from ratelimit import limits, RateLimitException, sleep_and_retry\n",
    "\n",
    "log = logging.getLogger(__name__)\n",
    "logging.basicConfig(level=logging.INFO)\n",
    "prefect_logger = logging\n",
    "\n",
    "THIS_YEAR = 2021\n",
    "BUILD_FOLDER = \"_build\""
   ]
  },
  {
   "cell_type": "code",
   "execution_count": 3,
   "id": "0977e046",
   "metadata": {},
   "outputs": [
    {
     "data": {
      "application/javascript": [
       "\n",
       "            setTimeout(function() {\n",
       "                var nbb_cell_id = 3;\n",
       "                var nbb_unformatted_code = \"# will write out to a folder\\nif not os.path.exists(BUILD_FOLDER):\\n    os.makedirs(BUILD_FOLDER)\";\n",
       "                var nbb_formatted_code = \"# will write out to a folder\\nif not os.path.exists(BUILD_FOLDER):\\n    os.makedirs(BUILD_FOLDER)\";\n",
       "                var nbb_cells = Jupyter.notebook.get_cells();\n",
       "                for (var i = 0; i < nbb_cells.length; ++i) {\n",
       "                    if (nbb_cells[i].input_prompt_number == nbb_cell_id) {\n",
       "                        if (nbb_cells[i].get_text() == nbb_unformatted_code) {\n",
       "                             nbb_cells[i].set_text(nbb_formatted_code);\n",
       "                        }\n",
       "                        break;\n",
       "                    }\n",
       "                }\n",
       "            }, 500);\n",
       "            "
      ],
      "text/plain": [
       "<IPython.core.display.Javascript object>"
      ]
     },
     "metadata": {},
     "output_type": "display_data"
    }
   ],
   "source": [
    "# will write out to a folder\n",
    "if not os.path.exists(BUILD_FOLDER):\n",
    "    os.makedirs(BUILD_FOLDER)"
   ]
  },
  {
   "cell_type": "code",
   "execution_count": 4,
   "id": "07f5e6e7",
   "metadata": {},
   "outputs": [
    {
     "data": {
      "text/html": [
       "<div>\n",
       "<style scoped>\n",
       "    .dataframe tbody tr th:only-of-type {\n",
       "        vertical-align: middle;\n",
       "    }\n",
       "\n",
       "    .dataframe tbody tr th {\n",
       "        vertical-align: top;\n",
       "    }\n",
       "\n",
       "    .dataframe thead th {\n",
       "        text-align: right;\n",
       "    }\n",
       "</style>\n",
       "<table border=\"1\" class=\"dataframe\">\n",
       "  <thead>\n",
       "    <tr style=\"text-align: right;\">\n",
       "      <th></th>\n",
       "      <th>author_type</th>\n",
       "      <th>search_term</th>\n",
       "    </tr>\n",
       "  </thead>\n",
       "  <tbody>\n",
       "    <tr>\n",
       "      <th>Aquilante C</th>\n",
       "      <td>contributor</td>\n",
       "      <td>(Aquilante C[Author])</td>\n",
       "    </tr>\n",
       "    <tr>\n",
       "      <th>Barnes K</th>\n",
       "      <td>contributor</td>\n",
       "      <td>(Barnes K[Author])</td>\n",
       "    </tr>\n",
       "    <tr>\n",
       "      <th>Boorgula M</th>\n",
       "      <td>contributor</td>\n",
       "      <td>(Boorgula M[Author])</td>\n",
       "    </tr>\n",
       "    <tr>\n",
       "      <th>Brooks I</th>\n",
       "      <td>contributor</td>\n",
       "      <td>(Brooks I[Author])</td>\n",
       "    </tr>\n",
       "    <tr>\n",
       "      <th>Campbell M</th>\n",
       "      <td>contributor</td>\n",
       "      <td>(Campbell M[Author])</td>\n",
       "    </tr>\n",
       "    <tr>\n",
       "      <th>Casey Greene</th>\n",
       "      <td>pi</td>\n",
       "      <td>(Casey Greene)</td>\n",
       "    </tr>\n",
       "    <tr>\n",
       "      <th>Claw K</th>\n",
       "      <td>contributor</td>\n",
       "      <td>(Claw K[Author])</td>\n",
       "    </tr>\n",
       "    <tr>\n",
       "      <th>Cohen M</th>\n",
       "      <td>contributor</td>\n",
       "      <td>(Cohen M[Author])</td>\n",
       "    </tr>\n",
       "    <tr>\n",
       "      <th>Coors M</th>\n",
       "      <td>contributor</td>\n",
       "      <td>(Coors M[Author])</td>\n",
       "    </tr>\n",
       "    <tr>\n",
       "      <th>Crooks K</th>\n",
       "      <td>contributor</td>\n",
       "      <td>(Crooks K[Author])</td>\n",
       "    </tr>\n",
       "    <tr>\n",
       "      <th>Fingerlin T</th>\n",
       "      <td>contributor</td>\n",
       "      <td>(Fingerlin T[Author])</td>\n",
       "    </tr>\n",
       "    <tr>\n",
       "      <th>Fishbein L</th>\n",
       "      <td>contributor</td>\n",
       "      <td>(Fishbein L[Author])</td>\n",
       "    </tr>\n",
       "    <tr>\n",
       "      <th>Ghosh D</th>\n",
       "      <td>contributor</td>\n",
       "      <td>(Ghosh D[Author])</td>\n",
       "    </tr>\n",
       "    <tr>\n",
       "      <th>Gignoux C</th>\n",
       "      <td>contributor</td>\n",
       "      <td>(Gignoux C[Author])</td>\n",
       "    </tr>\n",
       "    <tr>\n",
       "      <th>Gregory Way</th>\n",
       "      <td>pi</td>\n",
       "      <td>(Gregory Way)</td>\n",
       "    </tr>\n",
       "    <tr>\n",
       "      <th>Hendricks A</th>\n",
       "      <td>contributor</td>\n",
       "      <td>(Hendricks A[Author])</td>\n",
       "    </tr>\n",
       "    <tr>\n",
       "      <th>Johnson RK</th>\n",
       "      <td>contributor</td>\n",
       "      <td>(Johnson RK[Author])</td>\n",
       "    </tr>\n",
       "    <tr>\n",
       "      <th>Julian C</th>\n",
       "      <td>contributor</td>\n",
       "      <td>(Julian C[Author])</td>\n",
       "    </tr>\n",
       "    <tr>\n",
       "      <th>Kao D</th>\n",
       "      <td>contributor</td>\n",
       "      <td>(Kao D[Author])</td>\n",
       "    </tr>\n",
       "    <tr>\n",
       "      <th>Kechris K</th>\n",
       "      <td>contributor</td>\n",
       "      <td>(Kechris K[Author])</td>\n",
       "    </tr>\n",
       "    <tr>\n",
       "      <th>Kudron E</th>\n",
       "      <td>contributor</td>\n",
       "      <td>(Kudron E[Author])</td>\n",
       "    </tr>\n",
       "    <tr>\n",
       "      <th>Lange E</th>\n",
       "      <td>contributor</td>\n",
       "      <td>(Lange E[Author])</td>\n",
       "    </tr>\n",
       "    <tr>\n",
       "      <th>Lange L</th>\n",
       "      <td>contributor</td>\n",
       "      <td>(Lange L[Author])</td>\n",
       "    </tr>\n",
       "    <tr>\n",
       "      <th>Law A</th>\n",
       "      <td>contributor</td>\n",
       "      <td>(Law A[Author])</td>\n",
       "    </tr>\n",
       "    <tr>\n",
       "      <th>Lawrence Hunter</th>\n",
       "      <td>pi</td>\n",
       "      <td>(Lawrence Hunter)</td>\n",
       "    </tr>\n",
       "    <tr>\n",
       "      <th>Layer R</th>\n",
       "      <td>contributor</td>\n",
       "      <td>(Layer R[Author])</td>\n",
       "    </tr>\n",
       "    <tr>\n",
       "      <th>Lee YM</th>\n",
       "      <td>contributor</td>\n",
       "      <td>(Lee YM[Author])</td>\n",
       "    </tr>\n",
       "    <tr>\n",
       "      <th>Lowery J</th>\n",
       "      <td>contributor</td>\n",
       "      <td>(Lowery J[Author])</td>\n",
       "    </tr>\n",
       "    <tr>\n",
       "      <th>Lozupone C</th>\n",
       "      <td>contributor</td>\n",
       "      <td>(Lozupone C[Author])</td>\n",
       "    </tr>\n",
       "    <tr>\n",
       "      <th>Mathias R</th>\n",
       "      <td>contributor</td>\n",
       "      <td>(Mathias R[Author])</td>\n",
       "    </tr>\n",
       "    <tr>\n",
       "      <th>Melissa Haendel</th>\n",
       "      <td>pi</td>\n",
       "      <td>(Melissa Haendel)</td>\n",
       "    </tr>\n",
       "    <tr>\n",
       "      <th>Monte A</th>\n",
       "      <td>contributor</td>\n",
       "      <td>(Monte A[Author])</td>\n",
       "    </tr>\n",
       "    <tr>\n",
       "      <th>Norman P</th>\n",
       "      <td>contributor</td>\n",
       "      <td>(Norman P[Author])</td>\n",
       "    </tr>\n",
       "    <tr>\n",
       "      <th>Phang T</th>\n",
       "      <td>contributor</td>\n",
       "      <td>(Phang T[Author])</td>\n",
       "    </tr>\n",
       "    <tr>\n",
       "      <th>Porras A</th>\n",
       "      <td>contributor</td>\n",
       "      <td>(Porras A[Author])</td>\n",
       "    </tr>\n",
       "    <tr>\n",
       "      <th>Pozdeyev N</th>\n",
       "      <td>contributor</td>\n",
       "      <td>(Pozdeyev N[Author])</td>\n",
       "    </tr>\n",
       "    <tr>\n",
       "      <th>Raghavan S</th>\n",
       "      <td>contributor</td>\n",
       "      <td>(Raghavan S[Author])</td>\n",
       "    </tr>\n",
       "    <tr>\n",
       "      <th>Reisdorph N</th>\n",
       "      <td>contributor</td>\n",
       "      <td>(Reisdorph N[Author])</td>\n",
       "    </tr>\n",
       "    <tr>\n",
       "      <th>Rosenberg M</th>\n",
       "      <td>contributor</td>\n",
       "      <td>(Rosenberg M[Author])</td>\n",
       "    </tr>\n",
       "    <tr>\n",
       "      <th>Santorico S</th>\n",
       "      <td>contributor</td>\n",
       "      <td>(Santorico S[Author])</td>\n",
       "    </tr>\n",
       "    <tr>\n",
       "      <th>Sean Davis</th>\n",
       "      <td>pi</td>\n",
       "      <td>(Sean Davis)</td>\n",
       "    </tr>\n",
       "    <tr>\n",
       "      <th>Shortt J</th>\n",
       "      <td>contributor</td>\n",
       "      <td>(Shortt J[Author])</td>\n",
       "    </tr>\n",
       "    <tr>\n",
       "      <th>Stanislawski M</th>\n",
       "      <td>contributor</td>\n",
       "      <td>(Stanislawski M[Author])</td>\n",
       "    </tr>\n",
       "    <tr>\n",
       "      <th>Taylor M</th>\n",
       "      <td>contributor</td>\n",
       "      <td>(Taylor M[Author])</td>\n",
       "    </tr>\n",
       "    <tr>\n",
       "      <th>Tellen Bennett</th>\n",
       "      <td>pi</td>\n",
       "      <td>(Tellen Bennett)</td>\n",
       "    </tr>\n",
       "    <tr>\n",
       "      <th>Wiley L</th>\n",
       "      <td>contributor</td>\n",
       "      <td>(Wiley L[Author])</td>\n",
       "    </tr>\n",
       "    <tr>\n",
       "      <th>Yang I</th>\n",
       "      <td>contributor</td>\n",
       "      <td>(Yang I[Author])</td>\n",
       "    </tr>\n",
       "  </tbody>\n",
       "</table>\n",
       "</div>"
      ],
      "text/plain": [
       "                 author_type               search_term\n",
       "Aquilante C      contributor     (Aquilante C[Author])\n",
       "Barnes K         contributor        (Barnes K[Author])\n",
       "Boorgula M       contributor      (Boorgula M[Author])\n",
       "Brooks I         contributor        (Brooks I[Author])\n",
       "Campbell M       contributor      (Campbell M[Author])\n",
       "Casey Greene              pi            (Casey Greene)\n",
       "Claw K           contributor          (Claw K[Author])\n",
       "Cohen M          contributor         (Cohen M[Author])\n",
       "Coors M          contributor         (Coors M[Author])\n",
       "Crooks K         contributor        (Crooks K[Author])\n",
       "Fingerlin T      contributor     (Fingerlin T[Author])\n",
       "Fishbein L       contributor      (Fishbein L[Author])\n",
       "Ghosh D          contributor         (Ghosh D[Author])\n",
       "Gignoux C        contributor       (Gignoux C[Author])\n",
       "Gregory Way               pi             (Gregory Way)\n",
       "Hendricks A      contributor     (Hendricks A[Author])\n",
       "Johnson RK       contributor      (Johnson RK[Author])\n",
       "Julian C         contributor        (Julian C[Author])\n",
       "Kao D            contributor           (Kao D[Author])\n",
       "Kechris K        contributor       (Kechris K[Author])\n",
       "Kudron E         contributor        (Kudron E[Author])\n",
       "Lange E          contributor         (Lange E[Author])\n",
       "Lange L          contributor         (Lange L[Author])\n",
       "Law A            contributor           (Law A[Author])\n",
       "Lawrence Hunter           pi         (Lawrence Hunter)\n",
       "Layer R          contributor         (Layer R[Author])\n",
       "Lee YM           contributor          (Lee YM[Author])\n",
       "Lowery J         contributor        (Lowery J[Author])\n",
       "Lozupone C       contributor      (Lozupone C[Author])\n",
       "Mathias R        contributor       (Mathias R[Author])\n",
       "Melissa Haendel           pi         (Melissa Haendel)\n",
       "Monte A          contributor         (Monte A[Author])\n",
       "Norman P         contributor        (Norman P[Author])\n",
       "Phang T          contributor         (Phang T[Author])\n",
       "Porras A         contributor        (Porras A[Author])\n",
       "Pozdeyev N       contributor      (Pozdeyev N[Author])\n",
       "Raghavan S       contributor      (Raghavan S[Author])\n",
       "Reisdorph N      contributor     (Reisdorph N[Author])\n",
       "Rosenberg M      contributor     (Rosenberg M[Author])\n",
       "Santorico S      contributor     (Santorico S[Author])\n",
       "Sean Davis                pi              (Sean Davis)\n",
       "Shortt J         contributor        (Shortt J[Author])\n",
       "Stanislawski M   contributor  (Stanislawski M[Author])\n",
       "Taylor M         contributor        (Taylor M[Author])\n",
       "Tellen Bennett            pi          (Tellen Bennett)\n",
       "Wiley L          contributor         (Wiley L[Author])\n",
       "Yang I           contributor          (Yang I[Author])"
      ]
     },
     "execution_count": 4,
     "metadata": {},
     "output_type": "execute_result"
    },
    {
     "data": {
      "application/javascript": [
       "\n",
       "            setTimeout(function() {\n",
       "                var nbb_cell_id = 4;\n",
       "                var nbb_unformatted_code = \"# Read in the authors and their specific search terms\\nauthors_df = pd.read_json(\\\"authors.json\\\", orient=\\\"index\\\")\\nauthors_df\";\n",
       "                var nbb_formatted_code = \"# Read in the authors and their specific search terms\\nauthors_df = pd.read_json(\\\"authors.json\\\", orient=\\\"index\\\")\\nauthors_df\";\n",
       "                var nbb_cells = Jupyter.notebook.get_cells();\n",
       "                for (var i = 0; i < nbb_cells.length; ++i) {\n",
       "                    if (nbb_cells[i].input_prompt_number == nbb_cell_id) {\n",
       "                        if (nbb_cells[i].get_text() == nbb_unformatted_code) {\n",
       "                             nbb_cells[i].set_text(nbb_formatted_code);\n",
       "                        }\n",
       "                        break;\n",
       "                    }\n",
       "                }\n",
       "            }, 500);\n",
       "            "
      ],
      "text/plain": [
       "<IPython.core.display.Javascript object>"
      ]
     },
     "metadata": {},
     "output_type": "display_data"
    }
   ],
   "source": [
    "# Read in the authors and their specific search terms\n",
    "authors_df = pd.read_json(\"authors.json\", orient=\"index\")\n",
    "authors_df"
   ]
  },
  {
   "cell_type": "code",
   "execution_count": 21,
   "id": "01db61e7",
   "metadata": {},
   "outputs": [
    {
     "data": {
      "application/javascript": [
       "\n",
       "            setTimeout(function() {\n",
       "                var nbb_cell_id = 21;\n",
       "                var nbb_unformatted_code = \"# for testing it's nice to take a sample\\n#authors_df = authors_df.sample(frac=0.10)\";\n",
       "                var nbb_formatted_code = \"# for testing it's nice to take a sample\\n# authors_df = authors_df.sample(frac=0.10)\";\n",
       "                var nbb_cells = Jupyter.notebook.get_cells();\n",
       "                for (var i = 0; i < nbb_cells.length; ++i) {\n",
       "                    if (nbb_cells[i].input_prompt_number == nbb_cell_id) {\n",
       "                        if (nbb_cells[i].get_text() == nbb_unformatted_code) {\n",
       "                             nbb_cells[i].set_text(nbb_formatted_code);\n",
       "                        }\n",
       "                        break;\n",
       "                    }\n",
       "                }\n",
       "            }, 500);\n",
       "            "
      ],
      "text/plain": [
       "<IPython.core.display.Javascript object>"
      ]
     },
     "metadata": {},
     "output_type": "display_data"
    }
   ],
   "source": [
    "# for testing it's nice to take a sample\n",
    "# authors_df = authors_df.sample(frac=0.10)"
   ]
  },
  {
   "cell_type": "code",
   "execution_count": 6,
   "id": "3335f29f",
   "metadata": {},
   "outputs": [
    {
     "data": {
      "text/plain": [
       "{'Layer R': {'author_type': 'contributor', 'search_term': '(Layer R[Author])'},\n",
       " 'Lange E': {'author_type': 'contributor', 'search_term': '(Lange E[Author])'},\n",
       " 'Ghosh D': {'author_type': 'contributor', 'search_term': '(Ghosh D[Author])'},\n",
       " 'Sean Davis': {'author_type': 'pi', 'search_term': '(Sean Davis)'},\n",
       " 'Raghavan S': {'author_type': 'contributor',\n",
       "  'search_term': '(Raghavan S[Author])'}}"
      ]
     },
     "execution_count": 6,
     "metadata": {},
     "output_type": "execute_result"
    },
    {
     "data": {
      "application/javascript": [
       "\n",
       "            setTimeout(function() {\n",
       "                var nbb_cell_id = 6;\n",
       "                var nbb_unformatted_code = \"# convert into a dict\\nauthor_records = authors_df.to_dict(\\\"index\\\")\\nauthor_records\";\n",
       "                var nbb_formatted_code = \"# convert into a dict\\nauthor_records = authors_df.to_dict(\\\"index\\\")\\nauthor_records\";\n",
       "                var nbb_cells = Jupyter.notebook.get_cells();\n",
       "                for (var i = 0; i < nbb_cells.length; ++i) {\n",
       "                    if (nbb_cells[i].input_prompt_number == nbb_cell_id) {\n",
       "                        if (nbb_cells[i].get_text() == nbb_unformatted_code) {\n",
       "                             nbb_cells[i].set_text(nbb_formatted_code);\n",
       "                        }\n",
       "                        break;\n",
       "                    }\n",
       "                }\n",
       "            }, 500);\n",
       "            "
      ],
      "text/plain": [
       "<IPython.core.display.Javascript object>"
      ]
     },
     "metadata": {},
     "output_type": "display_data"
    }
   ],
   "source": [
    "# convert into a dict\n",
    "author_records = authors_df.to_dict(\"index\")\n",
    "author_records"
   ]
  },
  {
   "cell_type": "code",
   "execution_count": 7,
   "id": "ab2df6e3",
   "metadata": {},
   "outputs": [
    {
     "data": {
      "text/plain": [
       "{'Layer R': {'author_type': 'contributor',\n",
       "  'search_term': '(\"2021/01/01\"[PubDate] : \"3000\"[PubDate]) AND ((Layer R[Author]) AND ((\"University of Colorado\") OR (\"Colorado Center for Personalized Medicine\"))))'},\n",
       " 'Lange E': {'author_type': 'contributor',\n",
       "  'search_term': '(\"2021/01/01\"[PubDate] : \"3000\"[PubDate]) AND ((Lange E[Author]) AND ((\"University of Colorado\") OR (\"Colorado Center for Personalized Medicine\"))))'},\n",
       " 'Ghosh D': {'author_type': 'contributor',\n",
       "  'search_term': '(\"2021/01/01\"[PubDate] : \"3000\"[PubDate]) AND ((Ghosh D[Author]) AND ((\"University of Colorado\") OR (\"Colorado Center for Personalized Medicine\"))))'},\n",
       " 'Sean Davis': {'author_type': 'pi',\n",
       "  'search_term': '(\"2021/01/01\"[PubDate] : \"3000\"[PubDate]) AND (Sean Davis))'},\n",
       " 'Raghavan S': {'author_type': 'contributor',\n",
       "  'search_term': '(\"2021/01/01\"[PubDate] : \"3000\"[PubDate]) AND ((Raghavan S[Author]) AND ((\"University of Colorado\") OR (\"Colorado Center for Personalized Medicine\"))))'}}"
      ]
     },
     "execution_count": 7,
     "metadata": {},
     "output_type": "execute_result"
    },
    {
     "data": {
      "application/javascript": [
       "\n",
       "            setTimeout(function() {\n",
       "                var nbb_cell_id = 7;\n",
       "                var nbb_unformatted_code = \"# add a date to restrict to this year\\nfor k, v in author_records.items():\\n    # Restrict contributors to CU items\\n    if v[\\\"author_type\\\"] == \\\"contributor\\\":\\n        v[\\n            \\\"search_term\\\"\\n        ] = f\\\"({v['search_term']} AND ((\\\\\\\"University of Colorado\\\\\\\") OR (\\\\\\\"Colorado Center for Personalized Medicine\\\\\\\")))\\\"\\n\\n    # filter by date\\n    v[\\n        \\\"search_term\\\"\\n    ] = f\\\"\\\"\\\"(\\\"{THIS_YEAR}/01/01\\\"[PubDate] : \\\"3000\\\"[PubDate]) AND {v[\\\"search_term\\\"]})\\\"\\\"\\\"\\nauthor_records\";\n",
       "                var nbb_formatted_code = \"# add a date to restrict to this year\\nfor k, v in author_records.items():\\n    # Restrict contributors to CU items\\n    if v[\\\"author_type\\\"] == \\\"contributor\\\":\\n        v[\\n            \\\"search_term\\\"\\n        ] = f\\\"({v['search_term']} AND ((\\\\\\\"University of Colorado\\\\\\\") OR (\\\\\\\"Colorado Center for Personalized Medicine\\\\\\\")))\\\"\\n\\n    # filter by date\\n    v[\\n        \\\"search_term\\\"\\n    ] = f\\\"\\\"\\\"(\\\"{THIS_YEAR}/01/01\\\"[PubDate] : \\\"3000\\\"[PubDate]) AND {v[\\\"search_term\\\"]})\\\"\\\"\\\"\\nauthor_records\";\n",
       "                var nbb_cells = Jupyter.notebook.get_cells();\n",
       "                for (var i = 0; i < nbb_cells.length; ++i) {\n",
       "                    if (nbb_cells[i].input_prompt_number == nbb_cell_id) {\n",
       "                        if (nbb_cells[i].get_text() == nbb_unformatted_code) {\n",
       "                             nbb_cells[i].set_text(nbb_formatted_code);\n",
       "                        }\n",
       "                        break;\n",
       "                    }\n",
       "                }\n",
       "            }, 500);\n",
       "            "
      ],
      "text/plain": [
       "<IPython.core.display.Javascript object>"
      ]
     },
     "metadata": {},
     "output_type": "display_data"
    }
   ],
   "source": [
    "# add a date to restrict to this year\n",
    "for k, v in author_records.items():\n",
    "    # Restrict contributors to CU items\n",
    "    if v[\"author_type\"] == \"contributor\":\n",
    "        v[\n",
    "            \"search_term\"\n",
    "        ] = f\"({v['search_term']} AND ((\\\"University of Colorado\\\") OR (\\\"Colorado Center for Personalized Medicine\\\")))\"\n",
    "\n",
    "    # filter by date\n",
    "    v[\n",
    "        \"search_term\"\n",
    "    ] = f\"\"\"(\"{THIS_YEAR}/01/01\"[PubDate] : \"3000\"[PubDate]) AND {v[\"search_term\"]})\"\"\"\n",
    "author_records"
   ]
  },
  {
   "cell_type": "code",
   "execution_count": 8,
   "id": "b531499e",
   "metadata": {},
   "outputs": [
    {
     "data": {
      "application/javascript": [
       "\n",
       "            setTimeout(function() {\n",
       "                var nbb_cell_id = 8;\n",
       "                var nbb_unformatted_code = \"@sleep_and_retry\\n@limits(calls=3, period=60)\\ndef lookup_ncbi(term, year, api_key=None):\\n    # look up IDs a chunk at a time\\n    # NCBI asks that we use an API key... I've used mine in the past, but\\n    # pulled this out for source.\\n    ids = []\\n\\n    d = date(year, 1, 1)\\n    delta = date.today() - d\\n\\n    params = {\\n        \\\"term\\\": term,\\n        \\\"format\\\": \\\"pmid\\\",\\n        \\\"db\\\": \\\"pmc\\\",\\n        \\\"tool\\\": \\\"CUAnschutz-Center_for_Health_AI-DEV\\\",\\n        \\\"email\\\": \\\"Stephen.Taylor@cuanschutz.edu\\\",\\n        \\\"format\\\": \\\"json\\\",\\n        \\\"retmax\\\": 100,\\n        \\\"retstart\\\": 0,\\n        \\\"reldate\\\": delta.days,\\n    }\\n\\n    if api_key:\\n        params[\\\"api_key\\\"] = api_key\\n\\n    # page through the results until there are no more ids\\n    while True:\\n        r = requests.get(\\n            \\\"https://eutils.ncbi.nlm.nih.gov/entrez/eutils/esearch.fcgi\\\", params\\n        )\\n        if r.status_code == 200:\\n            result = r.json()[\\\"esearchresult\\\"]\\n        else:\\n            logging.error(f\\\"NCBI returned a status code of {r.status_code}.\\\")\\n            break\\n\\n        if len(result[\\\"idlist\\\"]) == 0:\\n            # no more IDs\\n            break\\n        else:\\n            # append the IDs to the results...\\n            ids = ids + result[\\\"idlist\\\"]\\n            # and move the start chunk up by the size of retmax\\n            params[\\\"retstart\\\"] += params[\\\"retmax\\\"]\\n\\n    return ids\\n\\n\\n# quick test\\n# lookup_ncbi(author_records[\\\"Gregory Way\\\"][\\\"search_term\\\"], THIS_YEAR)\";\n",
       "                var nbb_formatted_code = \"@sleep_and_retry\\n@limits(calls=3, period=60)\\ndef lookup_ncbi(term, year, api_key=None):\\n    # look up IDs a chunk at a time\\n    # NCBI asks that we use an API key... I've used mine in the past, but\\n    # pulled this out for source.\\n    ids = []\\n\\n    d = date(year, 1, 1)\\n    delta = date.today() - d\\n\\n    params = {\\n        \\\"term\\\": term,\\n        \\\"format\\\": \\\"pmid\\\",\\n        \\\"db\\\": \\\"pmc\\\",\\n        \\\"tool\\\": \\\"CUAnschutz-Center_for_Health_AI-DEV\\\",\\n        \\\"email\\\": \\\"Stephen.Taylor@cuanschutz.edu\\\",\\n        \\\"format\\\": \\\"json\\\",\\n        \\\"retmax\\\": 100,\\n        \\\"retstart\\\": 0,\\n        \\\"reldate\\\": delta.days,\\n    }\\n\\n    if api_key:\\n        params[\\\"api_key\\\"] = api_key\\n\\n    # page through the results until there are no more ids\\n    while True:\\n        r = requests.get(\\n            \\\"https://eutils.ncbi.nlm.nih.gov/entrez/eutils/esearch.fcgi\\\", params\\n        )\\n        if r.status_code == 200:\\n            result = r.json()[\\\"esearchresult\\\"]\\n        else:\\n            logging.error(f\\\"NCBI returned a status code of {r.status_code}.\\\")\\n            break\\n\\n        if len(result[\\\"idlist\\\"]) == 0:\\n            # no more IDs\\n            break\\n        else:\\n            # append the IDs to the results...\\n            ids = ids + result[\\\"idlist\\\"]\\n            # and move the start chunk up by the size of retmax\\n            params[\\\"retstart\\\"] += params[\\\"retmax\\\"]\\n\\n    return ids\\n\\n\\n# quick test\\n# lookup_ncbi(author_records[\\\"Gregory Way\\\"][\\\"search_term\\\"], THIS_YEAR)\";\n",
       "                var nbb_cells = Jupyter.notebook.get_cells();\n",
       "                for (var i = 0; i < nbb_cells.length; ++i) {\n",
       "                    if (nbb_cells[i].input_prompt_number == nbb_cell_id) {\n",
       "                        if (nbb_cells[i].get_text() == nbb_unformatted_code) {\n",
       "                             nbb_cells[i].set_text(nbb_formatted_code);\n",
       "                        }\n",
       "                        break;\n",
       "                    }\n",
       "                }\n",
       "            }, 500);\n",
       "            "
      ],
      "text/plain": [
       "<IPython.core.display.Javascript object>"
      ]
     },
     "metadata": {},
     "output_type": "display_data"
    }
   ],
   "source": [
    "@sleep_and_retry\n",
    "@limits(calls=3, period=60)\n",
    "def lookup_ncbi(term, year, api_key=None):\n",
    "    # look up IDs a chunk at a time\n",
    "    # NCBI asks that we use an API key... I've used mine in the past, but\n",
    "    # pulled this out for source.\n",
    "    ids = []\n",
    "\n",
    "    d = date(year, 1, 1)\n",
    "    delta = date.today() - d\n",
    "\n",
    "    params = {\n",
    "        \"term\": term,\n",
    "        \"format\": \"pmid\",\n",
    "        \"db\": \"pmc\",\n",
    "        \"tool\": \"CUAnschutz-Center_for_Health_AI-DEV\",\n",
    "        \"email\": \"Stephen.Taylor@cuanschutz.edu\",\n",
    "        \"format\": \"json\",\n",
    "        \"retmax\": 100,\n",
    "        \"retstart\": 0,\n",
    "        \"reldate\": delta.days,\n",
    "    }\n",
    "\n",
    "    if api_key:\n",
    "        params[\"api_key\"] = api_key\n",
    "\n",
    "    # page through the results until there are no more ids\n",
    "    while True:\n",
    "        r = requests.get(\n",
    "            \"https://eutils.ncbi.nlm.nih.gov/entrez/eutils/esearch.fcgi\", params\n",
    "        )\n",
    "        if r.status_code == 200:\n",
    "            result = r.json()[\"esearchresult\"]\n",
    "        else:\n",
    "            logging.error(f\"NCBI returned a status code of {r.status_code}.\")\n",
    "            break\n",
    "\n",
    "        if len(result[\"idlist\"]) == 0:\n",
    "            # no more IDs\n",
    "            break\n",
    "        else:\n",
    "            # append the IDs to the results...\n",
    "            ids = ids + result[\"idlist\"]\n",
    "            # and move the start chunk up by the size of retmax\n",
    "            params[\"retstart\"] += params[\"retmax\"]\n",
    "\n",
    "    return ids\n",
    "\n",
    "\n",
    "# quick test\n",
    "# lookup_ncbi(author_records[\"Gregory Way\"][\"search_term\"], THIS_YEAR)"
   ]
  },
  {
   "cell_type": "code",
   "execution_count": 9,
   "id": "4fcc3a02",
   "metadata": {},
   "outputs": [
    {
     "name": "stderr",
     "output_type": "stream",
     "text": [
      "INFO:root:Looking up `Layer R` using (\"2021/01/01\"[PubDate] : \"3000\"[PubDate]) AND ((Layer R[Author]) AND ((\"University of Colorado\") OR (\"Colorado Center for Personalized Medicine\"))))\n",
      "INFO:root:Looking up `Lange E` using (\"2021/01/01\"[PubDate] : \"3000\"[PubDate]) AND ((Lange E[Author]) AND ((\"University of Colorado\") OR (\"Colorado Center for Personalized Medicine\"))))\n",
      "INFO:root:Looking up `Ghosh D` using (\"2021/01/01\"[PubDate] : \"3000\"[PubDate]) AND ((Ghosh D[Author]) AND ((\"University of Colorado\") OR (\"Colorado Center for Personalized Medicine\"))))\n",
      "INFO:root:Looking up `Sean Davis` using (\"2021/01/01\"[PubDate] : \"3000\"[PubDate]) AND (Sean Davis))\n",
      "INFO:root:Looking up `Raghavan S` using (\"2021/01/01\"[PubDate] : \"3000\"[PubDate]) AND ((Raghavan S[Author]) AND ((\"University of Colorado\") OR (\"Colorado Center for Personalized Medicine\"))))\n"
     ]
    },
    {
     "data": {
      "text/plain": [
       "{'8145817': {'authors': ['Layer R']},\n",
       " '7959816': {'authors': ['Layer R']},\n",
       " '7870795': {'authors': ['Layer R']},\n",
       " '8293453': {'authors': ['Lange E', 'Raghavan S']},\n",
       " '8190158': {'authors': ['Lange E']},\n",
       " '8170969': {'authors': ['Lange E']},\n",
       " '8088054': {'authors': ['Lange E']},\n",
       " '8565741': {'authors': ['Ghosh D']},\n",
       " '8540572': {'authors': ['Ghosh D']},\n",
       " '8492620': {'authors': ['Ghosh D']},\n",
       " '8424977': {'authors': ['Ghosh D']},\n",
       " '8386789': {'authors': ['Ghosh D']},\n",
       " '7955432': {'authors': ['Raghavan S']}}"
      ]
     },
     "execution_count": 9,
     "metadata": {},
     "output_type": "execute_result"
    },
    {
     "data": {
      "application/javascript": [
       "\n",
       "            setTimeout(function() {\n",
       "                var nbb_cell_id = 9;\n",
       "                var nbb_unformatted_code = \"# I would like to do this in parallel, but the deal with NCBI is we agree not to do that\\nid_dict = {}\\nfor author, v in author_records.items():\\n    logging.info(f\\\"Looking up `{author}` using {v['search_term']}\\\")\\n    ids = lookup_ncbi(v[\\\"search_term\\\"], THIS_YEAR)\\n\\n    for id in ids:\\n        if not id_dict.get(id):\\n            # create an empty nested dict\\n            id_dict[id] = {\\\"authors\\\": []}\\n        id_dict[id][\\\"authors\\\"].append(author)\\n\\nid_dict\";\n",
       "                var nbb_formatted_code = \"# I would like to do this in parallel, but the deal with NCBI is we agree not to do that\\nid_dict = {}\\nfor author, v in author_records.items():\\n    logging.info(f\\\"Looking up `{author}` using {v['search_term']}\\\")\\n    ids = lookup_ncbi(v[\\\"search_term\\\"], THIS_YEAR)\\n\\n    for id in ids:\\n        if not id_dict.get(id):\\n            # create an empty nested dict\\n            id_dict[id] = {\\\"authors\\\": []}\\n        id_dict[id][\\\"authors\\\"].append(author)\\n\\nid_dict\";\n",
       "                var nbb_cells = Jupyter.notebook.get_cells();\n",
       "                for (var i = 0; i < nbb_cells.length; ++i) {\n",
       "                    if (nbb_cells[i].input_prompt_number == nbb_cell_id) {\n",
       "                        if (nbb_cells[i].get_text() == nbb_unformatted_code) {\n",
       "                             nbb_cells[i].set_text(nbb_formatted_code);\n",
       "                        }\n",
       "                        break;\n",
       "                    }\n",
       "                }\n",
       "            }, 500);\n",
       "            "
      ],
      "text/plain": [
       "<IPython.core.display.Javascript object>"
      ]
     },
     "metadata": {},
     "output_type": "display_data"
    }
   ],
   "source": [
    "# I would like to do this in parallel, but the deal with NCBI is we agree not to do that\n",
    "id_dict = {}\n",
    "for author, v in author_records.items():\n",
    "    logging.info(f\"Looking up `{author}` using {v['search_term']}\")\n",
    "    ids = lookup_ncbi(v[\"search_term\"], THIS_YEAR)\n",
    "\n",
    "    for id in ids:\n",
    "        if not id_dict.get(id):\n",
    "            # create an empty nested dict\n",
    "            id_dict[id] = {\"authors\": []}\n",
    "        id_dict[id][\"authors\"].append(author)\n",
    "\n",
    "id_dict"
   ]
  },
  {
   "cell_type": "markdown",
   "id": "97859ccb",
   "metadata": {},
   "source": [
    "How many items found?"
   ]
  },
  {
   "cell_type": "code",
   "execution_count": 10,
   "id": "88fbe381",
   "metadata": {},
   "outputs": [
    {
     "data": {
      "text/plain": [
       "13"
      ]
     },
     "execution_count": 10,
     "metadata": {},
     "output_type": "execute_result"
    },
    {
     "data": {
      "application/javascript": [
       "\n",
       "            setTimeout(function() {\n",
       "                var nbb_cell_id = 10;\n",
       "                var nbb_unformatted_code = \"len(id_dict)\";\n",
       "                var nbb_formatted_code = \"len(id_dict)\";\n",
       "                var nbb_cells = Jupyter.notebook.get_cells();\n",
       "                for (var i = 0; i < nbb_cells.length; ++i) {\n",
       "                    if (nbb_cells[i].input_prompt_number == nbb_cell_id) {\n",
       "                        if (nbb_cells[i].get_text() == nbb_unformatted_code) {\n",
       "                             nbb_cells[i].set_text(nbb_formatted_code);\n",
       "                        }\n",
       "                        break;\n",
       "                    }\n",
       "                }\n",
       "            }, 500);\n",
       "            "
      ],
      "text/plain": [
       "<IPython.core.display.Javascript object>"
      ]
     },
     "metadata": {},
     "output_type": "display_data"
    }
   ],
   "source": [
    "len(id_dict)"
   ]
  },
  {
   "cell_type": "code",
   "execution_count": 11,
   "id": "de429055",
   "metadata": {},
   "outputs": [
    {
     "data": {
      "application/javascript": [
       "\n",
       "            setTimeout(function() {\n",
       "                var nbb_cell_id = 11;\n",
       "                var nbb_unformatted_code = \"# Trying to run this without calling subprocess\\nfrom manubot.cite.citekey import citekey_to_csl_item\\n\\ncite_src = manubot.cite.citekey.citekey_to_csl_item(\\\"pmc:PMC8108524\\\")\";\n",
       "                var nbb_formatted_code = \"# Trying to run this without calling subprocess\\nfrom manubot.cite.citekey import citekey_to_csl_item\\n\\ncite_src = manubot.cite.citekey.citekey_to_csl_item(\\\"pmc:PMC8108524\\\")\";\n",
       "                var nbb_cells = Jupyter.notebook.get_cells();\n",
       "                for (var i = 0; i < nbb_cells.length; ++i) {\n",
       "                    if (nbb_cells[i].input_prompt_number == nbb_cell_id) {\n",
       "                        if (nbb_cells[i].get_text() == nbb_unformatted_code) {\n",
       "                             nbb_cells[i].set_text(nbb_formatted_code);\n",
       "                        }\n",
       "                        break;\n",
       "                    }\n",
       "                }\n",
       "            }, 500);\n",
       "            "
      ],
      "text/plain": [
       "<IPython.core.display.Javascript object>"
      ]
     },
     "metadata": {},
     "output_type": "display_data"
    }
   ],
   "source": [
    "# Trying to run this without calling subprocess\n",
    "from manubot.cite.citekey import citekey_to_csl_item\n",
    "\n",
    "cite_src = manubot.cite.citekey.citekey_to_csl_item(\"pmc:PMC8108524\")"
   ]
  },
  {
   "cell_type": "markdown",
   "id": "7bded28f",
   "metadata": {},
   "source": [
    "NCBI preferred we didn't run API queries against it in parallel. No such restriction for manubot!"
   ]
  },
  {
   "cell_type": "code",
   "execution_count": 12,
   "id": "e5604c90",
   "metadata": {},
   "outputs": [
    {
     "data": {
      "application/javascript": [
       "\n",
       "            setTimeout(function() {\n",
       "                var nbb_cell_id = 12;\n",
       "                var nbb_unformatted_code = \"@task\\ndef get_markdown(id: str) -> Dict[str, str]:\\n    # Use manubot-cite to fetch the formatted citation\\n    args = [\\\"manubot\\\", \\\"cite\\\", \\\"--format=markdown\\\", f\\\"pmc:PMC{id}\\\"]\\n\\n    process = subprocess.run(\\n        args=args,\\n        encoding=\\\"utf-8\\\",\\n        stdout=subprocess.PIPE,\\n        stderr=subprocess.PIPE,\\n    )\\n\\n    # process.check_returncode()\\n    assert process.returncode == 0\\n\\n    # cite has the index number stripped out.\\n    return {\\n        \\\"id\\\": id,\\n        \\\"cite\\\": process.stdout[re.search(\\\"\\\\*\\\\*\\\", process.stdout).start() :],\\n    }\\n\\n\\n@task\\ndef create_list(id_dict):\\n    # break out the keys for manubot cites\\n    my_list = [k for k, v in id_dict.items()]\\n    logging.info(f\\\"Preparing to map for {len(my_list)} items\\\")\\n    return my_list\\n\\n\\n@task\\ndef assemble_dicts(cite_list, id_dict):\\n    # reduce the manubot cites into the main dict and return it\\n    for cite_record in cite_list:\\n        id = cite_record[\\\"id\\\"]\\n        cite = cite_record[\\\"cite\\\"]\\n        id_dict[id][\\\"cite\\\"] = cite\\n    return id_dict\";\n",
       "                var nbb_formatted_code = \"@task\\ndef get_markdown(id: str) -> Dict[str, str]:\\n    # Use manubot-cite to fetch the formatted citation\\n    args = [\\\"manubot\\\", \\\"cite\\\", \\\"--format=markdown\\\", f\\\"pmc:PMC{id}\\\"]\\n\\n    process = subprocess.run(\\n        args=args,\\n        encoding=\\\"utf-8\\\",\\n        stdout=subprocess.PIPE,\\n        stderr=subprocess.PIPE,\\n    )\\n\\n    # process.check_returncode()\\n    assert process.returncode == 0\\n\\n    # cite has the index number stripped out.\\n    return {\\n        \\\"id\\\": id,\\n        \\\"cite\\\": process.stdout[re.search(\\\"\\\\*\\\\*\\\", process.stdout).start() :],\\n    }\\n\\n\\n@task\\ndef create_list(id_dict):\\n    # break out the keys for manubot cites\\n    my_list = [k for k, v in id_dict.items()]\\n    logging.info(f\\\"Preparing to map for {len(my_list)} items\\\")\\n    return my_list\\n\\n\\n@task\\ndef assemble_dicts(cite_list, id_dict):\\n    # reduce the manubot cites into the main dict and return it\\n    for cite_record in cite_list:\\n        id = cite_record[\\\"id\\\"]\\n        cite = cite_record[\\\"cite\\\"]\\n        id_dict[id][\\\"cite\\\"] = cite\\n    return id_dict\";\n",
       "                var nbb_cells = Jupyter.notebook.get_cells();\n",
       "                for (var i = 0; i < nbb_cells.length; ++i) {\n",
       "                    if (nbb_cells[i].input_prompt_number == nbb_cell_id) {\n",
       "                        if (nbb_cells[i].get_text() == nbb_unformatted_code) {\n",
       "                             nbb_cells[i].set_text(nbb_formatted_code);\n",
       "                        }\n",
       "                        break;\n",
       "                    }\n",
       "                }\n",
       "            }, 500);\n",
       "            "
      ],
      "text/plain": [
       "<IPython.core.display.Javascript object>"
      ]
     },
     "metadata": {},
     "output_type": "display_data"
    }
   ],
   "source": [
    "@task\n",
    "def get_markdown(id: str) -> Dict[str, str]:\n",
    "    # Use manubot-cite to fetch the formatted citation\n",
    "    args = [\"manubot\", \"cite\", \"--format=markdown\", f\"pmc:PMC{id}\"]\n",
    "\n",
    "    process = subprocess.run(\n",
    "        args=args,\n",
    "        encoding=\"utf-8\",\n",
    "        stdout=subprocess.PIPE,\n",
    "        stderr=subprocess.PIPE,\n",
    "    )\n",
    "\n",
    "    # process.check_returncode()\n",
    "    assert process.returncode == 0\n",
    "\n",
    "    # cite has the index number stripped out.\n",
    "    return {\n",
    "        \"id\": id,\n",
    "        \"cite\": process.stdout[re.search(\"\\*\\*\", process.stdout).start() :],\n",
    "    }\n",
    "\n",
    "\n",
    "@task\n",
    "def create_list(id_dict):\n",
    "    # break out the keys for manubot cites\n",
    "    my_list = [k for k, v in id_dict.items()]\n",
    "    logging.info(f\"Preparing to map for {len(my_list)} items\")\n",
    "    return my_list\n",
    "\n",
    "\n",
    "@task\n",
    "def assemble_dicts(cite_list, id_dict):\n",
    "    # reduce the manubot cites into the main dict and return it\n",
    "    for cite_record in cite_list:\n",
    "        id = cite_record[\"id\"]\n",
    "        cite = cite_record[\"cite\"]\n",
    "        id_dict[id][\"cite\"] = cite\n",
    "    return id_dict"
   ]
  },
  {
   "cell_type": "code",
   "execution_count": 13,
   "id": "7406f315",
   "metadata": {},
   "outputs": [
    {
     "data": {
      "application/javascript": [
       "\n",
       "            setTimeout(function() {\n",
       "                var nbb_cell_id = 13;\n",
       "                var nbb_unformatted_code = \"# Dask executors lets us run this is parallel\\nexecutor = LocalDaskExecutor()\\nwith Flow(\\\"Manubot Cite Runner\\\", executor=executor) as flow:\\n    ids = Parameter(\\\"ids\\\")()\\n\\n    id_list = create_list(ids)\\n    cite_list = get_markdown.map(id_list)\\n    output_dict = assemble_dicts(cite_list, id_dict)\";\n",
       "                var nbb_formatted_code = \"# Dask executors lets us run this is parallel\\nexecutor = LocalDaskExecutor()\\nwith Flow(\\\"Manubot Cite Runner\\\", executor=executor) as flow:\\n    ids = Parameter(\\\"ids\\\")()\\n\\n    id_list = create_list(ids)\\n    cite_list = get_markdown.map(id_list)\\n    output_dict = assemble_dicts(cite_list, id_dict)\";\n",
       "                var nbb_cells = Jupyter.notebook.get_cells();\n",
       "                for (var i = 0; i < nbb_cells.length; ++i) {\n",
       "                    if (nbb_cells[i].input_prompt_number == nbb_cell_id) {\n",
       "                        if (nbb_cells[i].get_text() == nbb_unformatted_code) {\n",
       "                             nbb_cells[i].set_text(nbb_formatted_code);\n",
       "                        }\n",
       "                        break;\n",
       "                    }\n",
       "                }\n",
       "            }, 500);\n",
       "            "
      ],
      "text/plain": [
       "<IPython.core.display.Javascript object>"
      ]
     },
     "metadata": {},
     "output_type": "display_data"
    }
   ],
   "source": [
    "# Dask executors lets us run this is parallel\n",
    "executor = LocalDaskExecutor()\n",
    "with Flow(\"Manubot Cite Runner\", executor=executor) as flow:\n",
    "    ids = Parameter(\"ids\")()\n",
    "\n",
    "    id_list = create_list(ids)\n",
    "    cite_list = get_markdown.map(id_list)\n",
    "    output_dict = assemble_dicts(cite_list, id_dict)"
   ]
  },
  {
   "cell_type": "code",
   "execution_count": 14,
   "id": "37d1f788",
   "metadata": {},
   "outputs": [
    {
     "name": "stdout",
     "output_type": "stream",
     "text": [
      "[2021-12-21 09:46:34-0700] INFO - prefect.FlowRunner | Beginning Flow run for 'Manubot Cite Runner'\n"
     ]
    },
    {
     "name": "stderr",
     "output_type": "stream",
     "text": [
      "INFO:prefect.FlowRunner:Beginning Flow run for 'Manubot Cite Runner'\n"
     ]
    },
    {
     "name": "stdout",
     "output_type": "stream",
     "text": [
      "[2021-12-21 09:46:34-0700] INFO - prefect.TaskRunner | Task 'ids': Starting task run...\n"
     ]
    },
    {
     "name": "stderr",
     "output_type": "stream",
     "text": [
      "INFO:prefect.TaskRunner:Task 'ids': Starting task run...\n"
     ]
    },
    {
     "name": "stdout",
     "output_type": "stream",
     "text": [
      "[2021-12-21 09:46:35-0700] INFO - prefect.TaskRunner | Task 'ids': Finished task run for task with final state: 'Success'\n"
     ]
    },
    {
     "name": "stderr",
     "output_type": "stream",
     "text": [
      "INFO:prefect.TaskRunner:Task 'ids': Finished task run for task with final state: 'Success'\n"
     ]
    },
    {
     "name": "stdout",
     "output_type": "stream",
     "text": [
      "[2021-12-21 09:46:35-0700] INFO - prefect.TaskRunner | Task 'create_list': Starting task run...\n"
     ]
    },
    {
     "name": "stderr",
     "output_type": "stream",
     "text": [
      "INFO:prefect.TaskRunner:Task 'create_list': Starting task run...\n",
      "INFO:root:Preparing to map for 13 items\n"
     ]
    },
    {
     "name": "stdout",
     "output_type": "stream",
     "text": [
      "[2021-12-21 09:46:35-0700] INFO - prefect.TaskRunner | Task 'create_list': Finished task run for task with final state: 'Success'\n"
     ]
    },
    {
     "name": "stderr",
     "output_type": "stream",
     "text": [
      "INFO:prefect.TaskRunner:Task 'create_list': Finished task run for task with final state: 'Success'\n"
     ]
    },
    {
     "name": "stdout",
     "output_type": "stream",
     "text": [
      "[2021-12-21 09:46:35-0700] INFO - prefect.TaskRunner | Task 'get_markdown': Starting task run...\n"
     ]
    },
    {
     "name": "stderr",
     "output_type": "stream",
     "text": [
      "INFO:prefect.TaskRunner:Task 'get_markdown': Starting task run...\n"
     ]
    },
    {
     "name": "stdout",
     "output_type": "stream",
     "text": [
      "[2021-12-21 09:46:35-0700] INFO - prefect.TaskRunner | Task 'get_markdown': Finished task run for task with final state: 'Mapped'\n"
     ]
    },
    {
     "name": "stderr",
     "output_type": "stream",
     "text": [
      "INFO:prefect.TaskRunner:Task 'get_markdown': Finished task run for task with final state: 'Mapped'\n"
     ]
    },
    {
     "name": "stdout",
     "output_type": "stream",
     "text": [
      "[2021-12-21 09:46:35-0700] INFO - prefect.TaskRunner | Task 'get_markdown[1]': Starting task run...\n",
      "[2021-12-21 09:46:35-0700] INFO - prefect.TaskRunner | Task 'get_markdown[12]': Starting task run...\n"
     ]
    },
    {
     "name": "stderr",
     "output_type": "stream",
     "text": [
      "INFO:prefect.TaskRunner:Task 'get_markdown[1]': Starting task run...\n",
      "INFO:prefect.TaskRunner:Task 'get_markdown[12]': Starting task run...\n"
     ]
    },
    {
     "name": "stdout",
     "output_type": "stream",
     "text": [
      "[2021-12-21 09:46:35-0700] INFO - prefect.TaskRunner | Task 'get_markdown[0]': Starting task run...\n"
     ]
    },
    {
     "name": "stderr",
     "output_type": "stream",
     "text": [
      "INFO:prefect.TaskRunner:Task 'get_markdown[0]': Starting task run...\n"
     ]
    },
    {
     "name": "stdout",
     "output_type": "stream",
     "text": [
      "[2021-12-21 09:46:35-0700] INFO - prefect.TaskRunner | Task 'get_markdown[10]': Starting task run...\n",
      "[2021-12-21 09:46:35-0700] INFO - prefect.TaskRunner | Task 'get_markdown[2]': Starting task run...\n"
     ]
    },
    {
     "name": "stderr",
     "output_type": "stream",
     "text": [
      "INFO:prefect.TaskRunner:Task 'get_markdown[10]': Starting task run...\n"
     ]
    },
    {
     "name": "stdout",
     "output_type": "stream",
     "text": [
      "[2021-12-21 09:46:35-0700] INFO - prefect.TaskRunner | Task 'get_markdown[4]': Starting task run...\n",
      "[2021-12-21 09:46:35-0700] INFO - prefect.TaskRunner | Task 'get_markdown[11]': Starting task run...\n"
     ]
    },
    {
     "name": "stderr",
     "output_type": "stream",
     "text": [
      "INFO:prefect.TaskRunner:Task 'get_markdown[2]': Starting task run...\n"
     ]
    },
    {
     "name": "stdout",
     "output_type": "stream",
     "text": [
      "[2021-12-21 09:46:35-0700] INFO - prefect.TaskRunner | Task 'get_markdown[3]': Starting task run...\n"
     ]
    },
    {
     "name": "stderr",
     "output_type": "stream",
     "text": [
      "INFO:prefect.TaskRunner:Task 'get_markdown[4]': Starting task run...\n",
      "INFO:prefect.TaskRunner:Task 'get_markdown[11]': Starting task run...\n",
      "INFO:prefect.TaskRunner:Task 'get_markdown[3]': Starting task run...\n"
     ]
    },
    {
     "name": "stdout",
     "output_type": "stream",
     "text": [
      "[2021-12-21 09:46:47-0700] INFO - prefect.TaskRunner | Task 'get_markdown[11]': Finished task run for task with final state: 'Success'\n"
     ]
    },
    {
     "name": "stderr",
     "output_type": "stream",
     "text": [
      "INFO:prefect.TaskRunner:Task 'get_markdown[11]': Finished task run for task with final state: 'Success'\n"
     ]
    },
    {
     "name": "stdout",
     "output_type": "stream",
     "text": [
      "[2021-12-21 09:46:47-0700] INFO - prefect.TaskRunner | Task 'get_markdown[10]': Finished task run for task with final state: 'Success'\n"
     ]
    },
    {
     "name": "stderr",
     "output_type": "stream",
     "text": [
      "INFO:prefect.TaskRunner:Task 'get_markdown[10]': Finished task run for task with final state: 'Success'\n"
     ]
    },
    {
     "name": "stdout",
     "output_type": "stream",
     "text": [
      "[2021-12-21 09:46:48-0700] INFO - prefect.TaskRunner | Task 'get_markdown[5]': Starting task run...\n"
     ]
    },
    {
     "name": "stderr",
     "output_type": "stream",
     "text": [
      "INFO:prefect.TaskRunner:Task 'get_markdown[5]': Starting task run...\n"
     ]
    },
    {
     "name": "stdout",
     "output_type": "stream",
     "text": [
      "[2021-12-21 09:46:48-0700] INFO - prefect.TaskRunner | Task 'get_markdown[6]': Starting task run...\n"
     ]
    },
    {
     "name": "stderr",
     "output_type": "stream",
     "text": [
      "INFO:prefect.TaskRunner:Task 'get_markdown[6]': Starting task run...\n"
     ]
    },
    {
     "name": "stdout",
     "output_type": "stream",
     "text": [
      "[2021-12-21 09:46:50-0700] INFO - prefect.TaskRunner | Task 'get_markdown[2]': Finished task run for task with final state: 'Success'\n",
      "[2021-12-21 09:46:50-0700] INFO - prefect.TaskRunner | Task 'get_markdown[1]': Finished task run for task with final state: 'Success'\n"
     ]
    },
    {
     "name": "stderr",
     "output_type": "stream",
     "text": [
      "INFO:prefect.TaskRunner:Task 'get_markdown[2]': Finished task run for task with final state: 'Success'\n",
      "INFO:prefect.TaskRunner:Task 'get_markdown[1]': Finished task run for task with final state: 'Success'\n"
     ]
    },
    {
     "name": "stdout",
     "output_type": "stream",
     "text": [
      "[2021-12-21 09:46:50-0700] INFO - prefect.TaskRunner | Task 'get_markdown[4]': Finished task run for task with final state: 'Success'\n"
     ]
    },
    {
     "name": "stderr",
     "output_type": "stream",
     "text": [
      "INFO:prefect.TaskRunner:Task 'get_markdown[4]': Finished task run for task with final state: 'Success'\n"
     ]
    },
    {
     "name": "stdout",
     "output_type": "stream",
     "text": [
      "[2021-12-21 09:46:50-0700] INFO - prefect.TaskRunner | Task 'get_markdown[0]': Finished task run for task with final state: 'Success'\n"
     ]
    },
    {
     "name": "stderr",
     "output_type": "stream",
     "text": [
      "INFO:prefect.TaskRunner:Task 'get_markdown[0]': Finished task run for task with final state: 'Success'\n"
     ]
    },
    {
     "name": "stdout",
     "output_type": "stream",
     "text": [
      "[2021-12-21 09:46:50-0700] INFO - prefect.TaskRunner | Task 'get_markdown[12]': Finished task run for task with final state: 'Success'\n",
      "[2021-12-21 09:46:50-0700] INFO - prefect.TaskRunner | Task 'get_markdown[7]': Starting task run...\n"
     ]
    },
    {
     "name": "stderr",
     "output_type": "stream",
     "text": [
      "INFO:prefect.TaskRunner:Task 'get_markdown[12]': Finished task run for task with final state: 'Success'\n"
     ]
    },
    {
     "name": "stdout",
     "output_type": "stream",
     "text": [
      "[2021-12-21 09:46:50-0700] INFO - prefect.TaskRunner | Task 'get_markdown[3]': Finished task run for task with final state: 'Success'\n"
     ]
    },
    {
     "name": "stderr",
     "output_type": "stream",
     "text": [
      "INFO:prefect.TaskRunner:Task 'get_markdown[7]': Starting task run...\n"
     ]
    },
    {
     "name": "stdout",
     "output_type": "stream",
     "text": [
      "[2021-12-21 09:46:50-0700] INFO - prefect.TaskRunner | Task 'get_markdown[8]': Starting task run...\n"
     ]
    },
    {
     "name": "stderr",
     "output_type": "stream",
     "text": [
      "INFO:prefect.TaskRunner:Task 'get_markdown[3]': Finished task run for task with final state: 'Success'\n"
     ]
    },
    {
     "name": "stdout",
     "output_type": "stream",
     "text": [
      "[2021-12-21 09:46:50-0700] INFO - prefect.TaskRunner | Task 'get_markdown[9]': Starting task run...\n"
     ]
    },
    {
     "name": "stderr",
     "output_type": "stream",
     "text": [
      "INFO:prefect.TaskRunner:Task 'get_markdown[8]': Starting task run...\n",
      "INFO:prefect.TaskRunner:Task 'get_markdown[9]': Starting task run...\n"
     ]
    },
    {
     "name": "stdout",
     "output_type": "stream",
     "text": [
      "[2021-12-21 09:46:52-0700] INFO - prefect.TaskRunner | Task 'get_markdown[6]': Finished task run for task with final state: 'Success'\n"
     ]
    },
    {
     "name": "stderr",
     "output_type": "stream",
     "text": [
      "INFO:prefect.TaskRunner:Task 'get_markdown[6]': Finished task run for task with final state: 'Success'\n"
     ]
    },
    {
     "name": "stdout",
     "output_type": "stream",
     "text": [
      "[2021-12-21 09:46:52-0700] INFO - prefect.TaskRunner | Task 'get_markdown[5]': Finished task run for task with final state: 'Success'\n"
     ]
    },
    {
     "name": "stderr",
     "output_type": "stream",
     "text": [
      "INFO:prefect.TaskRunner:Task 'get_markdown[5]': Finished task run for task with final state: 'Success'\n"
     ]
    },
    {
     "name": "stdout",
     "output_type": "stream",
     "text": [
      "[2021-12-21 09:46:55-0700] INFO - prefect.TaskRunner | Task 'get_markdown[7]': Finished task run for task with final state: 'Success'\n"
     ]
    },
    {
     "name": "stderr",
     "output_type": "stream",
     "text": [
      "INFO:prefect.TaskRunner:Task 'get_markdown[7]': Finished task run for task with final state: 'Success'\n"
     ]
    },
    {
     "name": "stdout",
     "output_type": "stream",
     "text": [
      "[2021-12-21 09:46:55-0700] INFO - prefect.TaskRunner | Task 'get_markdown[8]': Finished task run for task with final state: 'Success'\n"
     ]
    },
    {
     "name": "stderr",
     "output_type": "stream",
     "text": [
      "INFO:prefect.TaskRunner:Task 'get_markdown[8]': Finished task run for task with final state: 'Success'\n"
     ]
    },
    {
     "name": "stdout",
     "output_type": "stream",
     "text": [
      "[2021-12-21 09:46:55-0700] INFO - prefect.TaskRunner | Task 'get_markdown[9]': Finished task run for task with final state: 'Success'\n"
     ]
    },
    {
     "name": "stderr",
     "output_type": "stream",
     "text": [
      "INFO:prefect.TaskRunner:Task 'get_markdown[9]': Finished task run for task with final state: 'Success'\n"
     ]
    },
    {
     "name": "stdout",
     "output_type": "stream",
     "text": [
      "[2021-12-21 09:46:55-0700] INFO - prefect.TaskRunner | Task 'assemble_dicts': Starting task run...\n"
     ]
    },
    {
     "name": "stderr",
     "output_type": "stream",
     "text": [
      "INFO:prefect.TaskRunner:Task 'assemble_dicts': Starting task run...\n"
     ]
    },
    {
     "name": "stdout",
     "output_type": "stream",
     "text": [
      "[2021-12-21 09:46:55-0700] INFO - prefect.TaskRunner | Task 'assemble_dicts': Finished task run for task with final state: 'Success'\n"
     ]
    },
    {
     "name": "stderr",
     "output_type": "stream",
     "text": [
      "INFO:prefect.TaskRunner:Task 'assemble_dicts': Finished task run for task with final state: 'Success'\n"
     ]
    },
    {
     "name": "stdout",
     "output_type": "stream",
     "text": [
      "[2021-12-21 09:46:55-0700] INFO - prefect.FlowRunner | Flow run SUCCESS: all reference tasks succeeded\n"
     ]
    },
    {
     "name": "stderr",
     "output_type": "stream",
     "text": [
      "INFO:prefect.FlowRunner:Flow run SUCCESS: all reference tasks succeeded\n"
     ]
    },
    {
     "data": {
      "application/javascript": [
       "\n",
       "            setTimeout(function() {\n",
       "                var nbb_cell_id = 14;\n",
       "                var nbb_unformatted_code = \"# run the flow, and capture the results into manubot_results\\nstate = flow.run(\\n    parameters={\\\"ids\\\": id_dict},\\n)\\nmanubot_results = state.result[output_dict].result\";\n",
       "                var nbb_formatted_code = \"# run the flow, and capture the results into manubot_results\\nstate = flow.run(\\n    parameters={\\\"ids\\\": id_dict},\\n)\\nmanubot_results = state.result[output_dict].result\";\n",
       "                var nbb_cells = Jupyter.notebook.get_cells();\n",
       "                for (var i = 0; i < nbb_cells.length; ++i) {\n",
       "                    if (nbb_cells[i].input_prompt_number == nbb_cell_id) {\n",
       "                        if (nbb_cells[i].get_text() == nbb_unformatted_code) {\n",
       "                             nbb_cells[i].set_text(nbb_formatted_code);\n",
       "                        }\n",
       "                        break;\n",
       "                    }\n",
       "                }\n",
       "            }, 500);\n",
       "            "
      ],
      "text/plain": [
       "<IPython.core.display.Javascript object>"
      ]
     },
     "metadata": {},
     "output_type": "display_data"
    }
   ],
   "source": [
    "# run the flow, and capture the results into manubot_results\n",
    "state = flow.run(\n",
    "    parameters={\"ids\": id_dict},\n",
    ")\n",
    "manubot_results = state.result[output_dict].result"
   ]
  },
  {
   "cell_type": "code",
   "execution_count": 15,
   "id": "ae97bc43",
   "metadata": {
    "scrolled": true
   },
   "outputs": [
    {
     "data": {
      "text/html": [
       "<div>\n",
       "<style scoped>\n",
       "    .dataframe tbody tr th:only-of-type {\n",
       "        vertical-align: middle;\n",
       "    }\n",
       "\n",
       "    .dataframe tbody tr th {\n",
       "        vertical-align: top;\n",
       "    }\n",
       "\n",
       "    .dataframe thead th {\n",
       "        text-align: right;\n",
       "    }\n",
       "</style>\n",
       "<table border=\"1\" class=\"dataframe\">\n",
       "  <thead>\n",
       "    <tr style=\"text-align: right;\">\n",
       "      <th></th>\n",
       "      <th>authors</th>\n",
       "      <th>cite</th>\n",
       "      <th>index_num</th>\n",
       "      <th>numbered_cite</th>\n",
       "    </tr>\n",
       "  </thead>\n",
       "  <tbody>\n",
       "    <tr>\n",
       "      <th>8492620</th>\n",
       "      <td>[Ghosh D]</td>\n",
       "      <td>**A novel approach to understanding Parkinsoni...</td>\n",
       "      <td>1</td>\n",
       "      <td>1. **A novel approach to understanding Parkins...</td>\n",
       "    </tr>\n",
       "    <tr>\n",
       "      <th>8170969</th>\n",
       "      <td>[Lange E]</td>\n",
       "      <td>**DNAm-based signatures of accelerated aging a...</td>\n",
       "      <td>2</td>\n",
       "      <td>2. **DNAm-based signatures of accelerated agin...</td>\n",
       "    </tr>\n",
       "    <tr>\n",
       "      <th>7955432</th>\n",
       "      <td>[Raghavan S]</td>\n",
       "      <td>**Differences in High- and Low-Value Cardiovas...</td>\n",
       "      <td>3</td>\n",
       "      <td>3. **Differences in High- and Low-Value Cardio...</td>\n",
       "    </tr>\n",
       "    <tr>\n",
       "      <th>7870795</th>\n",
       "      <td>[Layer R]</td>\n",
       "      <td>**Editorial: Genomic Colocalization and Enrich...</td>\n",
       "      <td>4</td>\n",
       "      <td>4. **Editorial: Genomic Colocalization and Enr...</td>\n",
       "    </tr>\n",
       "    <tr>\n",
       "      <th>8088054</th>\n",
       "      <td>[Lange E]</td>\n",
       "      <td>**Epigenome-wide association study of kidney f...</td>\n",
       "      <td>5</td>\n",
       "      <td>5. **Epigenome-wide association study of kidne...</td>\n",
       "    </tr>\n",
       "    <tr>\n",
       "      <th>8386789</th>\n",
       "      <td>[Ghosh D]</td>\n",
       "      <td>**Estimating the Impact of Statewide Policies ...</td>\n",
       "      <td>6</td>\n",
       "      <td>6. **Estimating the Impact of Statewide Polici...</td>\n",
       "    </tr>\n",
       "    <tr>\n",
       "      <th>8293453</th>\n",
       "      <td>[Lange E, Raghavan S]</td>\n",
       "      <td>**Genetic Interactions with Intrauterine Diabe...</td>\n",
       "      <td>7</td>\n",
       "      <td>7. **Genetic Interactions with Intrauterine Di...</td>\n",
       "    </tr>\n",
       "    <tr>\n",
       "      <th>7959816</th>\n",
       "      <td>[Layer R]</td>\n",
       "      <td>**Identification of High-Confidence Structural...</td>\n",
       "      <td>8</td>\n",
       "      <td>8. **Identification of High-Confidence Structu...</td>\n",
       "    </tr>\n",
       "    <tr>\n",
       "      <th>8540572</th>\n",
       "      <td>[Ghosh D]</td>\n",
       "      <td>**MSCAT: A Machine Learning Assisted Catalog o...</td>\n",
       "      <td>9</td>\n",
       "      <td>9. **MSCAT: A Machine Learning Assisted Catalo...</td>\n",
       "    </tr>\n",
       "    <tr>\n",
       "      <th>8565741</th>\n",
       "      <td>[Ghosh D]</td>\n",
       "      <td>**PaIRKAT: A pathway integrated regression-bas...</td>\n",
       "      <td>10</td>\n",
       "      <td>10. **PaIRKAT: A pathway integrated regression...</td>\n",
       "    </tr>\n",
       "    <tr>\n",
       "      <th>8424977</th>\n",
       "      <td>[Ghosh D]</td>\n",
       "      <td>**Reproducibility of mass spectrometry based m...</td>\n",
       "      <td>11</td>\n",
       "      <td>11. **Reproducibility of mass spectrometry bas...</td>\n",
       "    </tr>\n",
       "    <tr>\n",
       "      <th>8145817</th>\n",
       "      <td>[Layer R]</td>\n",
       "      <td>**Samplot: a platform for structural variant v...</td>\n",
       "      <td>12</td>\n",
       "      <td>12. **Samplot: a platform for structural varia...</td>\n",
       "    </tr>\n",
       "    <tr>\n",
       "      <th>8190158</th>\n",
       "      <td>[Lange E]</td>\n",
       "      <td>**Variant-specific inflation factors for asses...</td>\n",
       "      <td>13</td>\n",
       "      <td>13. **Variant-specific inflation factors for a...</td>\n",
       "    </tr>\n",
       "  </tbody>\n",
       "</table>\n",
       "</div>"
      ],
      "text/plain": [
       "                       authors  \\\n",
       "8492620              [Ghosh D]   \n",
       "8170969              [Lange E]   \n",
       "7955432           [Raghavan S]   \n",
       "7870795              [Layer R]   \n",
       "8088054              [Lange E]   \n",
       "8386789              [Ghosh D]   \n",
       "8293453  [Lange E, Raghavan S]   \n",
       "7959816              [Layer R]   \n",
       "8540572              [Ghosh D]   \n",
       "8565741              [Ghosh D]   \n",
       "8424977              [Ghosh D]   \n",
       "8145817              [Layer R]   \n",
       "8190158              [Lange E]   \n",
       "\n",
       "                                                      cite  index_num  \\\n",
       "8492620  **A novel approach to understanding Parkinsoni...          1   \n",
       "8170969  **DNAm-based signatures of accelerated aging a...          2   \n",
       "7955432  **Differences in High- and Low-Value Cardiovas...          3   \n",
       "7870795  **Editorial: Genomic Colocalization and Enrich...          4   \n",
       "8088054  **Epigenome-wide association study of kidney f...          5   \n",
       "8386789  **Estimating the Impact of Statewide Policies ...          6   \n",
       "8293453  **Genetic Interactions with Intrauterine Diabe...          7   \n",
       "7959816  **Identification of High-Confidence Structural...          8   \n",
       "8540572  **MSCAT: A Machine Learning Assisted Catalog o...          9   \n",
       "8565741  **PaIRKAT: A pathway integrated regression-bas...         10   \n",
       "8424977  **Reproducibility of mass spectrometry based m...         11   \n",
       "8145817  **Samplot: a platform for structural variant v...         12   \n",
       "8190158  **Variant-specific inflation factors for asses...         13   \n",
       "\n",
       "                                             numbered_cite  \n",
       "8492620  1. **A novel approach to understanding Parkins...  \n",
       "8170969  2. **DNAm-based signatures of accelerated agin...  \n",
       "7955432  3. **Differences in High- and Low-Value Cardio...  \n",
       "7870795  4. **Editorial: Genomic Colocalization and Enr...  \n",
       "8088054  5. **Epigenome-wide association study of kidne...  \n",
       "8386789  6. **Estimating the Impact of Statewide Polici...  \n",
       "8293453  7. **Genetic Interactions with Intrauterine Di...  \n",
       "7959816  8. **Identification of High-Confidence Structu...  \n",
       "8540572  9. **MSCAT: A Machine Learning Assisted Catalo...  \n",
       "8565741  10. **PaIRKAT: A pathway integrated regression...  \n",
       "8424977  11. **Reproducibility of mass spectrometry bas...  \n",
       "8145817  12. **Samplot: a platform for structural varia...  \n",
       "8190158  13. **Variant-specific inflation factors for a...  "
      ]
     },
     "execution_count": 15,
     "metadata": {},
     "output_type": "execute_result"
    },
    {
     "data": {
      "application/javascript": [
       "\n",
       "            setTimeout(function() {\n",
       "                var nbb_cell_id = 15;\n",
       "                var nbb_unformatted_code = \"# Sorting is straight-forward with Pandas\\ndf = pd.DataFrame.from_dict(manubot_results, orient=\\\"index\\\")\\ndf.sort_values(by=\\\"cite\\\", inplace=True)\\n# adding a number for each site as asked.\\ndf[\\\"index_num\\\"] = range(1, len(df.index) + 1)\\ndf[\\\"numbered_cite\\\"] = df.apply(lambda x: f\\\"{x.index_num}. {x.cite}\\\", axis=1)\\ndf\";\n",
       "                var nbb_formatted_code = \"# Sorting is straight-forward with Pandas\\ndf = pd.DataFrame.from_dict(manubot_results, orient=\\\"index\\\")\\ndf.sort_values(by=\\\"cite\\\", inplace=True)\\n# adding a number for each site as asked.\\ndf[\\\"index_num\\\"] = range(1, len(df.index) + 1)\\ndf[\\\"numbered_cite\\\"] = df.apply(lambda x: f\\\"{x.index_num}. {x.cite}\\\", axis=1)\\ndf\";\n",
       "                var nbb_cells = Jupyter.notebook.get_cells();\n",
       "                for (var i = 0; i < nbb_cells.length; ++i) {\n",
       "                    if (nbb_cells[i].input_prompt_number == nbb_cell_id) {\n",
       "                        if (nbb_cells[i].get_text() == nbb_unformatted_code) {\n",
       "                             nbb_cells[i].set_text(nbb_formatted_code);\n",
       "                        }\n",
       "                        break;\n",
       "                    }\n",
       "                }\n",
       "            }, 500);\n",
       "            "
      ],
      "text/plain": [
       "<IPython.core.display.Javascript object>"
      ]
     },
     "metadata": {},
     "output_type": "display_data"
    }
   ],
   "source": [
    "# Sorting is straight-forward with Pandas\n",
    "df = pd.DataFrame.from_dict(manubot_results, orient=\"index\")\n",
    "df.sort_values(by=\"cite\", inplace=True)\n",
    "# adding a number for each site as asked.\n",
    "df[\"index_num\"] = range(1, len(df.index) + 1)\n",
    "df[\"numbered_cite\"] = df.apply(lambda x: f\"{x.index_num}. {x.cite}\", axis=1)\n",
    "df"
   ]
  },
  {
   "cell_type": "code",
   "execution_count": 16,
   "id": "9a7e768f",
   "metadata": {},
   "outputs": [
    {
     "data": {
      "text/html": [
       "<div>\n",
       "<style scoped>\n",
       "    .dataframe tbody tr th:only-of-type {\n",
       "        vertical-align: middle;\n",
       "    }\n",
       "\n",
       "    .dataframe tbody tr th {\n",
       "        vertical-align: top;\n",
       "    }\n",
       "\n",
       "    .dataframe thead th {\n",
       "        text-align: right;\n",
       "    }\n",
       "</style>\n",
       "<table border=\"1\" class=\"dataframe\">\n",
       "  <thead>\n",
       "    <tr style=\"text-align: right;\">\n",
       "      <th></th>\n",
       "      <th>author_type</th>\n",
       "      <th>search_term</th>\n",
       "      <th>item_count</th>\n",
       "    </tr>\n",
       "  </thead>\n",
       "  <tbody>\n",
       "    <tr>\n",
       "      <th>Layer R</th>\n",
       "      <td>contributor</td>\n",
       "      <td>(Layer R[Author])</td>\n",
       "      <td>3.0</td>\n",
       "    </tr>\n",
       "    <tr>\n",
       "      <th>Lange E</th>\n",
       "      <td>contributor</td>\n",
       "      <td>(Lange E[Author])</td>\n",
       "      <td>4.0</td>\n",
       "    </tr>\n",
       "    <tr>\n",
       "      <th>Ghosh D</th>\n",
       "      <td>contributor</td>\n",
       "      <td>(Ghosh D[Author])</td>\n",
       "      <td>5.0</td>\n",
       "    </tr>\n",
       "    <tr>\n",
       "      <th>Sean Davis</th>\n",
       "      <td>pi</td>\n",
       "      <td>(Sean Davis)</td>\n",
       "      <td>NaN</td>\n",
       "    </tr>\n",
       "    <tr>\n",
       "      <th>Raghavan S</th>\n",
       "      <td>contributor</td>\n",
       "      <td>(Raghavan S[Author])</td>\n",
       "      <td>2.0</td>\n",
       "    </tr>\n",
       "  </tbody>\n",
       "</table>\n",
       "</div>"
      ],
      "text/plain": [
       "            author_type           search_term  item_count\n",
       "Layer R     contributor     (Layer R[Author])         3.0\n",
       "Lange E     contributor     (Lange E[Author])         4.0\n",
       "Ghosh D     contributor     (Ghosh D[Author])         5.0\n",
       "Sean Davis           pi          (Sean Davis)         NaN\n",
       "Raghavan S  contributor  (Raghavan S[Author])         2.0"
      ]
     },
     "execution_count": 16,
     "metadata": {},
     "output_type": "execute_result"
    },
    {
     "data": {
      "application/javascript": [
       "\n",
       "            setTimeout(function() {\n",
       "                var nbb_cell_id = 16;\n",
       "                var nbb_unformatted_code = \"# count the items and add to the original authors dataframe\\nauthor_paper_count = {}\\nfor k, v in id_dict.items():\\n    for author in v[\\\"authors\\\"]:\\n        if not author_paper_count.get(author):\\n            author_paper_count[author] = 0\\n        author_paper_count[author] += 1\\n\\nauthors_df[\\\"item_count\\\"] = pd.Series(author_paper_count)\\nauthors_df\";\n",
       "                var nbb_formatted_code = \"# count the items and add to the original authors dataframe\\nauthor_paper_count = {}\\nfor k, v in id_dict.items():\\n    for author in v[\\\"authors\\\"]:\\n        if not author_paper_count.get(author):\\n            author_paper_count[author] = 0\\n        author_paper_count[author] += 1\\n\\nauthors_df[\\\"item_count\\\"] = pd.Series(author_paper_count)\\nauthors_df\";\n",
       "                var nbb_cells = Jupyter.notebook.get_cells();\n",
       "                for (var i = 0; i < nbb_cells.length; ++i) {\n",
       "                    if (nbb_cells[i].input_prompt_number == nbb_cell_id) {\n",
       "                        if (nbb_cells[i].get_text() == nbb_unformatted_code) {\n",
       "                             nbb_cells[i].set_text(nbb_formatted_code);\n",
       "                        }\n",
       "                        break;\n",
       "                    }\n",
       "                }\n",
       "            }, 500);\n",
       "            "
      ],
      "text/plain": [
       "<IPython.core.display.Javascript object>"
      ]
     },
     "metadata": {},
     "output_type": "display_data"
    }
   ],
   "source": [
    "# count the items and add to the original authors dataframe\n",
    "author_paper_count = {}\n",
    "for k, v in id_dict.items():\n",
    "    for author in v[\"authors\"]:\n",
    "        if not author_paper_count.get(author):\n",
    "            author_paper_count[author] = 0\n",
    "        author_paper_count[author] += 1\n",
    "\n",
    "authors_df[\"item_count\"] = pd.Series(author_paper_count)\n",
    "authors_df"
   ]
  },
  {
   "cell_type": "code",
   "execution_count": 17,
   "id": "87ddc4e6",
   "metadata": {},
   "outputs": [
    {
     "data": {
      "image/png": "[encoded data removed]",
      "text/plain": [
       "<Figure size 1008x720 with 1 Axes>"
      ]
     },
     "metadata": {
      "needs_background": "light"
     },
     "output_type": "display_data"
    },
    {
     "data": {
      "application/javascript": [
       "\n",
       "            setTimeout(function() {\n",
       "                var nbb_cell_id = 17;\n",
       "                var nbb_unformatted_code = \"# I wanted to _see_ what the data looked like\\nax = authors_df.sort_values(by=\\\"item_count\\\").plot.barh(figsize=(14, 10))\\nfig = ax.get_figure()\\nfig.savefig(os.path.join(BUILD_FOLDER, \\\"author_items.png\\\"))\";\n",
       "                var nbb_formatted_code = \"# I wanted to _see_ what the data looked like\\nax = authors_df.sort_values(by=\\\"item_count\\\").plot.barh(figsize=(14, 10))\\nfig = ax.get_figure()\\nfig.savefig(os.path.join(BUILD_FOLDER, \\\"author_items.png\\\"))\";\n",
       "                var nbb_cells = Jupyter.notebook.get_cells();\n",
       "                for (var i = 0; i < nbb_cells.length; ++i) {\n",
       "                    if (nbb_cells[i].input_prompt_number == nbb_cell_id) {\n",
       "                        if (nbb_cells[i].get_text() == nbb_unformatted_code) {\n",
       "                             nbb_cells[i].set_text(nbb_formatted_code);\n",
       "                        }\n",
       "                        break;\n",
       "                    }\n",
       "                }\n",
       "            }, 500);\n",
       "            "
      ],
      "text/plain": [
       "<IPython.core.display.Javascript object>"
      ]
     },
     "metadata": {},
     "output_type": "display_data"
    }
   ],
   "source": [
    "# I wanted to _see_ what the data looked like\n",
    "ax = authors_df.sort_values(by=\"item_count\").plot.barh(figsize=(14, 10))\n",
    "fig = ax.get_figure()\n",
    "fig.savefig(os.path.join(BUILD_FOLDER, \"author_items.png\"))"
   ]
  },
  {
   "cell_type": "markdown",
   "id": "02d8445a",
   "metadata": {},
   "source": [
    "Finally output the content to a markdown file, then convert to MS Word"
   ]
  },
  {
   "cell_type": "code",
   "execution_count": 18,
   "id": "92cda037",
   "metadata": {},
   "outputs": [
    {
     "data": {
      "application/javascript": [
       "\n",
       "            setTimeout(function() {\n",
       "                var nbb_cell_id = 18;\n",
       "                var nbb_unformatted_code = \"# dump to a file to inspect\\ndf.to_json(os.path.join(BUILD_FOLDER, \\\"cites.json\\\"), orient=\\\"index\\\")\";\n",
       "                var nbb_formatted_code = \"# dump to a file to inspect\\ndf.to_json(os.path.join(BUILD_FOLDER, \\\"cites.json\\\"), orient=\\\"index\\\")\";\n",
       "                var nbb_cells = Jupyter.notebook.get_cells();\n",
       "                for (var i = 0; i < nbb_cells.length; ++i) {\n",
       "                    if (nbb_cells[i].input_prompt_number == nbb_cell_id) {\n",
       "                        if (nbb_cells[i].get_text() == nbb_unformatted_code) {\n",
       "                             nbb_cells[i].set_text(nbb_formatted_code);\n",
       "                        }\n",
       "                        break;\n",
       "                    }\n",
       "                }\n",
       "            }, 500);\n",
       "            "
      ],
      "text/plain": [
       "<IPython.core.display.Javascript object>"
      ]
     },
     "metadata": {},
     "output_type": "display_data"
    }
   ],
   "source": [
    "# dump to a file to inspect\n",
    "df.to_json(os.path.join(BUILD_FOLDER, \"cites.json\"), orient=\"index\")"
   ]
  },
  {
   "cell_type": "code",
   "execution_count": 19,
   "id": "bce8545b",
   "metadata": {},
   "outputs": [
    {
     "data": {
      "application/javascript": [
       "\n",
       "            setTimeout(function() {\n",
       "                var nbb_cell_id = 19;\n",
       "                var nbb_unformatted_code = \"with open(os.path.join(BUILD_FOLDER, \\\"cites.md\\\"), \\\"w\\\", encoding=\\\"utf-8\\\") as f:\\n    f.write(f\\\"# Center for Health AI, Published Items {THIS_YEAR}\\\\n\\\\n\\\")\\n\\n    f.write(f\\\"## Author Item Counts\\\\n\\\\n\\\")\\n    f.write(f\\\"![](_build/author_items.png)\\\\n\\\\n\\\")\\n\\n    f.write(f\\\"## Published Items Citations\\\\n\\\\n\\\")\\n    for index, row in df.iterrows():\\n        f.write(row[\\\"numbered_cite\\\"])\\n        f.write(\\\"\\\\n\\\")\";\n",
       "                var nbb_formatted_code = \"with open(os.path.join(BUILD_FOLDER, \\\"cites.md\\\"), \\\"w\\\", encoding=\\\"utf-8\\\") as f:\\n    f.write(f\\\"# Center for Health AI, Published Items {THIS_YEAR}\\\\n\\\\n\\\")\\n\\n    f.write(f\\\"## Author Item Counts\\\\n\\\\n\\\")\\n    f.write(f\\\"![](_build/author_items.png)\\\\n\\\\n\\\")\\n\\n    f.write(f\\\"## Published Items Citations\\\\n\\\\n\\\")\\n    for index, row in df.iterrows():\\n        f.write(row[\\\"numbered_cite\\\"])\\n        f.write(\\\"\\\\n\\\")\";\n",
       "                var nbb_cells = Jupyter.notebook.get_cells();\n",
       "                for (var i = 0; i < nbb_cells.length; ++i) {\n",
       "                    if (nbb_cells[i].input_prompt_number == nbb_cell_id) {\n",
       "                        if (nbb_cells[i].get_text() == nbb_unformatted_code) {\n",
       "                             nbb_cells[i].set_text(nbb_formatted_code);\n",
       "                        }\n",
       "                        break;\n",
       "                    }\n",
       "                }\n",
       "            }, 500);\n",
       "            "
      ],
      "text/plain": [
       "<IPython.core.display.Javascript object>"
      ]
     },
     "metadata": {},
     "output_type": "display_data"
    }
   ],
   "source": [
    "with open(os.path.join(BUILD_FOLDER, \"cites.md\"), \"w\", encoding=\"utf-8\") as f:\n",
    "    f.write(f\"# Center for Health AI, Published Items {THIS_YEAR}\\n\\n\")\n",
    "\n",
    "    f.write(f\"## Author Item Counts\\n\\n\")\n",
    "    f.write(f\"![](_build/author_items.png)\\n\\n\")\n",
    "\n",
    "    f.write(f\"## Published Items Citations\\n\\n\")\n",
    "    for index, row in df.iterrows():\n",
    "        f.write(row[\"numbered_cite\"])\n",
    "        f.write(\"\\n\")"
   ]
  },
  {
   "cell_type": "code",
   "execution_count": 20,
   "id": "0b726ee3",
   "metadata": {},
   "outputs": [
    {
     "data": {
      "application/javascript": [
       "\n",
       "            setTimeout(function() {\n",
       "                var nbb_cell_id = 20;\n",
       "                var nbb_unformatted_code = \"# Convert the markdown to docx\\ndoc = pandoc.read(file=os.path.join(BUILD_FOLDER, \\\"cites.md\\\"), format=\\\"markdown\\\")\\nwith open(os.path.join(BUILD_FOLDER, \\\"cites.docx\\\"), \\\"wb\\\") as f:\\n    _ = f.write(pandoc.write(doc, format=\\\"docx\\\"))\";\n",
       "                var nbb_formatted_code = \"# Convert the markdown to docx\\ndoc = pandoc.read(file=os.path.join(BUILD_FOLDER, \\\"cites.md\\\"), format=\\\"markdown\\\")\\nwith open(os.path.join(BUILD_FOLDER, \\\"cites.docx\\\"), \\\"wb\\\") as f:\\n    _ = f.write(pandoc.write(doc, format=\\\"docx\\\"))\";\n",
       "                var nbb_cells = Jupyter.notebook.get_cells();\n",
       "                for (var i = 0; i < nbb_cells.length; ++i) {\n",
       "                    if (nbb_cells[i].input_prompt_number == nbb_cell_id) {\n",
       "                        if (nbb_cells[i].get_text() == nbb_unformatted_code) {\n",
       "                             nbb_cells[i].set_text(nbb_formatted_code);\n",
       "                        }\n",
       "                        break;\n",
       "                    }\n",
       "                }\n",
       "            }, 500);\n",
       "            "
      ],
      "text/plain": [
       "<IPython.core.display.Javascript object>"
      ]
     },
     "metadata": {},
     "output_type": "display_data"
    }
   ],
   "source": [
    "# Convert the markdown to docx\n",
    "doc = pandoc.read(file=os.path.join(BUILD_FOLDER, \"cites.md\"), format=\"markdown\")\n",
    "with open(os.path.join(BUILD_FOLDER, \"cites.docx\"), \"wb\") as f:\n",
    "    _ = f.write(pandoc.write(doc, format=\"docx\"))"
   ]
  },
  {
   "cell_type": "code",
   "execution_count": null,
   "id": "df8cde21",
   "metadata": {},
   "outputs": [],
   "source": []
  }
 ],
 "metadata": {
  "kernelspec": {
   "display_name": "Python 3 (ipykernel)",
   "language": "python",
   "name": "python3"
  },
  "language_info": {
   "codemirror_mode": {
    "name": "ipython",
    "version": 3
   },
   "file_extension": ".py",
   "mimetype": "text/x-python",
   "name": "python",
   "nbconvert_exporter": "python",
   "pygments_lexer": "ipython3",
   "version": "3.8.12"
  }
 },
 "nbformat": 4,
 "nbformat_minor": 5
}
