{
 "cells": [
  {
   "cell_type": "markdown",
   "id": "f2747125",
   "metadata": {},
   "source": [
    "# Published Items for the Center for Health AI\n",
    "\n",
    "This takes a list of authors and searches for any items published this year, grabs the proper citation from manubot-cite, and creates a markdown and MS Word document.\n",
    "\n",
    "This isn't a replacement for a proper data pipeline. Just a demo to see if the selection logic is sound.\n",
    "\n",
    "2021/12/20 stephen.taylor@cuanschutz.edu First demo"
   ]
  },
  {
   "cell_type": "code",
   "execution_count": 1,
   "id": "871f6395",
   "metadata": {},
   "outputs": [
    {
     "data": {
      "application/javascript": [
       "\n",
       "            setTimeout(function() {\n",
       "                var nbb_cell_id = 1;\n",
       "                var nbb_unformatted_code = \"%load_ext nb_black\";\n",
       "                var nbb_formatted_code = \"%load_ext nb_black\";\n",
       "                var nbb_cells = Jupyter.notebook.get_cells();\n",
       "                for (var i = 0; i < nbb_cells.length; ++i) {\n",
       "                    if (nbb_cells[i].input_prompt_number == nbb_cell_id) {\n",
       "                        if (nbb_cells[i].get_text() == nbb_unformatted_code) {\n",
       "                             nbb_cells[i].set_text(nbb_formatted_code);\n",
       "                        }\n",
       "                        break;\n",
       "                    }\n",
       "                }\n",
       "            }, 500);\n",
       "            "
      ],
      "text/plain": [
       "<IPython.core.display.Javascript object>"
      ]
     },
     "metadata": {},
     "output_type": "display_data"
    }
   ],
   "source": [
    "%load_ext nb_black"
   ]
  },
  {
   "cell_type": "code",
   "execution_count": 17,
   "id": "e9ac9ebc",
   "metadata": {},
   "outputs": [
    {
     "data": {
      "application/javascript": [
       "\n",
       "            setTimeout(function() {\n",
       "                var nbb_cell_id = 17;\n",
       "                var nbb_unformatted_code = \"import os\\nimport logging\\nimport manubot\\nimport subprocess\\nimport re\\nimport requests\\nimport pandas as pd\\nimport pandoc\\n\\nfrom datetime import date\\nfrom pprint import pprint\\nfrom typing import Tuple, Dict, List\\nfrom prefect import task, Flow, Parameter, unmapped\\nfrom prefect.executors import LocalExecutor, LocalDaskExecutor\\nfrom prefect.utilities.logging import prefect_logger\\n\\nlog = logging.getLogger(__name__)\\nlogging.basicConfig(level=logging.INFO)\\nprefect_logger = logging\\n\\nTHIS_YEAR = 2021\\nBUILD_FOLDER = \\\"_build\\\"\";\n",
       "                var nbb_formatted_code = \"import os\\nimport logging\\nimport manubot\\nimport subprocess\\nimport re\\nimport requests\\nimport pandas as pd\\nimport pandoc\\n\\nfrom datetime import date\\nfrom pprint import pprint\\nfrom typing import Tuple, Dict, List\\nfrom prefect import task, Flow, Parameter, unmapped\\nfrom prefect.executors import LocalExecutor, LocalDaskExecutor\\nfrom prefect.utilities.logging import prefect_logger\\n\\nlog = logging.getLogger(__name__)\\nlogging.basicConfig(level=logging.INFO)\\nprefect_logger = logging\\n\\nTHIS_YEAR = 2021\\nBUILD_FOLDER = \\\"_build\\\"\";\n",
       "                var nbb_cells = Jupyter.notebook.get_cells();\n",
       "                for (var i = 0; i < nbb_cells.length; ++i) {\n",
       "                    if (nbb_cells[i].input_prompt_number == nbb_cell_id) {\n",
       "                        if (nbb_cells[i].get_text() == nbb_unformatted_code) {\n",
       "                             nbb_cells[i].set_text(nbb_formatted_code);\n",
       "                        }\n",
       "                        break;\n",
       "                    }\n",
       "                }\n",
       "            }, 500);\n",
       "            "
      ],
      "text/plain": [
       "<IPython.core.display.Javascript object>"
      ]
     },
     "metadata": {},
     "output_type": "display_data"
    }
   ],
   "source": [
    "import os\n",
    "import logging\n",
    "import manubot\n",
    "import subprocess\n",
    "import re\n",
    "import requests\n",
    "import pandas as pd\n",
    "import pandoc\n",
    "\n",
    "from datetime import date\n",
    "from pprint import pprint\n",
    "from typing import Tuple, Dict, List\n",
    "from prefect import task, Flow, Parameter, unmapped\n",
    "from prefect.executors import LocalExecutor, LocalDaskExecutor\n",
    "from prefect.utilities.logging import prefect_logger\n",
    "\n",
    "log = logging.getLogger(__name__)\n",
    "logging.basicConfig(level=logging.INFO)\n",
    "prefect_logger = logging\n",
    "\n",
    "THIS_YEAR = 2021\n",
    "BUILD_FOLDER = \"_build\""
   ]
  },
  {
   "cell_type": "code",
   "execution_count": 19,
   "id": "0977e046",
   "metadata": {},
   "outputs": [
    {
     "data": {
      "application/javascript": [
       "\n",
       "            setTimeout(function() {\n",
       "                var nbb_cell_id = 19;\n",
       "                var nbb_unformatted_code = \"# will write out to a folder\\nif not os.path.exists(BUILD_FOLDER):\\n    os.makedirs(BUILD_FOLDER)\";\n",
       "                var nbb_formatted_code = \"# will write out to a folder\\nif not os.path.exists(BUILD_FOLDER):\\n    os.makedirs(BUILD_FOLDER)\";\n",
       "                var nbb_cells = Jupyter.notebook.get_cells();\n",
       "                for (var i = 0; i < nbb_cells.length; ++i) {\n",
       "                    if (nbb_cells[i].input_prompt_number == nbb_cell_id) {\n",
       "                        if (nbb_cells[i].get_text() == nbb_unformatted_code) {\n",
       "                             nbb_cells[i].set_text(nbb_formatted_code);\n",
       "                        }\n",
       "                        break;\n",
       "                    }\n",
       "                }\n",
       "            }, 500);\n",
       "            "
      ],
      "text/plain": [
       "<IPython.core.display.Javascript object>"
      ]
     },
     "metadata": {},
     "output_type": "display_data"
    }
   ],
   "source": [
    "# will write out to a folder\n",
    "if not os.path.exists(BUILD_FOLDER):\n",
    "    os.makedirs(BUILD_FOLDER)"
   ]
  },
  {
   "cell_type": "code",
   "execution_count": 3,
   "id": "07f5e6e7",
   "metadata": {},
   "outputs": [
    {
     "data": {
      "text/html": [
       "<div>\n",
       "<style scoped>\n",
       "    .dataframe tbody tr th:only-of-type {\n",
       "        vertical-align: middle;\n",
       "    }\n",
       "\n",
       "    .dataframe tbody tr th {\n",
       "        vertical-align: top;\n",
       "    }\n",
       "\n",
       "    .dataframe thead th {\n",
       "        text-align: right;\n",
       "    }\n",
       "</style>\n",
       "<table border=\"1\" class=\"dataframe\">\n",
       "  <thead>\n",
       "    <tr style=\"text-align: right;\">\n",
       "      <th></th>\n",
       "      <th>author_type</th>\n",
       "      <th>search_term</th>\n",
       "    </tr>\n",
       "  </thead>\n",
       "  <tbody>\n",
       "    <tr>\n",
       "      <th>Aquilante C</th>\n",
       "      <td>contributor</td>\n",
       "      <td>(Aquilante C[Author])</td>\n",
       "    </tr>\n",
       "    <tr>\n",
       "      <th>Barnes K</th>\n",
       "      <td>contributor</td>\n",
       "      <td>(Barnes K[Author])</td>\n",
       "    </tr>\n",
       "    <tr>\n",
       "      <th>Boorgula M</th>\n",
       "      <td>contributor</td>\n",
       "      <td>(Boorgula M[Author])</td>\n",
       "    </tr>\n",
       "    <tr>\n",
       "      <th>Brooks I</th>\n",
       "      <td>contributor</td>\n",
       "      <td>(Brooks I[Author])</td>\n",
       "    </tr>\n",
       "    <tr>\n",
       "      <th>Campbell M</th>\n",
       "      <td>contributor</td>\n",
       "      <td>(Campbell M[Author])</td>\n",
       "    </tr>\n",
       "    <tr>\n",
       "      <th>Casey Greene</th>\n",
       "      <td>pi</td>\n",
       "      <td>(Casey Greene)</td>\n",
       "    </tr>\n",
       "    <tr>\n",
       "      <th>Claw K</th>\n",
       "      <td>contributor</td>\n",
       "      <td>(Claw K[Author])</td>\n",
       "    </tr>\n",
       "    <tr>\n",
       "      <th>Cohen M</th>\n",
       "      <td>contributor</td>\n",
       "      <td>(Cohen M[Author])</td>\n",
       "    </tr>\n",
       "    <tr>\n",
       "      <th>Coors M</th>\n",
       "      <td>contributor</td>\n",
       "      <td>(Coors M[Author])</td>\n",
       "    </tr>\n",
       "    <tr>\n",
       "      <th>Crooks K</th>\n",
       "      <td>contributor</td>\n",
       "      <td>(Crooks K[Author])</td>\n",
       "    </tr>\n",
       "    <tr>\n",
       "      <th>Fingerlin T</th>\n",
       "      <td>contributor</td>\n",
       "      <td>(Fingerlin T[Author])</td>\n",
       "    </tr>\n",
       "    <tr>\n",
       "      <th>Fishbein L</th>\n",
       "      <td>contributor</td>\n",
       "      <td>(Fishbein L[Author])</td>\n",
       "    </tr>\n",
       "    <tr>\n",
       "      <th>Ghosh D</th>\n",
       "      <td>contributor</td>\n",
       "      <td>(Ghosh D[Author])</td>\n",
       "    </tr>\n",
       "    <tr>\n",
       "      <th>Gignoux C</th>\n",
       "      <td>contributor</td>\n",
       "      <td>(Gignoux C[Author])</td>\n",
       "    </tr>\n",
       "    <tr>\n",
       "      <th>Gregory Way</th>\n",
       "      <td>pi</td>\n",
       "      <td>(Gregory Way)</td>\n",
       "    </tr>\n",
       "    <tr>\n",
       "      <th>Hendricks A</th>\n",
       "      <td>contributor</td>\n",
       "      <td>(Hendricks A[Author])</td>\n",
       "    </tr>\n",
       "    <tr>\n",
       "      <th>Johnson RK</th>\n",
       "      <td>contributor</td>\n",
       "      <td>(Johnson RK[Author])</td>\n",
       "    </tr>\n",
       "    <tr>\n",
       "      <th>Julian C</th>\n",
       "      <td>contributor</td>\n",
       "      <td>(Julian C[Author])</td>\n",
       "    </tr>\n",
       "    <tr>\n",
       "      <th>Kao D</th>\n",
       "      <td>contributor</td>\n",
       "      <td>(Kao D[Author])</td>\n",
       "    </tr>\n",
       "    <tr>\n",
       "      <th>Kechris K</th>\n",
       "      <td>contributor</td>\n",
       "      <td>(Kechris K[Author])</td>\n",
       "    </tr>\n",
       "    <tr>\n",
       "      <th>Kudron E</th>\n",
       "      <td>contributor</td>\n",
       "      <td>(Kudron E[Author])</td>\n",
       "    </tr>\n",
       "    <tr>\n",
       "      <th>Lange E</th>\n",
       "      <td>contributor</td>\n",
       "      <td>(Lange E[Author])</td>\n",
       "    </tr>\n",
       "    <tr>\n",
       "      <th>Lange L</th>\n",
       "      <td>contributor</td>\n",
       "      <td>(Lange L[Author])</td>\n",
       "    </tr>\n",
       "    <tr>\n",
       "      <th>Law A</th>\n",
       "      <td>contributor</td>\n",
       "      <td>(Law A[Author])</td>\n",
       "    </tr>\n",
       "    <tr>\n",
       "      <th>Lawrence Hunter</th>\n",
       "      <td>pi</td>\n",
       "      <td>(Lawrence Hunter)</td>\n",
       "    </tr>\n",
       "    <tr>\n",
       "      <th>Layer R</th>\n",
       "      <td>contributor</td>\n",
       "      <td>(Layer R[Author])</td>\n",
       "    </tr>\n",
       "    <tr>\n",
       "      <th>Lee YM</th>\n",
       "      <td>contributor</td>\n",
       "      <td>(Lee YM[Author])</td>\n",
       "    </tr>\n",
       "    <tr>\n",
       "      <th>Lowery J</th>\n",
       "      <td>contributor</td>\n",
       "      <td>(Lowery J[Author])</td>\n",
       "    </tr>\n",
       "    <tr>\n",
       "      <th>Lozupone C</th>\n",
       "      <td>contributor</td>\n",
       "      <td>(Lozupone C[Author])</td>\n",
       "    </tr>\n",
       "    <tr>\n",
       "      <th>Mathias R</th>\n",
       "      <td>contributor</td>\n",
       "      <td>(Mathias R[Author])</td>\n",
       "    </tr>\n",
       "    <tr>\n",
       "      <th>Melissa Haendel</th>\n",
       "      <td>pi</td>\n",
       "      <td>(Melissa Haendel)</td>\n",
       "    </tr>\n",
       "    <tr>\n",
       "      <th>Monte A</th>\n",
       "      <td>contributor</td>\n",
       "      <td>(Monte A[Author])</td>\n",
       "    </tr>\n",
       "    <tr>\n",
       "      <th>Norman P</th>\n",
       "      <td>contributor</td>\n",
       "      <td>(Norman P[Author])</td>\n",
       "    </tr>\n",
       "    <tr>\n",
       "      <th>Phang T</th>\n",
       "      <td>contributor</td>\n",
       "      <td>(Phang T[Author])</td>\n",
       "    </tr>\n",
       "    <tr>\n",
       "      <th>Porras A</th>\n",
       "      <td>contributor</td>\n",
       "      <td>(Porras A[Author])</td>\n",
       "    </tr>\n",
       "    <tr>\n",
       "      <th>Pozdeyev N</th>\n",
       "      <td>contributor</td>\n",
       "      <td>(Pozdeyev N[Author])</td>\n",
       "    </tr>\n",
       "    <tr>\n",
       "      <th>Raghavan S</th>\n",
       "      <td>contributor</td>\n",
       "      <td>(Raghavan S[Author])</td>\n",
       "    </tr>\n",
       "    <tr>\n",
       "      <th>Reisdorph N</th>\n",
       "      <td>contributor</td>\n",
       "      <td>(Reisdorph N[Author])</td>\n",
       "    </tr>\n",
       "    <tr>\n",
       "      <th>Rosenberg M</th>\n",
       "      <td>contributor</td>\n",
       "      <td>(Rosenberg M[Author])</td>\n",
       "    </tr>\n",
       "    <tr>\n",
       "      <th>Santorico S</th>\n",
       "      <td>contributor</td>\n",
       "      <td>(Santorico S[Author])</td>\n",
       "    </tr>\n",
       "    <tr>\n",
       "      <th>Sean Davis</th>\n",
       "      <td>pi</td>\n",
       "      <td>(Sean Davis)</td>\n",
       "    </tr>\n",
       "    <tr>\n",
       "      <th>Shortt J</th>\n",
       "      <td>contributor</td>\n",
       "      <td>(Shortt J[Author])</td>\n",
       "    </tr>\n",
       "    <tr>\n",
       "      <th>Stanislawski M</th>\n",
       "      <td>contributor</td>\n",
       "      <td>(Stanislawski M[Author])</td>\n",
       "    </tr>\n",
       "    <tr>\n",
       "      <th>Taylor M</th>\n",
       "      <td>contributor</td>\n",
       "      <td>(Taylor M[Author])</td>\n",
       "    </tr>\n",
       "    <tr>\n",
       "      <th>Tellen Bennett</th>\n",
       "      <td>pi</td>\n",
       "      <td>(Tellen Bennett)</td>\n",
       "    </tr>\n",
       "    <tr>\n",
       "      <th>Wiley L</th>\n",
       "      <td>contributor</td>\n",
       "      <td>(Wiley L[Author])</td>\n",
       "    </tr>\n",
       "    <tr>\n",
       "      <th>Yang I</th>\n",
       "      <td>contributor</td>\n",
       "      <td>(Yang I[Author])</td>\n",
       "    </tr>\n",
       "  </tbody>\n",
       "</table>\n",
       "</div>"
      ],
      "text/plain": [
       "                 author_type               search_term\n",
       "Aquilante C      contributor     (Aquilante C[Author])\n",
       "Barnes K         contributor        (Barnes K[Author])\n",
       "Boorgula M       contributor      (Boorgula M[Author])\n",
       "Brooks I         contributor        (Brooks I[Author])\n",
       "Campbell M       contributor      (Campbell M[Author])\n",
       "Casey Greene              pi            (Casey Greene)\n",
       "Claw K           contributor          (Claw K[Author])\n",
       "Cohen M          contributor         (Cohen M[Author])\n",
       "Coors M          contributor         (Coors M[Author])\n",
       "Crooks K         contributor        (Crooks K[Author])\n",
       "Fingerlin T      contributor     (Fingerlin T[Author])\n",
       "Fishbein L       contributor      (Fishbein L[Author])\n",
       "Ghosh D          contributor         (Ghosh D[Author])\n",
       "Gignoux C        contributor       (Gignoux C[Author])\n",
       "Gregory Way               pi             (Gregory Way)\n",
       "Hendricks A      contributor     (Hendricks A[Author])\n",
       "Johnson RK       contributor      (Johnson RK[Author])\n",
       "Julian C         contributor        (Julian C[Author])\n",
       "Kao D            contributor           (Kao D[Author])\n",
       "Kechris K        contributor       (Kechris K[Author])\n",
       "Kudron E         contributor        (Kudron E[Author])\n",
       "Lange E          contributor         (Lange E[Author])\n",
       "Lange L          contributor         (Lange L[Author])\n",
       "Law A            contributor           (Law A[Author])\n",
       "Lawrence Hunter           pi         (Lawrence Hunter)\n",
       "Layer R          contributor         (Layer R[Author])\n",
       "Lee YM           contributor          (Lee YM[Author])\n",
       "Lowery J         contributor        (Lowery J[Author])\n",
       "Lozupone C       contributor      (Lozupone C[Author])\n",
       "Mathias R        contributor       (Mathias R[Author])\n",
       "Melissa Haendel           pi         (Melissa Haendel)\n",
       "Monte A          contributor         (Monte A[Author])\n",
       "Norman P         contributor        (Norman P[Author])\n",
       "Phang T          contributor         (Phang T[Author])\n",
       "Porras A         contributor        (Porras A[Author])\n",
       "Pozdeyev N       contributor      (Pozdeyev N[Author])\n",
       "Raghavan S       contributor      (Raghavan S[Author])\n",
       "Reisdorph N      contributor     (Reisdorph N[Author])\n",
       "Rosenberg M      contributor     (Rosenberg M[Author])\n",
       "Santorico S      contributor     (Santorico S[Author])\n",
       "Sean Davis                pi              (Sean Davis)\n",
       "Shortt J         contributor        (Shortt J[Author])\n",
       "Stanislawski M   contributor  (Stanislawski M[Author])\n",
       "Taylor M         contributor        (Taylor M[Author])\n",
       "Tellen Bennett            pi          (Tellen Bennett)\n",
       "Wiley L          contributor         (Wiley L[Author])\n",
       "Yang I           contributor          (Yang I[Author])"
      ]
     },
     "execution_count": 3,
     "metadata": {},
     "output_type": "execute_result"
    },
    {
     "data": {
      "application/javascript": [
       "\n",
       "            setTimeout(function() {\n",
       "                var nbb_cell_id = 3;\n",
       "                var nbb_unformatted_code = \"# Read in the authors and their specific search terms\\nauthors_df = pd.read_json(\\\"authors.json\\\", orient=\\\"index\\\")\\nauthors_df\";\n",
       "                var nbb_formatted_code = \"# Read in the authors and their specific search terms\\nauthors_df = pd.read_json(\\\"authors.json\\\", orient=\\\"index\\\")\\nauthors_df\";\n",
       "                var nbb_cells = Jupyter.notebook.get_cells();\n",
       "                for (var i = 0; i < nbb_cells.length; ++i) {\n",
       "                    if (nbb_cells[i].input_prompt_number == nbb_cell_id) {\n",
       "                        if (nbb_cells[i].get_text() == nbb_unformatted_code) {\n",
       "                             nbb_cells[i].set_text(nbb_formatted_code);\n",
       "                        }\n",
       "                        break;\n",
       "                    }\n",
       "                }\n",
       "            }, 500);\n",
       "            "
      ],
      "text/plain": [
       "<IPython.core.display.Javascript object>"
      ]
     },
     "metadata": {},
     "output_type": "display_data"
    }
   ],
   "source": [
    "# Read in the authors and their specific search terms\n",
    "authors_df = pd.read_json(\"authors.json\", orient=\"index\")\n",
    "authors_df"
   ]
  },
  {
   "cell_type": "code",
   "execution_count": 4,
   "id": "01db61e7",
   "metadata": {},
   "outputs": [
    {
     "data": {
      "application/javascript": [
       "\n",
       "            setTimeout(function() {\n",
       "                var nbb_cell_id = 4;\n",
       "                var nbb_unformatted_code = \"# for testing it's nice to take a sample\\n# authors_df = authors_df.sample(frac=0.20)\";\n",
       "                var nbb_formatted_code = \"# for testing it's nice to take a sample\\n# authors_df = authors_df.sample(frac=0.20)\";\n",
       "                var nbb_cells = Jupyter.notebook.get_cells();\n",
       "                for (var i = 0; i < nbb_cells.length; ++i) {\n",
       "                    if (nbb_cells[i].input_prompt_number == nbb_cell_id) {\n",
       "                        if (nbb_cells[i].get_text() == nbb_unformatted_code) {\n",
       "                             nbb_cells[i].set_text(nbb_formatted_code);\n",
       "                        }\n",
       "                        break;\n",
       "                    }\n",
       "                }\n",
       "            }, 500);\n",
       "            "
      ],
      "text/plain": [
       "<IPython.core.display.Javascript object>"
      ]
     },
     "metadata": {},
     "output_type": "display_data"
    }
   ],
   "source": [
    "# for testing it's nice to take a sample\n",
    "# authors_df = authors_df.sample(frac=0.20)"
   ]
  },
  {
   "cell_type": "code",
   "execution_count": 5,
   "id": "3335f29f",
   "metadata": {},
   "outputs": [
    {
     "data": {
      "text/plain": [
       "{'Aquilante C': {'author_type': 'contributor',\n",
       "  'search_term': '(Aquilante C[Author])'},\n",
       " 'Barnes K': {'author_type': 'contributor',\n",
       "  'search_term': '(Barnes K[Author])'},\n",
       " 'Boorgula M': {'author_type': 'contributor',\n",
       "  'search_term': '(Boorgula M[Author])'},\n",
       " 'Brooks I': {'author_type': 'contributor',\n",
       "  'search_term': '(Brooks I[Author])'},\n",
       " 'Campbell M': {'author_type': 'contributor',\n",
       "  'search_term': '(Campbell M[Author])'},\n",
       " 'Casey Greene': {'author_type': 'pi', 'search_term': '(Casey Greene)'},\n",
       " 'Claw K': {'author_type': 'contributor', 'search_term': '(Claw K[Author])'},\n",
       " 'Cohen M': {'author_type': 'contributor', 'search_term': '(Cohen M[Author])'},\n",
       " 'Coors M': {'author_type': 'contributor', 'search_term': '(Coors M[Author])'},\n",
       " 'Crooks K': {'author_type': 'contributor',\n",
       "  'search_term': '(Crooks K[Author])'},\n",
       " 'Fingerlin T': {'author_type': 'contributor',\n",
       "  'search_term': '(Fingerlin T[Author])'},\n",
       " 'Fishbein L': {'author_type': 'contributor',\n",
       "  'search_term': '(Fishbein L[Author])'},\n",
       " 'Ghosh D': {'author_type': 'contributor', 'search_term': '(Ghosh D[Author])'},\n",
       " 'Gignoux C': {'author_type': 'contributor',\n",
       "  'search_term': '(Gignoux C[Author])'},\n",
       " 'Gregory Way': {'author_type': 'pi', 'search_term': '(Gregory Way)'},\n",
       " 'Hendricks A': {'author_type': 'contributor',\n",
       "  'search_term': '(Hendricks A[Author])'},\n",
       " 'Johnson RK': {'author_type': 'contributor',\n",
       "  'search_term': '(Johnson RK[Author])'},\n",
       " 'Julian C': {'author_type': 'contributor',\n",
       "  'search_term': '(Julian C[Author])'},\n",
       " 'Kao D': {'author_type': 'contributor', 'search_term': '(Kao D[Author])'},\n",
       " 'Kechris K': {'author_type': 'contributor',\n",
       "  'search_term': '(Kechris K[Author])'},\n",
       " 'Kudron E': {'author_type': 'contributor',\n",
       "  'search_term': '(Kudron E[Author])'},\n",
       " 'Lange E': {'author_type': 'contributor', 'search_term': '(Lange E[Author])'},\n",
       " 'Lange L': {'author_type': 'contributor', 'search_term': '(Lange L[Author])'},\n",
       " 'Law A': {'author_type': 'contributor', 'search_term': '(Law A[Author])'},\n",
       " 'Lawrence Hunter': {'author_type': 'pi', 'search_term': '(Lawrence Hunter)'},\n",
       " 'Layer R': {'author_type': 'contributor', 'search_term': '(Layer R[Author])'},\n",
       " 'Lee YM': {'author_type': 'contributor', 'search_term': '(Lee YM[Author])'},\n",
       " 'Lowery J': {'author_type': 'contributor',\n",
       "  'search_term': '(Lowery J[Author])'},\n",
       " 'Lozupone C': {'author_type': 'contributor',\n",
       "  'search_term': '(Lozupone C[Author])'},\n",
       " 'Mathias R': {'author_type': 'contributor',\n",
       "  'search_term': '(Mathias R[Author])'},\n",
       " 'Melissa Haendel': {'author_type': 'pi', 'search_term': '(Melissa Haendel)'},\n",
       " 'Monte A': {'author_type': 'contributor', 'search_term': '(Monte A[Author])'},\n",
       " 'Norman P': {'author_type': 'contributor',\n",
       "  'search_term': '(Norman P[Author])'},\n",
       " 'Phang T': {'author_type': 'contributor', 'search_term': '(Phang T[Author])'},\n",
       " 'Porras A': {'author_type': 'contributor',\n",
       "  'search_term': '(Porras A[Author])'},\n",
       " 'Pozdeyev N': {'author_type': 'contributor',\n",
       "  'search_term': '(Pozdeyev N[Author])'},\n",
       " 'Raghavan S': {'author_type': 'contributor',\n",
       "  'search_term': '(Raghavan S[Author])'},\n",
       " 'Reisdorph N': {'author_type': 'contributor',\n",
       "  'search_term': '(Reisdorph N[Author])'},\n",
       " 'Rosenberg M': {'author_type': 'contributor',\n",
       "  'search_term': '(Rosenberg M[Author])'},\n",
       " 'Santorico S': {'author_type': 'contributor',\n",
       "  'search_term': '(Santorico S[Author])'},\n",
       " 'Sean Davis': {'author_type': 'pi', 'search_term': '(Sean Davis)'},\n",
       " 'Shortt J': {'author_type': 'contributor',\n",
       "  'search_term': '(Shortt J[Author])'},\n",
       " 'Stanislawski M': {'author_type': 'contributor',\n",
       "  'search_term': '(Stanislawski M[Author])'},\n",
       " 'Taylor M': {'author_type': 'contributor',\n",
       "  'search_term': '(Taylor M[Author])'},\n",
       " 'Tellen Bennett': {'author_type': 'pi', 'search_term': '(Tellen Bennett)'},\n",
       " 'Wiley L': {'author_type': 'contributor', 'search_term': '(Wiley L[Author])'},\n",
       " 'Yang I': {'author_type': 'contributor', 'search_term': '(Yang I[Author])'}}"
      ]
     },
     "execution_count": 5,
     "metadata": {},
     "output_type": "execute_result"
    },
    {
     "data": {
      "application/javascript": [
       "\n",
       "            setTimeout(function() {\n",
       "                var nbb_cell_id = 5;\n",
       "                var nbb_unformatted_code = \"# convert into a dict\\nauthor_records = authors_df.to_dict(\\\"index\\\")\\nauthor_records\";\n",
       "                var nbb_formatted_code = \"# convert into a dict\\nauthor_records = authors_df.to_dict(\\\"index\\\")\\nauthor_records\";\n",
       "                var nbb_cells = Jupyter.notebook.get_cells();\n",
       "                for (var i = 0; i < nbb_cells.length; ++i) {\n",
       "                    if (nbb_cells[i].input_prompt_number == nbb_cell_id) {\n",
       "                        if (nbb_cells[i].get_text() == nbb_unformatted_code) {\n",
       "                             nbb_cells[i].set_text(nbb_formatted_code);\n",
       "                        }\n",
       "                        break;\n",
       "                    }\n",
       "                }\n",
       "            }, 500);\n",
       "            "
      ],
      "text/plain": [
       "<IPython.core.display.Javascript object>"
      ]
     },
     "metadata": {},
     "output_type": "display_data"
    }
   ],
   "source": [
    "# convert into a dict\n",
    "author_records = authors_df.to_dict(\"index\")\n",
    "author_records"
   ]
  },
  {
   "cell_type": "code",
   "execution_count": 6,
   "id": "ab2df6e3",
   "metadata": {},
   "outputs": [
    {
     "data": {
      "text/plain": [
       "{'Aquilante C': {'author_type': 'contributor',\n",
       "  'search_term': '(\"2021/01/01\"[PubDate] : \"3000\"[PubDate]) AND ((Aquilante C[Author]) AND ((\"University of Colorado\") OR (\"Colorado Center for Personalized Medicine\"))))'},\n",
       " 'Barnes K': {'author_type': 'contributor',\n",
       "  'search_term': '(\"2021/01/01\"[PubDate] : \"3000\"[PubDate]) AND ((Barnes K[Author]) AND ((\"University of Colorado\") OR (\"Colorado Center for Personalized Medicine\"))))'},\n",
       " 'Boorgula M': {'author_type': 'contributor',\n",
       "  'search_term': '(\"2021/01/01\"[PubDate] : \"3000\"[PubDate]) AND ((Boorgula M[Author]) AND ((\"University of Colorado\") OR (\"Colorado Center for Personalized Medicine\"))))'},\n",
       " 'Brooks I': {'author_type': 'contributor',\n",
       "  'search_term': '(\"2021/01/01\"[PubDate] : \"3000\"[PubDate]) AND ((Brooks I[Author]) AND ((\"University of Colorado\") OR (\"Colorado Center for Personalized Medicine\"))))'},\n",
       " 'Campbell M': {'author_type': 'contributor',\n",
       "  'search_term': '(\"2021/01/01\"[PubDate] : \"3000\"[PubDate]) AND ((Campbell M[Author]) AND ((\"University of Colorado\") OR (\"Colorado Center for Personalized Medicine\"))))'},\n",
       " 'Casey Greene': {'author_type': 'pi',\n",
       "  'search_term': '(\"2021/01/01\"[PubDate] : \"3000\"[PubDate]) AND (Casey Greene))'},\n",
       " 'Claw K': {'author_type': 'contributor',\n",
       "  'search_term': '(\"2021/01/01\"[PubDate] : \"3000\"[PubDate]) AND ((Claw K[Author]) AND ((\"University of Colorado\") OR (\"Colorado Center for Personalized Medicine\"))))'},\n",
       " 'Cohen M': {'author_type': 'contributor',\n",
       "  'search_term': '(\"2021/01/01\"[PubDate] : \"3000\"[PubDate]) AND ((Cohen M[Author]) AND ((\"University of Colorado\") OR (\"Colorado Center for Personalized Medicine\"))))'},\n",
       " 'Coors M': {'author_type': 'contributor',\n",
       "  'search_term': '(\"2021/01/01\"[PubDate] : \"3000\"[PubDate]) AND ((Coors M[Author]) AND ((\"University of Colorado\") OR (\"Colorado Center for Personalized Medicine\"))))'},\n",
       " 'Crooks K': {'author_type': 'contributor',\n",
       "  'search_term': '(\"2021/01/01\"[PubDate] : \"3000\"[PubDate]) AND ((Crooks K[Author]) AND ((\"University of Colorado\") OR (\"Colorado Center for Personalized Medicine\"))))'},\n",
       " 'Fingerlin T': {'author_type': 'contributor',\n",
       "  'search_term': '(\"2021/01/01\"[PubDate] : \"3000\"[PubDate]) AND ((Fingerlin T[Author]) AND ((\"University of Colorado\") OR (\"Colorado Center for Personalized Medicine\"))))'},\n",
       " 'Fishbein L': {'author_type': 'contributor',\n",
       "  'search_term': '(\"2021/01/01\"[PubDate] : \"3000\"[PubDate]) AND ((Fishbein L[Author]) AND ((\"University of Colorado\") OR (\"Colorado Center for Personalized Medicine\"))))'},\n",
       " 'Ghosh D': {'author_type': 'contributor',\n",
       "  'search_term': '(\"2021/01/01\"[PubDate] : \"3000\"[PubDate]) AND ((Ghosh D[Author]) AND ((\"University of Colorado\") OR (\"Colorado Center for Personalized Medicine\"))))'},\n",
       " 'Gignoux C': {'author_type': 'contributor',\n",
       "  'search_term': '(\"2021/01/01\"[PubDate] : \"3000\"[PubDate]) AND ((Gignoux C[Author]) AND ((\"University of Colorado\") OR (\"Colorado Center for Personalized Medicine\"))))'},\n",
       " 'Gregory Way': {'author_type': 'pi',\n",
       "  'search_term': '(\"2021/01/01\"[PubDate] : \"3000\"[PubDate]) AND (Gregory Way))'},\n",
       " 'Hendricks A': {'author_type': 'contributor',\n",
       "  'search_term': '(\"2021/01/01\"[PubDate] : \"3000\"[PubDate]) AND ((Hendricks A[Author]) AND ((\"University of Colorado\") OR (\"Colorado Center for Personalized Medicine\"))))'},\n",
       " 'Johnson RK': {'author_type': 'contributor',\n",
       "  'search_term': '(\"2021/01/01\"[PubDate] : \"3000\"[PubDate]) AND ((Johnson RK[Author]) AND ((\"University of Colorado\") OR (\"Colorado Center for Personalized Medicine\"))))'},\n",
       " 'Julian C': {'author_type': 'contributor',\n",
       "  'search_term': '(\"2021/01/01\"[PubDate] : \"3000\"[PubDate]) AND ((Julian C[Author]) AND ((\"University of Colorado\") OR (\"Colorado Center for Personalized Medicine\"))))'},\n",
       " 'Kao D': {'author_type': 'contributor',\n",
       "  'search_term': '(\"2021/01/01\"[PubDate] : \"3000\"[PubDate]) AND ((Kao D[Author]) AND ((\"University of Colorado\") OR (\"Colorado Center for Personalized Medicine\"))))'},\n",
       " 'Kechris K': {'author_type': 'contributor',\n",
       "  'search_term': '(\"2021/01/01\"[PubDate] : \"3000\"[PubDate]) AND ((Kechris K[Author]) AND ((\"University of Colorado\") OR (\"Colorado Center for Personalized Medicine\"))))'},\n",
       " 'Kudron E': {'author_type': 'contributor',\n",
       "  'search_term': '(\"2021/01/01\"[PubDate] : \"3000\"[PubDate]) AND ((Kudron E[Author]) AND ((\"University of Colorado\") OR (\"Colorado Center for Personalized Medicine\"))))'},\n",
       " 'Lange E': {'author_type': 'contributor',\n",
       "  'search_term': '(\"2021/01/01\"[PubDate] : \"3000\"[PubDate]) AND ((Lange E[Author]) AND ((\"University of Colorado\") OR (\"Colorado Center for Personalized Medicine\"))))'},\n",
       " 'Lange L': {'author_type': 'contributor',\n",
       "  'search_term': '(\"2021/01/01\"[PubDate] : \"3000\"[PubDate]) AND ((Lange L[Author]) AND ((\"University of Colorado\") OR (\"Colorado Center for Personalized Medicine\"))))'},\n",
       " 'Law A': {'author_type': 'contributor',\n",
       "  'search_term': '(\"2021/01/01\"[PubDate] : \"3000\"[PubDate]) AND ((Law A[Author]) AND ((\"University of Colorado\") OR (\"Colorado Center for Personalized Medicine\"))))'},\n",
       " 'Lawrence Hunter': {'author_type': 'pi',\n",
       "  'search_term': '(\"2021/01/01\"[PubDate] : \"3000\"[PubDate]) AND (Lawrence Hunter))'},\n",
       " 'Layer R': {'author_type': 'contributor',\n",
       "  'search_term': '(\"2021/01/01\"[PubDate] : \"3000\"[PubDate]) AND ((Layer R[Author]) AND ((\"University of Colorado\") OR (\"Colorado Center for Personalized Medicine\"))))'},\n",
       " 'Lee YM': {'author_type': 'contributor',\n",
       "  'search_term': '(\"2021/01/01\"[PubDate] : \"3000\"[PubDate]) AND ((Lee YM[Author]) AND ((\"University of Colorado\") OR (\"Colorado Center for Personalized Medicine\"))))'},\n",
       " 'Lowery J': {'author_type': 'contributor',\n",
       "  'search_term': '(\"2021/01/01\"[PubDate] : \"3000\"[PubDate]) AND ((Lowery J[Author]) AND ((\"University of Colorado\") OR (\"Colorado Center for Personalized Medicine\"))))'},\n",
       " 'Lozupone C': {'author_type': 'contributor',\n",
       "  'search_term': '(\"2021/01/01\"[PubDate] : \"3000\"[PubDate]) AND ((Lozupone C[Author]) AND ((\"University of Colorado\") OR (\"Colorado Center for Personalized Medicine\"))))'},\n",
       " 'Mathias R': {'author_type': 'contributor',\n",
       "  'search_term': '(\"2021/01/01\"[PubDate] : \"3000\"[PubDate]) AND ((Mathias R[Author]) AND ((\"University of Colorado\") OR (\"Colorado Center for Personalized Medicine\"))))'},\n",
       " 'Melissa Haendel': {'author_type': 'pi',\n",
       "  'search_term': '(\"2021/01/01\"[PubDate] : \"3000\"[PubDate]) AND (Melissa Haendel))'},\n",
       " 'Monte A': {'author_type': 'contributor',\n",
       "  'search_term': '(\"2021/01/01\"[PubDate] : \"3000\"[PubDate]) AND ((Monte A[Author]) AND ((\"University of Colorado\") OR (\"Colorado Center for Personalized Medicine\"))))'},\n",
       " 'Norman P': {'author_type': 'contributor',\n",
       "  'search_term': '(\"2021/01/01\"[PubDate] : \"3000\"[PubDate]) AND ((Norman P[Author]) AND ((\"University of Colorado\") OR (\"Colorado Center for Personalized Medicine\"))))'},\n",
       " 'Phang T': {'author_type': 'contributor',\n",
       "  'search_term': '(\"2021/01/01\"[PubDate] : \"3000\"[PubDate]) AND ((Phang T[Author]) AND ((\"University of Colorado\") OR (\"Colorado Center for Personalized Medicine\"))))'},\n",
       " 'Porras A': {'author_type': 'contributor',\n",
       "  'search_term': '(\"2021/01/01\"[PubDate] : \"3000\"[PubDate]) AND ((Porras A[Author]) AND ((\"University of Colorado\") OR (\"Colorado Center for Personalized Medicine\"))))'},\n",
       " 'Pozdeyev N': {'author_type': 'contributor',\n",
       "  'search_term': '(\"2021/01/01\"[PubDate] : \"3000\"[PubDate]) AND ((Pozdeyev N[Author]) AND ((\"University of Colorado\") OR (\"Colorado Center for Personalized Medicine\"))))'},\n",
       " 'Raghavan S': {'author_type': 'contributor',\n",
       "  'search_term': '(\"2021/01/01\"[PubDate] : \"3000\"[PubDate]) AND ((Raghavan S[Author]) AND ((\"University of Colorado\") OR (\"Colorado Center for Personalized Medicine\"))))'},\n",
       " 'Reisdorph N': {'author_type': 'contributor',\n",
       "  'search_term': '(\"2021/01/01\"[PubDate] : \"3000\"[PubDate]) AND ((Reisdorph N[Author]) AND ((\"University of Colorado\") OR (\"Colorado Center for Personalized Medicine\"))))'},\n",
       " 'Rosenberg M': {'author_type': 'contributor',\n",
       "  'search_term': '(\"2021/01/01\"[PubDate] : \"3000\"[PubDate]) AND ((Rosenberg M[Author]) AND ((\"University of Colorado\") OR (\"Colorado Center for Personalized Medicine\"))))'},\n",
       " 'Santorico S': {'author_type': 'contributor',\n",
       "  'search_term': '(\"2021/01/01\"[PubDate] : \"3000\"[PubDate]) AND ((Santorico S[Author]) AND ((\"University of Colorado\") OR (\"Colorado Center for Personalized Medicine\"))))'},\n",
       " 'Sean Davis': {'author_type': 'pi',\n",
       "  'search_term': '(\"2021/01/01\"[PubDate] : \"3000\"[PubDate]) AND (Sean Davis))'},\n",
       " 'Shortt J': {'author_type': 'contributor',\n",
       "  'search_term': '(\"2021/01/01\"[PubDate] : \"3000\"[PubDate]) AND ((Shortt J[Author]) AND ((\"University of Colorado\") OR (\"Colorado Center for Personalized Medicine\"))))'},\n",
       " 'Stanislawski M': {'author_type': 'contributor',\n",
       "  'search_term': '(\"2021/01/01\"[PubDate] : \"3000\"[PubDate]) AND ((Stanislawski M[Author]) AND ((\"University of Colorado\") OR (\"Colorado Center for Personalized Medicine\"))))'},\n",
       " 'Taylor M': {'author_type': 'contributor',\n",
       "  'search_term': '(\"2021/01/01\"[PubDate] : \"3000\"[PubDate]) AND ((Taylor M[Author]) AND ((\"University of Colorado\") OR (\"Colorado Center for Personalized Medicine\"))))'},\n",
       " 'Tellen Bennett': {'author_type': 'pi',\n",
       "  'search_term': '(\"2021/01/01\"[PubDate] : \"3000\"[PubDate]) AND (Tellen Bennett))'},\n",
       " 'Wiley L': {'author_type': 'contributor',\n",
       "  'search_term': '(\"2021/01/01\"[PubDate] : \"3000\"[PubDate]) AND ((Wiley L[Author]) AND ((\"University of Colorado\") OR (\"Colorado Center for Personalized Medicine\"))))'},\n",
       " 'Yang I': {'author_type': 'contributor',\n",
       "  'search_term': '(\"2021/01/01\"[PubDate] : \"3000\"[PubDate]) AND ((Yang I[Author]) AND ((\"University of Colorado\") OR (\"Colorado Center for Personalized Medicine\"))))'}}"
      ]
     },
     "execution_count": 6,
     "metadata": {},
     "output_type": "execute_result"
    },
    {
     "data": {
      "application/javascript": [
       "\n",
       "            setTimeout(function() {\n",
       "                var nbb_cell_id = 6;\n",
       "                var nbb_unformatted_code = \"# add a date to restrict to this year\\nfor k, v in author_records.items():\\n    # Restrict contributors to CU items\\n    if v[\\\"author_type\\\"] == \\\"contributor\\\":\\n        v[\\n            \\\"search_term\\\"\\n        ] = f\\\"({v['search_term']} AND ((\\\\\\\"University of Colorado\\\\\\\") OR (\\\\\\\"Colorado Center for Personalized Medicine\\\\\\\")))\\\"\\n\\n    # filter by date\\n    v[\\n        \\\"search_term\\\"\\n    ] = f\\\"\\\"\\\"(\\\"{THIS_YEAR}/01/01\\\"[PubDate] : \\\"3000\\\"[PubDate]) AND {v[\\\"search_term\\\"]})\\\"\\\"\\\"\\nauthor_records\";\n",
       "                var nbb_formatted_code = \"# add a date to restrict to this year\\nfor k, v in author_records.items():\\n    # Restrict contributors to CU items\\n    if v[\\\"author_type\\\"] == \\\"contributor\\\":\\n        v[\\n            \\\"search_term\\\"\\n        ] = f\\\"({v['search_term']} AND ((\\\\\\\"University of Colorado\\\\\\\") OR (\\\\\\\"Colorado Center for Personalized Medicine\\\\\\\")))\\\"\\n\\n    # filter by date\\n    v[\\n        \\\"search_term\\\"\\n    ] = f\\\"\\\"\\\"(\\\"{THIS_YEAR}/01/01\\\"[PubDate] : \\\"3000\\\"[PubDate]) AND {v[\\\"search_term\\\"]})\\\"\\\"\\\"\\nauthor_records\";\n",
       "                var nbb_cells = Jupyter.notebook.get_cells();\n",
       "                for (var i = 0; i < nbb_cells.length; ++i) {\n",
       "                    if (nbb_cells[i].input_prompt_number == nbb_cell_id) {\n",
       "                        if (nbb_cells[i].get_text() == nbb_unformatted_code) {\n",
       "                             nbb_cells[i].set_text(nbb_formatted_code);\n",
       "                        }\n",
       "                        break;\n",
       "                    }\n",
       "                }\n",
       "            }, 500);\n",
       "            "
      ],
      "text/plain": [
       "<IPython.core.display.Javascript object>"
      ]
     },
     "metadata": {},
     "output_type": "display_data"
    }
   ],
   "source": [
    "# add a date to restrict to this year\n",
    "for k, v in author_records.items():\n",
    "    # Restrict contributors to CU items\n",
    "    if v[\"author_type\"] == \"contributor\":\n",
    "        v[\n",
    "            \"search_term\"\n",
    "        ] = f\"({v['search_term']} AND ((\\\"University of Colorado\\\") OR (\\\"Colorado Center for Personalized Medicine\\\")))\"\n",
    "\n",
    "    # filter by date\n",
    "    v[\n",
    "        \"search_term\"\n",
    "    ] = f\"\"\"(\"{THIS_YEAR}/01/01\"[PubDate] : \"3000\"[PubDate]) AND {v[\"search_term\"]})\"\"\"\n",
    "author_records"
   ]
  },
  {
   "cell_type": "code",
   "execution_count": 7,
   "id": "b531499e",
   "metadata": {},
   "outputs": [
    {
     "data": {
      "text/plain": [
       "['8525744', '8108524', '7780623']"
      ]
     },
     "execution_count": 7,
     "metadata": {},
     "output_type": "execute_result"
    },
    {
     "data": {
      "application/javascript": [
       "\n",
       "            setTimeout(function() {\n",
       "                var nbb_cell_id = 7;\n",
       "                var nbb_unformatted_code = \"def lookup_ncbi(term, year, api_key=None):\\n    # look up IDs a chunk at a time\\n    # NCBI asks that we use an API key... I've used mine in the past, but\\n    # pulled this out for source.\\n    ids = []\\n\\n    d = date(year, 1, 1)\\n    delta = date.today() - d\\n\\n    params = {\\n        \\\"term\\\": term,\\n        \\\"format\\\": \\\"pmid\\\",\\n        \\\"db\\\": \\\"pmc\\\",\\n        \\\"tool\\\": \\\"CUAnschutz-Center_for_Health_AI-DEV\\\",\\n        \\\"email\\\": \\\"Stephen.Taylor@cuanschutz.edu\\\",\\n        \\\"format\\\": \\\"json\\\",\\n        \\\"retmax\\\": 100,\\n        \\\"retstart\\\": 0,\\n        \\\"reldate\\\": delta.days,\\n    }\\n\\n    if api_key:\\n        params[\\\"api_key\\\"] = api_key\\n\\n    # page through the results until there are no more ids\\n    while True:\\n        r = requests.get(\\n            \\\"https://eutils.ncbi.nlm.nih.gov/entrez/eutils/esearch.fcgi\\\", params\\n        )\\n        if r.status_code == 200:\\n            result = r.json()[\\\"esearchresult\\\"]\\n        else:\\n            logging.error(f\\\"NCBI returned a status code of {r.status_code}.\\\")\\n            break\\n\\n        if len(result[\\\"idlist\\\"]) == 0:\\n            # no more IDs\\n            break\\n        else:\\n            # append the IDs to the results...\\n            ids = ids + result[\\\"idlist\\\"]\\n            # and move the start chunk up by the size of retmax\\n            params[\\\"retstart\\\"] += params[\\\"retmax\\\"]\\n\\n    return ids\\n\\n\\n# quick test\\nlookup_ncbi(author_records[\\\"Gregory Way\\\"][\\\"search_term\\\"], THIS_YEAR)\";\n",
       "                var nbb_formatted_code = \"def lookup_ncbi(term, year, api_key=None):\\n    # look up IDs a chunk at a time\\n    # NCBI asks that we use an API key... I've used mine in the past, but\\n    # pulled this out for source.\\n    ids = []\\n\\n    d = date(year, 1, 1)\\n    delta = date.today() - d\\n\\n    params = {\\n        \\\"term\\\": term,\\n        \\\"format\\\": \\\"pmid\\\",\\n        \\\"db\\\": \\\"pmc\\\",\\n        \\\"tool\\\": \\\"CUAnschutz-Center_for_Health_AI-DEV\\\",\\n        \\\"email\\\": \\\"Stephen.Taylor@cuanschutz.edu\\\",\\n        \\\"format\\\": \\\"json\\\",\\n        \\\"retmax\\\": 100,\\n        \\\"retstart\\\": 0,\\n        \\\"reldate\\\": delta.days,\\n    }\\n\\n    if api_key:\\n        params[\\\"api_key\\\"] = api_key\\n\\n    # page through the results until there are no more ids\\n    while True:\\n        r = requests.get(\\n            \\\"https://eutils.ncbi.nlm.nih.gov/entrez/eutils/esearch.fcgi\\\", params\\n        )\\n        if r.status_code == 200:\\n            result = r.json()[\\\"esearchresult\\\"]\\n        else:\\n            logging.error(f\\\"NCBI returned a status code of {r.status_code}.\\\")\\n            break\\n\\n        if len(result[\\\"idlist\\\"]) == 0:\\n            # no more IDs\\n            break\\n        else:\\n            # append the IDs to the results...\\n            ids = ids + result[\\\"idlist\\\"]\\n            # and move the start chunk up by the size of retmax\\n            params[\\\"retstart\\\"] += params[\\\"retmax\\\"]\\n\\n    return ids\\n\\n\\n# quick test\\nlookup_ncbi(author_records[\\\"Gregory Way\\\"][\\\"search_term\\\"], THIS_YEAR)\";\n",
       "                var nbb_cells = Jupyter.notebook.get_cells();\n",
       "                for (var i = 0; i < nbb_cells.length; ++i) {\n",
       "                    if (nbb_cells[i].input_prompt_number == nbb_cell_id) {\n",
       "                        if (nbb_cells[i].get_text() == nbb_unformatted_code) {\n",
       "                             nbb_cells[i].set_text(nbb_formatted_code);\n",
       "                        }\n",
       "                        break;\n",
       "                    }\n",
       "                }\n",
       "            }, 500);\n",
       "            "
      ],
      "text/plain": [
       "<IPython.core.display.Javascript object>"
      ]
     },
     "metadata": {},
     "output_type": "display_data"
    }
   ],
   "source": [
    "def lookup_ncbi(term, year, api_key=None):\n",
    "    # look up IDs a chunk at a time\n",
    "    # NCBI asks that we use an API key... I've used mine in the past, but\n",
    "    # pulled this out for source.\n",
    "    ids = []\n",
    "\n",
    "    d = date(year, 1, 1)\n",
    "    delta = date.today() - d\n",
    "\n",
    "    params = {\n",
    "        \"term\": term,\n",
    "        \"format\": \"pmid\",\n",
    "        \"db\": \"pmc\",\n",
    "        \"tool\": \"CUAnschutz-Center_for_Health_AI-DEV\",\n",
    "        \"email\": \"Stephen.Taylor@cuanschutz.edu\",\n",
    "        \"format\": \"json\",\n",
    "        \"retmax\": 100,\n",
    "        \"retstart\": 0,\n",
    "        \"reldate\": delta.days,\n",
    "    }\n",
    "\n",
    "    if api_key:\n",
    "        params[\"api_key\"] = api_key\n",
    "\n",
    "    # page through the results until there are no more ids\n",
    "    while True:\n",
    "        r = requests.get(\n",
    "            \"https://eutils.ncbi.nlm.nih.gov/entrez/eutils/esearch.fcgi\", params\n",
    "        )\n",
    "        if r.status_code == 200:\n",
    "            result = r.json()[\"esearchresult\"]\n",
    "        else:\n",
    "            logging.error(f\"NCBI returned a status code of {r.status_code}.\")\n",
    "            break\n",
    "\n",
    "        if len(result[\"idlist\"]) == 0:\n",
    "            # no more IDs\n",
    "            break\n",
    "        else:\n",
    "            # append the IDs to the results...\n",
    "            ids = ids + result[\"idlist\"]\n",
    "            # and move the start chunk up by the size of retmax\n",
    "            params[\"retstart\"] += params[\"retmax\"]\n",
    "\n",
    "    return ids\n",
    "\n",
    "\n",
    "# quick test\n",
    "lookup_ncbi(author_records[\"Gregory Way\"][\"search_term\"], THIS_YEAR)"
   ]
  },
  {
   "cell_type": "code",
   "execution_count": 8,
   "id": "4fcc3a02",
   "metadata": {},
   "outputs": [
    {
     "name": "stderr",
     "output_type": "stream",
     "text": [
      "INFO:root:Looking up `Aquilante C` using (\"2021/01/01\"[PubDate] : \"3000\"[PubDate]) AND ((Aquilante C[Author]) AND ((\"University of Colorado\") OR (\"Colorado Center for Personalized Medicine\"))))\n",
      "INFO:root:Looking up `Barnes K` using (\"2021/01/01\"[PubDate] : \"3000\"[PubDate]) AND ((Barnes K[Author]) AND ((\"University of Colorado\") OR (\"Colorado Center for Personalized Medicine\"))))\n",
      "INFO:root:Looking up `Boorgula M` using (\"2021/01/01\"[PubDate] : \"3000\"[PubDate]) AND ((Boorgula M[Author]) AND ((\"University of Colorado\") OR (\"Colorado Center for Personalized Medicine\"))))\n",
      "INFO:root:Looking up `Brooks I` using (\"2021/01/01\"[PubDate] : \"3000\"[PubDate]) AND ((Brooks I[Author]) AND ((\"University of Colorado\") OR (\"Colorado Center for Personalized Medicine\"))))\n",
      "INFO:root:Looking up `Campbell M` using (\"2021/01/01\"[PubDate] : \"3000\"[PubDate]) AND ((Campbell M[Author]) AND ((\"University of Colorado\") OR (\"Colorado Center for Personalized Medicine\"))))\n",
      "INFO:root:Looking up `Casey Greene` using (\"2021/01/01\"[PubDate] : \"3000\"[PubDate]) AND (Casey Greene))\n",
      "INFO:root:Looking up `Claw K` using (\"2021/01/01\"[PubDate] : \"3000\"[PubDate]) AND ((Claw K[Author]) AND ((\"University of Colorado\") OR (\"Colorado Center for Personalized Medicine\"))))\n",
      "INFO:root:Looking up `Cohen M` using (\"2021/01/01\"[PubDate] : \"3000\"[PubDate]) AND ((Cohen M[Author]) AND ((\"University of Colorado\") OR (\"Colorado Center for Personalized Medicine\"))))\n",
      "INFO:root:Looking up `Coors M` using (\"2021/01/01\"[PubDate] : \"3000\"[PubDate]) AND ((Coors M[Author]) AND ((\"University of Colorado\") OR (\"Colorado Center for Personalized Medicine\"))))\n",
      "INFO:root:Looking up `Crooks K` using (\"2021/01/01\"[PubDate] : \"3000\"[PubDate]) AND ((Crooks K[Author]) AND ((\"University of Colorado\") OR (\"Colorado Center for Personalized Medicine\"))))\n",
      "INFO:root:Looking up `Fingerlin T` using (\"2021/01/01\"[PubDate] : \"3000\"[PubDate]) AND ((Fingerlin T[Author]) AND ((\"University of Colorado\") OR (\"Colorado Center for Personalized Medicine\"))))\n",
      "INFO:root:Looking up `Fishbein L` using (\"2021/01/01\"[PubDate] : \"3000\"[PubDate]) AND ((Fishbein L[Author]) AND ((\"University of Colorado\") OR (\"Colorado Center for Personalized Medicine\"))))\n",
      "INFO:root:Looking up `Ghosh D` using (\"2021/01/01\"[PubDate] : \"3000\"[PubDate]) AND ((Ghosh D[Author]) AND ((\"University of Colorado\") OR (\"Colorado Center for Personalized Medicine\"))))\n",
      "INFO:root:Looking up `Gignoux C` using (\"2021/01/01\"[PubDate] : \"3000\"[PubDate]) AND ((Gignoux C[Author]) AND ((\"University of Colorado\") OR (\"Colorado Center for Personalized Medicine\"))))\n",
      "INFO:root:Looking up `Gregory Way` using (\"2021/01/01\"[PubDate] : \"3000\"[PubDate]) AND (Gregory Way))\n",
      "INFO:root:Looking up `Hendricks A` using (\"2021/01/01\"[PubDate] : \"3000\"[PubDate]) AND ((Hendricks A[Author]) AND ((\"University of Colorado\") OR (\"Colorado Center for Personalized Medicine\"))))\n",
      "INFO:root:Looking up `Johnson RK` using (\"2021/01/01\"[PubDate] : \"3000\"[PubDate]) AND ((Johnson RK[Author]) AND ((\"University of Colorado\") OR (\"Colorado Center for Personalized Medicine\"))))\n",
      "INFO:root:Looking up `Julian C` using (\"2021/01/01\"[PubDate] : \"3000\"[PubDate]) AND ((Julian C[Author]) AND ((\"University of Colorado\") OR (\"Colorado Center for Personalized Medicine\"))))\n",
      "INFO:root:Looking up `Kao D` using (\"2021/01/01\"[PubDate] : \"3000\"[PubDate]) AND ((Kao D[Author]) AND ((\"University of Colorado\") OR (\"Colorado Center for Personalized Medicine\"))))\n",
      "INFO:root:Looking up `Kechris K` using (\"2021/01/01\"[PubDate] : \"3000\"[PubDate]) AND ((Kechris K[Author]) AND ((\"University of Colorado\") OR (\"Colorado Center for Personalized Medicine\"))))\n",
      "INFO:root:Looking up `Kudron E` using (\"2021/01/01\"[PubDate] : \"3000\"[PubDate]) AND ((Kudron E[Author]) AND ((\"University of Colorado\") OR (\"Colorado Center for Personalized Medicine\"))))\n",
      "INFO:root:Looking up `Lange E` using (\"2021/01/01\"[PubDate] : \"3000\"[PubDate]) AND ((Lange E[Author]) AND ((\"University of Colorado\") OR (\"Colorado Center for Personalized Medicine\"))))\n",
      "INFO:root:Looking up `Lange L` using (\"2021/01/01\"[PubDate] : \"3000\"[PubDate]) AND ((Lange L[Author]) AND ((\"University of Colorado\") OR (\"Colorado Center for Personalized Medicine\"))))\n",
      "INFO:root:Looking up `Law A` using (\"2021/01/01\"[PubDate] : \"3000\"[PubDate]) AND ((Law A[Author]) AND ((\"University of Colorado\") OR (\"Colorado Center for Personalized Medicine\"))))\n",
      "INFO:root:Looking up `Lawrence Hunter` using (\"2021/01/01\"[PubDate] : \"3000\"[PubDate]) AND (Lawrence Hunter))\n",
      "INFO:root:Looking up `Layer R` using (\"2021/01/01\"[PubDate] : \"3000\"[PubDate]) AND ((Layer R[Author]) AND ((\"University of Colorado\") OR (\"Colorado Center for Personalized Medicine\"))))\n",
      "INFO:root:Looking up `Lee YM` using (\"2021/01/01\"[PubDate] : \"3000\"[PubDate]) AND ((Lee YM[Author]) AND ((\"University of Colorado\") OR (\"Colorado Center for Personalized Medicine\"))))\n",
      "INFO:root:Looking up `Lowery J` using (\"2021/01/01\"[PubDate] : \"3000\"[PubDate]) AND ((Lowery J[Author]) AND ((\"University of Colorado\") OR (\"Colorado Center for Personalized Medicine\"))))\n",
      "INFO:root:Looking up `Lozupone C` using (\"2021/01/01\"[PubDate] : \"3000\"[PubDate]) AND ((Lozupone C[Author]) AND ((\"University of Colorado\") OR (\"Colorado Center for Personalized Medicine\"))))\n",
      "INFO:root:Looking up `Mathias R` using (\"2021/01/01\"[PubDate] : \"3000\"[PubDate]) AND ((Mathias R[Author]) AND ((\"University of Colorado\") OR (\"Colorado Center for Personalized Medicine\"))))\n",
      "INFO:root:Looking up `Melissa Haendel` using (\"2021/01/01\"[PubDate] : \"3000\"[PubDate]) AND (Melissa Haendel))\n",
      "INFO:root:Looking up `Monte A` using (\"2021/01/01\"[PubDate] : \"3000\"[PubDate]) AND ((Monte A[Author]) AND ((\"University of Colorado\") OR (\"Colorado Center for Personalized Medicine\"))))\n",
      "INFO:root:Looking up `Norman P` using (\"2021/01/01\"[PubDate] : \"3000\"[PubDate]) AND ((Norman P[Author]) AND ((\"University of Colorado\") OR (\"Colorado Center for Personalized Medicine\"))))\n",
      "INFO:root:Looking up `Phang T` using (\"2021/01/01\"[PubDate] : \"3000\"[PubDate]) AND ((Phang T[Author]) AND ((\"University of Colorado\") OR (\"Colorado Center for Personalized Medicine\"))))\n",
      "INFO:root:Looking up `Porras A` using (\"2021/01/01\"[PubDate] : \"3000\"[PubDate]) AND ((Porras A[Author]) AND ((\"University of Colorado\") OR (\"Colorado Center for Personalized Medicine\"))))\n",
      "INFO:root:Looking up `Pozdeyev N` using (\"2021/01/01\"[PubDate] : \"3000\"[PubDate]) AND ((Pozdeyev N[Author]) AND ((\"University of Colorado\") OR (\"Colorado Center for Personalized Medicine\"))))\n",
      "INFO:root:Looking up `Raghavan S` using (\"2021/01/01\"[PubDate] : \"3000\"[PubDate]) AND ((Raghavan S[Author]) AND ((\"University of Colorado\") OR (\"Colorado Center for Personalized Medicine\"))))\n",
      "INFO:root:Looking up `Reisdorph N` using (\"2021/01/01\"[PubDate] : \"3000\"[PubDate]) AND ((Reisdorph N[Author]) AND ((\"University of Colorado\") OR (\"Colorado Center for Personalized Medicine\"))))\n",
      "INFO:root:Looking up `Rosenberg M` using (\"2021/01/01\"[PubDate] : \"3000\"[PubDate]) AND ((Rosenberg M[Author]) AND ((\"University of Colorado\") OR (\"Colorado Center for Personalized Medicine\"))))\n",
      "INFO:root:Looking up `Santorico S` using (\"2021/01/01\"[PubDate] : \"3000\"[PubDate]) AND ((Santorico S[Author]) AND ((\"University of Colorado\") OR (\"Colorado Center for Personalized Medicine\"))))\n",
      "INFO:root:Looking up `Sean Davis` using (\"2021/01/01\"[PubDate] : \"3000\"[PubDate]) AND (Sean Davis))\n",
      "INFO:root:Looking up `Shortt J` using (\"2021/01/01\"[PubDate] : \"3000\"[PubDate]) AND ((Shortt J[Author]) AND ((\"University of Colorado\") OR (\"Colorado Center for Personalized Medicine\"))))\n",
      "INFO:root:Looking up `Stanislawski M` using (\"2021/01/01\"[PubDate] : \"3000\"[PubDate]) AND ((Stanislawski M[Author]) AND ((\"University of Colorado\") OR (\"Colorado Center for Personalized Medicine\"))))\n",
      "INFO:root:Looking up `Taylor M` using (\"2021/01/01\"[PubDate] : \"3000\"[PubDate]) AND ((Taylor M[Author]) AND ((\"University of Colorado\") OR (\"Colorado Center for Personalized Medicine\"))))\n",
      "INFO:root:Looking up `Tellen Bennett` using (\"2021/01/01\"[PubDate] : \"3000\"[PubDate]) AND (Tellen Bennett))\n",
      "INFO:root:Looking up `Wiley L` using (\"2021/01/01\"[PubDate] : \"3000\"[PubDate]) AND ((Wiley L[Author]) AND ((\"University of Colorado\") OR (\"Colorado Center for Personalized Medicine\"))))\n"
     ]
    },
    {
     "name": "stderr",
     "output_type": "stream",
     "text": [
      "INFO:root:Looking up `Yang I` using (\"2021/01/01\"[PubDate] : \"3000\"[PubDate]) AND ((Yang I[Author]) AND ((\"University of Colorado\") OR (\"Colorado Center for Personalized Medicine\"))))\n"
     ]
    },
    {
     "data": {
      "text/plain": [
       "{'8504805': {'authors': ['Aquilante C', 'Gignoux C', 'Shortt J']},\n",
       " '8047196': {'authors': ['Aquilante C']},\n",
       " '8485147': {'authors': ['Barnes K', 'Mathias R']},\n",
       " '8095117': {'authors': ['Barnes K', 'Campbell M', 'Crooks K']},\n",
       " '7875770': {'authors': ['Barnes K', 'Fingerlin T', 'Lange L', 'Mathias R']},\n",
       " '7817517': {'authors': ['Brooks I']},\n",
       " '8082311': {'authors': ['Campbell M']},\n",
       " '8613500': {'authors': ['Casey Greene', 'Melissa Haendel', 'Tellen Bennett']},\n",
       " '8562484': {'authors': ['Casey Greene']},\n",
       " '8547481': {'authors': ['Casey Greene']},\n",
       " '8525744': {'authors': ['Casey Greene', 'Gregory Way']},\n",
       " '8458035': {'authors': ['Casey Greene']},\n",
       " '8452106': {'authors': ['Casey Greene']},\n",
       " '8415599': {'authors': ['Casey Greene']},\n",
       " '8385897': {'authors': ['Casey Greene']},\n",
       " '8340473': {'authors': ['Casey Greene']},\n",
       " '8269209': {'authors': ['Casey Greene']},\n",
       " '8260469': {'authors': ['Casey Greene', 'Taylor M']},\n",
       " '8168082': {'authors': ['Casey Greene']},\n",
       " '7941644': {'authors': ['Casey Greene']},\n",
       " '7872359': {'authors': ['Casey Greene']},\n",
       " '7885912': {'authors': ['Casey Greene']},\n",
       " '7780623': {'authors': ['Casey Greene', 'Gregory Way']},\n",
       " '8675633': {'authors': ['Claw K']},\n",
       " '8604252': {'authors': ['Claw K']},\n",
       " '8301563': {'authors': ['Claw K']},\n",
       " '8641427': {'authors': ['Cohen M']},\n",
       " '8176388': {'authors': ['Cohen M']},\n",
       " '7955333': {'authors': ['Cohen M']},\n",
       " '7869180': {'authors': ['Cohen M']},\n",
       " '8596067': {'authors': ['Coors M']},\n",
       " '8114281': {'authors': ['Coors M']},\n",
       " '8011106': {'authors': ['Coors M']},\n",
       " '8265690': {'authors': ['Fishbein L', 'Pozdeyev N']},\n",
       " '8090704': {'authors': ['Fishbein L']},\n",
       " '8565741': {'authors': ['Ghosh D', 'Kechris K']},\n",
       " '8540572': {'authors': ['Ghosh D', 'Kechris K']},\n",
       " '8492620': {'authors': ['Ghosh D']},\n",
       " '8424977': {'authors': ['Ghosh D', 'Kechris K']},\n",
       " '8386789': {'authors': ['Ghosh D']},\n",
       " '8461052': {'authors': ['Gignoux C']},\n",
       " '8192555': {'authors': ['Gignoux C']},\n",
       " '8181458': {'authors': ['Gignoux C']},\n",
       " '8136484': {'authors': ['Gignoux C', 'Norman P', 'Shortt J']},\n",
       " '8108524': {'authors': ['Gregory Way']},\n",
       " '8476419': {'authors': ['Hendricks A']},\n",
       " '8130444': {'authors': ['Hendricks A', 'Santorico S']},\n",
       " '8070949': {'authors': ['Hendricks A', 'Reisdorph N']},\n",
       " '7912106': {'authors': ['Hendricks A']},\n",
       " '8618577': {'authors': ['Johnson RK', 'Kechris K', 'Yang I']},\n",
       " '8424820': {'authors': ['Johnson RK', 'Kechris K', 'Yang I']},\n",
       " '8399445': {'authors': ['Johnson RK', 'Kechris K', 'Yang I']},\n",
       " '8461030': {'authors': ['Julian C']},\n",
       " '8136054': {'authors': ['Kao D', 'Tellen Bennett']},\n",
       " '8077777': {'authors': ['Kao D', 'Tellen Bennett']},\n",
       " '8600767': {'authors': ['Kechris K']},\n",
       " '8581181': {'authors': ['Kechris K']},\n",
       " '8386883': {'authors': ['Kechris K', 'Lange L']},\n",
       " '8170128': {'authors': ['Kechris K']},\n",
       " '8076883': {'authors': ['Kechris K']},\n",
       " '7955126': {'authors': ['Kechris K']},\n",
       " '7999201': {'authors': ['Kechris K', 'Reisdorph N']},\n",
       " '7852128': {'authors': ['Kechris K']},\n",
       " '7859930': {'authors': ['Kechris K']},\n",
       " '7815185': {'authors': ['Kechris K']},\n",
       " '8293453': {'authors': ['Lange E',\n",
       "   'Lange L',\n",
       "   'Raghavan S',\n",
       "   'Stanislawski M']},\n",
       " '8190158': {'authors': ['Lange E']},\n",
       " '8170969': {'authors': ['Lange E', 'Lange L']},\n",
       " '8088054': {'authors': ['Lange E', 'Lange L']},\n",
       " '8459445': {'authors': ['Lange L']},\n",
       " '8336790': {'authors': ['Lange L']},\n",
       " '8190084': {'authors': ['Lange L']},\n",
       " '8206199': {'authors': ['Lange L', 'Mathias R']},\n",
       " '7610958': {'authors': ['Lange L']},\n",
       " '8042019': {'authors': ['Lange L', 'Mathias R']},\n",
       " '8059339': {'authors': ['Lange L']},\n",
       " '7804602': {'authors': ['Lange L', 'Mathias R']},\n",
       " '8382320': {'authors': ['Law A']},\n",
       " '8129834': {'authors': ['Law A']},\n",
       " '8678974': {'authors': ['Lawrence Hunter']},\n",
       " '8508177': {'authors': ['Lawrence Hunter']},\n",
       " '8383195': {'authors': ['Lawrence Hunter']},\n",
       " '7958992': {'authors': ['Lawrence Hunter']},\n",
       " '8145817': {'authors': ['Layer R']},\n",
       " '7959816': {'authors': ['Layer R']},\n",
       " '7870795': {'authors': ['Layer R']},\n",
       " '8492178': {'authors': ['Lee YM']},\n",
       " '8396342': {'authors': ['Lee YM']},\n",
       " '8632320': {'authors': ['Lozupone C']},\n",
       " '8546984': {'authors': ['Lozupone C']},\n",
       " '8269254': {'authors': ['Lozupone C', 'Reisdorph N']},\n",
       " '8027858': {'authors': ['Lozupone C']},\n",
       " '7896366': {'authors': ['Lozupone C']},\n",
       " '8669857': {'authors': ['Melissa Haendel']},\n",
       " '8591903': {'authors': ['Melissa Haendel']},\n",
       " '8595927': {'authors': ['Melissa Haendel']},\n",
       " '8546234': {'authors': ['Melissa Haendel']},\n",
       " '8532301': {'authors': ['Melissa Haendel']},\n",
       " '8514200': {'authors': ['Melissa Haendel']},\n",
       " '8500110': {'authors': ['Melissa Haendel']},\n",
       " '8323175': {'authors': ['Melissa Haendel', 'Tellen Bennett']},\n",
       " '8328064': {'authors': ['Melissa Haendel', 'Tellen Bennett']},\n",
       " '8278272': {'authors': ['Melissa Haendel', 'Tellen Bennett']},\n",
       " '8077581': {'authors': ['Melissa Haendel']},\n",
       " '8043466': {'authors': ['Melissa Haendel']},\n",
       " '8010765': {'authors': ['Melissa Haendel', 'Tellen Bennett']},\n",
       " '7997011': {'authors': ['Melissa Haendel']},\n",
       " '8074853': {'authors': ['Melissa Haendel']},\n",
       " '7833928': {'authors': ['Melissa Haendel']},\n",
       " '7814838': {'authors': ['Melissa Haendel', 'Tellen Bennett']},\n",
       " '8383846': {'authors': ['Monte A']},\n",
       " '8316015': {'authors': ['Monte A', 'Tellen Bennett']},\n",
       " '7963480': {'authors': ['Monte A']},\n",
       " '7987038': {'authors': ['Monte A', 'Tellen Bennett']},\n",
       " '8476174': {'authors': ['Norman P']},\n",
       " '8360517': {'authors': ['Norman P']},\n",
       " '8231283': {'authors': ['Norman P']},\n",
       " '8137979': {'authors': ['Norman P']},\n",
       " '8121542': {'authors': ['Norman P']},\n",
       " '8584993': {'authors': ['Phang T']},\n",
       " '8589244': {'authors': ['Porras A']},\n",
       " '8172204': {'authors': ['Porras A']},\n",
       " '7955432': {'authors': ['Raghavan S']},\n",
       " '8528232': {'authors': ['Reisdorph N']},\n",
       " '8076692': {'authors': ['Reisdorph N']},\n",
       " '7996814': {'authors': ['Reisdorph N']},\n",
       " '7797585': {'authors': ['Rosenberg M']},\n",
       " '8170963': {'authors': ['Santorico S']},\n",
       " '7994584': {'authors': ['Shortt J']},\n",
       " '8471894': {'authors': ['Stanislawski M']},\n",
       " '8666141': {'authors': ['Taylor M']},\n",
       " '8525651': {'authors': ['Taylor M']},\n",
       " '8486657': {'authors': ['Taylor M']},\n",
       " '8468170': {'authors': ['Taylor M']},\n",
       " '8431729': {'authors': ['Taylor M']},\n",
       " '8261631': {'authors': ['Taylor M']},\n",
       " '8235452': {'authors': ['Taylor M']},\n",
       " '7979819': {'authors': ['Taylor M']},\n",
       " '7940251': {'authors': ['Taylor M']},\n",
       " '7822150': {'authors': ['Taylor M']},\n",
       " '8372837': {'authors': ['Tellen Bennett']},\n",
       " '8077603': {'authors': ['Tellen Bennett']},\n",
       " '7814847': {'authors': ['Tellen Bennett']},\n",
       " '8512725': {'authors': ['Wiley L']},\n",
       " '8378646': {'authors': ['Wiley L']},\n",
       " '8316442': {'authors': ['Yang I']},\n",
       " '8247459': {'authors': ['Yang I']},\n",
       " '7957150': {'authors': ['Yang I']},\n",
       " '7934873': {'authors': ['Yang I']}}"
      ]
     },
     "execution_count": 8,
     "metadata": {},
     "output_type": "execute_result"
    },
    {
     "data": {
      "application/javascript": [
       "\n",
       "            setTimeout(function() {\n",
       "                var nbb_cell_id = 8;\n",
       "                var nbb_unformatted_code = \"# I would like to do this in parallel, but the deal with NCBI is we agree not to do that\\nid_dict = {}\\nfor author, v in author_records.items():\\n    logging.info(f\\\"Looking up `{author}` using {v['search_term']}\\\")\\n    ids = lookup_ncbi(v[\\\"search_term\\\"], THIS_YEAR)\\n\\n    for id in ids:\\n        if not id_dict.get(id):\\n            # create an empty nested dict\\n            id_dict[id] = {\\\"authors\\\": []}\\n        id_dict[id][\\\"authors\\\"].append(author)\\n\\nid_dict\";\n",
       "                var nbb_formatted_code = \"# I would like to do this in parallel, but the deal with NCBI is we agree not to do that\\nid_dict = {}\\nfor author, v in author_records.items():\\n    logging.info(f\\\"Looking up `{author}` using {v['search_term']}\\\")\\n    ids = lookup_ncbi(v[\\\"search_term\\\"], THIS_YEAR)\\n\\n    for id in ids:\\n        if not id_dict.get(id):\\n            # create an empty nested dict\\n            id_dict[id] = {\\\"authors\\\": []}\\n        id_dict[id][\\\"authors\\\"].append(author)\\n\\nid_dict\";\n",
       "                var nbb_cells = Jupyter.notebook.get_cells();\n",
       "                for (var i = 0; i < nbb_cells.length; ++i) {\n",
       "                    if (nbb_cells[i].input_prompt_number == nbb_cell_id) {\n",
       "                        if (nbb_cells[i].get_text() == nbb_unformatted_code) {\n",
       "                             nbb_cells[i].set_text(nbb_formatted_code);\n",
       "                        }\n",
       "                        break;\n",
       "                    }\n",
       "                }\n",
       "            }, 500);\n",
       "            "
      ],
      "text/plain": [
       "<IPython.core.display.Javascript object>"
      ]
     },
     "metadata": {},
     "output_type": "display_data"
    }
   ],
   "source": [
    "# I would like to do this in parallel, but the deal with NCBI is we agree not to do that\n",
    "id_dict = {}\n",
    "for author, v in author_records.items():\n",
    "    logging.info(f\"Looking up `{author}` using {v['search_term']}\")\n",
    "    ids = lookup_ncbi(v[\"search_term\"], THIS_YEAR)\n",
    "\n",
    "    for id in ids:\n",
    "        if not id_dict.get(id):\n",
    "            # create an empty nested dict\n",
    "            id_dict[id] = {\"authors\": []}\n",
    "        id_dict[id][\"authors\"].append(author)\n",
    "\n",
    "id_dict"
   ]
  },
  {
   "cell_type": "markdown",
   "id": "97859ccb",
   "metadata": {},
   "source": [
    "How many items found?"
   ]
  },
  {
   "cell_type": "code",
   "execution_count": 9,
   "id": "88fbe381",
   "metadata": {},
   "outputs": [
    {
     "data": {
      "text/plain": [
       "149"
      ]
     },
     "execution_count": 9,
     "metadata": {},
     "output_type": "execute_result"
    },
    {
     "data": {
      "application/javascript": [
       "\n",
       "            setTimeout(function() {\n",
       "                var nbb_cell_id = 9;\n",
       "                var nbb_unformatted_code = \"len(id_dict)\";\n",
       "                var nbb_formatted_code = \"len(id_dict)\";\n",
       "                var nbb_cells = Jupyter.notebook.get_cells();\n",
       "                for (var i = 0; i < nbb_cells.length; ++i) {\n",
       "                    if (nbb_cells[i].input_prompt_number == nbb_cell_id) {\n",
       "                        if (nbb_cells[i].get_text() == nbb_unformatted_code) {\n",
       "                             nbb_cells[i].set_text(nbb_formatted_code);\n",
       "                        }\n",
       "                        break;\n",
       "                    }\n",
       "                }\n",
       "            }, 500);\n",
       "            "
      ],
      "text/plain": [
       "<IPython.core.display.Javascript object>"
      ]
     },
     "metadata": {},
     "output_type": "display_data"
    }
   ],
   "source": [
    "len(id_dict)"
   ]
  },
  {
   "cell_type": "markdown",
   "id": "7bded28f",
   "metadata": {},
   "source": [
    "NCBI preferred we didn't run API queries against it in parallel. No such restriction for manubot!"
   ]
  },
  {
   "cell_type": "code",
   "execution_count": 10,
   "id": "e5604c90",
   "metadata": {},
   "outputs": [
    {
     "data": {
      "application/javascript": [
       "\n",
       "            setTimeout(function() {\n",
       "                var nbb_cell_id = 10;\n",
       "                var nbb_unformatted_code = \"@task\\ndef get_markdown(id: str) -> Dict[str, str]:\\n    # Use manubot-cite to fetch the formatted citation\\n    args = [\\\"manubot\\\", \\\"cite\\\", \\\"--format=markdown\\\", f\\\"pmc:PMC{id}\\\"]\\n\\n    process = subprocess.run(args=args, capture_output=True, encoding=\\\"utf-8\\\")\\n\\n    process.check_returncode()\\n\\n    # cite has the index number stripped out.\\n    return {\\n        \\\"id\\\": id,\\n        \\\"cite\\\": process.stdout[re.search(\\\"\\\\*\\\\*\\\", process.stdout).start() :],\\n    }\\n\\n\\n@task\\ndef create_list(id_dict):\\n    # break out the keys for manubot cites\\n    my_list = [k for k, v in id_dict.items()]\\n    logging.info(f\\\"Preparing to map for {len(my_list)} items\\\")\\n    return my_list\\n\\n\\n@task\\ndef assemble_dicts(cite_list, id_dict):\\n    # reduce the manubot cites into the main dict and return it\\n    for cite_record in cite_list:\\n        id = cite_record[\\\"id\\\"]\\n        cite = cite_record[\\\"cite\\\"]\\n        id_dict[id][\\\"cite\\\"] = cite\\n    return id_dict\";\n",
       "                var nbb_formatted_code = \"@task\\ndef get_markdown(id: str) -> Dict[str, str]:\\n    # Use manubot-cite to fetch the formatted citation\\n    args = [\\\"manubot\\\", \\\"cite\\\", \\\"--format=markdown\\\", f\\\"pmc:PMC{id}\\\"]\\n\\n    process = subprocess.run(args=args, capture_output=True, encoding=\\\"utf-8\\\")\\n\\n    process.check_returncode()\\n\\n    # cite has the index number stripped out.\\n    return {\\n        \\\"id\\\": id,\\n        \\\"cite\\\": process.stdout[re.search(\\\"\\\\*\\\\*\\\", process.stdout).start() :],\\n    }\\n\\n\\n@task\\ndef create_list(id_dict):\\n    # break out the keys for manubot cites\\n    my_list = [k for k, v in id_dict.items()]\\n    logging.info(f\\\"Preparing to map for {len(my_list)} items\\\")\\n    return my_list\\n\\n\\n@task\\ndef assemble_dicts(cite_list, id_dict):\\n    # reduce the manubot cites into the main dict and return it\\n    for cite_record in cite_list:\\n        id = cite_record[\\\"id\\\"]\\n        cite = cite_record[\\\"cite\\\"]\\n        id_dict[id][\\\"cite\\\"] = cite\\n    return id_dict\";\n",
       "                var nbb_cells = Jupyter.notebook.get_cells();\n",
       "                for (var i = 0; i < nbb_cells.length; ++i) {\n",
       "                    if (nbb_cells[i].input_prompt_number == nbb_cell_id) {\n",
       "                        if (nbb_cells[i].get_text() == nbb_unformatted_code) {\n",
       "                             nbb_cells[i].set_text(nbb_formatted_code);\n",
       "                        }\n",
       "                        break;\n",
       "                    }\n",
       "                }\n",
       "            }, 500);\n",
       "            "
      ],
      "text/plain": [
       "<IPython.core.display.Javascript object>"
      ]
     },
     "metadata": {},
     "output_type": "display_data"
    }
   ],
   "source": [
    "@task\n",
    "def get_markdown(id: str) -> Dict[str, str]:\n",
    "    # Use manubot-cite to fetch the formatted citation\n",
    "    args = [\"manubot\", \"cite\", \"--format=markdown\", f\"pmc:PMC{id}\"]\n",
    "\n",
    "    process = subprocess.run(args=args, capture_output=True, encoding=\"utf-8\")\n",
    "\n",
    "    process.check_returncode()\n",
    "\n",
    "    # cite has the index number stripped out.\n",
    "    return {\n",
    "        \"id\": id,\n",
    "        \"cite\": process.stdout[re.search(\"\\*\\*\", process.stdout).start() :],\n",
    "    }\n",
    "\n",
    "\n",
    "@task\n",
    "def create_list(id_dict):\n",
    "    # break out the keys for manubot cites\n",
    "    my_list = [k for k, v in id_dict.items()]\n",
    "    logging.info(f\"Preparing to map for {len(my_list)} items\")\n",
    "    return my_list\n",
    "\n",
    "\n",
    "@task\n",
    "def assemble_dicts(cite_list, id_dict):\n",
    "    # reduce the manubot cites into the main dict and return it\n",
    "    for cite_record in cite_list:\n",
    "        id = cite_record[\"id\"]\n",
    "        cite = cite_record[\"cite\"]\n",
    "        id_dict[id][\"cite\"] = cite\n",
    "    return id_dict"
   ]
  },
  {
   "cell_type": "code",
   "execution_count": 11,
   "id": "7406f315",
   "metadata": {},
   "outputs": [
    {
     "data": {
      "application/javascript": [
       "\n",
       "            setTimeout(function() {\n",
       "                var nbb_cell_id = 11;\n",
       "                var nbb_unformatted_code = \"# Dask executors lets us run this is parallel\\nexecutor = LocalDaskExecutor()\\nwith Flow(\\\"Manubot Cite Runner\\\", executor=executor) as flow:\\n    ids = Parameter(\\\"ids\\\")()\\n\\n    id_list = create_list(ids)\\n    cite_list = get_markdown.map(id_list)\\n    output_dict = assemble_dicts(cite_list, id_dict)\";\n",
       "                var nbb_formatted_code = \"# Dask executors lets us run this is parallel\\nexecutor = LocalDaskExecutor()\\nwith Flow(\\\"Manubot Cite Runner\\\", executor=executor) as flow:\\n    ids = Parameter(\\\"ids\\\")()\\n\\n    id_list = create_list(ids)\\n    cite_list = get_markdown.map(id_list)\\n    output_dict = assemble_dicts(cite_list, id_dict)\";\n",
       "                var nbb_cells = Jupyter.notebook.get_cells();\n",
       "                for (var i = 0; i < nbb_cells.length; ++i) {\n",
       "                    if (nbb_cells[i].input_prompt_number == nbb_cell_id) {\n",
       "                        if (nbb_cells[i].get_text() == nbb_unformatted_code) {\n",
       "                             nbb_cells[i].set_text(nbb_formatted_code);\n",
       "                        }\n",
       "                        break;\n",
       "                    }\n",
       "                }\n",
       "            }, 500);\n",
       "            "
      ],
      "text/plain": [
       "<IPython.core.display.Javascript object>"
      ]
     },
     "metadata": {},
     "output_type": "display_data"
    }
   ],
   "source": [
    "# Dask executors lets us run this is parallel\n",
    "executor = LocalDaskExecutor()\n",
    "with Flow(\"Manubot Cite Runner\", executor=executor) as flow:\n",
    "    ids = Parameter(\"ids\")()\n",
    "\n",
    "    id_list = create_list(ids)\n",
    "    cite_list = get_markdown.map(id_list)\n",
    "    output_dict = assemble_dicts(cite_list, id_dict)"
   ]
  },
  {
   "cell_type": "code",
   "execution_count": 12,
   "id": "37d1f788",
   "metadata": {},
   "outputs": [
    {
     "name": "stdout",
     "output_type": "stream",
     "text": [
      "[2021-12-20 15:04:56-0700] INFO - prefect.FlowRunner | Beginning Flow run for 'Manubot Cite Runner'\n"
     ]
    },
    {
     "name": "stderr",
     "output_type": "stream",
     "text": [
      "INFO:prefect.FlowRunner:Beginning Flow run for 'Manubot Cite Runner'\n"
     ]
    },
    {
     "name": "stdout",
     "output_type": "stream",
     "text": [
      "[2021-12-20 15:04:56-0700] INFO - prefect.TaskRunner | Task 'ids': Starting task run...\n"
     ]
    },
    {
     "name": "stderr",
     "output_type": "stream",
     "text": [
      "INFO:prefect.TaskRunner:Task 'ids': Starting task run...\n"
     ]
    },
    {
     "name": "stdout",
     "output_type": "stream",
     "text": [
      "[2021-12-20 15:04:56-0700] INFO - prefect.TaskRunner | Task 'ids': Finished task run for task with final state: 'Success'\n"
     ]
    },
    {
     "name": "stderr",
     "output_type": "stream",
     "text": [
      "INFO:prefect.TaskRunner:Task 'ids': Finished task run for task with final state: 'Success'\n"
     ]
    },
    {
     "name": "stdout",
     "output_type": "stream",
     "text": [
      "[2021-12-20 15:04:56-0700] INFO - prefect.TaskRunner | Task 'create_list': Starting task run...\n"
     ]
    },
    {
     "name": "stderr",
     "output_type": "stream",
     "text": [
      "INFO:prefect.TaskRunner:Task 'create_list': Starting task run...\n",
      "INFO:root:Preparing to map for 149 items\n"
     ]
    },
    {
     "name": "stdout",
     "output_type": "stream",
     "text": [
      "[2021-12-20 15:04:56-0700] INFO - prefect.TaskRunner | Task 'create_list': Finished task run for task with final state: 'Success'\n"
     ]
    },
    {
     "name": "stderr",
     "output_type": "stream",
     "text": [
      "INFO:prefect.TaskRunner:Task 'create_list': Finished task run for task with final state: 'Success'\n"
     ]
    },
    {
     "name": "stdout",
     "output_type": "stream",
     "text": [
      "[2021-12-20 15:04:56-0700] INFO - prefect.TaskRunner | Task 'get_markdown': Starting task run...\n"
     ]
    },
    {
     "name": "stderr",
     "output_type": "stream",
     "text": [
      "INFO:prefect.TaskRunner:Task 'get_markdown': Starting task run...\n"
     ]
    },
    {
     "name": "stdout",
     "output_type": "stream",
     "text": [
      "[2021-12-20 15:04:56-0700] INFO - prefect.TaskRunner | Task 'get_markdown': Finished task run for task with final state: 'Mapped'\n"
     ]
    },
    {
     "name": "stderr",
     "output_type": "stream",
     "text": [
      "INFO:prefect.TaskRunner:Task 'get_markdown': Finished task run for task with final state: 'Mapped'\n"
     ]
    },
    {
     "name": "stdout",
     "output_type": "stream",
     "text": [
      "[2021-12-20 15:04:57-0700] INFO - prefect.TaskRunner | Task 'get_markdown[10]': Starting task run...\n",
      "[2021-12-20 15:04:57-0700] INFO - prefect.TaskRunner | Task 'get_markdown[0]': Starting task run...\n"
     ]
    },
    {
     "name": "stderr",
     "output_type": "stream",
     "text": [
      "INFO:prefect.TaskRunner:Task 'get_markdown[10]': Starting task run...\n"
     ]
    },
    {
     "name": "stdout",
     "output_type": "stream",
     "text": [
      "[2021-12-20 15:04:57-0700] INFO - prefect.TaskRunner | Task 'get_markdown[1]': Starting task run...\n"
     ]
    },
    {
     "name": "stderr",
     "output_type": "stream",
     "text": [
      "INFO:prefect.TaskRunner:Task 'get_markdown[0]': Starting task run...\n"
     ]
    },
    {
     "name": "stdout",
     "output_type": "stream",
     "text": [
      "[2021-12-20 15:04:57-0700] INFO - prefect.TaskRunner | Task 'get_markdown[103]': Starting task run...\n"
     ]
    },
    {
     "name": "stderr",
     "output_type": "stream",
     "text": [
      "INFO:prefect.TaskRunner:Task 'get_markdown[1]': Starting task run...\n"
     ]
    },
    {
     "name": "stdout",
     "output_type": "stream",
     "text": [
      "[2021-12-20 15:04:57-0700] INFO - prefect.TaskRunner | Task 'get_markdown[102]': Starting task run...\n",
      "[2021-12-20 15:04:57-0700] INFO - prefect.TaskRunner | Task 'get_markdown[101]': Starting task run...\n"
     ]
    },
    {
     "name": "stderr",
     "output_type": "stream",
     "text": [
      "INFO:prefect.TaskRunner:Task 'get_markdown[103]': Starting task run...\n",
      "INFO:prefect.TaskRunner:Task 'get_markdown[102]': Starting task run...\n"
     ]
    },
    {
     "name": "stdout",
     "output_type": "stream",
     "text": [
      "[2021-12-20 15:04:57-0700] INFO - prefect.TaskRunner | Task 'get_markdown[100]': Starting task run...\n"
     ]
    },
    {
     "name": "stderr",
     "output_type": "stream",
     "text": [
      "INFO:prefect.TaskRunner:Task 'get_markdown[101]': Starting task run...\n"
     ]
    },
    {
     "name": "stdout",
     "output_type": "stream",
     "text": [
      "[2021-12-20 15:04:57-0700] INFO - prefect.TaskRunner | Task 'get_markdown[104]': Starting task run...\n"
     ]
    },
    {
     "name": "stderr",
     "output_type": "stream",
     "text": [
      "INFO:prefect.TaskRunner:Task 'get_markdown[100]': Starting task run...\n",
      "INFO:prefect.TaskRunner:Task 'get_markdown[104]': Starting task run...\n"
     ]
    },
    {
     "name": "stdout",
     "output_type": "stream",
     "text": [
      "[2021-12-20 15:05:13-0700] INFO - prefect.TaskRunner | Task 'get_markdown[1]': Finished task run for task with final state: 'Success'\n"
     ]
    },
    {
     "name": "stderr",
     "output_type": "stream",
     "text": [
      "INFO:prefect.TaskRunner:Task 'get_markdown[1]': Finished task run for task with final state: 'Success'\n"
     ]
    },
    {
     "name": "stdout",
     "output_type": "stream",
     "text": [
      "[2021-12-20 15:05:13-0700] INFO - prefect.TaskRunner | Task 'get_markdown[101]': Finished task run for task with final state: 'Success'\n"
     ]
    },
    {
     "name": "stderr",
     "output_type": "stream",
     "text": [
      "INFO:prefect.TaskRunner:Task 'get_markdown[101]': Finished task run for task with final state: 'Success'\n"
     ]
    },
    {
     "name": "stdout",
     "output_type": "stream",
     "text": [
      "[2021-12-20 15:05:13-0700] INFO - prefect.TaskRunner | Task 'get_markdown[103]': Finished task run for task with final state: 'Success'\n"
     ]
    },
    {
     "name": "stderr",
     "output_type": "stream",
     "text": [
      "INFO:prefect.TaskRunner:Task 'get_markdown[103]': Finished task run for task with final state: 'Success'\n"
     ]
    },
    {
     "name": "stdout",
     "output_type": "stream",
     "text": [
      "[2021-12-20 15:05:13-0700] INFO - prefect.TaskRunner | Task 'get_markdown[100]': Finished task run for task with final state: 'Success'\n",
      "[2021-12-20 15:05:13-0700] INFO - prefect.TaskRunner | Task 'get_markdown[10]': Finished task run for task with final state: 'Success'\n"
     ]
    },
    {
     "name": "stderr",
     "output_type": "stream",
     "text": [
      "INFO:prefect.TaskRunner:Task 'get_markdown[100]': Finished task run for task with final state: 'Success'\n"
     ]
    },
    {
     "name": "stdout",
     "output_type": "stream",
     "text": [
      "[2021-12-20 15:05:13-0700] INFO - prefect.TaskRunner | Task 'get_markdown[102]': Finished task run for task with final state: 'Success'\n"
     ]
    },
    {
     "name": "stderr",
     "output_type": "stream",
     "text": [
      "INFO:prefect.TaskRunner:Task 'get_markdown[10]': Finished task run for task with final state: 'Success'\n",
      "INFO:prefect.TaskRunner:Task 'get_markdown[102]': Finished task run for task with final state: 'Success'\n"
     ]
    },
    {
     "name": "stdout",
     "output_type": "stream",
     "text": [
      "[2021-12-20 15:05:13-0700] INFO - prefect.TaskRunner | Task 'get_markdown[0]': Finished task run for task with final state: 'Success'\n"
     ]
    },
    {
     "name": "stderr",
     "output_type": "stream",
     "text": [
      "INFO:prefect.TaskRunner:Task 'get_markdown[0]': Finished task run for task with final state: 'Success'\n"
     ]
    },
    {
     "name": "stdout",
     "output_type": "stream",
     "text": [
      "[2021-12-20 15:05:13-0700] INFO - prefect.TaskRunner | Task 'get_markdown[104]': Finished task run for task with final state: 'Success'\n"
     ]
    },
    {
     "name": "stderr",
     "output_type": "stream",
     "text": [
      "INFO:prefect.TaskRunner:Task 'get_markdown[104]': Finished task run for task with final state: 'Success'\n"
     ]
    },
    {
     "name": "stdout",
     "output_type": "stream",
     "text": [
      "[2021-12-20 15:05:13-0700] INFO - prefect.TaskRunner | Task 'get_markdown[105]': Starting task run...\n",
      "[2021-12-20 15:05:13-0700] INFO - prefect.TaskRunner | Task 'get_markdown[106]': Starting task run...\n"
     ]
    },
    {
     "name": "stderr",
     "output_type": "stream",
     "text": [
      "INFO:prefect.TaskRunner:Task 'get_markdown[105]': Starting task run...\n"
     ]
    },
    {
     "name": "stdout",
     "output_type": "stream",
     "text": [
      "[2021-12-20 15:05:13-0700] INFO - prefect.TaskRunner | Task 'get_markdown[107]': Starting task run...\n"
     ]
    },
    {
     "name": "stderr",
     "output_type": "stream",
     "text": [
      "INFO:prefect.TaskRunner:Task 'get_markdown[106]': Starting task run...\n"
     ]
    },
    {
     "name": "stdout",
     "output_type": "stream",
     "text": [
      "[2021-12-20 15:05:13-0700] INFO - prefect.TaskRunner | Task 'get_markdown[108]': Starting task run...\n"
     ]
    },
    {
     "name": "stderr",
     "output_type": "stream",
     "text": [
      "INFO:prefect.TaskRunner:Task 'get_markdown[107]': Starting task run...\n"
     ]
    },
    {
     "name": "stdout",
     "output_type": "stream",
     "text": [
      "[2021-12-20 15:05:13-0700] INFO - prefect.TaskRunner | Task 'get_markdown[109]': Starting task run...\n"
     ]
    },
    {
     "name": "stderr",
     "output_type": "stream",
     "text": [
      "INFO:prefect.TaskRunner:Task 'get_markdown[108]': Starting task run...\n"
     ]
    },
    {
     "name": "stdout",
     "output_type": "stream",
     "text": [
      "[2021-12-20 15:05:13-0700] INFO - prefect.TaskRunner | Task 'get_markdown[11]': Starting task run...\n",
      "[2021-12-20 15:05:13-0700] INFO - prefect.TaskRunner | Task 'get_markdown[110]': Starting task run...\n"
     ]
    },
    {
     "name": "stderr",
     "output_type": "stream",
     "text": [
      "INFO:prefect.TaskRunner:Task 'get_markdown[109]': Starting task run...\n",
      "INFO:prefect.TaskRunner:Task 'get_markdown[11]': Starting task run...\n"
     ]
    },
    {
     "name": "stdout",
     "output_type": "stream",
     "text": [
      "[2021-12-20 15:05:13-0700] INFO - prefect.TaskRunner | Task 'get_markdown[111]': Starting task run...\n"
     ]
    },
    {
     "name": "stderr",
     "output_type": "stream",
     "text": [
      "INFO:prefect.TaskRunner:Task 'get_markdown[110]': Starting task run...\n",
      "INFO:prefect.TaskRunner:Task 'get_markdown[111]': Starting task run...\n"
     ]
    },
    {
     "name": "stdout",
     "output_type": "stream",
     "text": [
      "[2021-12-20 15:05:27-0700] INFO - prefect.TaskRunner | Task 'get_markdown[111]': Finished task run for task with final state: 'Success'\n"
     ]
    },
    {
     "name": "stderr",
     "output_type": "stream",
     "text": [
      "INFO:prefect.TaskRunner:Task 'get_markdown[111]': Finished task run for task with final state: 'Success'\n"
     ]
    },
    {
     "name": "stdout",
     "output_type": "stream",
     "text": [
      "[2021-12-20 15:05:27-0700] INFO - prefect.TaskRunner | Task 'get_markdown[110]': Finished task run for task with final state: 'Success'\n"
     ]
    },
    {
     "name": "stderr",
     "output_type": "stream",
     "text": [
      "INFO:prefect.TaskRunner:Task 'get_markdown[110]': Finished task run for task with final state: 'Success'\n"
     ]
    },
    {
     "name": "stdout",
     "output_type": "stream",
     "text": [
      "[2021-12-20 15:05:27-0700] INFO - prefect.TaskRunner | Task 'get_markdown[112]': Starting task run...\n",
      "[2021-12-20 15:05:27-0700] INFO - prefect.TaskRunner | Task 'get_markdown[113]': Starting task run...\n"
     ]
    },
    {
     "name": "stderr",
     "output_type": "stream",
     "text": [
      "INFO:prefect.TaskRunner:Task 'get_markdown[112]': Starting task run...\n",
      "INFO:prefect.TaskRunner:Task 'get_markdown[113]': Starting task run...\n"
     ]
    },
    {
     "name": "stdout",
     "output_type": "stream",
     "text": [
      "[2021-12-20 15:05:27-0700] INFO - prefect.TaskRunner | Task 'get_markdown[109]': Finished task run for task with final state: 'Success'\n"
     ]
    },
    {
     "name": "stderr",
     "output_type": "stream",
     "text": [
      "INFO:prefect.TaskRunner:Task 'get_markdown[109]': Finished task run for task with final state: 'Success'\n"
     ]
    },
    {
     "name": "stdout",
     "output_type": "stream",
     "text": [
      "[2021-12-20 15:05:27-0700] INFO - prefect.TaskRunner | Task 'get_markdown[106]': Finished task run for task with final state: 'Success'\n"
     ]
    },
    {
     "name": "stderr",
     "output_type": "stream",
     "text": [
      "INFO:prefect.TaskRunner:Task 'get_markdown[106]': Finished task run for task with final state: 'Success'\n"
     ]
    },
    {
     "name": "stdout",
     "output_type": "stream",
     "text": [
      "[2021-12-20 15:05:27-0700] INFO - prefect.TaskRunner | Task 'get_markdown[108]': Finished task run for task with final state: 'Success'\n"
     ]
    },
    {
     "name": "stderr",
     "output_type": "stream",
     "text": [
      "INFO:prefect.TaskRunner:Task 'get_markdown[108]': Finished task run for task with final state: 'Success'\n"
     ]
    },
    {
     "name": "stdout",
     "output_type": "stream",
     "text": [
      "[2021-12-20 15:05:27-0700] INFO - prefect.TaskRunner | Task 'get_markdown[105]': Finished task run for task with final state: 'Success'\n"
     ]
    },
    {
     "name": "stderr",
     "output_type": "stream",
     "text": [
      "INFO:prefect.TaskRunner:Task 'get_markdown[105]': Finished task run for task with final state: 'Success'\n"
     ]
    },
    {
     "name": "stdout",
     "output_type": "stream",
     "text": [
      "[2021-12-20 15:05:28-0700] INFO - prefect.TaskRunner | Task 'get_markdown[11]': Finished task run for task with final state: 'Success'\n"
     ]
    },
    {
     "name": "stderr",
     "output_type": "stream",
     "text": [
      "INFO:prefect.TaskRunner:Task 'get_markdown[11]': Finished task run for task with final state: 'Success'\n"
     ]
    },
    {
     "name": "stdout",
     "output_type": "stream",
     "text": [
      "[2021-12-20 15:05:28-0700] INFO - prefect.TaskRunner | Task 'get_markdown[107]': Finished task run for task with final state: 'Success'\n"
     ]
    },
    {
     "name": "stderr",
     "output_type": "stream",
     "text": [
      "INFO:prefect.TaskRunner:Task 'get_markdown[107]': Finished task run for task with final state: 'Success'\n"
     ]
    },
    {
     "name": "stdout",
     "output_type": "stream",
     "text": [
      "[2021-12-20 15:05:28-0700] INFO - prefect.TaskRunner | Task 'get_markdown[114]': Starting task run...\n",
      "[2021-12-20 15:05:28-0700] INFO - prefect.TaskRunner | Task 'get_markdown[115]': Starting task run...\n"
     ]
    },
    {
     "name": "stderr",
     "output_type": "stream",
     "text": [
      "INFO:prefect.TaskRunner:Task 'get_markdown[114]': Starting task run...\n"
     ]
    },
    {
     "name": "stdout",
     "output_type": "stream",
     "text": [
      "[2021-12-20 15:05:28-0700] INFO - prefect.TaskRunner | Task 'get_markdown[116]': Starting task run...\n"
     ]
    },
    {
     "name": "stderr",
     "output_type": "stream",
     "text": [
      "INFO:prefect.TaskRunner:Task 'get_markdown[115]': Starting task run...\n"
     ]
    },
    {
     "name": "stdout",
     "output_type": "stream",
     "text": [
      "[2021-12-20 15:05:28-0700] INFO - prefect.TaskRunner | Task 'get_markdown[117]': Starting task run...\n"
     ]
    },
    {
     "name": "stderr",
     "output_type": "stream",
     "text": [
      "INFO:prefect.TaskRunner:Task 'get_markdown[116]': Starting task run...\n"
     ]
    },
    {
     "name": "stdout",
     "output_type": "stream",
     "text": [
      "[2021-12-20 15:05:28-0700] INFO - prefect.TaskRunner | Task 'get_markdown[118]': Starting task run...\n",
      "[2021-12-20 15:05:28-0700] INFO - prefect.TaskRunner | Task 'get_markdown[119]': Starting task run...\n"
     ]
    },
    {
     "name": "stderr",
     "output_type": "stream",
     "text": [
      "INFO:prefect.TaskRunner:Task 'get_markdown[117]': Starting task run...\n",
      "INFO:prefect.TaskRunner:Task 'get_markdown[118]': Starting task run...\n",
      "INFO:prefect.TaskRunner:Task 'get_markdown[119]': Starting task run...\n"
     ]
    },
    {
     "name": "stdout",
     "output_type": "stream",
     "text": [
      "[2021-12-20 15:05:38-0700] INFO - prefect.TaskRunner | Task 'get_markdown[112]': Finished task run for task with final state: 'Success'\n"
     ]
    },
    {
     "name": "stderr",
     "output_type": "stream",
     "text": [
      "INFO:prefect.TaskRunner:Task 'get_markdown[112]': Finished task run for task with final state: 'Success'\n"
     ]
    },
    {
     "name": "stdout",
     "output_type": "stream",
     "text": [
      "[2021-12-20 15:05:38-0700] INFO - prefect.TaskRunner | Task 'get_markdown[113]': Finished task run for task with final state: 'Success'\n",
      "[2021-12-20 15:05:39-0700] INFO - prefect.TaskRunner | Task 'get_markdown[12]': Starting task run...\n"
     ]
    },
    {
     "name": "stderr",
     "output_type": "stream",
     "text": [
      "INFO:prefect.TaskRunner:Task 'get_markdown[113]': Finished task run for task with final state: 'Success'\n",
      "INFO:prefect.TaskRunner:Task 'get_markdown[12]': Starting task run...\n"
     ]
    },
    {
     "name": "stdout",
     "output_type": "stream",
     "text": [
      "[2021-12-20 15:05:39-0700] INFO - prefect.TaskRunner | Task 'get_markdown[120]': Starting task run...\n"
     ]
    },
    {
     "name": "stderr",
     "output_type": "stream",
     "text": [
      "INFO:prefect.TaskRunner:Task 'get_markdown[120]': Starting task run...\n"
     ]
    },
    {
     "name": "stdout",
     "output_type": "stream",
     "text": [
      "[2021-12-20 15:05:41-0700] INFO - prefect.TaskRunner | Task 'get_markdown[114]': Finished task run for task with final state: 'Success'\n"
     ]
    },
    {
     "name": "stderr",
     "output_type": "stream",
     "text": [
      "INFO:prefect.TaskRunner:Task 'get_markdown[114]': Finished task run for task with final state: 'Success'\n"
     ]
    },
    {
     "name": "stdout",
     "output_type": "stream",
     "text": [
      "[2021-12-20 15:05:41-0700] INFO - prefect.TaskRunner | Task 'get_markdown[121]': Starting task run...\n"
     ]
    },
    {
     "name": "stderr",
     "output_type": "stream",
     "text": [
      "INFO:prefect.TaskRunner:Task 'get_markdown[121]': Starting task run...\n"
     ]
    },
    {
     "name": "stdout",
     "output_type": "stream",
     "text": [
      "[2021-12-20 15:05:42-0700] INFO - prefect.TaskRunner | Task 'get_markdown[116]': Finished task run for task with final state: 'Success'\n"
     ]
    },
    {
     "name": "stderr",
     "output_type": "stream",
     "text": [
      "INFO:prefect.TaskRunner:Task 'get_markdown[116]': Finished task run for task with final state: 'Success'\n"
     ]
    },
    {
     "name": "stdout",
     "output_type": "stream",
     "text": [
      "[2021-12-20 15:05:42-0700] INFO - prefect.TaskRunner | Task 'get_markdown[118]': Finished task run for task with final state: 'Success'\n"
     ]
    },
    {
     "name": "stderr",
     "output_type": "stream",
     "text": [
      "INFO:prefect.TaskRunner:Task 'get_markdown[118]': Finished task run for task with final state: 'Success'\n"
     ]
    },
    {
     "name": "stdout",
     "output_type": "stream",
     "text": [
      "[2021-12-20 15:05:43-0700] INFO - prefect.TaskRunner | Task 'get_markdown[117]': Finished task run for task with final state: 'Success'\n"
     ]
    },
    {
     "name": "stderr",
     "output_type": "stream",
     "text": [
      "INFO:prefect.TaskRunner:Task 'get_markdown[117]': Finished task run for task with final state: 'Success'\n"
     ]
    },
    {
     "name": "stdout",
     "output_type": "stream",
     "text": [
      "[2021-12-20 15:05:43-0700] INFO - prefect.TaskRunner | Task 'get_markdown[115]': Finished task run for task with final state: 'Success'\n"
     ]
    },
    {
     "name": "stderr",
     "output_type": "stream",
     "text": [
      "INFO:prefect.TaskRunner:Task 'get_markdown[115]': Finished task run for task with final state: 'Success'\n"
     ]
    },
    {
     "name": "stdout",
     "output_type": "stream",
     "text": [
      "[2021-12-20 15:05:43-0700] INFO - prefect.TaskRunner | Task 'get_markdown[119]': Finished task run for task with final state: 'Success'\n"
     ]
    },
    {
     "name": "stderr",
     "output_type": "stream",
     "text": [
      "INFO:prefect.TaskRunner:Task 'get_markdown[119]': Finished task run for task with final state: 'Success'\n"
     ]
    },
    {
     "name": "stdout",
     "output_type": "stream",
     "text": [
      "[2021-12-20 15:05:43-0700] INFO - prefect.TaskRunner | Task 'get_markdown[122]': Starting task run...\n"
     ]
    },
    {
     "name": "stderr",
     "output_type": "stream",
     "text": [
      "INFO:prefect.TaskRunner:Task 'get_markdown[122]': Starting task run...\n"
     ]
    },
    {
     "name": "stdout",
     "output_type": "stream",
     "text": [
      "[2021-12-20 15:05:43-0700] INFO - prefect.TaskRunner | Task 'get_markdown[123]': Starting task run...\n"
     ]
    },
    {
     "name": "stderr",
     "output_type": "stream",
     "text": [
      "INFO:prefect.TaskRunner:Task 'get_markdown[123]': Starting task run...\n"
     ]
    },
    {
     "name": "stdout",
     "output_type": "stream",
     "text": [
      "[2021-12-20 15:05:43-0700] INFO - prefect.TaskRunner | Task 'get_markdown[124]': Starting task run...\n"
     ]
    },
    {
     "name": "stderr",
     "output_type": "stream",
     "text": [
      "INFO:prefect.TaskRunner:Task 'get_markdown[124]': Starting task run...\n"
     ]
    },
    {
     "name": "stdout",
     "output_type": "stream",
     "text": [
      "[2021-12-20 15:05:43-0700] INFO - prefect.TaskRunner | Task 'get_markdown[125]': Starting task run...\n"
     ]
    },
    {
     "name": "stderr",
     "output_type": "stream",
     "text": [
      "INFO:prefect.TaskRunner:Task 'get_markdown[125]': Starting task run...\n"
     ]
    },
    {
     "name": "stdout",
     "output_type": "stream",
     "text": [
      "[2021-12-20 15:05:43-0700] INFO - prefect.TaskRunner | Task 'get_markdown[126]': Starting task run...\n"
     ]
    },
    {
     "name": "stderr",
     "output_type": "stream",
     "text": [
      "INFO:prefect.TaskRunner:Task 'get_markdown[126]': Starting task run...\n"
     ]
    },
    {
     "name": "stdout",
     "output_type": "stream",
     "text": [
      "[2021-12-20 15:05:49-0700] INFO - prefect.TaskRunner | Task 'get_markdown[120]': Finished task run for task with final state: 'Success'\n"
     ]
    },
    {
     "name": "stderr",
     "output_type": "stream",
     "text": [
      "INFO:prefect.TaskRunner:Task 'get_markdown[120]': Finished task run for task with final state: 'Success'\n"
     ]
    },
    {
     "name": "stdout",
     "output_type": "stream",
     "text": [
      "[2021-12-20 15:05:49-0700] INFO - prefect.TaskRunner | Task 'get_markdown[127]': Starting task run...\n"
     ]
    },
    {
     "name": "stderr",
     "output_type": "stream",
     "text": [
      "INFO:prefect.TaskRunner:Task 'get_markdown[127]': Starting task run...\n"
     ]
    },
    {
     "name": "stdout",
     "output_type": "stream",
     "text": [
      "[2021-12-20 15:05:49-0700] INFO - prefect.TaskRunner | Task 'get_markdown[12]': Finished task run for task with final state: 'Success'\n"
     ]
    },
    {
     "name": "stderr",
     "output_type": "stream",
     "text": [
      "INFO:prefect.TaskRunner:Task 'get_markdown[12]': Finished task run for task with final state: 'Success'\n"
     ]
    },
    {
     "name": "stdout",
     "output_type": "stream",
     "text": [
      "[2021-12-20 15:05:49-0700] INFO - prefect.TaskRunner | Task 'get_markdown[128]': Starting task run...\n"
     ]
    },
    {
     "name": "stderr",
     "output_type": "stream",
     "text": [
      "INFO:prefect.TaskRunner:Task 'get_markdown[128]': Starting task run...\n"
     ]
    },
    {
     "name": "stdout",
     "output_type": "stream",
     "text": [
      "[2021-12-20 15:05:50-0700] INFO - prefect.TaskRunner | Task 'get_markdown[121]': Finished task run for task with final state: 'Success'\n"
     ]
    },
    {
     "name": "stderr",
     "output_type": "stream",
     "text": [
      "INFO:prefect.TaskRunner:Task 'get_markdown[121]': Finished task run for task with final state: 'Success'\n"
     ]
    },
    {
     "name": "stdout",
     "output_type": "stream",
     "text": [
      "[2021-12-20 15:05:50-0700] INFO - prefect.TaskRunner | Task 'get_markdown[129]': Starting task run...\n"
     ]
    },
    {
     "name": "stderr",
     "output_type": "stream",
     "text": [
      "INFO:prefect.TaskRunner:Task 'get_markdown[129]': Starting task run...\n"
     ]
    },
    {
     "name": "stdout",
     "output_type": "stream",
     "text": [
      "[2021-12-20 15:05:56-0700] INFO - prefect.TaskRunner | Task 'get_markdown[123]': Finished task run for task with final state: 'Success'\n"
     ]
    },
    {
     "name": "stderr",
     "output_type": "stream",
     "text": [
      "INFO:prefect.TaskRunner:Task 'get_markdown[123]': Finished task run for task with final state: 'Success'\n"
     ]
    },
    {
     "name": "stdout",
     "output_type": "stream",
     "text": [
      "[2021-12-20 15:05:56-0700] INFO - prefect.TaskRunner | Task 'get_markdown[13]': Starting task run...\n"
     ]
    },
    {
     "name": "stderr",
     "output_type": "stream",
     "text": [
      "INFO:prefect.TaskRunner:Task 'get_markdown[13]': Starting task run...\n"
     ]
    },
    {
     "name": "stdout",
     "output_type": "stream",
     "text": [
      "[2021-12-20 15:05:56-0700] INFO - prefect.TaskRunner | Task 'get_markdown[124]': Finished task run for task with final state: 'Success'\n"
     ]
    },
    {
     "name": "stderr",
     "output_type": "stream",
     "text": [
      "INFO:prefect.TaskRunner:Task 'get_markdown[124]': Finished task run for task with final state: 'Success'\n"
     ]
    },
    {
     "name": "stdout",
     "output_type": "stream",
     "text": [
      "[2021-12-20 15:05:56-0700] INFO - prefect.TaskRunner | Task 'get_markdown[130]': Starting task run...\n"
     ]
    },
    {
     "name": "stderr",
     "output_type": "stream",
     "text": [
      "INFO:prefect.TaskRunner:Task 'get_markdown[130]': Starting task run...\n"
     ]
    },
    {
     "name": "stdout",
     "output_type": "stream",
     "text": [
      "[2021-12-20 15:05:56-0700] INFO - prefect.TaskRunner | Task 'get_markdown[126]': Finished task run for task with final state: 'Success'\n"
     ]
    },
    {
     "name": "stderr",
     "output_type": "stream",
     "text": [
      "INFO:prefect.TaskRunner:Task 'get_markdown[126]': Finished task run for task with final state: 'Success'\n"
     ]
    },
    {
     "name": "stdout",
     "output_type": "stream",
     "text": [
      "[2021-12-20 15:05:57-0700] INFO - prefect.TaskRunner | Task 'get_markdown[131]': Starting task run...\n"
     ]
    },
    {
     "name": "stderr",
     "output_type": "stream",
     "text": [
      "INFO:prefect.TaskRunner:Task 'get_markdown[131]': Starting task run...\n"
     ]
    },
    {
     "name": "stdout",
     "output_type": "stream",
     "text": [
      "[2021-12-20 15:05:57-0700] INFO - prefect.TaskRunner | Task 'get_markdown[125]': Finished task run for task with final state: 'Success'\n"
     ]
    },
    {
     "name": "stderr",
     "output_type": "stream",
     "text": [
      "INFO:prefect.TaskRunner:Task 'get_markdown[125]': Finished task run for task with final state: 'Success'\n"
     ]
    },
    {
     "name": "stdout",
     "output_type": "stream",
     "text": [
      "[2021-12-20 15:05:57-0700] INFO - prefect.TaskRunner | Task 'get_markdown[132]': Starting task run...\n"
     ]
    },
    {
     "name": "stderr",
     "output_type": "stream",
     "text": [
      "INFO:prefect.TaskRunner:Task 'get_markdown[132]': Starting task run...\n"
     ]
    },
    {
     "name": "stdout",
     "output_type": "stream",
     "text": [
      "[2021-12-20 15:05:57-0700] INFO - prefect.TaskRunner | Task 'get_markdown[122]': Finished task run for task with final state: 'Success'\n"
     ]
    },
    {
     "name": "stderr",
     "output_type": "stream",
     "text": [
      "INFO:prefect.TaskRunner:Task 'get_markdown[122]': Finished task run for task with final state: 'Success'\n"
     ]
    },
    {
     "name": "stdout",
     "output_type": "stream",
     "text": [
      "[2021-12-20 15:05:57-0700] INFO - prefect.TaskRunner | Task 'get_markdown[133]': Starting task run...\n"
     ]
    },
    {
     "name": "stderr",
     "output_type": "stream",
     "text": [
      "INFO:prefect.TaskRunner:Task 'get_markdown[133]': Starting task run...\n"
     ]
    },
    {
     "name": "stdout",
     "output_type": "stream",
     "text": [
      "[2021-12-20 15:06:01-0700] INFO - prefect.TaskRunner | Task 'get_markdown[127]': Finished task run for task with final state: 'Success'\n"
     ]
    },
    {
     "name": "stderr",
     "output_type": "stream",
     "text": [
      "INFO:prefect.TaskRunner:Task 'get_markdown[127]': Finished task run for task with final state: 'Success'\n"
     ]
    },
    {
     "name": "stdout",
     "output_type": "stream",
     "text": [
      "[2021-12-20 15:06:01-0700] INFO - prefect.TaskRunner | Task 'get_markdown[134]': Starting task run...\n"
     ]
    },
    {
     "name": "stderr",
     "output_type": "stream",
     "text": [
      "INFO:prefect.TaskRunner:Task 'get_markdown[134]': Starting task run...\n"
     ]
    },
    {
     "name": "stdout",
     "output_type": "stream",
     "text": [
      "[2021-12-20 15:06:01-0700] INFO - prefect.TaskRunner | Task 'get_markdown[128]': Finished task run for task with final state: 'Success'\n"
     ]
    },
    {
     "name": "stderr",
     "output_type": "stream",
     "text": [
      "INFO:prefect.TaskRunner:Task 'get_markdown[128]': Finished task run for task with final state: 'Success'\n"
     ]
    },
    {
     "name": "stdout",
     "output_type": "stream",
     "text": [
      "[2021-12-20 15:06:01-0700] INFO - prefect.TaskRunner | Task 'get_markdown[135]': Starting task run...\n"
     ]
    },
    {
     "name": "stderr",
     "output_type": "stream",
     "text": [
      "INFO:prefect.TaskRunner:Task 'get_markdown[135]': Starting task run...\n"
     ]
    },
    {
     "name": "stdout",
     "output_type": "stream",
     "text": [
      "[2021-12-20 15:06:02-0700] INFO - prefect.TaskRunner | Task 'get_markdown[129]': Finished task run for task with final state: 'Success'\n"
     ]
    },
    {
     "name": "stderr",
     "output_type": "stream",
     "text": [
      "INFO:prefect.TaskRunner:Task 'get_markdown[129]': Finished task run for task with final state: 'Success'\n"
     ]
    },
    {
     "name": "stdout",
     "output_type": "stream",
     "text": [
      "[2021-12-20 15:06:02-0700] INFO - prefect.TaskRunner | Task 'get_markdown[136]': Starting task run...\n"
     ]
    },
    {
     "name": "stderr",
     "output_type": "stream",
     "text": [
      "INFO:prefect.TaskRunner:Task 'get_markdown[136]': Starting task run...\n"
     ]
    },
    {
     "name": "stdout",
     "output_type": "stream",
     "text": [
      "[2021-12-20 15:06:07-0700] INFO - prefect.TaskRunner | Task 'get_markdown[13]': Finished task run for task with final state: 'Success'\n"
     ]
    },
    {
     "name": "stderr",
     "output_type": "stream",
     "text": [
      "INFO:prefect.TaskRunner:Task 'get_markdown[13]': Finished task run for task with final state: 'Success'\n"
     ]
    },
    {
     "name": "stdout",
     "output_type": "stream",
     "text": [
      "[2021-12-20 15:06:07-0700] INFO - prefect.TaskRunner | Task 'get_markdown[137]': Starting task run...\n"
     ]
    },
    {
     "name": "stderr",
     "output_type": "stream",
     "text": [
      "INFO:prefect.TaskRunner:Task 'get_markdown[137]': Starting task run...\n"
     ]
    },
    {
     "name": "stdout",
     "output_type": "stream",
     "text": [
      "[2021-12-20 15:06:09-0700] INFO - prefect.TaskRunner | Task 'get_markdown[130]': Finished task run for task with final state: 'Success'\n"
     ]
    },
    {
     "name": "stderr",
     "output_type": "stream",
     "text": [
      "INFO:prefect.TaskRunner:Task 'get_markdown[130]': Finished task run for task with final state: 'Success'\n"
     ]
    },
    {
     "name": "stdout",
     "output_type": "stream",
     "text": [
      "[2021-12-20 15:06:09-0700] INFO - prefect.TaskRunner | Task 'get_markdown[138]': Starting task run...\n"
     ]
    },
    {
     "name": "stderr",
     "output_type": "stream",
     "text": [
      "INFO:prefect.TaskRunner:Task 'get_markdown[138]': Starting task run...\n"
     ]
    },
    {
     "name": "stdout",
     "output_type": "stream",
     "text": [
      "[2021-12-20 15:06:10-0700] INFO - prefect.TaskRunner | Task 'get_markdown[131]': Finished task run for task with final state: 'Success'\n"
     ]
    },
    {
     "name": "stderr",
     "output_type": "stream",
     "text": [
      "INFO:prefect.TaskRunner:Task 'get_markdown[131]': Finished task run for task with final state: 'Success'\n"
     ]
    },
    {
     "name": "stdout",
     "output_type": "stream",
     "text": [
      "[2021-12-20 15:06:10-0700] INFO - prefect.TaskRunner | Task 'get_markdown[139]': Starting task run...\n"
     ]
    },
    {
     "name": "stderr",
     "output_type": "stream",
     "text": [
      "INFO:prefect.TaskRunner:Task 'get_markdown[139]': Starting task run...\n"
     ]
    },
    {
     "name": "stdout",
     "output_type": "stream",
     "text": [
      "[2021-12-20 15:06:10-0700] INFO - prefect.TaskRunner | Task 'get_markdown[133]': Finished task run for task with final state: 'Success'\n"
     ]
    },
    {
     "name": "stderr",
     "output_type": "stream",
     "text": [
      "INFO:prefect.TaskRunner:Task 'get_markdown[133]': Finished task run for task with final state: 'Success'\n"
     ]
    },
    {
     "name": "stdout",
     "output_type": "stream",
     "text": [
      "[2021-12-20 15:06:10-0700] INFO - prefect.TaskRunner | Task 'get_markdown[14]': Starting task run...\n"
     ]
    },
    {
     "name": "stderr",
     "output_type": "stream",
     "text": [
      "INFO:prefect.TaskRunner:Task 'get_markdown[14]': Starting task run...\n"
     ]
    },
    {
     "name": "stdout",
     "output_type": "stream",
     "text": [
      "[2021-12-20 15:06:11-0700] INFO - prefect.TaskRunner | Task 'get_markdown[132]': Finished task run for task with final state: 'Success'\n"
     ]
    },
    {
     "name": "stderr",
     "output_type": "stream",
     "text": [
      "INFO:prefect.TaskRunner:Task 'get_markdown[132]': Finished task run for task with final state: 'Success'\n"
     ]
    },
    {
     "name": "stdout",
     "output_type": "stream",
     "text": [
      "[2021-12-20 15:06:11-0700] INFO - prefect.TaskRunner | Task 'get_markdown[140]': Starting task run...\n"
     ]
    },
    {
     "name": "stderr",
     "output_type": "stream",
     "text": [
      "INFO:prefect.TaskRunner:Task 'get_markdown[140]': Starting task run...\n"
     ]
    },
    {
     "name": "stdout",
     "output_type": "stream",
     "text": [
      "[2021-12-20 15:06:13-0700] INFO - prefect.TaskRunner | Task 'get_markdown[134]': Finished task run for task with final state: 'Success'\n"
     ]
    },
    {
     "name": "stderr",
     "output_type": "stream",
     "text": [
      "INFO:prefect.TaskRunner:Task 'get_markdown[134]': Finished task run for task with final state: 'Success'\n"
     ]
    },
    {
     "name": "stdout",
     "output_type": "stream",
     "text": [
      "[2021-12-20 15:06:13-0700] INFO - prefect.TaskRunner | Task 'get_markdown[141]': Starting task run...\n"
     ]
    },
    {
     "name": "stderr",
     "output_type": "stream",
     "text": [
      "INFO:prefect.TaskRunner:Task 'get_markdown[141]': Starting task run...\n"
     ]
    },
    {
     "name": "stdout",
     "output_type": "stream",
     "text": [
      "[2021-12-20 15:06:13-0700] INFO - prefect.TaskRunner | Task 'get_markdown[135]': Finished task run for task with final state: 'Success'\n"
     ]
    },
    {
     "name": "stderr",
     "output_type": "stream",
     "text": [
      "INFO:prefect.TaskRunner:Task 'get_markdown[135]': Finished task run for task with final state: 'Success'\n"
     ]
    },
    {
     "name": "stdout",
     "output_type": "stream",
     "text": [
      "[2021-12-20 15:06:13-0700] INFO - prefect.TaskRunner | Task 'get_markdown[142]': Starting task run...\n"
     ]
    },
    {
     "name": "stderr",
     "output_type": "stream",
     "text": [
      "INFO:prefect.TaskRunner:Task 'get_markdown[142]': Starting task run...\n"
     ]
    },
    {
     "name": "stdout",
     "output_type": "stream",
     "text": [
      "[2021-12-20 15:06:14-0700] INFO - prefect.TaskRunner | Task 'get_markdown[136]': Finished task run for task with final state: 'Success'\n"
     ]
    },
    {
     "name": "stderr",
     "output_type": "stream",
     "text": [
      "INFO:prefect.TaskRunner:Task 'get_markdown[136]': Finished task run for task with final state: 'Success'\n"
     ]
    },
    {
     "name": "stdout",
     "output_type": "stream",
     "text": [
      "[2021-12-20 15:06:14-0700] INFO - prefect.TaskRunner | Task 'get_markdown[143]': Starting task run...\n"
     ]
    },
    {
     "name": "stderr",
     "output_type": "stream",
     "text": [
      "INFO:prefect.TaskRunner:Task 'get_markdown[143]': Starting task run...\n"
     ]
    },
    {
     "name": "stdout",
     "output_type": "stream",
     "text": [
      "[2021-12-20 15:06:20-0700] INFO - prefect.TaskRunner | Task 'get_markdown[137]': Finished task run for task with final state: 'Success'\n"
     ]
    },
    {
     "name": "stderr",
     "output_type": "stream",
     "text": [
      "INFO:prefect.TaskRunner:Task 'get_markdown[137]': Finished task run for task with final state: 'Success'\n"
     ]
    },
    {
     "name": "stdout",
     "output_type": "stream",
     "text": [
      "[2021-12-20 15:06:20-0700] INFO - prefect.TaskRunner | Task 'get_markdown[144]': Starting task run...\n"
     ]
    },
    {
     "name": "stderr",
     "output_type": "stream",
     "text": [
      "INFO:prefect.TaskRunner:Task 'get_markdown[144]': Starting task run...\n"
     ]
    },
    {
     "name": "stdout",
     "output_type": "stream",
     "text": [
      "[2021-12-20 15:06:22-0700] INFO - prefect.TaskRunner | Task 'get_markdown[138]': Finished task run for task with final state: 'Success'\n"
     ]
    },
    {
     "name": "stderr",
     "output_type": "stream",
     "text": [
      "INFO:prefect.TaskRunner:Task 'get_markdown[138]': Finished task run for task with final state: 'Success'\n"
     ]
    },
    {
     "name": "stdout",
     "output_type": "stream",
     "text": [
      "[2021-12-20 15:06:22-0700] INFO - prefect.TaskRunner | Task 'get_markdown[145]': Starting task run...\n"
     ]
    },
    {
     "name": "stderr",
     "output_type": "stream",
     "text": [
      "INFO:prefect.TaskRunner:Task 'get_markdown[145]': Starting task run...\n"
     ]
    },
    {
     "name": "stdout",
     "output_type": "stream",
     "text": [
      "[2021-12-20 15:06:24-0700] INFO - prefect.TaskRunner | Task 'get_markdown[139]': Finished task run for task with final state: 'Success'\n"
     ]
    },
    {
     "name": "stderr",
     "output_type": "stream",
     "text": [
      "INFO:prefect.TaskRunner:Task 'get_markdown[139]': Finished task run for task with final state: 'Success'\n"
     ]
    },
    {
     "name": "stdout",
     "output_type": "stream",
     "text": [
      "[2021-12-20 15:06:24-0700] INFO - prefect.TaskRunner | Task 'get_markdown[146]': Starting task run...\n"
     ]
    },
    {
     "name": "stderr",
     "output_type": "stream",
     "text": [
      "INFO:prefect.TaskRunner:Task 'get_markdown[146]': Starting task run...\n"
     ]
    },
    {
     "name": "stdout",
     "output_type": "stream",
     "text": [
      "[2021-12-20 15:06:24-0700] INFO - prefect.TaskRunner | Task 'get_markdown[140]': Finished task run for task with final state: 'Success'\n"
     ]
    },
    {
     "name": "stderr",
     "output_type": "stream",
     "text": [
      "INFO:prefect.TaskRunner:Task 'get_markdown[140]': Finished task run for task with final state: 'Success'\n"
     ]
    },
    {
     "name": "stdout",
     "output_type": "stream",
     "text": [
      "[2021-12-20 15:06:24-0700] INFO - prefect.TaskRunner | Task 'get_markdown[147]': Starting task run...\n"
     ]
    },
    {
     "name": "stderr",
     "output_type": "stream",
     "text": [
      "INFO:prefect.TaskRunner:Task 'get_markdown[147]': Starting task run...\n"
     ]
    },
    {
     "name": "stdout",
     "output_type": "stream",
     "text": [
      "[2021-12-20 15:06:25-0700] INFO - prefect.TaskRunner | Task 'get_markdown[14]': Finished task run for task with final state: 'Success'\n"
     ]
    },
    {
     "name": "stderr",
     "output_type": "stream",
     "text": [
      "INFO:prefect.TaskRunner:Task 'get_markdown[14]': Finished task run for task with final state: 'Success'\n"
     ]
    },
    {
     "name": "stdout",
     "output_type": "stream",
     "text": [
      "[2021-12-20 15:06:25-0700] INFO - prefect.TaskRunner | Task 'get_markdown[148]': Starting task run...\n"
     ]
    },
    {
     "name": "stderr",
     "output_type": "stream",
     "text": [
      "INFO:prefect.TaskRunner:Task 'get_markdown[148]': Starting task run...\n"
     ]
    },
    {
     "name": "stdout",
     "output_type": "stream",
     "text": [
      "[2021-12-20 15:06:26-0700] INFO - prefect.TaskRunner | Task 'get_markdown[141]': Finished task run for task with final state: 'Success'\n"
     ]
    },
    {
     "name": "stderr",
     "output_type": "stream",
     "text": [
      "INFO:prefect.TaskRunner:Task 'get_markdown[141]': Finished task run for task with final state: 'Success'\n"
     ]
    },
    {
     "name": "stdout",
     "output_type": "stream",
     "text": [
      "[2021-12-20 15:06:26-0700] INFO - prefect.TaskRunner | Task 'get_markdown[15]': Starting task run...\n"
     ]
    },
    {
     "name": "stderr",
     "output_type": "stream",
     "text": [
      "INFO:prefect.TaskRunner:Task 'get_markdown[15]': Starting task run...\n"
     ]
    },
    {
     "name": "stdout",
     "output_type": "stream",
     "text": [
      "[2021-12-20 15:06:26-0700] INFO - prefect.TaskRunner | Task 'get_markdown[142]': Finished task run for task with final state: 'Success'\n"
     ]
    },
    {
     "name": "stderr",
     "output_type": "stream",
     "text": [
      "INFO:prefect.TaskRunner:Task 'get_markdown[142]': Finished task run for task with final state: 'Success'\n"
     ]
    },
    {
     "name": "stdout",
     "output_type": "stream",
     "text": [
      "[2021-12-20 15:06:26-0700] INFO - prefect.TaskRunner | Task 'get_markdown[16]': Starting task run...\n"
     ]
    },
    {
     "name": "stderr",
     "output_type": "stream",
     "text": [
      "INFO:prefect.TaskRunner:Task 'get_markdown[16]': Starting task run...\n"
     ]
    },
    {
     "name": "stdout",
     "output_type": "stream",
     "text": [
      "[2021-12-20 15:06:26-0700] INFO - prefect.TaskRunner | Task 'get_markdown[143]': Finished task run for task with final state: 'Success'\n"
     ]
    },
    {
     "name": "stderr",
     "output_type": "stream",
     "text": [
      "INFO:prefect.TaskRunner:Task 'get_markdown[143]': Finished task run for task with final state: 'Success'\n"
     ]
    },
    {
     "name": "stdout",
     "output_type": "stream",
     "text": [
      "[2021-12-20 15:06:26-0700] INFO - prefect.TaskRunner | Task 'get_markdown[17]': Starting task run...\n"
     ]
    },
    {
     "name": "stderr",
     "output_type": "stream",
     "text": [
      "INFO:prefect.TaskRunner:Task 'get_markdown[17]': Starting task run...\n"
     ]
    },
    {
     "name": "stdout",
     "output_type": "stream",
     "text": [
      "[2021-12-20 15:06:31-0700] INFO - prefect.TaskRunner | Task 'get_markdown[144]': Finished task run for task with final state: 'Success'\n"
     ]
    },
    {
     "name": "stderr",
     "output_type": "stream",
     "text": [
      "INFO:prefect.TaskRunner:Task 'get_markdown[144]': Finished task run for task with final state: 'Success'\n"
     ]
    },
    {
     "name": "stdout",
     "output_type": "stream",
     "text": [
      "[2021-12-20 15:06:31-0700] INFO - prefect.TaskRunner | Task 'get_markdown[18]': Starting task run...\n"
     ]
    },
    {
     "name": "stderr",
     "output_type": "stream",
     "text": [
      "INFO:prefect.TaskRunner:Task 'get_markdown[18]': Starting task run...\n"
     ]
    },
    {
     "name": "stdout",
     "output_type": "stream",
     "text": [
      "[2021-12-20 15:06:32-0700] INFO - prefect.TaskRunner | Task 'get_markdown[145]': Finished task run for task with final state: 'Success'\n"
     ]
    },
    {
     "name": "stderr",
     "output_type": "stream",
     "text": [
      "INFO:prefect.TaskRunner:Task 'get_markdown[145]': Finished task run for task with final state: 'Success'\n"
     ]
    },
    {
     "name": "stdout",
     "output_type": "stream",
     "text": [
      "[2021-12-20 15:06:32-0700] INFO - prefect.TaskRunner | Task 'get_markdown[19]': Starting task run...\n"
     ]
    },
    {
     "name": "stderr",
     "output_type": "stream",
     "text": [
      "INFO:prefect.TaskRunner:Task 'get_markdown[19]': Starting task run...\n"
     ]
    },
    {
     "name": "stdout",
     "output_type": "stream",
     "text": [
      "[2021-12-20 15:06:36-0700] INFO - prefect.TaskRunner | Task 'get_markdown[146]': Finished task run for task with final state: 'Success'\n"
     ]
    },
    {
     "name": "stderr",
     "output_type": "stream",
     "text": [
      "INFO:prefect.TaskRunner:Task 'get_markdown[146]': Finished task run for task with final state: 'Success'\n"
     ]
    },
    {
     "name": "stdout",
     "output_type": "stream",
     "text": [
      "[2021-12-20 15:06:36-0700] INFO - prefect.TaskRunner | Task 'get_markdown[2]': Starting task run...\n"
     ]
    },
    {
     "name": "stderr",
     "output_type": "stream",
     "text": [
      "INFO:prefect.TaskRunner:Task 'get_markdown[2]': Starting task run...\n"
     ]
    },
    {
     "name": "stdout",
     "output_type": "stream",
     "text": [
      "[2021-12-20 15:06:36-0700] INFO - prefect.TaskRunner | Task 'get_markdown[147]': Finished task run for task with final state: 'Success'\n"
     ]
    },
    {
     "name": "stderr",
     "output_type": "stream",
     "text": [
      "INFO:prefect.TaskRunner:Task 'get_markdown[147]': Finished task run for task with final state: 'Success'\n"
     ]
    },
    {
     "name": "stdout",
     "output_type": "stream",
     "text": [
      "[2021-12-20 15:06:36-0700] INFO - prefect.TaskRunner | Task 'get_markdown[20]': Starting task run...\n"
     ]
    },
    {
     "name": "stderr",
     "output_type": "stream",
     "text": [
      "INFO:prefect.TaskRunner:Task 'get_markdown[20]': Starting task run...\n"
     ]
    },
    {
     "name": "stdout",
     "output_type": "stream",
     "text": [
      "[2021-12-20 15:06:38-0700] INFO - prefect.TaskRunner | Task 'get_markdown[148]': Finished task run for task with final state: 'Success'\n"
     ]
    },
    {
     "name": "stderr",
     "output_type": "stream",
     "text": [
      "INFO:prefect.TaskRunner:Task 'get_markdown[148]': Finished task run for task with final state: 'Success'\n"
     ]
    },
    {
     "name": "stdout",
     "output_type": "stream",
     "text": [
      "[2021-12-20 15:06:38-0700] INFO - prefect.TaskRunner | Task 'get_markdown[21]': Starting task run...\n"
     ]
    },
    {
     "name": "stderr",
     "output_type": "stream",
     "text": [
      "INFO:prefect.TaskRunner:Task 'get_markdown[21]': Starting task run...\n"
     ]
    },
    {
     "name": "stdout",
     "output_type": "stream",
     "text": [
      "[2021-12-20 15:06:39-0700] INFO - prefect.TaskRunner | Task 'get_markdown[15]': Finished task run for task with final state: 'Success'\n"
     ]
    },
    {
     "name": "stderr",
     "output_type": "stream",
     "text": [
      "INFO:prefect.TaskRunner:Task 'get_markdown[15]': Finished task run for task with final state: 'Success'\n"
     ]
    },
    {
     "name": "stdout",
     "output_type": "stream",
     "text": [
      "[2021-12-20 15:06:39-0700] INFO - prefect.TaskRunner | Task 'get_markdown[22]': Starting task run...\n"
     ]
    },
    {
     "name": "stderr",
     "output_type": "stream",
     "text": [
      "INFO:prefect.TaskRunner:Task 'get_markdown[22]': Starting task run...\n"
     ]
    },
    {
     "name": "stdout",
     "output_type": "stream",
     "text": [
      "[2021-12-20 15:06:39-0700] INFO - prefect.TaskRunner | Task 'get_markdown[16]': Finished task run for task with final state: 'Success'\n"
     ]
    },
    {
     "name": "stderr",
     "output_type": "stream",
     "text": [
      "INFO:prefect.TaskRunner:Task 'get_markdown[16]': Finished task run for task with final state: 'Success'\n"
     ]
    },
    {
     "name": "stdout",
     "output_type": "stream",
     "text": [
      "[2021-12-20 15:06:40-0700] INFO - prefect.TaskRunner | Task 'get_markdown[23]': Starting task run...\n"
     ]
    },
    {
     "name": "stderr",
     "output_type": "stream",
     "text": [
      "INFO:prefect.TaskRunner:Task 'get_markdown[23]': Starting task run...\n"
     ]
    },
    {
     "name": "stdout",
     "output_type": "stream",
     "text": [
      "[2021-12-20 15:06:40-0700] INFO - prefect.TaskRunner | Task 'get_markdown[17]': Finished task run for task with final state: 'Success'\n"
     ]
    },
    {
     "name": "stderr",
     "output_type": "stream",
     "text": [
      "INFO:prefect.TaskRunner:Task 'get_markdown[17]': Finished task run for task with final state: 'Success'\n"
     ]
    },
    {
     "name": "stdout",
     "output_type": "stream",
     "text": [
      "[2021-12-20 15:06:40-0700] INFO - prefect.TaskRunner | Task 'get_markdown[24]': Starting task run...\n"
     ]
    },
    {
     "name": "stderr",
     "output_type": "stream",
     "text": [
      "INFO:prefect.TaskRunner:Task 'get_markdown[24]': Starting task run...\n"
     ]
    },
    {
     "name": "stdout",
     "output_type": "stream",
     "text": [
      "[2021-12-20 15:06:44-0700] INFO - prefect.TaskRunner | Task 'get_markdown[18]': Finished task run for task with final state: 'Success'\n"
     ]
    },
    {
     "name": "stderr",
     "output_type": "stream",
     "text": [
      "INFO:prefect.TaskRunner:Task 'get_markdown[18]': Finished task run for task with final state: 'Success'\n"
     ]
    },
    {
     "name": "stdout",
     "output_type": "stream",
     "text": [
      "[2021-12-20 15:06:44-0700] INFO - prefect.TaskRunner | Task 'get_markdown[25]': Starting task run...\n"
     ]
    },
    {
     "name": "stderr",
     "output_type": "stream",
     "text": [
      "INFO:prefect.TaskRunner:Task 'get_markdown[25]': Starting task run...\n"
     ]
    },
    {
     "name": "stdout",
     "output_type": "stream",
     "text": [
      "[2021-12-20 15:06:45-0700] INFO - prefect.TaskRunner | Task 'get_markdown[19]': Finished task run for task with final state: 'Success'\n"
     ]
    },
    {
     "name": "stderr",
     "output_type": "stream",
     "text": [
      "INFO:prefect.TaskRunner:Task 'get_markdown[19]': Finished task run for task with final state: 'Success'\n"
     ]
    },
    {
     "name": "stdout",
     "output_type": "stream",
     "text": [
      "[2021-12-20 15:06:45-0700] INFO - prefect.TaskRunner | Task 'get_markdown[26]': Starting task run...\n"
     ]
    },
    {
     "name": "stderr",
     "output_type": "stream",
     "text": [
      "INFO:prefect.TaskRunner:Task 'get_markdown[26]': Starting task run...\n"
     ]
    },
    {
     "name": "stdout",
     "output_type": "stream",
     "text": [
      "[2021-12-20 15:06:50-0700] INFO - prefect.TaskRunner | Task 'get_markdown[20]': Finished task run for task with final state: 'Success'\n"
     ]
    },
    {
     "name": "stderr",
     "output_type": "stream",
     "text": [
      "INFO:prefect.TaskRunner:Task 'get_markdown[20]': Finished task run for task with final state: 'Success'\n"
     ]
    },
    {
     "name": "stdout",
     "output_type": "stream",
     "text": [
      "[2021-12-20 15:06:50-0700] INFO - prefect.TaskRunner | Task 'get_markdown[27]': Starting task run...\n"
     ]
    },
    {
     "name": "stderr",
     "output_type": "stream",
     "text": [
      "INFO:prefect.TaskRunner:Task 'get_markdown[27]': Starting task run...\n"
     ]
    },
    {
     "name": "stdout",
     "output_type": "stream",
     "text": [
      "[2021-12-20 15:06:50-0700] INFO - prefect.TaskRunner | Task 'get_markdown[2]': Finished task run for task with final state: 'Success'\n"
     ]
    },
    {
     "name": "stderr",
     "output_type": "stream",
     "text": [
      "INFO:prefect.TaskRunner:Task 'get_markdown[2]': Finished task run for task with final state: 'Success'\n"
     ]
    },
    {
     "name": "stdout",
     "output_type": "stream",
     "text": [
      "[2021-12-20 15:06:50-0700] INFO - prefect.TaskRunner | Task 'get_markdown[28]': Starting task run...\n"
     ]
    },
    {
     "name": "stderr",
     "output_type": "stream",
     "text": [
      "INFO:prefect.TaskRunner:Task 'get_markdown[28]': Starting task run...\n"
     ]
    },
    {
     "name": "stdout",
     "output_type": "stream",
     "text": [
      "[2021-12-20 15:06:51-0700] INFO - prefect.TaskRunner | Task 'get_markdown[21]': Finished task run for task with final state: 'Success'\n"
     ]
    },
    {
     "name": "stderr",
     "output_type": "stream",
     "text": [
      "INFO:prefect.TaskRunner:Task 'get_markdown[21]': Finished task run for task with final state: 'Success'\n"
     ]
    },
    {
     "name": "stdout",
     "output_type": "stream",
     "text": [
      "[2021-12-20 15:06:51-0700] INFO - prefect.TaskRunner | Task 'get_markdown[29]': Starting task run...\n"
     ]
    },
    {
     "name": "stderr",
     "output_type": "stream",
     "text": [
      "INFO:prefect.TaskRunner:Task 'get_markdown[29]': Starting task run...\n"
     ]
    },
    {
     "name": "stdout",
     "output_type": "stream",
     "text": [
      "[2021-12-20 15:06:52-0700] INFO - prefect.TaskRunner | Task 'get_markdown[22]': Finished task run for task with final state: 'Success'\n"
     ]
    },
    {
     "name": "stderr",
     "output_type": "stream",
     "text": [
      "INFO:prefect.TaskRunner:Task 'get_markdown[22]': Finished task run for task with final state: 'Success'\n"
     ]
    },
    {
     "name": "stdout",
     "output_type": "stream",
     "text": [
      "[2021-12-20 15:06:52-0700] INFO - prefect.TaskRunner | Task 'get_markdown[3]': Starting task run...\n"
     ]
    },
    {
     "name": "stderr",
     "output_type": "stream",
     "text": [
      "INFO:prefect.TaskRunner:Task 'get_markdown[3]': Starting task run...\n"
     ]
    },
    {
     "name": "stdout",
     "output_type": "stream",
     "text": [
      "[2021-12-20 15:06:53-0700] INFO - prefect.TaskRunner | Task 'get_markdown[23]': Finished task run for task with final state: 'Success'\n"
     ]
    },
    {
     "name": "stderr",
     "output_type": "stream",
     "text": [
      "INFO:prefect.TaskRunner:Task 'get_markdown[23]': Finished task run for task with final state: 'Success'\n"
     ]
    },
    {
     "name": "stdout",
     "output_type": "stream",
     "text": [
      "[2021-12-20 15:06:53-0700] INFO - prefect.TaskRunner | Task 'get_markdown[30]': Starting task run...\n"
     ]
    },
    {
     "name": "stderr",
     "output_type": "stream",
     "text": [
      "INFO:prefect.TaskRunner:Task 'get_markdown[30]': Starting task run...\n"
     ]
    },
    {
     "name": "stdout",
     "output_type": "stream",
     "text": [
      "[2021-12-20 15:06:53-0700] INFO - prefect.TaskRunner | Task 'get_markdown[24]': Finished task run for task with final state: 'Success'\n"
     ]
    },
    {
     "name": "stderr",
     "output_type": "stream",
     "text": [
      "INFO:prefect.TaskRunner:Task 'get_markdown[24]': Finished task run for task with final state: 'Success'\n"
     ]
    },
    {
     "name": "stdout",
     "output_type": "stream",
     "text": [
      "[2021-12-20 15:06:53-0700] INFO - prefect.TaskRunner | Task 'get_markdown[31]': Starting task run...\n"
     ]
    },
    {
     "name": "stderr",
     "output_type": "stream",
     "text": [
      "INFO:prefect.TaskRunner:Task 'get_markdown[31]': Starting task run...\n"
     ]
    },
    {
     "name": "stdout",
     "output_type": "stream",
     "text": [
      "[2021-12-20 15:06:57-0700] INFO - prefect.TaskRunner | Task 'get_markdown[25]': Finished task run for task with final state: 'Success'\n"
     ]
    },
    {
     "name": "stderr",
     "output_type": "stream",
     "text": [
      "INFO:prefect.TaskRunner:Task 'get_markdown[25]': Finished task run for task with final state: 'Success'\n"
     ]
    },
    {
     "name": "stdout",
     "output_type": "stream",
     "text": [
      "[2021-12-20 15:06:57-0700] INFO - prefect.TaskRunner | Task 'get_markdown[32]': Starting task run...\n"
     ]
    },
    {
     "name": "stderr",
     "output_type": "stream",
     "text": [
      "INFO:prefect.TaskRunner:Task 'get_markdown[32]': Starting task run...\n"
     ]
    },
    {
     "name": "stdout",
     "output_type": "stream",
     "text": [
      "[2021-12-20 15:06:58-0700] INFO - prefect.TaskRunner | Task 'get_markdown[26]': Finished task run for task with final state: 'Success'\n"
     ]
    },
    {
     "name": "stderr",
     "output_type": "stream",
     "text": [
      "INFO:prefect.TaskRunner:Task 'get_markdown[26]': Finished task run for task with final state: 'Success'\n"
     ]
    },
    {
     "name": "stdout",
     "output_type": "stream",
     "text": [
      "[2021-12-20 15:06:58-0700] INFO - prefect.TaskRunner | Task 'get_markdown[33]': Starting task run...\n"
     ]
    },
    {
     "name": "stderr",
     "output_type": "stream",
     "text": [
      "INFO:prefect.TaskRunner:Task 'get_markdown[33]': Starting task run...\n"
     ]
    },
    {
     "name": "stdout",
     "output_type": "stream",
     "text": [
      "[2021-12-20 15:07:03-0700] INFO - prefect.TaskRunner | Task 'get_markdown[27]': Finished task run for task with final state: 'Success'\n"
     ]
    },
    {
     "name": "stderr",
     "output_type": "stream",
     "text": [
      "INFO:prefect.TaskRunner:Task 'get_markdown[27]': Finished task run for task with final state: 'Success'\n"
     ]
    },
    {
     "name": "stdout",
     "output_type": "stream",
     "text": [
      "[2021-12-20 15:07:03-0700] INFO - prefect.TaskRunner | Task 'get_markdown[28]': Finished task run for task with final state: 'Success'\n"
     ]
    },
    {
     "name": "stderr",
     "output_type": "stream",
     "text": [
      "INFO:prefect.TaskRunner:Task 'get_markdown[28]': Finished task run for task with final state: 'Success'\n"
     ]
    },
    {
     "name": "stdout",
     "output_type": "stream",
     "text": [
      "[2021-12-20 15:07:03-0700] INFO - prefect.TaskRunner | Task 'get_markdown[34]': Starting task run...\n"
     ]
    },
    {
     "name": "stderr",
     "output_type": "stream",
     "text": [
      "INFO:prefect.TaskRunner:Task 'get_markdown[34]': Starting task run...\n"
     ]
    },
    {
     "name": "stdout",
     "output_type": "stream",
     "text": [
      "[2021-12-20 15:07:03-0700] INFO - prefect.TaskRunner | Task 'get_markdown[35]': Starting task run...\n"
     ]
    },
    {
     "name": "stderr",
     "output_type": "stream",
     "text": [
      "INFO:prefect.TaskRunner:Task 'get_markdown[35]': Starting task run...\n"
     ]
    },
    {
     "name": "stdout",
     "output_type": "stream",
     "text": [
      "[2021-12-20 15:07:04-0700] INFO - prefect.TaskRunner | Task 'get_markdown[29]': Finished task run for task with final state: 'Success'\n"
     ]
    },
    {
     "name": "stderr",
     "output_type": "stream",
     "text": [
      "INFO:prefect.TaskRunner:Task 'get_markdown[29]': Finished task run for task with final state: 'Success'\n"
     ]
    },
    {
     "name": "stdout",
     "output_type": "stream",
     "text": [
      "[2021-12-20 15:07:04-0700] INFO - prefect.TaskRunner | Task 'get_markdown[36]': Starting task run...\n"
     ]
    },
    {
     "name": "stderr",
     "output_type": "stream",
     "text": [
      "INFO:prefect.TaskRunner:Task 'get_markdown[36]': Starting task run...\n"
     ]
    },
    {
     "name": "stdout",
     "output_type": "stream",
     "text": [
      "[2021-12-20 15:07:05-0700] INFO - prefect.TaskRunner | Task 'get_markdown[3]': Finished task run for task with final state: 'Success'\n"
     ]
    },
    {
     "name": "stderr",
     "output_type": "stream",
     "text": [
      "INFO:prefect.TaskRunner:Task 'get_markdown[3]': Finished task run for task with final state: 'Success'\n"
     ]
    },
    {
     "name": "stdout",
     "output_type": "stream",
     "text": [
      "[2021-12-20 15:07:05-0700] INFO - prefect.TaskRunner | Task 'get_markdown[37]': Starting task run...\n"
     ]
    },
    {
     "name": "stderr",
     "output_type": "stream",
     "text": [
      "INFO:prefect.TaskRunner:Task 'get_markdown[37]': Starting task run...\n"
     ]
    },
    {
     "name": "stdout",
     "output_type": "stream",
     "text": [
      "[2021-12-20 15:07:06-0700] INFO - prefect.TaskRunner | Task 'get_markdown[30]': Finished task run for task with final state: 'Success'\n"
     ]
    },
    {
     "name": "stderr",
     "output_type": "stream",
     "text": [
      "INFO:prefect.TaskRunner:Task 'get_markdown[30]': Finished task run for task with final state: 'Success'\n"
     ]
    },
    {
     "name": "stdout",
     "output_type": "stream",
     "text": [
      "[2021-12-20 15:07:06-0700] INFO - prefect.TaskRunner | Task 'get_markdown[38]': Starting task run...\n"
     ]
    },
    {
     "name": "stderr",
     "output_type": "stream",
     "text": [
      "INFO:prefect.TaskRunner:Task 'get_markdown[38]': Starting task run...\n"
     ]
    },
    {
     "name": "stdout",
     "output_type": "stream",
     "text": [
      "[2021-12-20 15:07:06-0700] INFO - prefect.TaskRunner | Task 'get_markdown[31]': Finished task run for task with final state: 'Success'\n"
     ]
    },
    {
     "name": "stderr",
     "output_type": "stream",
     "text": [
      "INFO:prefect.TaskRunner:Task 'get_markdown[31]': Finished task run for task with final state: 'Success'\n"
     ]
    },
    {
     "name": "stdout",
     "output_type": "stream",
     "text": [
      "[2021-12-20 15:07:06-0700] INFO - prefect.TaskRunner | Task 'get_markdown[39]': Starting task run...\n"
     ]
    },
    {
     "name": "stderr",
     "output_type": "stream",
     "text": [
      "INFO:prefect.TaskRunner:Task 'get_markdown[39]': Starting task run...\n"
     ]
    },
    {
     "name": "stdout",
     "output_type": "stream",
     "text": [
      "[2021-12-20 15:07:08-0700] INFO - prefect.TaskRunner | Task 'get_markdown[32]': Finished task run for task with final state: 'Success'\n"
     ]
    },
    {
     "name": "stderr",
     "output_type": "stream",
     "text": [
      "INFO:prefect.TaskRunner:Task 'get_markdown[32]': Finished task run for task with final state: 'Success'\n"
     ]
    },
    {
     "name": "stdout",
     "output_type": "stream",
     "text": [
      "[2021-12-20 15:07:08-0700] INFO - prefect.TaskRunner | Task 'get_markdown[4]': Starting task run...\n"
     ]
    },
    {
     "name": "stderr",
     "output_type": "stream",
     "text": [
      "INFO:prefect.TaskRunner:Task 'get_markdown[4]': Starting task run...\n"
     ]
    },
    {
     "name": "stdout",
     "output_type": "stream",
     "text": [
      "[2021-12-20 15:07:11-0700] INFO - prefect.TaskRunner | Task 'get_markdown[33]': Finished task run for task with final state: 'Success'\n"
     ]
    },
    {
     "name": "stderr",
     "output_type": "stream",
     "text": [
      "INFO:prefect.TaskRunner:Task 'get_markdown[33]': Finished task run for task with final state: 'Success'\n"
     ]
    },
    {
     "name": "stdout",
     "output_type": "stream",
     "text": [
      "[2021-12-20 15:07:11-0700] INFO - prefect.TaskRunner | Task 'get_markdown[40]': Starting task run...\n"
     ]
    },
    {
     "name": "stderr",
     "output_type": "stream",
     "text": [
      "INFO:prefect.TaskRunner:Task 'get_markdown[40]': Starting task run...\n"
     ]
    },
    {
     "name": "stdout",
     "output_type": "stream",
     "text": [
      "[2021-12-20 15:07:17-0700] INFO - prefect.TaskRunner | Task 'get_markdown[35]': Finished task run for task with final state: 'Success'\n"
     ]
    },
    {
     "name": "stderr",
     "output_type": "stream",
     "text": [
      "INFO:prefect.TaskRunner:Task 'get_markdown[35]': Finished task run for task with final state: 'Success'\n"
     ]
    },
    {
     "name": "stdout",
     "output_type": "stream",
     "text": [
      "[2021-12-20 15:07:17-0700] INFO - prefect.TaskRunner | Task 'get_markdown[41]': Starting task run...\n"
     ]
    },
    {
     "name": "stderr",
     "output_type": "stream",
     "text": [
      "INFO:prefect.TaskRunner:Task 'get_markdown[41]': Starting task run...\n"
     ]
    },
    {
     "name": "stdout",
     "output_type": "stream",
     "text": [
      "[2021-12-20 15:07:18-0700] INFO - prefect.TaskRunner | Task 'get_markdown[34]': Finished task run for task with final state: 'Success'\n"
     ]
    },
    {
     "name": "stderr",
     "output_type": "stream",
     "text": [
      "INFO:prefect.TaskRunner:Task 'get_markdown[34]': Finished task run for task with final state: 'Success'\n"
     ]
    },
    {
     "name": "stdout",
     "output_type": "stream",
     "text": [
      "[2021-12-20 15:07:18-0700] INFO - prefect.TaskRunner | Task 'get_markdown[42]': Starting task run...\n"
     ]
    },
    {
     "name": "stderr",
     "output_type": "stream",
     "text": [
      "INFO:prefect.TaskRunner:Task 'get_markdown[42]': Starting task run...\n"
     ]
    },
    {
     "name": "stdout",
     "output_type": "stream",
     "text": [
      "[2021-12-20 15:07:18-0700] INFO - prefect.TaskRunner | Task 'get_markdown[37]': Finished task run for task with final state: 'Success'\n"
     ]
    },
    {
     "name": "stderr",
     "output_type": "stream",
     "text": [
      "INFO:prefect.TaskRunner:Task 'get_markdown[37]': Finished task run for task with final state: 'Success'\n"
     ]
    },
    {
     "name": "stdout",
     "output_type": "stream",
     "text": [
      "[2021-12-20 15:07:18-0700] INFO - prefect.TaskRunner | Task 'get_markdown[43]': Starting task run...\n"
     ]
    },
    {
     "name": "stderr",
     "output_type": "stream",
     "text": [
      "INFO:prefect.TaskRunner:Task 'get_markdown[43]': Starting task run...\n"
     ]
    },
    {
     "name": "stdout",
     "output_type": "stream",
     "text": [
      "[2021-12-20 15:07:19-0700] INFO - prefect.TaskRunner | Task 'get_markdown[38]': Finished task run for task with final state: 'Success'\n"
     ]
    },
    {
     "name": "stderr",
     "output_type": "stream",
     "text": [
      "INFO:prefect.TaskRunner:Task 'get_markdown[38]': Finished task run for task with final state: 'Success'\n"
     ]
    },
    {
     "name": "stdout",
     "output_type": "stream",
     "text": [
      "[2021-12-20 15:07:19-0700] INFO - prefect.TaskRunner | Task 'get_markdown[44]': Starting task run...\n"
     ]
    },
    {
     "name": "stderr",
     "output_type": "stream",
     "text": [
      "INFO:prefect.TaskRunner:Task 'get_markdown[44]': Starting task run...\n"
     ]
    },
    {
     "name": "stdout",
     "output_type": "stream",
     "text": [
      "[2021-12-20 15:07:19-0700] INFO - prefect.TaskRunner | Task 'get_markdown[39]': Finished task run for task with final state: 'Success'\n"
     ]
    },
    {
     "name": "stderr",
     "output_type": "stream",
     "text": [
      "INFO:prefect.TaskRunner:Task 'get_markdown[39]': Finished task run for task with final state: 'Success'\n"
     ]
    },
    {
     "name": "stdout",
     "output_type": "stream",
     "text": [
      "[2021-12-20 15:07:19-0700] INFO - prefect.TaskRunner | Task 'get_markdown[45]': Starting task run...\n"
     ]
    },
    {
     "name": "stderr",
     "output_type": "stream",
     "text": [
      "INFO:prefect.TaskRunner:Task 'get_markdown[45]': Starting task run...\n"
     ]
    },
    {
     "name": "stdout",
     "output_type": "stream",
     "text": [
      "[2021-12-20 15:07:20-0700] INFO - prefect.TaskRunner | Task 'get_markdown[4]': Finished task run for task with final state: 'Success'\n"
     ]
    },
    {
     "name": "stderr",
     "output_type": "stream",
     "text": [
      "INFO:prefect.TaskRunner:Task 'get_markdown[4]': Finished task run for task with final state: 'Success'\n"
     ]
    },
    {
     "name": "stdout",
     "output_type": "stream",
     "text": [
      "[2021-12-20 15:07:20-0700] INFO - prefect.TaskRunner | Task 'get_markdown[46]': Starting task run...\n"
     ]
    },
    {
     "name": "stderr",
     "output_type": "stream",
     "text": [
      "INFO:prefect.TaskRunner:Task 'get_markdown[46]': Starting task run...\n"
     ]
    },
    {
     "name": "stdout",
     "output_type": "stream",
     "text": [
      "[2021-12-20 15:07:21-0700] INFO - prefect.TaskRunner | Task 'get_markdown[36]': Finished task run for task with final state: 'Success'\n"
     ]
    },
    {
     "name": "stderr",
     "output_type": "stream",
     "text": [
      "INFO:prefect.TaskRunner:Task 'get_markdown[36]': Finished task run for task with final state: 'Success'\n"
     ]
    },
    {
     "name": "stdout",
     "output_type": "stream",
     "text": [
      "[2021-12-20 15:07:21-0700] INFO - prefect.TaskRunner | Task 'get_markdown[47]': Starting task run...\n"
     ]
    },
    {
     "name": "stderr",
     "output_type": "stream",
     "text": [
      "INFO:prefect.TaskRunner:Task 'get_markdown[47]': Starting task run...\n"
     ]
    },
    {
     "name": "stdout",
     "output_type": "stream",
     "text": [
      "[2021-12-20 15:07:21-0700] INFO - prefect.TaskRunner | Task 'get_markdown[40]': Finished task run for task with final state: 'Success'\n"
     ]
    },
    {
     "name": "stderr",
     "output_type": "stream",
     "text": [
      "INFO:prefect.TaskRunner:Task 'get_markdown[40]': Finished task run for task with final state: 'Success'\n"
     ]
    },
    {
     "name": "stdout",
     "output_type": "stream",
     "text": [
      "[2021-12-20 15:07:21-0700] INFO - prefect.TaskRunner | Task 'get_markdown[48]': Starting task run...\n"
     ]
    },
    {
     "name": "stderr",
     "output_type": "stream",
     "text": [
      "INFO:prefect.TaskRunner:Task 'get_markdown[48]': Starting task run...\n"
     ]
    },
    {
     "name": "stdout",
     "output_type": "stream",
     "text": [
      "[2021-12-20 15:07:26-0700] INFO - prefect.TaskRunner | Task 'get_markdown[41]': Finished task run for task with final state: 'Success'\n"
     ]
    },
    {
     "name": "stderr",
     "output_type": "stream",
     "text": [
      "INFO:prefect.TaskRunner:Task 'get_markdown[41]': Finished task run for task with final state: 'Success'\n"
     ]
    },
    {
     "name": "stdout",
     "output_type": "stream",
     "text": [
      "[2021-12-20 15:07:26-0700] INFO - prefect.TaskRunner | Task 'get_markdown[49]': Starting task run...\n"
     ]
    },
    {
     "name": "stderr",
     "output_type": "stream",
     "text": [
      "INFO:prefect.TaskRunner:Task 'get_markdown[49]': Starting task run...\n"
     ]
    },
    {
     "name": "stdout",
     "output_type": "stream",
     "text": [
      "[2021-12-20 15:07:27-0700] INFO - prefect.TaskRunner | Task 'get_markdown[42]': Finished task run for task with final state: 'Success'\n"
     ]
    },
    {
     "name": "stderr",
     "output_type": "stream",
     "text": [
      "INFO:prefect.TaskRunner:Task 'get_markdown[42]': Finished task run for task with final state: 'Success'\n"
     ]
    },
    {
     "name": "stdout",
     "output_type": "stream",
     "text": [
      "[2021-12-20 15:07:27-0700] INFO - prefect.TaskRunner | Task 'get_markdown[5]': Starting task run...\n"
     ]
    },
    {
     "name": "stderr",
     "output_type": "stream",
     "text": [
      "INFO:prefect.TaskRunner:Task 'get_markdown[5]': Starting task run...\n"
     ]
    },
    {
     "name": "stdout",
     "output_type": "stream",
     "text": [
      "[2021-12-20 15:07:32-0700] INFO - prefect.TaskRunner | Task 'get_markdown[43]': Finished task run for task with final state: 'Success'\n"
     ]
    },
    {
     "name": "stderr",
     "output_type": "stream",
     "text": [
      "INFO:prefect.TaskRunner:Task 'get_markdown[43]': Finished task run for task with final state: 'Success'\n"
     ]
    },
    {
     "name": "stdout",
     "output_type": "stream",
     "text": [
      "[2021-12-20 15:07:32-0700] INFO - prefect.TaskRunner | Task 'get_markdown[50]': Starting task run...\n"
     ]
    },
    {
     "name": "stderr",
     "output_type": "stream",
     "text": [
      "INFO:prefect.TaskRunner:Task 'get_markdown[50]': Starting task run...\n"
     ]
    },
    {
     "name": "stdout",
     "output_type": "stream",
     "text": [
      "[2021-12-20 15:07:32-0700] INFO - prefect.TaskRunner | Task 'get_markdown[45]': Finished task run for task with final state: 'Success'\n"
     ]
    },
    {
     "name": "stderr",
     "output_type": "stream",
     "text": [
      "INFO:prefect.TaskRunner:Task 'get_markdown[45]': Finished task run for task with final state: 'Success'\n"
     ]
    },
    {
     "name": "stdout",
     "output_type": "stream",
     "text": [
      "[2021-12-20 15:07:32-0700] INFO - prefect.TaskRunner | Task 'get_markdown[51]': Starting task run...\n"
     ]
    },
    {
     "name": "stderr",
     "output_type": "stream",
     "text": [
      "INFO:prefect.TaskRunner:Task 'get_markdown[51]': Starting task run...\n"
     ]
    },
    {
     "name": "stdout",
     "output_type": "stream",
     "text": [
      "[2021-12-20 15:07:34-0700] INFO - prefect.TaskRunner | Task 'get_markdown[44]': Finished task run for task with final state: 'Success'\n"
     ]
    },
    {
     "name": "stderr",
     "output_type": "stream",
     "text": [
      "INFO:prefect.TaskRunner:Task 'get_markdown[44]': Finished task run for task with final state: 'Success'\n"
     ]
    },
    {
     "name": "stdout",
     "output_type": "stream",
     "text": [
      "[2021-12-20 15:07:34-0700] INFO - prefect.TaskRunner | Task 'get_markdown[52]': Starting task run...\n"
     ]
    },
    {
     "name": "stderr",
     "output_type": "stream",
     "text": [
      "INFO:prefect.TaskRunner:Task 'get_markdown[52]': Starting task run...\n"
     ]
    },
    {
     "name": "stdout",
     "output_type": "stream",
     "text": [
      "[2021-12-20 15:07:34-0700] INFO - prefect.TaskRunner | Task 'get_markdown[48]': Finished task run for task with final state: 'Success'\n"
     ]
    },
    {
     "name": "stderr",
     "output_type": "stream",
     "text": [
      "INFO:prefect.TaskRunner:Task 'get_markdown[48]': Finished task run for task with final state: 'Success'\n"
     ]
    },
    {
     "name": "stdout",
     "output_type": "stream",
     "text": [
      "[2021-12-20 15:07:34-0700] INFO - prefect.TaskRunner | Task 'get_markdown[53]': Starting task run...\n"
     ]
    },
    {
     "name": "stderr",
     "output_type": "stream",
     "text": [
      "INFO:prefect.TaskRunner:Task 'get_markdown[53]': Starting task run...\n"
     ]
    },
    {
     "name": "stdout",
     "output_type": "stream",
     "text": [
      "[2021-12-20 15:07:35-0700] INFO - prefect.TaskRunner | Task 'get_markdown[46]': Finished task run for task with final state: 'Success'\n"
     ]
    },
    {
     "name": "stderr",
     "output_type": "stream",
     "text": [
      "INFO:prefect.TaskRunner:Task 'get_markdown[46]': Finished task run for task with final state: 'Success'\n"
     ]
    },
    {
     "name": "stdout",
     "output_type": "stream",
     "text": [
      "[2021-12-20 15:07:35-0700] INFO - prefect.TaskRunner | Task 'get_markdown[54]': Starting task run...\n"
     ]
    },
    {
     "name": "stderr",
     "output_type": "stream",
     "text": [
      "INFO:prefect.TaskRunner:Task 'get_markdown[54]': Starting task run...\n"
     ]
    },
    {
     "name": "stdout",
     "output_type": "stream",
     "text": [
      "[2021-12-20 15:07:35-0700] INFO - prefect.TaskRunner | Task 'get_markdown[47]': Finished task run for task with final state: 'Success'\n"
     ]
    },
    {
     "name": "stderr",
     "output_type": "stream",
     "text": [
      "INFO:prefect.TaskRunner:Task 'get_markdown[47]': Finished task run for task with final state: 'Success'\n"
     ]
    },
    {
     "name": "stdout",
     "output_type": "stream",
     "text": [
      "[2021-12-20 15:07:35-0700] INFO - prefect.TaskRunner | Task 'get_markdown[55]': Starting task run...\n"
     ]
    },
    {
     "name": "stderr",
     "output_type": "stream",
     "text": [
      "INFO:prefect.TaskRunner:Task 'get_markdown[55]': Starting task run...\n"
     ]
    },
    {
     "name": "stdout",
     "output_type": "stream",
     "text": [
      "[2021-12-20 15:07:39-0700] INFO - prefect.TaskRunner | Task 'get_markdown[5]': Finished task run for task with final state: 'Success'\n"
     ]
    },
    {
     "name": "stderr",
     "output_type": "stream",
     "text": [
      "INFO:prefect.TaskRunner:Task 'get_markdown[5]': Finished task run for task with final state: 'Success'\n"
     ]
    },
    {
     "name": "stdout",
     "output_type": "stream",
     "text": [
      "[2021-12-20 15:07:39-0700] INFO - prefect.TaskRunner | Task 'get_markdown[56]': Starting task run...\n"
     ]
    },
    {
     "name": "stderr",
     "output_type": "stream",
     "text": [
      "INFO:prefect.TaskRunner:Task 'get_markdown[56]': Starting task run...\n"
     ]
    },
    {
     "name": "stdout",
     "output_type": "stream",
     "text": [
      "[2021-12-20 15:07:39-0700] INFO - prefect.TaskRunner | Task 'get_markdown[49]': Finished task run for task with final state: 'Success'\n"
     ]
    },
    {
     "name": "stderr",
     "output_type": "stream",
     "text": [
      "INFO:prefect.TaskRunner:Task 'get_markdown[49]': Finished task run for task with final state: 'Success'\n"
     ]
    },
    {
     "name": "stdout",
     "output_type": "stream",
     "text": [
      "[2021-12-20 15:07:39-0700] INFO - prefect.TaskRunner | Task 'get_markdown[57]': Starting task run...\n"
     ]
    },
    {
     "name": "stderr",
     "output_type": "stream",
     "text": [
      "INFO:prefect.TaskRunner:Task 'get_markdown[57]': Starting task run...\n"
     ]
    },
    {
     "name": "stdout",
     "output_type": "stream",
     "text": [
      "[2021-12-20 15:07:45-0700] INFO - prefect.TaskRunner | Task 'get_markdown[53]': Finished task run for task with final state: 'Success'\n"
     ]
    },
    {
     "name": "stderr",
     "output_type": "stream",
     "text": [
      "INFO:prefect.TaskRunner:Task 'get_markdown[53]': Finished task run for task with final state: 'Success'\n"
     ]
    },
    {
     "name": "stdout",
     "output_type": "stream",
     "text": [
      "[2021-12-20 15:07:45-0700] INFO - prefect.TaskRunner | Task 'get_markdown[58]': Starting task run...\n"
     ]
    },
    {
     "name": "stderr",
     "output_type": "stream",
     "text": [
      "INFO:prefect.TaskRunner:Task 'get_markdown[58]': Starting task run...\n"
     ]
    },
    {
     "name": "stdout",
     "output_type": "stream",
     "text": [
      "[2021-12-20 15:07:47-0700] INFO - prefect.TaskRunner | Task 'get_markdown[50]': Finished task run for task with final state: 'Success'\n"
     ]
    },
    {
     "name": "stderr",
     "output_type": "stream",
     "text": [
      "INFO:prefect.TaskRunner:Task 'get_markdown[50]': Finished task run for task with final state: 'Success'\n"
     ]
    },
    {
     "name": "stdout",
     "output_type": "stream",
     "text": [
      "[2021-12-20 15:07:47-0700] INFO - prefect.TaskRunner | Task 'get_markdown[59]': Starting task run...\n"
     ]
    },
    {
     "name": "stderr",
     "output_type": "stream",
     "text": [
      "INFO:prefect.TaskRunner:Task 'get_markdown[59]': Starting task run...\n"
     ]
    },
    {
     "name": "stdout",
     "output_type": "stream",
     "text": [
      "[2021-12-20 15:07:48-0700] INFO - prefect.TaskRunner | Task 'get_markdown[52]': Finished task run for task with final state: 'Success'\n"
     ]
    },
    {
     "name": "stderr",
     "output_type": "stream",
     "text": [
      "INFO:prefect.TaskRunner:Task 'get_markdown[52]': Finished task run for task with final state: 'Success'\n"
     ]
    },
    {
     "name": "stdout",
     "output_type": "stream",
     "text": [
      "[2021-12-20 15:07:48-0700] INFO - prefect.TaskRunner | Task 'get_markdown[6]': Starting task run...\n"
     ]
    },
    {
     "name": "stderr",
     "output_type": "stream",
     "text": [
      "INFO:prefect.TaskRunner:Task 'get_markdown[6]': Starting task run...\n"
     ]
    },
    {
     "name": "stdout",
     "output_type": "stream",
     "text": [
      "[2021-12-20 15:07:48-0700] INFO - prefect.TaskRunner | Task 'get_markdown[51]': Finished task run for task with final state: 'Success'\n"
     ]
    },
    {
     "name": "stderr",
     "output_type": "stream",
     "text": [
      "INFO:prefect.TaskRunner:Task 'get_markdown[51]': Finished task run for task with final state: 'Success'\n"
     ]
    },
    {
     "name": "stdout",
     "output_type": "stream",
     "text": [
      "[2021-12-20 15:07:48-0700] INFO - prefect.TaskRunner | Task 'get_markdown[60]': Starting task run...\n"
     ]
    },
    {
     "name": "stderr",
     "output_type": "stream",
     "text": [
      "INFO:prefect.TaskRunner:Task 'get_markdown[60]': Starting task run...\n"
     ]
    },
    {
     "name": "stdout",
     "output_type": "stream",
     "text": [
      "[2021-12-20 15:07:50-0700] INFO - prefect.TaskRunner | Task 'get_markdown[54]': Finished task run for task with final state: 'Success'\n"
     ]
    },
    {
     "name": "stderr",
     "output_type": "stream",
     "text": [
      "INFO:prefect.TaskRunner:Task 'get_markdown[54]': Finished task run for task with final state: 'Success'\n"
     ]
    },
    {
     "name": "stdout",
     "output_type": "stream",
     "text": [
      "[2021-12-20 15:07:50-0700] INFO - prefect.TaskRunner | Task 'get_markdown[61]': Starting task run...\n"
     ]
    },
    {
     "name": "stderr",
     "output_type": "stream",
     "text": [
      "INFO:prefect.TaskRunner:Task 'get_markdown[61]': Starting task run...\n"
     ]
    },
    {
     "name": "stdout",
     "output_type": "stream",
     "text": [
      "[2021-12-20 15:07:50-0700] INFO - prefect.TaskRunner | Task 'get_markdown[56]': Finished task run for task with final state: 'Success'\n"
     ]
    },
    {
     "name": "stderr",
     "output_type": "stream",
     "text": [
      "INFO:prefect.TaskRunner:Task 'get_markdown[56]': Finished task run for task with final state: 'Success'\n"
     ]
    },
    {
     "name": "stdout",
     "output_type": "stream",
     "text": [
      "[2021-12-20 15:07:50-0700] INFO - prefect.TaskRunner | Task 'get_markdown[62]': Starting task run...\n"
     ]
    },
    {
     "name": "stderr",
     "output_type": "stream",
     "text": [
      "INFO:prefect.TaskRunner:Task 'get_markdown[62]': Starting task run...\n"
     ]
    },
    {
     "name": "stdout",
     "output_type": "stream",
     "text": [
      "[2021-12-20 15:07:51-0700] INFO - prefect.TaskRunner | Task 'get_markdown[55]': Finished task run for task with final state: 'Success'\n"
     ]
    },
    {
     "name": "stderr",
     "output_type": "stream",
     "text": [
      "INFO:prefect.TaskRunner:Task 'get_markdown[55]': Finished task run for task with final state: 'Success'\n"
     ]
    },
    {
     "name": "stdout",
     "output_type": "stream",
     "text": [
      "[2021-12-20 15:07:51-0700] INFO - prefect.TaskRunner | Task 'get_markdown[63]': Starting task run...\n"
     ]
    },
    {
     "name": "stderr",
     "output_type": "stream",
     "text": [
      "INFO:prefect.TaskRunner:Task 'get_markdown[63]': Starting task run...\n"
     ]
    },
    {
     "name": "stdout",
     "output_type": "stream",
     "text": [
      "[2021-12-20 15:07:53-0700] INFO - prefect.TaskRunner | Task 'get_markdown[57]': Finished task run for task with final state: 'Success'\n"
     ]
    },
    {
     "name": "stderr",
     "output_type": "stream",
     "text": [
      "INFO:prefect.TaskRunner:Task 'get_markdown[57]': Finished task run for task with final state: 'Success'\n"
     ]
    },
    {
     "name": "stdout",
     "output_type": "stream",
     "text": [
      "[2021-12-20 15:07:53-0700] INFO - prefect.TaskRunner | Task 'get_markdown[64]': Starting task run...\n"
     ]
    },
    {
     "name": "stderr",
     "output_type": "stream",
     "text": [
      "INFO:prefect.TaskRunner:Task 'get_markdown[64]': Starting task run...\n"
     ]
    },
    {
     "name": "stdout",
     "output_type": "stream",
     "text": [
      "[2021-12-20 15:07:56-0700] INFO - prefect.TaskRunner | Task 'get_markdown[58]': Finished task run for task with final state: 'Success'\n"
     ]
    },
    {
     "name": "stderr",
     "output_type": "stream",
     "text": [
      "INFO:prefect.TaskRunner:Task 'get_markdown[58]': Finished task run for task with final state: 'Success'\n"
     ]
    },
    {
     "name": "stdout",
     "output_type": "stream",
     "text": [
      "[2021-12-20 15:07:56-0700] INFO - prefect.TaskRunner | Task 'get_markdown[65]': Starting task run...\n"
     ]
    },
    {
     "name": "stderr",
     "output_type": "stream",
     "text": [
      "INFO:prefect.TaskRunner:Task 'get_markdown[65]': Starting task run...\n"
     ]
    },
    {
     "name": "stdout",
     "output_type": "stream",
     "text": [
      "[2021-12-20 15:08:01-0700] INFO - prefect.TaskRunner | Task 'get_markdown[59]': Finished task run for task with final state: 'Success'\n"
     ]
    },
    {
     "name": "stderr",
     "output_type": "stream",
     "text": [
      "INFO:prefect.TaskRunner:Task 'get_markdown[59]': Finished task run for task with final state: 'Success'\n"
     ]
    },
    {
     "name": "stdout",
     "output_type": "stream",
     "text": [
      "[2021-12-20 15:08:01-0700] INFO - prefect.TaskRunner | Task 'get_markdown[66]': Starting task run...\n"
     ]
    },
    {
     "name": "stderr",
     "output_type": "stream",
     "text": [
      "INFO:prefect.TaskRunner:Task 'get_markdown[66]': Starting task run...\n"
     ]
    },
    {
     "name": "stdout",
     "output_type": "stream",
     "text": [
      "[2021-12-20 15:08:01-0700] INFO - prefect.TaskRunner | Task 'get_markdown[6]': Finished task run for task with final state: 'Success'\n"
     ]
    },
    {
     "name": "stderr",
     "output_type": "stream",
     "text": [
      "INFO:prefect.TaskRunner:Task 'get_markdown[6]': Finished task run for task with final state: 'Success'\n"
     ]
    },
    {
     "name": "stdout",
     "output_type": "stream",
     "text": [
      "[2021-12-20 15:08:01-0700] INFO - prefect.TaskRunner | Task 'get_markdown[67]': Starting task run...\n"
     ]
    },
    {
     "name": "stderr",
     "output_type": "stream",
     "text": [
      "INFO:prefect.TaskRunner:Task 'get_markdown[67]': Starting task run...\n"
     ]
    },
    {
     "name": "stdout",
     "output_type": "stream",
     "text": [
      "[2021-12-20 15:08:01-0700] INFO - prefect.TaskRunner | Task 'get_markdown[60]': Finished task run for task with final state: 'Success'\n"
     ]
    },
    {
     "name": "stderr",
     "output_type": "stream",
     "text": [
      "INFO:prefect.TaskRunner:Task 'get_markdown[60]': Finished task run for task with final state: 'Success'\n"
     ]
    },
    {
     "name": "stdout",
     "output_type": "stream",
     "text": [
      "[2021-12-20 15:08:01-0700] INFO - prefect.TaskRunner | Task 'get_markdown[68]': Starting task run...\n"
     ]
    },
    {
     "name": "stderr",
     "output_type": "stream",
     "text": [
      "INFO:prefect.TaskRunner:Task 'get_markdown[68]': Starting task run...\n"
     ]
    },
    {
     "name": "stdout",
     "output_type": "stream",
     "text": [
      "[2021-12-20 15:08:03-0700] INFO - prefect.TaskRunner | Task 'get_markdown[61]': Finished task run for task with final state: 'Success'\n",
      "[2021-12-20 15:08:03-0700] INFO - prefect.TaskRunner | Task 'get_markdown[63]': Finished task run for task with final state: 'Success'\n"
     ]
    },
    {
     "name": "stderr",
     "output_type": "stream",
     "text": [
      "INFO:prefect.TaskRunner:Task 'get_markdown[61]': Finished task run for task with final state: 'Success'\n",
      "INFO:prefect.TaskRunner:Task 'get_markdown[63]': Finished task run for task with final state: 'Success'\n"
     ]
    },
    {
     "name": "stdout",
     "output_type": "stream",
     "text": [
      "[2021-12-20 15:08:03-0700] INFO - prefect.TaskRunner | Task 'get_markdown[69]': Starting task run...\n"
     ]
    },
    {
     "name": "stderr",
     "output_type": "stream",
     "text": [
      "INFO:prefect.TaskRunner:Task 'get_markdown[69]': Starting task run...\n"
     ]
    },
    {
     "name": "stdout",
     "output_type": "stream",
     "text": [
      "[2021-12-20 15:08:03-0700] INFO - prefect.TaskRunner | Task 'get_markdown[7]': Starting task run...\n"
     ]
    },
    {
     "name": "stderr",
     "output_type": "stream",
     "text": [
      "INFO:prefect.TaskRunner:Task 'get_markdown[7]': Starting task run...\n"
     ]
    },
    {
     "name": "stdout",
     "output_type": "stream",
     "text": [
      "[2021-12-20 15:08:03-0700] INFO - prefect.TaskRunner | Task 'get_markdown[62]': Finished task run for task with final state: 'Success'\n"
     ]
    },
    {
     "name": "stderr",
     "output_type": "stream",
     "text": [
      "INFO:prefect.TaskRunner:Task 'get_markdown[62]': Finished task run for task with final state: 'Success'\n"
     ]
    },
    {
     "name": "stdout",
     "output_type": "stream",
     "text": [
      "[2021-12-20 15:08:03-0700] INFO - prefect.TaskRunner | Task 'get_markdown[70]': Starting task run...\n"
     ]
    },
    {
     "name": "stderr",
     "output_type": "stream",
     "text": [
      "INFO:prefect.TaskRunner:Task 'get_markdown[70]': Starting task run...\n"
     ]
    },
    {
     "name": "stdout",
     "output_type": "stream",
     "text": [
      "[2021-12-20 15:08:04-0700] INFO - prefect.TaskRunner | Task 'get_markdown[64]': Finished task run for task with final state: 'Success'\n"
     ]
    },
    {
     "name": "stderr",
     "output_type": "stream",
     "text": [
      "INFO:prefect.TaskRunner:Task 'get_markdown[64]': Finished task run for task with final state: 'Success'\n"
     ]
    },
    {
     "name": "stdout",
     "output_type": "stream",
     "text": [
      "[2021-12-20 15:08:04-0700] INFO - prefect.TaskRunner | Task 'get_markdown[71]': Starting task run...\n"
     ]
    },
    {
     "name": "stderr",
     "output_type": "stream",
     "text": [
      "INFO:prefect.TaskRunner:Task 'get_markdown[71]': Starting task run...\n"
     ]
    },
    {
     "name": "stdout",
     "output_type": "stream",
     "text": [
      "[2021-12-20 15:08:07-0700] INFO - prefect.TaskRunner | Task 'get_markdown[65]': Finished task run for task with final state: 'Success'\n"
     ]
    },
    {
     "name": "stderr",
     "output_type": "stream",
     "text": [
      "INFO:prefect.TaskRunner:Task 'get_markdown[65]': Finished task run for task with final state: 'Success'\n"
     ]
    },
    {
     "name": "stdout",
     "output_type": "stream",
     "text": [
      "[2021-12-20 15:08:07-0700] INFO - prefect.TaskRunner | Task 'get_markdown[72]': Starting task run...\n"
     ]
    },
    {
     "name": "stderr",
     "output_type": "stream",
     "text": [
      "INFO:prefect.TaskRunner:Task 'get_markdown[72]': Starting task run...\n"
     ]
    },
    {
     "name": "stdout",
     "output_type": "stream",
     "text": [
      "[2021-12-20 15:08:11-0700] INFO - prefect.TaskRunner | Task 'get_markdown[66]': Finished task run for task with final state: 'Success'\n"
     ]
    },
    {
     "name": "stderr",
     "output_type": "stream",
     "text": [
      "INFO:prefect.TaskRunner:Task 'get_markdown[66]': Finished task run for task with final state: 'Success'\n"
     ]
    },
    {
     "name": "stdout",
     "output_type": "stream",
     "text": [
      "[2021-12-20 15:08:11-0700] INFO - prefect.TaskRunner | Task 'get_markdown[73]': Starting task run...\n"
     ]
    },
    {
     "name": "stderr",
     "output_type": "stream",
     "text": [
      "INFO:prefect.TaskRunner:Task 'get_markdown[73]': Starting task run...\n"
     ]
    },
    {
     "name": "stdout",
     "output_type": "stream",
     "text": [
      "[2021-12-20 15:08:13-0700] INFO - prefect.TaskRunner | Task 'get_markdown[67]': Finished task run for task with final state: 'Success'\n"
     ]
    },
    {
     "name": "stderr",
     "output_type": "stream",
     "text": [
      "INFO:prefect.TaskRunner:Task 'get_markdown[67]': Finished task run for task with final state: 'Success'\n"
     ]
    },
    {
     "name": "stdout",
     "output_type": "stream",
     "text": [
      "[2021-12-20 15:08:14-0700] INFO - prefect.TaskRunner | Task 'get_markdown[74]': Starting task run...\n"
     ]
    },
    {
     "name": "stderr",
     "output_type": "stream",
     "text": [
      "INFO:prefect.TaskRunner:Task 'get_markdown[74]': Starting task run...\n"
     ]
    },
    {
     "name": "stdout",
     "output_type": "stream",
     "text": [
      "[2021-12-20 15:08:14-0700] INFO - prefect.TaskRunner | Task 'get_markdown[68]': Finished task run for task with final state: 'Success'\n"
     ]
    },
    {
     "name": "stderr",
     "output_type": "stream",
     "text": [
      "INFO:prefect.TaskRunner:Task 'get_markdown[68]': Finished task run for task with final state: 'Success'\n"
     ]
    },
    {
     "name": "stdout",
     "output_type": "stream",
     "text": [
      "[2021-12-20 15:08:14-0700] INFO - prefect.TaskRunner | Task 'get_markdown[75]': Starting task run...\n"
     ]
    },
    {
     "name": "stderr",
     "output_type": "stream",
     "text": [
      "INFO:prefect.TaskRunner:Task 'get_markdown[75]': Starting task run...\n"
     ]
    },
    {
     "name": "stdout",
     "output_type": "stream",
     "text": [
      "[2021-12-20 15:08:16-0700] INFO - prefect.TaskRunner | Task 'get_markdown[7]': Finished task run for task with final state: 'Success'\n"
     ]
    },
    {
     "name": "stderr",
     "output_type": "stream",
     "text": [
      "INFO:prefect.TaskRunner:Task 'get_markdown[7]': Finished task run for task with final state: 'Success'\n"
     ]
    },
    {
     "name": "stdout",
     "output_type": "stream",
     "text": [
      "[2021-12-20 15:08:16-0700] INFO - prefect.TaskRunner | Task 'get_markdown[76]': Starting task run...\n"
     ]
    },
    {
     "name": "stderr",
     "output_type": "stream",
     "text": [
      "INFO:prefect.TaskRunner:Task 'get_markdown[76]': Starting task run...\n"
     ]
    },
    {
     "name": "stdout",
     "output_type": "stream",
     "text": [
      "[2021-12-20 15:08:17-0700] INFO - prefect.TaskRunner | Task 'get_markdown[69]': Finished task run for task with final state: 'Success'\n"
     ]
    },
    {
     "name": "stderr",
     "output_type": "stream",
     "text": [
      "INFO:prefect.TaskRunner:Task 'get_markdown[69]': Finished task run for task with final state: 'Success'\n"
     ]
    },
    {
     "name": "stdout",
     "output_type": "stream",
     "text": [
      "[2021-12-20 15:08:17-0700] INFO - prefect.TaskRunner | Task 'get_markdown[77]': Starting task run...\n"
     ]
    },
    {
     "name": "stderr",
     "output_type": "stream",
     "text": [
      "INFO:prefect.TaskRunner:Task 'get_markdown[77]': Starting task run...\n"
     ]
    },
    {
     "name": "stdout",
     "output_type": "stream",
     "text": [
      "[2021-12-20 15:08:17-0700] INFO - prefect.TaskRunner | Task 'get_markdown[71]': Finished task run for task with final state: 'Success'\n"
     ]
    },
    {
     "name": "stderr",
     "output_type": "stream",
     "text": [
      "INFO:prefect.TaskRunner:Task 'get_markdown[71]': Finished task run for task with final state: 'Success'\n"
     ]
    },
    {
     "name": "stdout",
     "output_type": "stream",
     "text": [
      "[2021-12-20 15:08:18-0700] INFO - prefect.TaskRunner | Task 'get_markdown[78]': Starting task run...\n"
     ]
    },
    {
     "name": "stderr",
     "output_type": "stream",
     "text": [
      "INFO:prefect.TaskRunner:Task 'get_markdown[78]': Starting task run...\n"
     ]
    },
    {
     "name": "stdout",
     "output_type": "stream",
     "text": [
      "[2021-12-20 15:08:18-0700] INFO - prefect.TaskRunner | Task 'get_markdown[70]': Finished task run for task with final state: 'Success'\n"
     ]
    },
    {
     "name": "stderr",
     "output_type": "stream",
     "text": [
      "INFO:prefect.TaskRunner:Task 'get_markdown[70]': Finished task run for task with final state: 'Success'\n"
     ]
    },
    {
     "name": "stdout",
     "output_type": "stream",
     "text": [
      "[2021-12-20 15:08:18-0700] INFO - prefect.TaskRunner | Task 'get_markdown[79]': Starting task run...\n"
     ]
    },
    {
     "name": "stderr",
     "output_type": "stream",
     "text": [
      "INFO:prefect.TaskRunner:Task 'get_markdown[79]': Starting task run...\n"
     ]
    },
    {
     "name": "stdout",
     "output_type": "stream",
     "text": [
      "[2021-12-20 15:08:19-0700] INFO - prefect.TaskRunner | Task 'get_markdown[72]': Finished task run for task with final state: 'Success'\n"
     ]
    },
    {
     "name": "stderr",
     "output_type": "stream",
     "text": [
      "INFO:prefect.TaskRunner:Task 'get_markdown[72]': Finished task run for task with final state: 'Success'\n"
     ]
    },
    {
     "name": "stdout",
     "output_type": "stream",
     "text": [
      "[2021-12-20 15:08:19-0700] INFO - prefect.TaskRunner | Task 'get_markdown[8]': Starting task run...\n"
     ]
    },
    {
     "name": "stderr",
     "output_type": "stream",
     "text": [
      "INFO:prefect.TaskRunner:Task 'get_markdown[8]': Starting task run...\n"
     ]
    },
    {
     "name": "stdout",
     "output_type": "stream",
     "text": [
      "[2021-12-20 15:08:22-0700] INFO - prefect.TaskRunner | Task 'get_markdown[73]': Finished task run for task with final state: 'Success'\n"
     ]
    },
    {
     "name": "stderr",
     "output_type": "stream",
     "text": [
      "INFO:prefect.TaskRunner:Task 'get_markdown[73]': Finished task run for task with final state: 'Success'\n"
     ]
    },
    {
     "name": "stdout",
     "output_type": "stream",
     "text": [
      "[2021-12-20 15:08:22-0700] INFO - prefect.TaskRunner | Task 'get_markdown[80]': Starting task run...\n"
     ]
    },
    {
     "name": "stderr",
     "output_type": "stream",
     "text": [
      "INFO:prefect.TaskRunner:Task 'get_markdown[80]': Starting task run...\n"
     ]
    },
    {
     "name": "stdout",
     "output_type": "stream",
     "text": [
      "[2021-12-20 15:08:26-0700] INFO - prefect.TaskRunner | Task 'get_markdown[74]': Finished task run for task with final state: 'Success'\n"
     ]
    },
    {
     "name": "stderr",
     "output_type": "stream",
     "text": [
      "INFO:prefect.TaskRunner:Task 'get_markdown[74]': Finished task run for task with final state: 'Success'\n"
     ]
    },
    {
     "name": "stdout",
     "output_type": "stream",
     "text": [
      "[2021-12-20 15:08:26-0700] INFO - prefect.TaskRunner | Task 'get_markdown[81]': Starting task run...\n"
     ]
    },
    {
     "name": "stderr",
     "output_type": "stream",
     "text": [
      "INFO:prefect.TaskRunner:Task 'get_markdown[81]': Starting task run...\n"
     ]
    },
    {
     "name": "stdout",
     "output_type": "stream",
     "text": [
      "[2021-12-20 15:08:27-0700] INFO - prefect.TaskRunner | Task 'get_markdown[75]': Finished task run for task with final state: 'Success'\n"
     ]
    },
    {
     "name": "stderr",
     "output_type": "stream",
     "text": [
      "INFO:prefect.TaskRunner:Task 'get_markdown[75]': Finished task run for task with final state: 'Success'\n"
     ]
    },
    {
     "name": "stdout",
     "output_type": "stream",
     "text": [
      "[2021-12-20 15:08:27-0700] INFO - prefect.TaskRunner | Task 'get_markdown[82]': Starting task run...\n"
     ]
    },
    {
     "name": "stderr",
     "output_type": "stream",
     "text": [
      "INFO:prefect.TaskRunner:Task 'get_markdown[82]': Starting task run...\n"
     ]
    },
    {
     "name": "stdout",
     "output_type": "stream",
     "text": [
      "[2021-12-20 15:08:28-0700] INFO - prefect.TaskRunner | Task 'get_markdown[76]': Finished task run for task with final state: 'Success'\n"
     ]
    },
    {
     "name": "stderr",
     "output_type": "stream",
     "text": [
      "INFO:prefect.TaskRunner:Task 'get_markdown[76]': Finished task run for task with final state: 'Success'\n"
     ]
    },
    {
     "name": "stdout",
     "output_type": "stream",
     "text": [
      "[2021-12-20 15:08:28-0700] INFO - prefect.TaskRunner | Task 'get_markdown[83]': Starting task run...\n"
     ]
    },
    {
     "name": "stderr",
     "output_type": "stream",
     "text": [
      "INFO:prefect.TaskRunner:Task 'get_markdown[83]': Starting task run...\n"
     ]
    },
    {
     "name": "stdout",
     "output_type": "stream",
     "text": [
      "[2021-12-20 15:08:30-0700] INFO - prefect.TaskRunner | Task 'get_markdown[77]': Finished task run for task with final state: 'Success'\n"
     ]
    },
    {
     "name": "stderr",
     "output_type": "stream",
     "text": [
      "INFO:prefect.TaskRunner:Task 'get_markdown[77]': Finished task run for task with final state: 'Success'\n"
     ]
    },
    {
     "name": "stdout",
     "output_type": "stream",
     "text": [
      "[2021-12-20 15:08:30-0700] INFO - prefect.TaskRunner | Task 'get_markdown[84]': Starting task run...\n"
     ]
    },
    {
     "name": "stderr",
     "output_type": "stream",
     "text": [
      "INFO:prefect.TaskRunner:Task 'get_markdown[84]': Starting task run...\n"
     ]
    },
    {
     "name": "stdout",
     "output_type": "stream",
     "text": [
      "[2021-12-20 15:08:31-0700] INFO - prefect.TaskRunner | Task 'get_markdown[78]': Finished task run for task with final state: 'Success'\n"
     ]
    },
    {
     "name": "stderr",
     "output_type": "stream",
     "text": [
      "INFO:prefect.TaskRunner:Task 'get_markdown[78]': Finished task run for task with final state: 'Success'\n"
     ]
    },
    {
     "name": "stdout",
     "output_type": "stream",
     "text": [
      "[2021-12-20 15:08:32-0700] INFO - prefect.TaskRunner | Task 'get_markdown[85]': Starting task run...\n"
     ]
    },
    {
     "name": "stderr",
     "output_type": "stream",
     "text": [
      "INFO:prefect.TaskRunner:Task 'get_markdown[85]': Starting task run...\n"
     ]
    },
    {
     "name": "stdout",
     "output_type": "stream",
     "text": [
      "[2021-12-20 15:08:32-0700] INFO - prefect.TaskRunner | Task 'get_markdown[79]': Finished task run for task with final state: 'Success'\n"
     ]
    },
    {
     "name": "stderr",
     "output_type": "stream",
     "text": [
      "INFO:prefect.TaskRunner:Task 'get_markdown[79]': Finished task run for task with final state: 'Success'\n"
     ]
    },
    {
     "name": "stdout",
     "output_type": "stream",
     "text": [
      "[2021-12-20 15:08:32-0700] INFO - prefect.TaskRunner | Task 'get_markdown[86]': Starting task run...\n"
     ]
    },
    {
     "name": "stderr",
     "output_type": "stream",
     "text": [
      "INFO:prefect.TaskRunner:Task 'get_markdown[86]': Starting task run...\n"
     ]
    },
    {
     "name": "stdout",
     "output_type": "stream",
     "text": [
      "[2021-12-20 15:08:32-0700] INFO - prefect.TaskRunner | Task 'get_markdown[8]': Finished task run for task with final state: 'Success'\n"
     ]
    },
    {
     "name": "stderr",
     "output_type": "stream",
     "text": [
      "INFO:prefect.TaskRunner:Task 'get_markdown[8]': Finished task run for task with final state: 'Success'\n"
     ]
    },
    {
     "name": "stdout",
     "output_type": "stream",
     "text": [
      "[2021-12-20 15:08:32-0700] INFO - prefect.TaskRunner | Task 'get_markdown[87]': Starting task run...\n"
     ]
    },
    {
     "name": "stderr",
     "output_type": "stream",
     "text": [
      "INFO:prefect.TaskRunner:Task 'get_markdown[87]': Starting task run...\n"
     ]
    },
    {
     "name": "stdout",
     "output_type": "stream",
     "text": [
      "[2021-12-20 15:08:34-0700] INFO - prefect.TaskRunner | Task 'get_markdown[80]': Finished task run for task with final state: 'Success'\n"
     ]
    },
    {
     "name": "stderr",
     "output_type": "stream",
     "text": [
      "INFO:prefect.TaskRunner:Task 'get_markdown[80]': Finished task run for task with final state: 'Success'\n"
     ]
    },
    {
     "name": "stdout",
     "output_type": "stream",
     "text": [
      "[2021-12-20 15:08:34-0700] INFO - prefect.TaskRunner | Task 'get_markdown[88]': Starting task run...\n"
     ]
    },
    {
     "name": "stderr",
     "output_type": "stream",
     "text": [
      "INFO:prefect.TaskRunner:Task 'get_markdown[88]': Starting task run...\n"
     ]
    },
    {
     "name": "stdout",
     "output_type": "stream",
     "text": [
      "[2021-12-20 15:08:38-0700] INFO - prefect.TaskRunner | Task 'get_markdown[81]': Finished task run for task with final state: 'Success'\n"
     ]
    },
    {
     "name": "stderr",
     "output_type": "stream",
     "text": [
      "INFO:prefect.TaskRunner:Task 'get_markdown[81]': Finished task run for task with final state: 'Success'\n"
     ]
    },
    {
     "name": "stdout",
     "output_type": "stream",
     "text": [
      "[2021-12-20 15:08:38-0700] INFO - prefect.TaskRunner | Task 'get_markdown[89]': Starting task run...\n"
     ]
    },
    {
     "name": "stderr",
     "output_type": "stream",
     "text": [
      "INFO:prefect.TaskRunner:Task 'get_markdown[89]': Starting task run...\n"
     ]
    },
    {
     "name": "stdout",
     "output_type": "stream",
     "text": [
      "[2021-12-20 15:08:40-0700] INFO - prefect.TaskRunner | Task 'get_markdown[82]': Finished task run for task with final state: 'Success'\n"
     ]
    },
    {
     "name": "stderr",
     "output_type": "stream",
     "text": [
      "INFO:prefect.TaskRunner:Task 'get_markdown[82]': Finished task run for task with final state: 'Success'\n"
     ]
    },
    {
     "name": "stdout",
     "output_type": "stream",
     "text": [
      "[2021-12-20 15:08:40-0700] INFO - prefect.TaskRunner | Task 'get_markdown[9]': Starting task run...\n"
     ]
    },
    {
     "name": "stderr",
     "output_type": "stream",
     "text": [
      "INFO:prefect.TaskRunner:Task 'get_markdown[9]': Starting task run...\n"
     ]
    },
    {
     "name": "stdout",
     "output_type": "stream",
     "text": [
      "[2021-12-20 15:08:41-0700] INFO - prefect.TaskRunner | Task 'get_markdown[83]': Finished task run for task with final state: 'Success'\n"
     ]
    },
    {
     "name": "stderr",
     "output_type": "stream",
     "text": [
      "INFO:prefect.TaskRunner:Task 'get_markdown[83]': Finished task run for task with final state: 'Success'\n"
     ]
    },
    {
     "name": "stdout",
     "output_type": "stream",
     "text": [
      "[2021-12-20 15:08:41-0700] INFO - prefect.TaskRunner | Task 'get_markdown[90]': Starting task run...\n"
     ]
    },
    {
     "name": "stderr",
     "output_type": "stream",
     "text": [
      "INFO:prefect.TaskRunner:Task 'get_markdown[90]': Starting task run...\n"
     ]
    },
    {
     "name": "stdout",
     "output_type": "stream",
     "text": [
      "[2021-12-20 15:08:42-0700] INFO - prefect.TaskRunner | Task 'get_markdown[84]': Finished task run for task with final state: 'Success'\n"
     ]
    },
    {
     "name": "stderr",
     "output_type": "stream",
     "text": [
      "INFO:prefect.TaskRunner:Task 'get_markdown[84]': Finished task run for task with final state: 'Success'\n"
     ]
    },
    {
     "name": "stdout",
     "output_type": "stream",
     "text": [
      "[2021-12-20 15:08:42-0700] INFO - prefect.TaskRunner | Task 'get_markdown[91]': Starting task run...\n"
     ]
    },
    {
     "name": "stderr",
     "output_type": "stream",
     "text": [
      "INFO:prefect.TaskRunner:Task 'get_markdown[91]': Starting task run...\n"
     ]
    },
    {
     "name": "stdout",
     "output_type": "stream",
     "text": [
      "[2021-12-20 15:08:46-0700] INFO - prefect.TaskRunner | Task 'get_markdown[85]': Finished task run for task with final state: 'Success'\n"
     ]
    },
    {
     "name": "stderr",
     "output_type": "stream",
     "text": [
      "INFO:prefect.TaskRunner:Task 'get_markdown[85]': Finished task run for task with final state: 'Success'\n"
     ]
    },
    {
     "name": "stdout",
     "output_type": "stream",
     "text": [
      "[2021-12-20 15:08:46-0700] INFO - prefect.TaskRunner | Task 'get_markdown[92]': Starting task run...\n"
     ]
    },
    {
     "name": "stderr",
     "output_type": "stream",
     "text": [
      "INFO:prefect.TaskRunner:Task 'get_markdown[92]': Starting task run...\n"
     ]
    },
    {
     "name": "stdout",
     "output_type": "stream",
     "text": [
      "[2021-12-20 15:08:46-0700] INFO - prefect.TaskRunner | Task 'get_markdown[86]': Finished task run for task with final state: 'Success'\n"
     ]
    },
    {
     "name": "stderr",
     "output_type": "stream",
     "text": [
      "INFO:prefect.TaskRunner:Task 'get_markdown[86]': Finished task run for task with final state: 'Success'\n"
     ]
    },
    {
     "name": "stdout",
     "output_type": "stream",
     "text": [
      "[2021-12-20 15:08:46-0700] INFO - prefect.TaskRunner | Task 'get_markdown[93]': Starting task run...\n"
     ]
    },
    {
     "name": "stderr",
     "output_type": "stream",
     "text": [
      "INFO:prefect.TaskRunner:Task 'get_markdown[93]': Starting task run...\n"
     ]
    },
    {
     "name": "stdout",
     "output_type": "stream",
     "text": [
      "[2021-12-20 15:08:46-0700] INFO - prefect.TaskRunner | Task 'get_markdown[87]': Finished task run for task with final state: 'Success'\n"
     ]
    },
    {
     "name": "stderr",
     "output_type": "stream",
     "text": [
      "INFO:prefect.TaskRunner:Task 'get_markdown[87]': Finished task run for task with final state: 'Success'\n"
     ]
    },
    {
     "name": "stdout",
     "output_type": "stream",
     "text": [
      "[2021-12-20 15:08:46-0700] INFO - prefect.TaskRunner | Task 'get_markdown[94]': Starting task run...\n"
     ]
    },
    {
     "name": "stderr",
     "output_type": "stream",
     "text": [
      "INFO:prefect.TaskRunner:Task 'get_markdown[94]': Starting task run...\n"
     ]
    },
    {
     "name": "stdout",
     "output_type": "stream",
     "text": [
      "[2021-12-20 15:08:47-0700] INFO - prefect.TaskRunner | Task 'get_markdown[88]': Finished task run for task with final state: 'Success'\n"
     ]
    },
    {
     "name": "stderr",
     "output_type": "stream",
     "text": [
      "INFO:prefect.TaskRunner:Task 'get_markdown[88]': Finished task run for task with final state: 'Success'\n"
     ]
    },
    {
     "name": "stdout",
     "output_type": "stream",
     "text": [
      "[2021-12-20 15:08:47-0700] INFO - prefect.TaskRunner | Task 'get_markdown[95]': Starting task run...\n"
     ]
    },
    {
     "name": "stderr",
     "output_type": "stream",
     "text": [
      "INFO:prefect.TaskRunner:Task 'get_markdown[95]': Starting task run...\n"
     ]
    },
    {
     "name": "stdout",
     "output_type": "stream",
     "text": [
      "[2021-12-20 15:08:50-0700] INFO - prefect.TaskRunner | Task 'get_markdown[89]': Finished task run for task with final state: 'Success'\n"
     ]
    },
    {
     "name": "stderr",
     "output_type": "stream",
     "text": [
      "INFO:prefect.TaskRunner:Task 'get_markdown[89]': Finished task run for task with final state: 'Success'\n"
     ]
    },
    {
     "name": "stdout",
     "output_type": "stream",
     "text": [
      "[2021-12-20 15:08:50-0700] INFO - prefect.TaskRunner | Task 'get_markdown[96]': Starting task run...\n"
     ]
    },
    {
     "name": "stderr",
     "output_type": "stream",
     "text": [
      "INFO:prefect.TaskRunner:Task 'get_markdown[96]': Starting task run...\n"
     ]
    },
    {
     "name": "stdout",
     "output_type": "stream",
     "text": [
      "[2021-12-20 15:08:52-0700] INFO - prefect.TaskRunner | Task 'get_markdown[9]': Finished task run for task with final state: 'Success'\n"
     ]
    },
    {
     "name": "stderr",
     "output_type": "stream",
     "text": [
      "INFO:prefect.TaskRunner:Task 'get_markdown[9]': Finished task run for task with final state: 'Success'\n"
     ]
    },
    {
     "name": "stdout",
     "output_type": "stream",
     "text": [
      "[2021-12-20 15:08:52-0700] INFO - prefect.TaskRunner | Task 'get_markdown[97]': Starting task run...\n"
     ]
    },
    {
     "name": "stderr",
     "output_type": "stream",
     "text": [
      "INFO:prefect.TaskRunner:Task 'get_markdown[97]': Starting task run...\n"
     ]
    },
    {
     "name": "stdout",
     "output_type": "stream",
     "text": [
      "[2021-12-20 15:08:54-0700] INFO - prefect.TaskRunner | Task 'get_markdown[90]': Finished task run for task with final state: 'Success'\n"
     ]
    },
    {
     "name": "stderr",
     "output_type": "stream",
     "text": [
      "INFO:prefect.TaskRunner:Task 'get_markdown[90]': Finished task run for task with final state: 'Success'\n"
     ]
    },
    {
     "name": "stdout",
     "output_type": "stream",
     "text": [
      "[2021-12-20 15:08:54-0700] INFO - prefect.TaskRunner | Task 'get_markdown[98]': Starting task run...\n"
     ]
    },
    {
     "name": "stderr",
     "output_type": "stream",
     "text": [
      "INFO:prefect.TaskRunner:Task 'get_markdown[98]': Starting task run...\n"
     ]
    },
    {
     "name": "stdout",
     "output_type": "stream",
     "text": [
      "[2021-12-20 15:08:54-0700] INFO - prefect.TaskRunner | Task 'get_markdown[91]': Finished task run for task with final state: 'Success'\n"
     ]
    },
    {
     "name": "stderr",
     "output_type": "stream",
     "text": [
      "INFO:prefect.TaskRunner:Task 'get_markdown[91]': Finished task run for task with final state: 'Success'\n"
     ]
    },
    {
     "name": "stdout",
     "output_type": "stream",
     "text": [
      "[2021-12-20 15:08:55-0700] INFO - prefect.TaskRunner | Task 'get_markdown[99]': Starting task run...\n"
     ]
    },
    {
     "name": "stderr",
     "output_type": "stream",
     "text": [
      "INFO:prefect.TaskRunner:Task 'get_markdown[99]': Starting task run...\n"
     ]
    },
    {
     "name": "stdout",
     "output_type": "stream",
     "text": [
      "[2021-12-20 15:08:59-0700] INFO - prefect.TaskRunner | Task 'get_markdown[93]': Finished task run for task with final state: 'Success'\n"
     ]
    },
    {
     "name": "stderr",
     "output_type": "stream",
     "text": [
      "INFO:prefect.TaskRunner:Task 'get_markdown[93]': Finished task run for task with final state: 'Success'\n"
     ]
    },
    {
     "name": "stdout",
     "output_type": "stream",
     "text": [
      "[2021-12-20 15:09:00-0700] INFO - prefect.TaskRunner | Task 'get_markdown[92]': Finished task run for task with final state: 'Success'\n"
     ]
    },
    {
     "name": "stderr",
     "output_type": "stream",
     "text": [
      "INFO:prefect.TaskRunner:Task 'get_markdown[92]': Finished task run for task with final state: 'Success'\n"
     ]
    },
    {
     "name": "stdout",
     "output_type": "stream",
     "text": [
      "[2021-12-20 15:09:00-0700] INFO - prefect.TaskRunner | Task 'get_markdown[94]': Finished task run for task with final state: 'Success'\n"
     ]
    },
    {
     "name": "stderr",
     "output_type": "stream",
     "text": [
      "INFO:prefect.TaskRunner:Task 'get_markdown[94]': Finished task run for task with final state: 'Success'\n"
     ]
    },
    {
     "name": "stdout",
     "output_type": "stream",
     "text": [
      "[2021-12-20 15:09:00-0700] INFO - prefect.TaskRunner | Task 'get_markdown[95]': Finished task run for task with final state: 'Success'\n"
     ]
    },
    {
     "name": "stderr",
     "output_type": "stream",
     "text": [
      "INFO:prefect.TaskRunner:Task 'get_markdown[95]': Finished task run for task with final state: 'Success'\n"
     ]
    },
    {
     "name": "stdout",
     "output_type": "stream",
     "text": [
      "[2021-12-20 15:09:01-0700] INFO - prefect.TaskRunner | Task 'get_markdown[96]': Finished task run for task with final state: 'Success'\n"
     ]
    },
    {
     "name": "stderr",
     "output_type": "stream",
     "text": [
      "INFO:prefect.TaskRunner:Task 'get_markdown[96]': Finished task run for task with final state: 'Success'\n"
     ]
    },
    {
     "name": "stdout",
     "output_type": "stream",
     "text": [
      "[2021-12-20 15:09:02-0700] INFO - prefect.TaskRunner | Task 'get_markdown[97]': Finished task run for task with final state: 'Success'\n"
     ]
    },
    {
     "name": "stderr",
     "output_type": "stream",
     "text": [
      "INFO:prefect.TaskRunner:Task 'get_markdown[97]': Finished task run for task with final state: 'Success'\n"
     ]
    },
    {
     "name": "stdout",
     "output_type": "stream",
     "text": [
      "[2021-12-20 15:09:02-0700] INFO - prefect.TaskRunner | Task 'get_markdown[98]': Finished task run for task with final state: 'Success'\n"
     ]
    },
    {
     "name": "stderr",
     "output_type": "stream",
     "text": [
      "INFO:prefect.TaskRunner:Task 'get_markdown[98]': Finished task run for task with final state: 'Success'\n"
     ]
    },
    {
     "name": "stdout",
     "output_type": "stream",
     "text": [
      "[2021-12-20 15:09:02-0700] INFO - prefect.TaskRunner | Task 'get_markdown[99]': Finished task run for task with final state: 'Success'\n"
     ]
    },
    {
     "name": "stderr",
     "output_type": "stream",
     "text": [
      "INFO:prefect.TaskRunner:Task 'get_markdown[99]': Finished task run for task with final state: 'Success'\n"
     ]
    },
    {
     "name": "stdout",
     "output_type": "stream",
     "text": [
      "[2021-12-20 15:09:02-0700] INFO - prefect.TaskRunner | Task 'assemble_dicts': Starting task run...\n"
     ]
    },
    {
     "name": "stderr",
     "output_type": "stream",
     "text": [
      "INFO:prefect.TaskRunner:Task 'assemble_dicts': Starting task run...\n"
     ]
    },
    {
     "name": "stdout",
     "output_type": "stream",
     "text": [
      "[2021-12-20 15:09:02-0700] INFO - prefect.TaskRunner | Task 'assemble_dicts': Finished task run for task with final state: 'Success'\n"
     ]
    },
    {
     "name": "stderr",
     "output_type": "stream",
     "text": [
      "INFO:prefect.TaskRunner:Task 'assemble_dicts': Finished task run for task with final state: 'Success'\n"
     ]
    },
    {
     "name": "stdout",
     "output_type": "stream",
     "text": [
      "[2021-12-20 15:09:02-0700] INFO - prefect.FlowRunner | Flow run SUCCESS: all reference tasks succeeded\n"
     ]
    },
    {
     "name": "stderr",
     "output_type": "stream",
     "text": [
      "INFO:prefect.FlowRunner:Flow run SUCCESS: all reference tasks succeeded\n"
     ]
    },
    {
     "data": {
      "application/javascript": [
       "\n",
       "            setTimeout(function() {\n",
       "                var nbb_cell_id = 12;\n",
       "                var nbb_unformatted_code = \"# run the flow, and capture the results into manubot_results\\nstate = flow.run(\\n    parameters={\\\"ids\\\": id_dict},\\n)\\nmanubot_results = state.result[output_dict].result\";\n",
       "                var nbb_formatted_code = \"# run the flow, and capture the results into manubot_results\\nstate = flow.run(\\n    parameters={\\\"ids\\\": id_dict},\\n)\\nmanubot_results = state.result[output_dict].result\";\n",
       "                var nbb_cells = Jupyter.notebook.get_cells();\n",
       "                for (var i = 0; i < nbb_cells.length; ++i) {\n",
       "                    if (nbb_cells[i].input_prompt_number == nbb_cell_id) {\n",
       "                        if (nbb_cells[i].get_text() == nbb_unformatted_code) {\n",
       "                             nbb_cells[i].set_text(nbb_formatted_code);\n",
       "                        }\n",
       "                        break;\n",
       "                    }\n",
       "                }\n",
       "            }, 500);\n",
       "            "
      ],
      "text/plain": [
       "<IPython.core.display.Javascript object>"
      ]
     },
     "metadata": {},
     "output_type": "display_data"
    }
   ],
   "source": [
    "# run the flow, and capture the results into manubot_results\n",
    "state = flow.run(\n",
    "    parameters={\"ids\": id_dict},\n",
    ")\n",
    "manubot_results = state.result[output_dict].result"
   ]
  },
  {
   "cell_type": "code",
   "execution_count": 13,
   "id": "ae97bc43",
   "metadata": {
    "scrolled": true
   },
   "outputs": [
    {
     "data": {
      "text/html": [
       "<div>\n",
       "<style scoped>\n",
       "    .dataframe tbody tr th:only-of-type {\n",
       "        vertical-align: middle;\n",
       "    }\n",
       "\n",
       "    .dataframe tbody tr th {\n",
       "        vertical-align: top;\n",
       "    }\n",
       "\n",
       "    .dataframe thead th {\n",
       "        text-align: right;\n",
       "    }\n",
       "</style>\n",
       "<table border=\"1\" class=\"dataframe\">\n",
       "  <thead>\n",
       "    <tr style=\"text-align: right;\">\n",
       "      <th></th>\n",
       "      <th>authors</th>\n",
       "      <th>cite</th>\n",
       "      <th>index_num</th>\n",
       "      <th>numbered_cite</th>\n",
       "    </tr>\n",
       "  </thead>\n",
       "  <tbody>\n",
       "    <tr>\n",
       "      <th>8399445</th>\n",
       "      <td>[Johnson RK, Kechris K, Yang I]</td>\n",
       "      <td>**A Mediation Approach to Discovering Causal R...</td>\n",
       "      <td>1</td>\n",
       "      <td>1. **A Mediation Approach to Discovering Causa...</td>\n",
       "    </tr>\n",
       "    <tr>\n",
       "      <th>7859930</th>\n",
       "      <td>[Kechris K]</td>\n",
       "      <td>**A Practical Guide to Metabolomics Software D...</td>\n",
       "      <td>2</td>\n",
       "      <td>2. **A Practical Guide to Metabolomics Softwar...</td>\n",
       "    </tr>\n",
       "    <tr>\n",
       "      <th>8485147</th>\n",
       "      <td>[Barnes K, Mathias R]</td>\n",
       "      <td>**A System for Phenotype Harmonization in the ...</td>\n",
       "      <td>3</td>\n",
       "      <td>3. **A System for Phenotype Harmonization in t...</td>\n",
       "    </tr>\n",
       "    <tr>\n",
       "      <th>8525744</th>\n",
       "      <td>[Casey Greene, Gregory Way]</td>\n",
       "      <td>**A field guide to cultivating computational b...</td>\n",
       "      <td>4</td>\n",
       "      <td>4. **A field guide to cultivating computationa...</td>\n",
       "    </tr>\n",
       "    <tr>\n",
       "      <th>8492620</th>\n",
       "      <td>[Ghosh D]</td>\n",
       "      <td>**A novel approach to understanding Parkinsoni...</td>\n",
       "      <td>5</td>\n",
       "      <td>5. **A novel approach to understanding Parkins...</td>\n",
       "    </tr>\n",
       "    <tr>\n",
       "      <th>...</th>\n",
       "      <td>...</td>\n",
       "      <td>...</td>\n",
       "      <td>...</td>\n",
       "      <td>...</td>\n",
       "    </tr>\n",
       "    <tr>\n",
       "      <th>8206199</th>\n",
       "      <td>[Lange L, Mathias R]</td>\n",
       "      <td>**Whole-genome sequencing association analysis...</td>\n",
       "      <td>145</td>\n",
       "      <td>145. **Whole-genome sequencing association ana...</td>\n",
       "    </tr>\n",
       "    <tr>\n",
       "      <th>8095117</th>\n",
       "      <td>[Barnes K, Campbell M, Crooks K]</td>\n",
       "      <td>**Zika Virus Congenital Syndrome and MTOR gene...</td>\n",
       "      <td>146</td>\n",
       "      <td>146. **Zika Virus Congenital Syndrome and MTOR...</td>\n",
       "    </tr>\n",
       "    <tr>\n",
       "      <th>7822150</th>\n",
       "      <td>[Taylor M]</td>\n",
       "      <td>**cAMP-Independent Activation of the Unfolded ...</td>\n",
       "      <td>147</td>\n",
       "      <td>147. **cAMP-Independent Activation of the Unfo...</td>\n",
       "    </tr>\n",
       "    <tr>\n",
       "      <th>8415599</th>\n",
       "      <td>[Casey Greene]</td>\n",
       "      <td>**miQC: An adaptive probabilistic framework fo...</td>\n",
       "      <td>148</td>\n",
       "      <td>148. **miQC: An adaptive probabilistic framewo...</td>\n",
       "    </tr>\n",
       "    <tr>\n",
       "      <th>7852128</th>\n",
       "      <td>[Kechris K]</td>\n",
       "      <td>**tidyMicro: a pipeline for microbiome data an...</td>\n",
       "      <td>149</td>\n",
       "      <td>149. **tidyMicro: a pipeline for microbiome da...</td>\n",
       "    </tr>\n",
       "  </tbody>\n",
       "</table>\n",
       "<p>149 rows × 4 columns</p>\n",
       "</div>"
      ],
      "text/plain": [
       "                                  authors  \\\n",
       "8399445   [Johnson RK, Kechris K, Yang I]   \n",
       "7859930                       [Kechris K]   \n",
       "8485147             [Barnes K, Mathias R]   \n",
       "8525744       [Casey Greene, Gregory Way]   \n",
       "8492620                         [Ghosh D]   \n",
       "...                                   ...   \n",
       "8206199              [Lange L, Mathias R]   \n",
       "8095117  [Barnes K, Campbell M, Crooks K]   \n",
       "7822150                        [Taylor M]   \n",
       "8415599                    [Casey Greene]   \n",
       "7852128                       [Kechris K]   \n",
       "\n",
       "                                                      cite  index_num  \\\n",
       "8399445  **A Mediation Approach to Discovering Causal R...          1   \n",
       "7859930  **A Practical Guide to Metabolomics Software D...          2   \n",
       "8485147  **A System for Phenotype Harmonization in the ...          3   \n",
       "8525744  **A field guide to cultivating computational b...          4   \n",
       "8492620  **A novel approach to understanding Parkinsoni...          5   \n",
       "...                                                    ...        ...   \n",
       "8206199  **Whole-genome sequencing association analysis...        145   \n",
       "8095117  **Zika Virus Congenital Syndrome and MTOR gene...        146   \n",
       "7822150  **cAMP-Independent Activation of the Unfolded ...        147   \n",
       "8415599  **miQC: An adaptive probabilistic framework fo...        148   \n",
       "7852128  **tidyMicro: a pipeline for microbiome data an...        149   \n",
       "\n",
       "                                             numbered_cite  \n",
       "8399445  1. **A Mediation Approach to Discovering Causa...  \n",
       "7859930  2. **A Practical Guide to Metabolomics Softwar...  \n",
       "8485147  3. **A System for Phenotype Harmonization in t...  \n",
       "8525744  4. **A field guide to cultivating computationa...  \n",
       "8492620  5. **A novel approach to understanding Parkins...  \n",
       "...                                                    ...  \n",
       "8206199  145. **Whole-genome sequencing association ana...  \n",
       "8095117  146. **Zika Virus Congenital Syndrome and MTOR...  \n",
       "7822150  147. **cAMP-Independent Activation of the Unfo...  \n",
       "8415599  148. **miQC: An adaptive probabilistic framewo...  \n",
       "7852128  149. **tidyMicro: a pipeline for microbiome da...  \n",
       "\n",
       "[149 rows x 4 columns]"
      ]
     },
     "execution_count": 13,
     "metadata": {},
     "output_type": "execute_result"
    },
    {
     "data": {
      "application/javascript": [
       "\n",
       "            setTimeout(function() {\n",
       "                var nbb_cell_id = 13;\n",
       "                var nbb_unformatted_code = \"# Sorting is straight-forward with Pandas\\ndf = pd.DataFrame.from_dict(manubot_results, orient=\\\"index\\\")\\ndf.sort_values(by=\\\"cite\\\", inplace=True)\\n# adding a number for each site as asked.\\ndf[\\\"index_num\\\"] = range(1, len(df.index) + 1)\\ndf[\\\"numbered_cite\\\"] = df.apply(lambda x: f\\\"{x.index_num}. {x.cite}\\\", axis=1)\\ndf\";\n",
       "                var nbb_formatted_code = \"# Sorting is straight-forward with Pandas\\ndf = pd.DataFrame.from_dict(manubot_results, orient=\\\"index\\\")\\ndf.sort_values(by=\\\"cite\\\", inplace=True)\\n# adding a number for each site as asked.\\ndf[\\\"index_num\\\"] = range(1, len(df.index) + 1)\\ndf[\\\"numbered_cite\\\"] = df.apply(lambda x: f\\\"{x.index_num}. {x.cite}\\\", axis=1)\\ndf\";\n",
       "                var nbb_cells = Jupyter.notebook.get_cells();\n",
       "                for (var i = 0; i < nbb_cells.length; ++i) {\n",
       "                    if (nbb_cells[i].input_prompt_number == nbb_cell_id) {\n",
       "                        if (nbb_cells[i].get_text() == nbb_unformatted_code) {\n",
       "                             nbb_cells[i].set_text(nbb_formatted_code);\n",
       "                        }\n",
       "                        break;\n",
       "                    }\n",
       "                }\n",
       "            }, 500);\n",
       "            "
      ],
      "text/plain": [
       "<IPython.core.display.Javascript object>"
      ]
     },
     "metadata": {},
     "output_type": "display_data"
    }
   ],
   "source": [
    "# Sorting is straight-forward with Pandas\n",
    "df = pd.DataFrame.from_dict(manubot_results, orient=\"index\")\n",
    "df.sort_values(by=\"cite\", inplace=True)\n",
    "# adding a number for each site as asked.\n",
    "df[\"index_num\"] = range(1, len(df.index) + 1)\n",
    "df[\"numbered_cite\"] = df.apply(lambda x: f\"{x.index_num}. {x.cite}\", axis=1)\n",
    "df"
   ]
  },
  {
   "cell_type": "code",
   "execution_count": 14,
   "id": "9a7e768f",
   "metadata": {},
   "outputs": [
    {
     "data": {
      "text/html": [
       "<div>\n",
       "<style scoped>\n",
       "    .dataframe tbody tr th:only-of-type {\n",
       "        vertical-align: middle;\n",
       "    }\n",
       "\n",
       "    .dataframe tbody tr th {\n",
       "        vertical-align: top;\n",
       "    }\n",
       "\n",
       "    .dataframe thead th {\n",
       "        text-align: right;\n",
       "    }\n",
       "</style>\n",
       "<table border=\"1\" class=\"dataframe\">\n",
       "  <thead>\n",
       "    <tr style=\"text-align: right;\">\n",
       "      <th></th>\n",
       "      <th>author_type</th>\n",
       "      <th>search_term</th>\n",
       "      <th>item_count</th>\n",
       "    </tr>\n",
       "  </thead>\n",
       "  <tbody>\n",
       "    <tr>\n",
       "      <th>Aquilante C</th>\n",
       "      <td>contributor</td>\n",
       "      <td>(Aquilante C[Author])</td>\n",
       "      <td>2.0</td>\n",
       "    </tr>\n",
       "    <tr>\n",
       "      <th>Barnes K</th>\n",
       "      <td>contributor</td>\n",
       "      <td>(Barnes K[Author])</td>\n",
       "      <td>3.0</td>\n",
       "    </tr>\n",
       "    <tr>\n",
       "      <th>Boorgula M</th>\n",
       "      <td>contributor</td>\n",
       "      <td>(Boorgula M[Author])</td>\n",
       "      <td>NaN</td>\n",
       "    </tr>\n",
       "    <tr>\n",
       "      <th>Brooks I</th>\n",
       "      <td>contributor</td>\n",
       "      <td>(Brooks I[Author])</td>\n",
       "      <td>1.0</td>\n",
       "    </tr>\n",
       "    <tr>\n",
       "      <th>Campbell M</th>\n",
       "      <td>contributor</td>\n",
       "      <td>(Campbell M[Author])</td>\n",
       "      <td>2.0</td>\n",
       "    </tr>\n",
       "    <tr>\n",
       "      <th>Casey Greene</th>\n",
       "      <td>pi</td>\n",
       "      <td>(Casey Greene)</td>\n",
       "      <td>16.0</td>\n",
       "    </tr>\n",
       "    <tr>\n",
       "      <th>Claw K</th>\n",
       "      <td>contributor</td>\n",
       "      <td>(Claw K[Author])</td>\n",
       "      <td>3.0</td>\n",
       "    </tr>\n",
       "    <tr>\n",
       "      <th>Cohen M</th>\n",
       "      <td>contributor</td>\n",
       "      <td>(Cohen M[Author])</td>\n",
       "      <td>4.0</td>\n",
       "    </tr>\n",
       "    <tr>\n",
       "      <th>Coors M</th>\n",
       "      <td>contributor</td>\n",
       "      <td>(Coors M[Author])</td>\n",
       "      <td>3.0</td>\n",
       "    </tr>\n",
       "    <tr>\n",
       "      <th>Crooks K</th>\n",
       "      <td>contributor</td>\n",
       "      <td>(Crooks K[Author])</td>\n",
       "      <td>1.0</td>\n",
       "    </tr>\n",
       "    <tr>\n",
       "      <th>Fingerlin T</th>\n",
       "      <td>contributor</td>\n",
       "      <td>(Fingerlin T[Author])</td>\n",
       "      <td>1.0</td>\n",
       "    </tr>\n",
       "    <tr>\n",
       "      <th>Fishbein L</th>\n",
       "      <td>contributor</td>\n",
       "      <td>(Fishbein L[Author])</td>\n",
       "      <td>2.0</td>\n",
       "    </tr>\n",
       "    <tr>\n",
       "      <th>Ghosh D</th>\n",
       "      <td>contributor</td>\n",
       "      <td>(Ghosh D[Author])</td>\n",
       "      <td>5.0</td>\n",
       "    </tr>\n",
       "    <tr>\n",
       "      <th>Gignoux C</th>\n",
       "      <td>contributor</td>\n",
       "      <td>(Gignoux C[Author])</td>\n",
       "      <td>5.0</td>\n",
       "    </tr>\n",
       "    <tr>\n",
       "      <th>Gregory Way</th>\n",
       "      <td>pi</td>\n",
       "      <td>(Gregory Way)</td>\n",
       "      <td>3.0</td>\n",
       "    </tr>\n",
       "    <tr>\n",
       "      <th>Hendricks A</th>\n",
       "      <td>contributor</td>\n",
       "      <td>(Hendricks A[Author])</td>\n",
       "      <td>4.0</td>\n",
       "    </tr>\n",
       "    <tr>\n",
       "      <th>Johnson RK</th>\n",
       "      <td>contributor</td>\n",
       "      <td>(Johnson RK[Author])</td>\n",
       "      <td>3.0</td>\n",
       "    </tr>\n",
       "    <tr>\n",
       "      <th>Julian C</th>\n",
       "      <td>contributor</td>\n",
       "      <td>(Julian C[Author])</td>\n",
       "      <td>1.0</td>\n",
       "    </tr>\n",
       "    <tr>\n",
       "      <th>Kao D</th>\n",
       "      <td>contributor</td>\n",
       "      <td>(Kao D[Author])</td>\n",
       "      <td>2.0</td>\n",
       "    </tr>\n",
       "    <tr>\n",
       "      <th>Kechris K</th>\n",
       "      <td>contributor</td>\n",
       "      <td>(Kechris K[Author])</td>\n",
       "      <td>16.0</td>\n",
       "    </tr>\n",
       "    <tr>\n",
       "      <th>Kudron E</th>\n",
       "      <td>contributor</td>\n",
       "      <td>(Kudron E[Author])</td>\n",
       "      <td>NaN</td>\n",
       "    </tr>\n",
       "    <tr>\n",
       "      <th>Lange E</th>\n",
       "      <td>contributor</td>\n",
       "      <td>(Lange E[Author])</td>\n",
       "      <td>4.0</td>\n",
       "    </tr>\n",
       "    <tr>\n",
       "      <th>Lange L</th>\n",
       "      <td>contributor</td>\n",
       "      <td>(Lange L[Author])</td>\n",
       "      <td>13.0</td>\n",
       "    </tr>\n",
       "    <tr>\n",
       "      <th>Law A</th>\n",
       "      <td>contributor</td>\n",
       "      <td>(Law A[Author])</td>\n",
       "      <td>2.0</td>\n",
       "    </tr>\n",
       "    <tr>\n",
       "      <th>Lawrence Hunter</th>\n",
       "      <td>pi</td>\n",
       "      <td>(Lawrence Hunter)</td>\n",
       "      <td>4.0</td>\n",
       "    </tr>\n",
       "    <tr>\n",
       "      <th>Layer R</th>\n",
       "      <td>contributor</td>\n",
       "      <td>(Layer R[Author])</td>\n",
       "      <td>3.0</td>\n",
       "    </tr>\n",
       "    <tr>\n",
       "      <th>Lee YM</th>\n",
       "      <td>contributor</td>\n",
       "      <td>(Lee YM[Author])</td>\n",
       "      <td>2.0</td>\n",
       "    </tr>\n",
       "    <tr>\n",
       "      <th>Lowery J</th>\n",
       "      <td>contributor</td>\n",
       "      <td>(Lowery J[Author])</td>\n",
       "      <td>NaN</td>\n",
       "    </tr>\n",
       "    <tr>\n",
       "      <th>Lozupone C</th>\n",
       "      <td>contributor</td>\n",
       "      <td>(Lozupone C[Author])</td>\n",
       "      <td>5.0</td>\n",
       "    </tr>\n",
       "    <tr>\n",
       "      <th>Mathias R</th>\n",
       "      <td>contributor</td>\n",
       "      <td>(Mathias R[Author])</td>\n",
       "      <td>5.0</td>\n",
       "    </tr>\n",
       "    <tr>\n",
       "      <th>Melissa Haendel</th>\n",
       "      <td>pi</td>\n",
       "      <td>(Melissa Haendel)</td>\n",
       "      <td>18.0</td>\n",
       "    </tr>\n",
       "    <tr>\n",
       "      <th>Monte A</th>\n",
       "      <td>contributor</td>\n",
       "      <td>(Monte A[Author])</td>\n",
       "      <td>4.0</td>\n",
       "    </tr>\n",
       "    <tr>\n",
       "      <th>Norman P</th>\n",
       "      <td>contributor</td>\n",
       "      <td>(Norman P[Author])</td>\n",
       "      <td>6.0</td>\n",
       "    </tr>\n",
       "    <tr>\n",
       "      <th>Phang T</th>\n",
       "      <td>contributor</td>\n",
       "      <td>(Phang T[Author])</td>\n",
       "      <td>1.0</td>\n",
       "    </tr>\n",
       "    <tr>\n",
       "      <th>Porras A</th>\n",
       "      <td>contributor</td>\n",
       "      <td>(Porras A[Author])</td>\n",
       "      <td>2.0</td>\n",
       "    </tr>\n",
       "    <tr>\n",
       "      <th>Pozdeyev N</th>\n",
       "      <td>contributor</td>\n",
       "      <td>(Pozdeyev N[Author])</td>\n",
       "      <td>1.0</td>\n",
       "    </tr>\n",
       "    <tr>\n",
       "      <th>Raghavan S</th>\n",
       "      <td>contributor</td>\n",
       "      <td>(Raghavan S[Author])</td>\n",
       "      <td>2.0</td>\n",
       "    </tr>\n",
       "    <tr>\n",
       "      <th>Reisdorph N</th>\n",
       "      <td>contributor</td>\n",
       "      <td>(Reisdorph N[Author])</td>\n",
       "      <td>6.0</td>\n",
       "    </tr>\n",
       "    <tr>\n",
       "      <th>Rosenberg M</th>\n",
       "      <td>contributor</td>\n",
       "      <td>(Rosenberg M[Author])</td>\n",
       "      <td>1.0</td>\n",
       "    </tr>\n",
       "    <tr>\n",
       "      <th>Santorico S</th>\n",
       "      <td>contributor</td>\n",
       "      <td>(Santorico S[Author])</td>\n",
       "      <td>2.0</td>\n",
       "    </tr>\n",
       "    <tr>\n",
       "      <th>Sean Davis</th>\n",
       "      <td>pi</td>\n",
       "      <td>(Sean Davis)</td>\n",
       "      <td>NaN</td>\n",
       "    </tr>\n",
       "    <tr>\n",
       "      <th>Shortt J</th>\n",
       "      <td>contributor</td>\n",
       "      <td>(Shortt J[Author])</td>\n",
       "      <td>3.0</td>\n",
       "    </tr>\n",
       "    <tr>\n",
       "      <th>Stanislawski M</th>\n",
       "      <td>contributor</td>\n",
       "      <td>(Stanislawski M[Author])</td>\n",
       "      <td>2.0</td>\n",
       "    </tr>\n",
       "    <tr>\n",
       "      <th>Taylor M</th>\n",
       "      <td>contributor</td>\n",
       "      <td>(Taylor M[Author])</td>\n",
       "      <td>11.0</td>\n",
       "    </tr>\n",
       "    <tr>\n",
       "      <th>Tellen Bennett</th>\n",
       "      <td>pi</td>\n",
       "      <td>(Tellen Bennett)</td>\n",
       "      <td>13.0</td>\n",
       "    </tr>\n",
       "    <tr>\n",
       "      <th>Wiley L</th>\n",
       "      <td>contributor</td>\n",
       "      <td>(Wiley L[Author])</td>\n",
       "      <td>2.0</td>\n",
       "    </tr>\n",
       "    <tr>\n",
       "      <th>Yang I</th>\n",
       "      <td>contributor</td>\n",
       "      <td>(Yang I[Author])</td>\n",
       "      <td>7.0</td>\n",
       "    </tr>\n",
       "  </tbody>\n",
       "</table>\n",
       "</div>"
      ],
      "text/plain": [
       "                 author_type               search_term  item_count\n",
       "Aquilante C      contributor     (Aquilante C[Author])         2.0\n",
       "Barnes K         contributor        (Barnes K[Author])         3.0\n",
       "Boorgula M       contributor      (Boorgula M[Author])         NaN\n",
       "Brooks I         contributor        (Brooks I[Author])         1.0\n",
       "Campbell M       contributor      (Campbell M[Author])         2.0\n",
       "Casey Greene              pi            (Casey Greene)        16.0\n",
       "Claw K           contributor          (Claw K[Author])         3.0\n",
       "Cohen M          contributor         (Cohen M[Author])         4.0\n",
       "Coors M          contributor         (Coors M[Author])         3.0\n",
       "Crooks K         contributor        (Crooks K[Author])         1.0\n",
       "Fingerlin T      contributor     (Fingerlin T[Author])         1.0\n",
       "Fishbein L       contributor      (Fishbein L[Author])         2.0\n",
       "Ghosh D          contributor         (Ghosh D[Author])         5.0\n",
       "Gignoux C        contributor       (Gignoux C[Author])         5.0\n",
       "Gregory Way               pi             (Gregory Way)         3.0\n",
       "Hendricks A      contributor     (Hendricks A[Author])         4.0\n",
       "Johnson RK       contributor      (Johnson RK[Author])         3.0\n",
       "Julian C         contributor        (Julian C[Author])         1.0\n",
       "Kao D            contributor           (Kao D[Author])         2.0\n",
       "Kechris K        contributor       (Kechris K[Author])        16.0\n",
       "Kudron E         contributor        (Kudron E[Author])         NaN\n",
       "Lange E          contributor         (Lange E[Author])         4.0\n",
       "Lange L          contributor         (Lange L[Author])        13.0\n",
       "Law A            contributor           (Law A[Author])         2.0\n",
       "Lawrence Hunter           pi         (Lawrence Hunter)         4.0\n",
       "Layer R          contributor         (Layer R[Author])         3.0\n",
       "Lee YM           contributor          (Lee YM[Author])         2.0\n",
       "Lowery J         contributor        (Lowery J[Author])         NaN\n",
       "Lozupone C       contributor      (Lozupone C[Author])         5.0\n",
       "Mathias R        contributor       (Mathias R[Author])         5.0\n",
       "Melissa Haendel           pi         (Melissa Haendel)        18.0\n",
       "Monte A          contributor         (Monte A[Author])         4.0\n",
       "Norman P         contributor        (Norman P[Author])         6.0\n",
       "Phang T          contributor         (Phang T[Author])         1.0\n",
       "Porras A         contributor        (Porras A[Author])         2.0\n",
       "Pozdeyev N       contributor      (Pozdeyev N[Author])         1.0\n",
       "Raghavan S       contributor      (Raghavan S[Author])         2.0\n",
       "Reisdorph N      contributor     (Reisdorph N[Author])         6.0\n",
       "Rosenberg M      contributor     (Rosenberg M[Author])         1.0\n",
       "Santorico S      contributor     (Santorico S[Author])         2.0\n",
       "Sean Davis                pi              (Sean Davis)         NaN\n",
       "Shortt J         contributor        (Shortt J[Author])         3.0\n",
       "Stanislawski M   contributor  (Stanislawski M[Author])         2.0\n",
       "Taylor M         contributor        (Taylor M[Author])        11.0\n",
       "Tellen Bennett            pi          (Tellen Bennett)        13.0\n",
       "Wiley L          contributor         (Wiley L[Author])         2.0\n",
       "Yang I           contributor          (Yang I[Author])         7.0"
      ]
     },
     "execution_count": 14,
     "metadata": {},
     "output_type": "execute_result"
    },
    {
     "data": {
      "application/javascript": [
       "\n",
       "            setTimeout(function() {\n",
       "                var nbb_cell_id = 14;\n",
       "                var nbb_unformatted_code = \"# count the items and add to the original authors dataframe\\nauthor_paper_count = {}\\nfor k, v in id_dict.items():\\n    for author in v[\\\"authors\\\"]:\\n        if not author_paper_count.get(author):\\n            author_paper_count[author] = 0\\n        author_paper_count[author] += 1\\n\\nauthors_df[\\\"item_count\\\"] = pd.Series(author_paper_count)\\nauthors_df\";\n",
       "                var nbb_formatted_code = \"# count the items and add to the original authors dataframe\\nauthor_paper_count = {}\\nfor k, v in id_dict.items():\\n    for author in v[\\\"authors\\\"]:\\n        if not author_paper_count.get(author):\\n            author_paper_count[author] = 0\\n        author_paper_count[author] += 1\\n\\nauthors_df[\\\"item_count\\\"] = pd.Series(author_paper_count)\\nauthors_df\";\n",
       "                var nbb_cells = Jupyter.notebook.get_cells();\n",
       "                for (var i = 0; i < nbb_cells.length; ++i) {\n",
       "                    if (nbb_cells[i].input_prompt_number == nbb_cell_id) {\n",
       "                        if (nbb_cells[i].get_text() == nbb_unformatted_code) {\n",
       "                             nbb_cells[i].set_text(nbb_formatted_code);\n",
       "                        }\n",
       "                        break;\n",
       "                    }\n",
       "                }\n",
       "            }, 500);\n",
       "            "
      ],
      "text/plain": [
       "<IPython.core.display.Javascript object>"
      ]
     },
     "metadata": {},
     "output_type": "display_data"
    }
   ],
   "source": [
    "# count the items and add to the original authors dataframe\n",
    "author_paper_count = {}\n",
    "for k, v in id_dict.items():\n",
    "    for author in v[\"authors\"]:\n",
    "        if not author_paper_count.get(author):\n",
    "            author_paper_count[author] = 0\n",
    "        author_paper_count[author] += 1\n",
    "\n",
    "authors_df[\"item_count\"] = pd.Series(author_paper_count)\n",
    "authors_df"
   ]
  },
  {
   "cell_type": "code",
   "execution_count": 24,
   "id": "87ddc4e6",
   "metadata": {},
   "outputs": [
    {
     "data": {
      "image/png": "[encoded data removed]",
      "text/plain": [
       "<Figure size 1008x720 with 1 Axes>"
      ]
     },
     "metadata": {
      "needs_background": "light"
     },
     "output_type": "display_data"
    },
    {
     "data": {
      "application/javascript": [
       "\n",
       "            setTimeout(function() {\n",
       "                var nbb_cell_id = 24;\n",
       "                var nbb_unformatted_code = \"# I wanted to _see_ what the data looked like\\nax = authors_df.sort_values(by=\\\"item_count\\\").plot.barh(figsize=(14, 10))\\nfig = ax.get_figure()\\nfig.savefig(os.path.join(BUILD_FOLDER, \\\"author_items.png\\\"))\";\n",
       "                var nbb_formatted_code = \"# I wanted to _see_ what the data looked like\\nax = authors_df.sort_values(by=\\\"item_count\\\").plot.barh(figsize=(14, 10))\\nfig = ax.get_figure()\\nfig.savefig(os.path.join(BUILD_FOLDER, \\\"author_items.png\\\"))\";\n",
       "                var nbb_cells = Jupyter.notebook.get_cells();\n",
       "                for (var i = 0; i < nbb_cells.length; ++i) {\n",
       "                    if (nbb_cells[i].input_prompt_number == nbb_cell_id) {\n",
       "                        if (nbb_cells[i].get_text() == nbb_unformatted_code) {\n",
       "                             nbb_cells[i].set_text(nbb_formatted_code);\n",
       "                        }\n",
       "                        break;\n",
       "                    }\n",
       "                }\n",
       "            }, 500);\n",
       "            "
      ],
      "text/plain": [
       "<IPython.core.display.Javascript object>"
      ]
     },
     "metadata": {},
     "output_type": "display_data"
    }
   ],
   "source": [
    "# I wanted to _see_ what the data looked like\n",
    "ax = authors_df.sort_values(by=\"item_count\").plot.barh(figsize=(14, 10))\n",
    "fig = ax.get_figure()\n",
    "fig.savefig(os.path.join(BUILD_FOLDER, \"author_items.png\"))"
   ]
  },
  {
   "cell_type": "markdown",
   "id": "02d8445a",
   "metadata": {},
   "source": [
    "Finally output the content to a markdown file, then convert to MS Word"
   ]
  },
  {
   "cell_type": "code",
   "execution_count": 25,
   "id": "92cda037",
   "metadata": {},
   "outputs": [
    {
     "data": {
      "application/javascript": [
       "\n",
       "            setTimeout(function() {\n",
       "                var nbb_cell_id = 25;\n",
       "                var nbb_unformatted_code = \"# dump to a file to inspect\\ndf.to_json(os.path.join(BUILD_FOLDER, \\\"cites.json\\\"), orient=\\\"index\\\")\";\n",
       "                var nbb_formatted_code = \"# dump to a file to inspect\\ndf.to_json(os.path.join(BUILD_FOLDER, \\\"cites.json\\\"), orient=\\\"index\\\")\";\n",
       "                var nbb_cells = Jupyter.notebook.get_cells();\n",
       "                for (var i = 0; i < nbb_cells.length; ++i) {\n",
       "                    if (nbb_cells[i].input_prompt_number == nbb_cell_id) {\n",
       "                        if (nbb_cells[i].get_text() == nbb_unformatted_code) {\n",
       "                             nbb_cells[i].set_text(nbb_formatted_code);\n",
       "                        }\n",
       "                        break;\n",
       "                    }\n",
       "                }\n",
       "            }, 500);\n",
       "            "
      ],
      "text/plain": [
       "<IPython.core.display.Javascript object>"
      ]
     },
     "metadata": {},
     "output_type": "display_data"
    }
   ],
   "source": [
    "# dump to a file to inspect\n",
    "df.to_json(os.path.join(BUILD_FOLDER, \"cites.json\"), orient=\"index\")"
   ]
  },
  {
   "cell_type": "code",
   "execution_count": 31,
   "id": "bce8545b",
   "metadata": {},
   "outputs": [
    {
     "data": {
      "application/javascript": [
       "\n",
       "            setTimeout(function() {\n",
       "                var nbb_cell_id = 31;\n",
       "                var nbb_unformatted_code = \"with open(os.path.join(BUILD_FOLDER, \\\"cites.md\\\"), \\\"w\\\", encoding=\\\"utf-8\\\") as f:\\n    f.write(f\\\"# Center for Health AI, Published Items {THIS_YEAR}\\\\n\\\\n\\\")\\n\\n    f.write(f\\\"## Author Item Counts\\\\n\\\\n\\\")\\n    f.write(f\\\"![](_build/author_items.png)\\\\n\\\\n\\\")\\n\\n    f.write(f\\\"## Published Items Citations\\\\n\\\\n\\\")\\n    for index, row in df.iterrows():\\n        f.write(row[\\\"numbered_cite\\\"])\\n        f.write(\\\"\\\\n\\\")\";\n",
       "                var nbb_formatted_code = \"with open(os.path.join(BUILD_FOLDER, \\\"cites.md\\\"), \\\"w\\\", encoding=\\\"utf-8\\\") as f:\\n    f.write(f\\\"# Center for Health AI, Published Items {THIS_YEAR}\\\\n\\\\n\\\")\\n\\n    f.write(f\\\"## Author Item Counts\\\\n\\\\n\\\")\\n    f.write(f\\\"![](_build/author_items.png)\\\\n\\\\n\\\")\\n\\n    f.write(f\\\"## Published Items Citations\\\\n\\\\n\\\")\\n    for index, row in df.iterrows():\\n        f.write(row[\\\"numbered_cite\\\"])\\n        f.write(\\\"\\\\n\\\")\";\n",
       "                var nbb_cells = Jupyter.notebook.get_cells();\n",
       "                for (var i = 0; i < nbb_cells.length; ++i) {\n",
       "                    if (nbb_cells[i].input_prompt_number == nbb_cell_id) {\n",
       "                        if (nbb_cells[i].get_text() == nbb_unformatted_code) {\n",
       "                             nbb_cells[i].set_text(nbb_formatted_code);\n",
       "                        }\n",
       "                        break;\n",
       "                    }\n",
       "                }\n",
       "            }, 500);\n",
       "            "
      ],
      "text/plain": [
       "<IPython.core.display.Javascript object>"
      ]
     },
     "metadata": {},
     "output_type": "display_data"
    }
   ],
   "source": [
    "with open(os.path.join(BUILD_FOLDER, \"cites.md\"), \"w\", encoding=\"utf-8\") as f:\n",
    "    f.write(f\"# Center for Health AI, Published Items {THIS_YEAR}\\n\\n\")\n",
    "\n",
    "    f.write(f\"## Author Item Counts\\n\\n\")\n",
    "    f.write(f\"![](_build/author_items.png)\\n\\n\")\n",
    "\n",
    "    f.write(f\"## Published Items Citations\\n\\n\")\n",
    "    for index, row in df.iterrows():\n",
    "        f.write(row[\"numbered_cite\"])\n",
    "        f.write(\"\\n\")"
   ]
  },
  {
   "cell_type": "code",
   "execution_count": 32,
   "id": "0b726ee3",
   "metadata": {},
   "outputs": [
    {
     "data": {
      "application/javascript": [
       "\n",
       "            setTimeout(function() {\n",
       "                var nbb_cell_id = 32;\n",
       "                var nbb_unformatted_code = \"# Convert the markdown to docx\\ndoc = pandoc.read(file=os.path.join(BUILD_FOLDER, \\\"cites.md\\\"), format=\\\"markdown\\\")\\nwith open(os.path.join(BUILD_FOLDER, \\\"cites.docx\\\"), \\\"wb\\\") as f:\\n    _ = f.write(pandoc.write(doc, format=\\\"docx\\\"))\";\n",
       "                var nbb_formatted_code = \"# Convert the markdown to docx\\ndoc = pandoc.read(file=os.path.join(BUILD_FOLDER, \\\"cites.md\\\"), format=\\\"markdown\\\")\\nwith open(os.path.join(BUILD_FOLDER, \\\"cites.docx\\\"), \\\"wb\\\") as f:\\n    _ = f.write(pandoc.write(doc, format=\\\"docx\\\"))\";\n",
       "                var nbb_cells = Jupyter.notebook.get_cells();\n",
       "                for (var i = 0; i < nbb_cells.length; ++i) {\n",
       "                    if (nbb_cells[i].input_prompt_number == nbb_cell_id) {\n",
       "                        if (nbb_cells[i].get_text() == nbb_unformatted_code) {\n",
       "                             nbb_cells[i].set_text(nbb_formatted_code);\n",
       "                        }\n",
       "                        break;\n",
       "                    }\n",
       "                }\n",
       "            }, 500);\n",
       "            "
      ],
      "text/plain": [
       "<IPython.core.display.Javascript object>"
      ]
     },
     "metadata": {},
     "output_type": "display_data"
    }
   ],
   "source": [
    "# Convert the markdown to docx\n",
    "doc = pandoc.read(file=os.path.join(BUILD_FOLDER, \"cites.md\"), format=\"markdown\")\n",
    "with open(os.path.join(BUILD_FOLDER, \"cites.docx\"), \"wb\") as f:\n",
    "    _ = f.write(pandoc.write(doc, format=\"docx\"))"
   ]
  },
  {
   "cell_type": "code",
   "execution_count": null,
   "id": "df8cde21",
   "metadata": {},
   "outputs": [],
   "source": []
  }
 ],
 "metadata": {
  "kernelspec": {
   "display_name": "Python 3 (ipykernel)",
   "language": "python",
   "name": "python3"
  },
  "language_info": {
   "codemirror_mode": {
    "name": "ipython",
    "version": 3
   },
   "file_extension": ".py",
   "mimetype": "text/x-python",
   "name": "python",
   "nbconvert_exporter": "python",
   "pygments_lexer": "ipython3",
   "version": "3.8.12"
  }
 },
 "nbformat": 4,
 "nbformat_minor": 5
}
