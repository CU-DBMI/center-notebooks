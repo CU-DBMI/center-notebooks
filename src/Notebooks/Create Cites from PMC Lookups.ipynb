{
 "cells": [
  {
   "cell_type": "markdown",
   "id": "f2747125",
   "metadata": {},
   "source": [
    "# Published Items for the Center for Health AI\n",
    "\n",
    "This takes a list of authors and searches for any items published this year, grabs the proper citation from manubot-cite, and creates a markdown and MS Word document.\n",
    "\n",
    "This isn't a replacement for a proper data pipeline. Just a demo to see if the selection logic is sound.\n",
    "\n",
    "- 2021/12/20 First demo (ST)\n",
    "- 2022/01/18 Fetch pubmed instead of PMC ids (ST)\n",
    "- 2022/01/19 Added caching to help dev go faster (ST)"
   ]
  },
  {
   "cell_type": "code",
   "execution_count": 1,
   "id": "871f6395",
   "metadata": {},
   "outputs": [
    {
     "data": {
      "application/javascript": [
       "\n",
       "            setTimeout(function() {\n",
       "                var nbb_cell_id = 1;\n",
       "                var nbb_unformatted_code = \"%load_ext nb_black\";\n",
       "                var nbb_formatted_code = \"%load_ext nb_black\";\n",
       "                var nbb_cells = Jupyter.notebook.get_cells();\n",
       "                for (var i = 0; i < nbb_cells.length; ++i) {\n",
       "                    if (nbb_cells[i].input_prompt_number == nbb_cell_id) {\n",
       "                        if (nbb_cells[i].get_text() == nbb_unformatted_code) {\n",
       "                             nbb_cells[i].set_text(nbb_formatted_code);\n",
       "                        }\n",
       "                        break;\n",
       "                    }\n",
       "                }\n",
       "            }, 500);\n",
       "            "
      ],
      "text/plain": [
       "<IPython.core.display.Javascript object>"
      ]
     },
     "metadata": {},
     "output_type": "display_data"
    }
   ],
   "source": [
    "%load_ext nb_black"
   ]
  },
  {
   "cell_type": "code",
   "execution_count": 2,
   "id": "e9ac9ebc",
   "metadata": {},
   "outputs": [
    {
     "data": {
      "application/javascript": [
       "\n",
       "            setTimeout(function() {\n",
       "                var nbb_cell_id = 2;\n",
       "                var nbb_unformatted_code = \"import os\\nimport json\\nimport logging\\nimport manubot\\nimport requests\\nimport pandas as pd\\nimport subprocess\\n\\nfrom diskcache import Cache\\nfrom manubot.cite.citations import Citations\\nfrom typing import List, Dict, Union\\nfrom datetime import date\\nfrom ratelimit import limits, RateLimitException, sleep_and_retry\\n\\nlog = logging.getLogger(__name__)\\nlogging.basicConfig(level=logging.INFO)\\n\\nBUILD_FOLDER = \\\"_build\\\"\\n\\ncache = Cache(BUILD_FOLDER)\";\n",
       "                var nbb_formatted_code = \"import os\\nimport json\\nimport logging\\nimport manubot\\nimport requests\\nimport pandas as pd\\nimport subprocess\\n\\nfrom diskcache import Cache\\nfrom manubot.cite.citations import Citations\\nfrom typing import List, Dict, Union\\nfrom datetime import date\\nfrom ratelimit import limits, RateLimitException, sleep_and_retry\\n\\nlog = logging.getLogger(__name__)\\nlogging.basicConfig(level=logging.INFO)\\n\\nBUILD_FOLDER = \\\"_build\\\"\\n\\ncache = Cache(BUILD_FOLDER)\";\n",
       "                var nbb_cells = Jupyter.notebook.get_cells();\n",
       "                for (var i = 0; i < nbb_cells.length; ++i) {\n",
       "                    if (nbb_cells[i].input_prompt_number == nbb_cell_id) {\n",
       "                        if (nbb_cells[i].get_text() == nbb_unformatted_code) {\n",
       "                             nbb_cells[i].set_text(nbb_formatted_code);\n",
       "                        }\n",
       "                        break;\n",
       "                    }\n",
       "                }\n",
       "            }, 500);\n",
       "            "
      ],
      "text/plain": [
       "<IPython.core.display.Javascript object>"
      ]
     },
     "metadata": {},
     "output_type": "display_data"
    }
   ],
   "source": [
    "import os\n",
    "import json\n",
    "import logging\n",
    "import manubot\n",
    "import requests\n",
    "import pandas as pd\n",
    "import subprocess\n",
    "\n",
    "from diskcache import Cache\n",
    "from manubot.cite.citations import Citations\n",
    "from typing import List, Dict, Union\n",
    "from datetime import date\n",
    "from ratelimit import limits, RateLimitException, sleep_and_retry\n",
    "\n",
    "log = logging.getLogger(__name__)\n",
    "logging.basicConfig(level=logging.INFO)\n",
    "\n",
    "BUILD_FOLDER = \"_build\"\n",
    "\n",
    "cache = Cache(BUILD_FOLDER)"
   ]
  },
  {
   "cell_type": "code",
   "execution_count": 3,
   "id": "e0d0aa77",
   "metadata": {
    "tags": [
     "parameters"
    ]
   },
   "outputs": [
    {
     "data": {
      "application/javascript": [
       "\n",
       "            setTimeout(function() {\n",
       "                var nbb_cell_id = 3;\n",
       "                var nbb_unformatted_code = \"# These can be used as arguments via papermill\\n\\n# Looking at this year's items\\nTHIS_YEAR = 2021\\n\\n# If you have an NCBI API key, enter it here\\nAPI_KEY = \\\"6f104848ae7ff47f67a69b6b0df250392608\\\"\\n\\n# For testing, set a sample size between 0 and 1.0\\nSAMPLE_FRACTION = 1.0\\n\\n# Cache expiration in seconds\\nCACHE_EXPIRE_SECONDS = 60 * 60 * 24  # seconds * minutes * hours = 1 day\";\n",
       "                var nbb_formatted_code = \"# These can be used as arguments via papermill\\n\\n# Looking at this year's items\\nTHIS_YEAR = 2021\\n\\n# If you have an NCBI API key, enter it here\\nAPI_KEY = \\\"6f104848ae7ff47f67a69b6b0df250392608\\\"\\n\\n# For testing, set a sample size between 0 and 1.0\\nSAMPLE_FRACTION = 1.0\\n\\n# Cache expiration in seconds\\nCACHE_EXPIRE_SECONDS = 60 * 60 * 24  # seconds * minutes * hours = 1 day\";\n",
       "                var nbb_cells = Jupyter.notebook.get_cells();\n",
       "                for (var i = 0; i < nbb_cells.length; ++i) {\n",
       "                    if (nbb_cells[i].input_prompt_number == nbb_cell_id) {\n",
       "                        if (nbb_cells[i].get_text() == nbb_unformatted_code) {\n",
       "                             nbb_cells[i].set_text(nbb_formatted_code);\n",
       "                        }\n",
       "                        break;\n",
       "                    }\n",
       "                }\n",
       "            }, 500);\n",
       "            "
      ],
      "text/plain": [
       "<IPython.core.display.Javascript object>"
      ]
     },
     "metadata": {},
     "output_type": "display_data"
    }
   ],
   "source": [
    "# These can be used as arguments via papermill\n",
    "\n",
    "# Looking at this year's items\n",
    "THIS_YEAR = 2021\n",
    "\n",
    "# If you have an NCBI API key, enter it here\n",
    "API_KEY = \"\"\n",
    "\n",
    "# For testing, set a sample size between 0 and 1.0\n",
    "SAMPLE_FRACTION = 1.0\n",
    "\n",
    "# Cache expiration in seconds\n",
    "CACHE_EXPIRE_SECONDS = 60 * 60 * 24  # seconds * minutes * hours = 1 day"
   ]
  },
  {
   "cell_type": "code",
   "execution_count": 4,
   "id": "9dbc56cb",
   "metadata": {},
   "outputs": [
    {
     "data": {
      "text/plain": [
       "10"
      ]
     },
     "execution_count": 4,
     "metadata": {},
     "output_type": "execute_result"
    },
    {
     "data": {
      "application/javascript": [
       "\n",
       "            setTimeout(function() {\n",
       "                var nbb_cell_id = 4;\n",
       "                var nbb_unformatted_code = \"# We get faster NCBI rates if we use a key.\\nif API_KEY:\\n    NCBI_RATE_LIMIT = 10\\nelse:\\n    NCBI_RATE_LIMIT = 3\\n\\nNCBI_RATE_LIMIT\";\n",
       "                var nbb_formatted_code = \"# We get faster NCBI rates if we use a key.\\nif API_KEY:\\n    NCBI_RATE_LIMIT = 10\\nelse:\\n    NCBI_RATE_LIMIT = 3\\n\\nNCBI_RATE_LIMIT\";\n",
       "                var nbb_cells = Jupyter.notebook.get_cells();\n",
       "                for (var i = 0; i < nbb_cells.length; ++i) {\n",
       "                    if (nbb_cells[i].input_prompt_number == nbb_cell_id) {\n",
       "                        if (nbb_cells[i].get_text() == nbb_unformatted_code) {\n",
       "                             nbb_cells[i].set_text(nbb_formatted_code);\n",
       "                        }\n",
       "                        break;\n",
       "                    }\n",
       "                }\n",
       "            }, 500);\n",
       "            "
      ],
      "text/plain": [
       "<IPython.core.display.Javascript object>"
      ]
     },
     "metadata": {},
     "output_type": "display_data"
    }
   ],
   "source": [
    "# We get faster NCBI rates if we use a key.\n",
    "if API_KEY:\n",
    "    NCBI_RATE_LIMIT = 10\n",
    "else:\n",
    "    NCBI_RATE_LIMIT = 3\n",
    "\n",
    "NCBI_RATE_LIMIT"
   ]
  },
  {
   "cell_type": "code",
   "execution_count": 5,
   "id": "0977e046",
   "metadata": {},
   "outputs": [
    {
     "data": {
      "application/javascript": [
       "\n",
       "            setTimeout(function() {\n",
       "                var nbb_cell_id = 5;\n",
       "                var nbb_unformatted_code = \"# will write out to a folder\\nif not os.path.exists(BUILD_FOLDER):\\n    os.makedirs(BUILD_FOLDER)\";\n",
       "                var nbb_formatted_code = \"# will write out to a folder\\nif not os.path.exists(BUILD_FOLDER):\\n    os.makedirs(BUILD_FOLDER)\";\n",
       "                var nbb_cells = Jupyter.notebook.get_cells();\n",
       "                for (var i = 0; i < nbb_cells.length; ++i) {\n",
       "                    if (nbb_cells[i].input_prompt_number == nbb_cell_id) {\n",
       "                        if (nbb_cells[i].get_text() == nbb_unformatted_code) {\n",
       "                             nbb_cells[i].set_text(nbb_formatted_code);\n",
       "                        }\n",
       "                        break;\n",
       "                    }\n",
       "                }\n",
       "            }, 500);\n",
       "            "
      ],
      "text/plain": [
       "<IPython.core.display.Javascript object>"
      ]
     },
     "metadata": {},
     "output_type": "display_data"
    }
   ],
   "source": [
    "# will write out to a folder\n",
    "if not os.path.exists(BUILD_FOLDER):\n",
    "    os.makedirs(BUILD_FOLDER)"
   ]
  },
  {
   "cell_type": "code",
   "execution_count": 6,
   "id": "07f5e6e7",
   "metadata": {},
   "outputs": [
    {
     "data": {
      "text/html": [
       "<div>\n",
       "<style scoped>\n",
       "    .dataframe tbody tr th:only-of-type {\n",
       "        vertical-align: middle;\n",
       "    }\n",
       "\n",
       "    .dataframe tbody tr th {\n",
       "        vertical-align: top;\n",
       "    }\n",
       "\n",
       "    .dataframe thead th {\n",
       "        text-align: right;\n",
       "    }\n",
       "</style>\n",
       "<table border=\"1\" class=\"dataframe\">\n",
       "  <thead>\n",
       "    <tr style=\"text-align: right;\">\n",
       "      <th></th>\n",
       "      <th>author_type</th>\n",
       "      <th>search_term</th>\n",
       "    </tr>\n",
       "  </thead>\n",
       "  <tbody>\n",
       "    <tr>\n",
       "      <th>Aquilante C</th>\n",
       "      <td>contributor</td>\n",
       "      <td>(Aquilante C[Author])</td>\n",
       "    </tr>\n",
       "    <tr>\n",
       "      <th>Barnes K</th>\n",
       "      <td>contributor</td>\n",
       "      <td>(Barnes K[Author])</td>\n",
       "    </tr>\n",
       "    <tr>\n",
       "      <th>Boorgula M</th>\n",
       "      <td>contributor</td>\n",
       "      <td>(Boorgula M[Author])</td>\n",
       "    </tr>\n",
       "    <tr>\n",
       "      <th>Brooks I</th>\n",
       "      <td>contributor</td>\n",
       "      <td>(Brooks I[Author])</td>\n",
       "    </tr>\n",
       "    <tr>\n",
       "      <th>Campbell M</th>\n",
       "      <td>contributor</td>\n",
       "      <td>(Campbell M[Author])</td>\n",
       "    </tr>\n",
       "    <tr>\n",
       "      <th>Casey Greene</th>\n",
       "      <td>pi</td>\n",
       "      <td>(Casey Greene)</td>\n",
       "    </tr>\n",
       "    <tr>\n",
       "      <th>Claw K</th>\n",
       "      <td>contributor</td>\n",
       "      <td>(Claw K[Author])</td>\n",
       "    </tr>\n",
       "    <tr>\n",
       "      <th>Cohen M</th>\n",
       "      <td>contributor</td>\n",
       "      <td>(Cohen M[Author])</td>\n",
       "    </tr>\n",
       "    <tr>\n",
       "      <th>Coors M</th>\n",
       "      <td>contributor</td>\n",
       "      <td>(Coors M[Author])</td>\n",
       "    </tr>\n",
       "    <tr>\n",
       "      <th>Crooks K</th>\n",
       "      <td>contributor</td>\n",
       "      <td>(Crooks K[Author])</td>\n",
       "    </tr>\n",
       "    <tr>\n",
       "      <th>Fingerlin T</th>\n",
       "      <td>contributor</td>\n",
       "      <td>(Fingerlin T[Author])</td>\n",
       "    </tr>\n",
       "    <tr>\n",
       "      <th>Fishbein L</th>\n",
       "      <td>contributor</td>\n",
       "      <td>(Fishbein L[Author])</td>\n",
       "    </tr>\n",
       "    <tr>\n",
       "      <th>Ghosh D</th>\n",
       "      <td>contributor</td>\n",
       "      <td>(Ghosh D[Author])</td>\n",
       "    </tr>\n",
       "    <tr>\n",
       "      <th>Gignoux C</th>\n",
       "      <td>contributor</td>\n",
       "      <td>(Gignoux C[Author])</td>\n",
       "    </tr>\n",
       "    <tr>\n",
       "      <th>Gregory Way</th>\n",
       "      <td>pi</td>\n",
       "      <td>(Gregory Way)</td>\n",
       "    </tr>\n",
       "    <tr>\n",
       "      <th>Hendricks A</th>\n",
       "      <td>contributor</td>\n",
       "      <td>(Hendricks A[Author])</td>\n",
       "    </tr>\n",
       "    <tr>\n",
       "      <th>Johnson RK</th>\n",
       "      <td>contributor</td>\n",
       "      <td>(Johnson RK[Author])</td>\n",
       "    </tr>\n",
       "    <tr>\n",
       "      <th>Julian C</th>\n",
       "      <td>contributor</td>\n",
       "      <td>(Julian C[Author])</td>\n",
       "    </tr>\n",
       "    <tr>\n",
       "      <th>Kao D</th>\n",
       "      <td>contributor</td>\n",
       "      <td>(Kao D[Author])</td>\n",
       "    </tr>\n",
       "    <tr>\n",
       "      <th>Kechris K</th>\n",
       "      <td>contributor</td>\n",
       "      <td>(Kechris K[Author])</td>\n",
       "    </tr>\n",
       "    <tr>\n",
       "      <th>Kudron E</th>\n",
       "      <td>contributor</td>\n",
       "      <td>(Kudron E[Author])</td>\n",
       "    </tr>\n",
       "    <tr>\n",
       "      <th>Lange E</th>\n",
       "      <td>contributor</td>\n",
       "      <td>(Lange E[Author])</td>\n",
       "    </tr>\n",
       "    <tr>\n",
       "      <th>Lange L</th>\n",
       "      <td>contributor</td>\n",
       "      <td>(Lange L[Author])</td>\n",
       "    </tr>\n",
       "    <tr>\n",
       "      <th>Law A</th>\n",
       "      <td>contributor</td>\n",
       "      <td>(Law A[Author])</td>\n",
       "    </tr>\n",
       "    <tr>\n",
       "      <th>Lawrence Hunter</th>\n",
       "      <td>pi</td>\n",
       "      <td>(Lawrence Hunter)</td>\n",
       "    </tr>\n",
       "    <tr>\n",
       "      <th>Layer R</th>\n",
       "      <td>contributor</td>\n",
       "      <td>(Layer R[Author])</td>\n",
       "    </tr>\n",
       "    <tr>\n",
       "      <th>Lee YM</th>\n",
       "      <td>contributor</td>\n",
       "      <td>(Lee YM[Author])</td>\n",
       "    </tr>\n",
       "    <tr>\n",
       "      <th>Lowery J</th>\n",
       "      <td>contributor</td>\n",
       "      <td>(Lowery J[Author])</td>\n",
       "    </tr>\n",
       "    <tr>\n",
       "      <th>Lozupone C</th>\n",
       "      <td>contributor</td>\n",
       "      <td>(Lozupone C[Author])</td>\n",
       "    </tr>\n",
       "    <tr>\n",
       "      <th>Mathias R</th>\n",
       "      <td>contributor</td>\n",
       "      <td>(Mathias R[Author])</td>\n",
       "    </tr>\n",
       "    <tr>\n",
       "      <th>Melissa Haendel</th>\n",
       "      <td>pi</td>\n",
       "      <td>(Melissa Haendel)</td>\n",
       "    </tr>\n",
       "    <tr>\n",
       "      <th>Monte A</th>\n",
       "      <td>contributor</td>\n",
       "      <td>(Monte A[Author])</td>\n",
       "    </tr>\n",
       "    <tr>\n",
       "      <th>Norman P</th>\n",
       "      <td>contributor</td>\n",
       "      <td>(Norman P[Author])</td>\n",
       "    </tr>\n",
       "    <tr>\n",
       "      <th>Phang T</th>\n",
       "      <td>contributor</td>\n",
       "      <td>(Phang T[Author])</td>\n",
       "    </tr>\n",
       "    <tr>\n",
       "      <th>Porras A</th>\n",
       "      <td>contributor</td>\n",
       "      <td>(Porras A[Author])</td>\n",
       "    </tr>\n",
       "    <tr>\n",
       "      <th>Pozdeyev N</th>\n",
       "      <td>contributor</td>\n",
       "      <td>(Pozdeyev N[Author])</td>\n",
       "    </tr>\n",
       "    <tr>\n",
       "      <th>Raghavan S</th>\n",
       "      <td>contributor</td>\n",
       "      <td>(Raghavan S[Author])</td>\n",
       "    </tr>\n",
       "    <tr>\n",
       "      <th>Reisdorph N</th>\n",
       "      <td>contributor</td>\n",
       "      <td>(Reisdorph N[Author])</td>\n",
       "    </tr>\n",
       "    <tr>\n",
       "      <th>Rosenberg M</th>\n",
       "      <td>contributor</td>\n",
       "      <td>(Rosenberg M[Author])</td>\n",
       "    </tr>\n",
       "    <tr>\n",
       "      <th>Santorico S</th>\n",
       "      <td>contributor</td>\n",
       "      <td>(Santorico S[Author])</td>\n",
       "    </tr>\n",
       "    <tr>\n",
       "      <th>Sean Davis</th>\n",
       "      <td>pi</td>\n",
       "      <td>(Sean Davis)</td>\n",
       "    </tr>\n",
       "    <tr>\n",
       "      <th>Shortt J</th>\n",
       "      <td>contributor</td>\n",
       "      <td>(Shortt J[Author])</td>\n",
       "    </tr>\n",
       "    <tr>\n",
       "      <th>Stanislawski M</th>\n",
       "      <td>contributor</td>\n",
       "      <td>(Stanislawski M[Author])</td>\n",
       "    </tr>\n",
       "    <tr>\n",
       "      <th>Taylor M</th>\n",
       "      <td>contributor</td>\n",
       "      <td>(Taylor M[Author])</td>\n",
       "    </tr>\n",
       "    <tr>\n",
       "      <th>Tellen Bennett</th>\n",
       "      <td>pi</td>\n",
       "      <td>(Tellen Bennett)</td>\n",
       "    </tr>\n",
       "    <tr>\n",
       "      <th>Wiley L</th>\n",
       "      <td>contributor</td>\n",
       "      <td>(Wiley L[Author])</td>\n",
       "    </tr>\n",
       "    <tr>\n",
       "      <th>Yang I</th>\n",
       "      <td>contributor</td>\n",
       "      <td>(Yang I[Author])</td>\n",
       "    </tr>\n",
       "  </tbody>\n",
       "</table>\n",
       "</div>"
      ],
      "text/plain": [
       "                 author_type               search_term\n",
       "Aquilante C      contributor     (Aquilante C[Author])\n",
       "Barnes K         contributor        (Barnes K[Author])\n",
       "Boorgula M       contributor      (Boorgula M[Author])\n",
       "Brooks I         contributor        (Brooks I[Author])\n",
       "Campbell M       contributor      (Campbell M[Author])\n",
       "Casey Greene              pi            (Casey Greene)\n",
       "Claw K           contributor          (Claw K[Author])\n",
       "Cohen M          contributor         (Cohen M[Author])\n",
       "Coors M          contributor         (Coors M[Author])\n",
       "Crooks K         contributor        (Crooks K[Author])\n",
       "Fingerlin T      contributor     (Fingerlin T[Author])\n",
       "Fishbein L       contributor      (Fishbein L[Author])\n",
       "Ghosh D          contributor         (Ghosh D[Author])\n",
       "Gignoux C        contributor       (Gignoux C[Author])\n",
       "Gregory Way               pi             (Gregory Way)\n",
       "Hendricks A      contributor     (Hendricks A[Author])\n",
       "Johnson RK       contributor      (Johnson RK[Author])\n",
       "Julian C         contributor        (Julian C[Author])\n",
       "Kao D            contributor           (Kao D[Author])\n",
       "Kechris K        contributor       (Kechris K[Author])\n",
       "Kudron E         contributor        (Kudron E[Author])\n",
       "Lange E          contributor         (Lange E[Author])\n",
       "Lange L          contributor         (Lange L[Author])\n",
       "Law A            contributor           (Law A[Author])\n",
       "Lawrence Hunter           pi         (Lawrence Hunter)\n",
       "Layer R          contributor         (Layer R[Author])\n",
       "Lee YM           contributor          (Lee YM[Author])\n",
       "Lowery J         contributor        (Lowery J[Author])\n",
       "Lozupone C       contributor      (Lozupone C[Author])\n",
       "Mathias R        contributor       (Mathias R[Author])\n",
       "Melissa Haendel           pi         (Melissa Haendel)\n",
       "Monte A          contributor         (Monte A[Author])\n",
       "Norman P         contributor        (Norman P[Author])\n",
       "Phang T          contributor         (Phang T[Author])\n",
       "Porras A         contributor        (Porras A[Author])\n",
       "Pozdeyev N       contributor      (Pozdeyev N[Author])\n",
       "Raghavan S       contributor      (Raghavan S[Author])\n",
       "Reisdorph N      contributor     (Reisdorph N[Author])\n",
       "Rosenberg M      contributor     (Rosenberg M[Author])\n",
       "Santorico S      contributor     (Santorico S[Author])\n",
       "Sean Davis                pi              (Sean Davis)\n",
       "Shortt J         contributor        (Shortt J[Author])\n",
       "Stanislawski M   contributor  (Stanislawski M[Author])\n",
       "Taylor M         contributor        (Taylor M[Author])\n",
       "Tellen Bennett            pi          (Tellen Bennett)\n",
       "Wiley L          contributor         (Wiley L[Author])\n",
       "Yang I           contributor          (Yang I[Author])"
      ]
     },
     "execution_count": 6,
     "metadata": {},
     "output_type": "execute_result"
    },
    {
     "data": {
      "application/javascript": [
       "\n",
       "            setTimeout(function() {\n",
       "                var nbb_cell_id = 6;\n",
       "                var nbb_unformatted_code = \"# Read in the authors and their specific search terms\\nauthors_df = pd.read_json(\\\"authors.json\\\", orient=\\\"index\\\")\\nauthors_df\";\n",
       "                var nbb_formatted_code = \"# Read in the authors and their specific search terms\\nauthors_df = pd.read_json(\\\"authors.json\\\", orient=\\\"index\\\")\\nauthors_df\";\n",
       "                var nbb_cells = Jupyter.notebook.get_cells();\n",
       "                for (var i = 0; i < nbb_cells.length; ++i) {\n",
       "                    if (nbb_cells[i].input_prompt_number == nbb_cell_id) {\n",
       "                        if (nbb_cells[i].get_text() == nbb_unformatted_code) {\n",
       "                             nbb_cells[i].set_text(nbb_formatted_code);\n",
       "                        }\n",
       "                        break;\n",
       "                    }\n",
       "                }\n",
       "            }, 500);\n",
       "            "
      ],
      "text/plain": [
       "<IPython.core.display.Javascript object>"
      ]
     },
     "metadata": {},
     "output_type": "display_data"
    }
   ],
   "source": [
    "# Read in the authors and their specific search terms\n",
    "authors_df = pd.read_json(\"authors.json\", orient=\"index\")\n",
    "authors_df"
   ]
  },
  {
   "cell_type": "code",
   "execution_count": 7,
   "id": "01db61e7",
   "metadata": {},
   "outputs": [
    {
     "data": {
      "application/javascript": [
       "\n",
       "            setTimeout(function() {\n",
       "                var nbb_cell_id = 7;\n",
       "                var nbb_unformatted_code = \"# for testing it's nice to take a sample\\nif 0 < SAMPLE_FRACTION < 1.0:\\n    authors_df = authors_df.sample(frac=SAMPLE_FRACTION)\";\n",
       "                var nbb_formatted_code = \"# for testing it's nice to take a sample\\nif 0 < SAMPLE_FRACTION < 1.0:\\n    authors_df = authors_df.sample(frac=SAMPLE_FRACTION)\";\n",
       "                var nbb_cells = Jupyter.notebook.get_cells();\n",
       "                for (var i = 0; i < nbb_cells.length; ++i) {\n",
       "                    if (nbb_cells[i].input_prompt_number == nbb_cell_id) {\n",
       "                        if (nbb_cells[i].get_text() == nbb_unformatted_code) {\n",
       "                             nbb_cells[i].set_text(nbb_formatted_code);\n",
       "                        }\n",
       "                        break;\n",
       "                    }\n",
       "                }\n",
       "            }, 500);\n",
       "            "
      ],
      "text/plain": [
       "<IPython.core.display.Javascript object>"
      ]
     },
     "metadata": {},
     "output_type": "display_data"
    }
   ],
   "source": [
    "# for testing it's nice to take a sample\n",
    "if 0 < SAMPLE_FRACTION < 1.0:\n",
    "    authors_df = authors_df.sample(frac=SAMPLE_FRACTION)"
   ]
  },
  {
   "cell_type": "code",
   "execution_count": 8,
   "id": "3335f29f",
   "metadata": {},
   "outputs": [
    {
     "data": {
      "text/plain": [
       "{'Aquilante C': {'author_type': 'contributor',\n",
       "  'search_term': '(Aquilante C[Author])'},\n",
       " 'Barnes K': {'author_type': 'contributor',\n",
       "  'search_term': '(Barnes K[Author])'},\n",
       " 'Boorgula M': {'author_type': 'contributor',\n",
       "  'search_term': '(Boorgula M[Author])'},\n",
       " 'Brooks I': {'author_type': 'contributor',\n",
       "  'search_term': '(Brooks I[Author])'},\n",
       " 'Campbell M': {'author_type': 'contributor',\n",
       "  'search_term': '(Campbell M[Author])'},\n",
       " 'Casey Greene': {'author_type': 'pi', 'search_term': '(Casey Greene)'},\n",
       " 'Claw K': {'author_type': 'contributor', 'search_term': '(Claw K[Author])'},\n",
       " 'Cohen M': {'author_type': 'contributor', 'search_term': '(Cohen M[Author])'},\n",
       " 'Coors M': {'author_type': 'contributor', 'search_term': '(Coors M[Author])'},\n",
       " 'Crooks K': {'author_type': 'contributor',\n",
       "  'search_term': '(Crooks K[Author])'},\n",
       " 'Fingerlin T': {'author_type': 'contributor',\n",
       "  'search_term': '(Fingerlin T[Author])'},\n",
       " 'Fishbein L': {'author_type': 'contributor',\n",
       "  'search_term': '(Fishbein L[Author])'},\n",
       " 'Ghosh D': {'author_type': 'contributor', 'search_term': '(Ghosh D[Author])'},\n",
       " 'Gignoux C': {'author_type': 'contributor',\n",
       "  'search_term': '(Gignoux C[Author])'},\n",
       " 'Gregory Way': {'author_type': 'pi', 'search_term': '(Gregory Way)'},\n",
       " 'Hendricks A': {'author_type': 'contributor',\n",
       "  'search_term': '(Hendricks A[Author])'},\n",
       " 'Johnson RK': {'author_type': 'contributor',\n",
       "  'search_term': '(Johnson RK[Author])'},\n",
       " 'Julian C': {'author_type': 'contributor',\n",
       "  'search_term': '(Julian C[Author])'},\n",
       " 'Kao D': {'author_type': 'contributor', 'search_term': '(Kao D[Author])'},\n",
       " 'Kechris K': {'author_type': 'contributor',\n",
       "  'search_term': '(Kechris K[Author])'},\n",
       " 'Kudron E': {'author_type': 'contributor',\n",
       "  'search_term': '(Kudron E[Author])'},\n",
       " 'Lange E': {'author_type': 'contributor', 'search_term': '(Lange E[Author])'},\n",
       " 'Lange L': {'author_type': 'contributor', 'search_term': '(Lange L[Author])'},\n",
       " 'Law A': {'author_type': 'contributor', 'search_term': '(Law A[Author])'},\n",
       " 'Lawrence Hunter': {'author_type': 'pi', 'search_term': '(Lawrence Hunter)'},\n",
       " 'Layer R': {'author_type': 'contributor', 'search_term': '(Layer R[Author])'},\n",
       " 'Lee YM': {'author_type': 'contributor', 'search_term': '(Lee YM[Author])'},\n",
       " 'Lowery J': {'author_type': 'contributor',\n",
       "  'search_term': '(Lowery J[Author])'},\n",
       " 'Lozupone C': {'author_type': 'contributor',\n",
       "  'search_term': '(Lozupone C[Author])'},\n",
       " 'Mathias R': {'author_type': 'contributor',\n",
       "  'search_term': '(Mathias R[Author])'},\n",
       " 'Melissa Haendel': {'author_type': 'pi', 'search_term': '(Melissa Haendel)'},\n",
       " 'Monte A': {'author_type': 'contributor', 'search_term': '(Monte A[Author])'},\n",
       " 'Norman P': {'author_type': 'contributor',\n",
       "  'search_term': '(Norman P[Author])'},\n",
       " 'Phang T': {'author_type': 'contributor', 'search_term': '(Phang T[Author])'},\n",
       " 'Porras A': {'author_type': 'contributor',\n",
       "  'search_term': '(Porras A[Author])'},\n",
       " 'Pozdeyev N': {'author_type': 'contributor',\n",
       "  'search_term': '(Pozdeyev N[Author])'},\n",
       " 'Raghavan S': {'author_type': 'contributor',\n",
       "  'search_term': '(Raghavan S[Author])'},\n",
       " 'Reisdorph N': {'author_type': 'contributor',\n",
       "  'search_term': '(Reisdorph N[Author])'},\n",
       " 'Rosenberg M': {'author_type': 'contributor',\n",
       "  'search_term': '(Rosenberg M[Author])'},\n",
       " 'Santorico S': {'author_type': 'contributor',\n",
       "  'search_term': '(Santorico S[Author])'},\n",
       " 'Sean Davis': {'author_type': 'pi', 'search_term': '(Sean Davis)'},\n",
       " 'Shortt J': {'author_type': 'contributor',\n",
       "  'search_term': '(Shortt J[Author])'},\n",
       " 'Stanislawski M': {'author_type': 'contributor',\n",
       "  'search_term': '(Stanislawski M[Author])'},\n",
       " 'Taylor M': {'author_type': 'contributor',\n",
       "  'search_term': '(Taylor M[Author])'},\n",
       " 'Tellen Bennett': {'author_type': 'pi', 'search_term': '(Tellen Bennett)'},\n",
       " 'Wiley L': {'author_type': 'contributor', 'search_term': '(Wiley L[Author])'},\n",
       " 'Yang I': {'author_type': 'contributor', 'search_term': '(Yang I[Author])'}}"
      ]
     },
     "execution_count": 8,
     "metadata": {},
     "output_type": "execute_result"
    },
    {
     "data": {
      "application/javascript": [
       "\n",
       "            setTimeout(function() {\n",
       "                var nbb_cell_id = 8;\n",
       "                var nbb_unformatted_code = \"# convert into a dict\\nauthor_records = authors_df.to_dict(\\\"index\\\")\\nauthor_records\";\n",
       "                var nbb_formatted_code = \"# convert into a dict\\nauthor_records = authors_df.to_dict(\\\"index\\\")\\nauthor_records\";\n",
       "                var nbb_cells = Jupyter.notebook.get_cells();\n",
       "                for (var i = 0; i < nbb_cells.length; ++i) {\n",
       "                    if (nbb_cells[i].input_prompt_number == nbb_cell_id) {\n",
       "                        if (nbb_cells[i].get_text() == nbb_unformatted_code) {\n",
       "                             nbb_cells[i].set_text(nbb_formatted_code);\n",
       "                        }\n",
       "                        break;\n",
       "                    }\n",
       "                }\n",
       "            }, 500);\n",
       "            "
      ],
      "text/plain": [
       "<IPython.core.display.Javascript object>"
      ]
     },
     "metadata": {},
     "output_type": "display_data"
    }
   ],
   "source": [
    "# convert into a dict\n",
    "author_records = authors_df.to_dict(\"index\")\n",
    "author_records"
   ]
  },
  {
   "cell_type": "code",
   "execution_count": 9,
   "id": "ab2df6e3",
   "metadata": {},
   "outputs": [
    {
     "data": {
      "text/plain": [
       "{'Aquilante C': {'author_type': 'contributor',\n",
       "  'search_term': '((Aquilante C[Author]) AND ((\"University of Colorado\") OR (\"Colorado Center for Personalized Medicine\")))'},\n",
       " 'Barnes K': {'author_type': 'contributor',\n",
       "  'search_term': '((Barnes K[Author]) AND ((\"University of Colorado\") OR (\"Colorado Center for Personalized Medicine\")))'},\n",
       " 'Boorgula M': {'author_type': 'contributor',\n",
       "  'search_term': '((Boorgula M[Author]) AND ((\"University of Colorado\") OR (\"Colorado Center for Personalized Medicine\")))'},\n",
       " 'Brooks I': {'author_type': 'contributor',\n",
       "  'search_term': '((Brooks I[Author]) AND ((\"University of Colorado\") OR (\"Colorado Center for Personalized Medicine\")))'},\n",
       " 'Campbell M': {'author_type': 'contributor',\n",
       "  'search_term': '((Campbell M[Author]) AND ((\"University of Colorado\") OR (\"Colorado Center for Personalized Medicine\")))'},\n",
       " 'Casey Greene': {'author_type': 'pi', 'search_term': '(Casey Greene)'},\n",
       " 'Claw K': {'author_type': 'contributor',\n",
       "  'search_term': '((Claw K[Author]) AND ((\"University of Colorado\") OR (\"Colorado Center for Personalized Medicine\")))'},\n",
       " 'Cohen M': {'author_type': 'contributor',\n",
       "  'search_term': '((Cohen M[Author]) AND ((\"University of Colorado\") OR (\"Colorado Center for Personalized Medicine\")))'},\n",
       " 'Coors M': {'author_type': 'contributor',\n",
       "  'search_term': '((Coors M[Author]) AND ((\"University of Colorado\") OR (\"Colorado Center for Personalized Medicine\")))'},\n",
       " 'Crooks K': {'author_type': 'contributor',\n",
       "  'search_term': '((Crooks K[Author]) AND ((\"University of Colorado\") OR (\"Colorado Center for Personalized Medicine\")))'},\n",
       " 'Fingerlin T': {'author_type': 'contributor',\n",
       "  'search_term': '((Fingerlin T[Author]) AND ((\"University of Colorado\") OR (\"Colorado Center for Personalized Medicine\")))'},\n",
       " 'Fishbein L': {'author_type': 'contributor',\n",
       "  'search_term': '((Fishbein L[Author]) AND ((\"University of Colorado\") OR (\"Colorado Center for Personalized Medicine\")))'},\n",
       " 'Ghosh D': {'author_type': 'contributor',\n",
       "  'search_term': '((Ghosh D[Author]) AND ((\"University of Colorado\") OR (\"Colorado Center for Personalized Medicine\")))'},\n",
       " 'Gignoux C': {'author_type': 'contributor',\n",
       "  'search_term': '((Gignoux C[Author]) AND ((\"University of Colorado\") OR (\"Colorado Center for Personalized Medicine\")))'},\n",
       " 'Gregory Way': {'author_type': 'pi', 'search_term': '(Gregory Way)'},\n",
       " 'Hendricks A': {'author_type': 'contributor',\n",
       "  'search_term': '((Hendricks A[Author]) AND ((\"University of Colorado\") OR (\"Colorado Center for Personalized Medicine\")))'},\n",
       " 'Johnson RK': {'author_type': 'contributor',\n",
       "  'search_term': '((Johnson RK[Author]) AND ((\"University of Colorado\") OR (\"Colorado Center for Personalized Medicine\")))'},\n",
       " 'Julian C': {'author_type': 'contributor',\n",
       "  'search_term': '((Julian C[Author]) AND ((\"University of Colorado\") OR (\"Colorado Center for Personalized Medicine\")))'},\n",
       " 'Kao D': {'author_type': 'contributor',\n",
       "  'search_term': '((Kao D[Author]) AND ((\"University of Colorado\") OR (\"Colorado Center for Personalized Medicine\")))'},\n",
       " 'Kechris K': {'author_type': 'contributor',\n",
       "  'search_term': '((Kechris K[Author]) AND ((\"University of Colorado\") OR (\"Colorado Center for Personalized Medicine\")))'},\n",
       " 'Kudron E': {'author_type': 'contributor',\n",
       "  'search_term': '((Kudron E[Author]) AND ((\"University of Colorado\") OR (\"Colorado Center for Personalized Medicine\")))'},\n",
       " 'Lange E': {'author_type': 'contributor',\n",
       "  'search_term': '((Lange E[Author]) AND ((\"University of Colorado\") OR (\"Colorado Center for Personalized Medicine\")))'},\n",
       " 'Lange L': {'author_type': 'contributor',\n",
       "  'search_term': '((Lange L[Author]) AND ((\"University of Colorado\") OR (\"Colorado Center for Personalized Medicine\")))'},\n",
       " 'Law A': {'author_type': 'contributor',\n",
       "  'search_term': '((Law A[Author]) AND ((\"University of Colorado\") OR (\"Colorado Center for Personalized Medicine\")))'},\n",
       " 'Lawrence Hunter': {'author_type': 'pi', 'search_term': '(Lawrence Hunter)'},\n",
       " 'Layer R': {'author_type': 'contributor',\n",
       "  'search_term': '((Layer R[Author]) AND ((\"University of Colorado\") OR (\"Colorado Center for Personalized Medicine\")))'},\n",
       " 'Lee YM': {'author_type': 'contributor',\n",
       "  'search_term': '((Lee YM[Author]) AND ((\"University of Colorado\") OR (\"Colorado Center for Personalized Medicine\")))'},\n",
       " 'Lowery J': {'author_type': 'contributor',\n",
       "  'search_term': '((Lowery J[Author]) AND ((\"University of Colorado\") OR (\"Colorado Center for Personalized Medicine\")))'},\n",
       " 'Lozupone C': {'author_type': 'contributor',\n",
       "  'search_term': '((Lozupone C[Author]) AND ((\"University of Colorado\") OR (\"Colorado Center for Personalized Medicine\")))'},\n",
       " 'Mathias R': {'author_type': 'contributor',\n",
       "  'search_term': '((Mathias R[Author]) AND ((\"University of Colorado\") OR (\"Colorado Center for Personalized Medicine\")))'},\n",
       " 'Melissa Haendel': {'author_type': 'pi', 'search_term': '(Melissa Haendel)'},\n",
       " 'Monte A': {'author_type': 'contributor',\n",
       "  'search_term': '((Monte A[Author]) AND ((\"University of Colorado\") OR (\"Colorado Center for Personalized Medicine\")))'},\n",
       " 'Norman P': {'author_type': 'contributor',\n",
       "  'search_term': '((Norman P[Author]) AND ((\"University of Colorado\") OR (\"Colorado Center for Personalized Medicine\")))'},\n",
       " 'Phang T': {'author_type': 'contributor',\n",
       "  'search_term': '((Phang T[Author]) AND ((\"University of Colorado\") OR (\"Colorado Center for Personalized Medicine\")))'},\n",
       " 'Porras A': {'author_type': 'contributor',\n",
       "  'search_term': '((Porras A[Author]) AND ((\"University of Colorado\") OR (\"Colorado Center for Personalized Medicine\")))'},\n",
       " 'Pozdeyev N': {'author_type': 'contributor',\n",
       "  'search_term': '((Pozdeyev N[Author]) AND ((\"University of Colorado\") OR (\"Colorado Center for Personalized Medicine\")))'},\n",
       " 'Raghavan S': {'author_type': 'contributor',\n",
       "  'search_term': '((Raghavan S[Author]) AND ((\"University of Colorado\") OR (\"Colorado Center for Personalized Medicine\")))'},\n",
       " 'Reisdorph N': {'author_type': 'contributor',\n",
       "  'search_term': '((Reisdorph N[Author]) AND ((\"University of Colorado\") OR (\"Colorado Center for Personalized Medicine\")))'},\n",
       " 'Rosenberg M': {'author_type': 'contributor',\n",
       "  'search_term': '((Rosenberg M[Author]) AND ((\"University of Colorado\") OR (\"Colorado Center for Personalized Medicine\")))'},\n",
       " 'Santorico S': {'author_type': 'contributor',\n",
       "  'search_term': '((Santorico S[Author]) AND ((\"University of Colorado\") OR (\"Colorado Center for Personalized Medicine\")))'},\n",
       " 'Sean Davis': {'author_type': 'pi', 'search_term': '(Sean Davis)'},\n",
       " 'Shortt J': {'author_type': 'contributor',\n",
       "  'search_term': '((Shortt J[Author]) AND ((\"University of Colorado\") OR (\"Colorado Center for Personalized Medicine\")))'},\n",
       " 'Stanislawski M': {'author_type': 'contributor',\n",
       "  'search_term': '((Stanislawski M[Author]) AND ((\"University of Colorado\") OR (\"Colorado Center for Personalized Medicine\")))'},\n",
       " 'Taylor M': {'author_type': 'contributor',\n",
       "  'search_term': '((Taylor M[Author]) AND ((\"University of Colorado\") OR (\"Colorado Center for Personalized Medicine\")))'},\n",
       " 'Tellen Bennett': {'author_type': 'pi', 'search_term': '(Tellen Bennett)'},\n",
       " 'Wiley L': {'author_type': 'contributor',\n",
       "  'search_term': '((Wiley L[Author]) AND ((\"University of Colorado\") OR (\"Colorado Center for Personalized Medicine\")))'},\n",
       " 'Yang I': {'author_type': 'contributor',\n",
       "  'search_term': '((Yang I[Author]) AND ((\"University of Colorado\") OR (\"Colorado Center for Personalized Medicine\")))'}}"
      ]
     },
     "execution_count": 9,
     "metadata": {},
     "output_type": "execute_result"
    },
    {
     "data": {
      "application/javascript": [
       "\n",
       "            setTimeout(function() {\n",
       "                var nbb_cell_id = 9;\n",
       "                var nbb_unformatted_code = \"# modify search terms, e.g., contributors are filtered by CU or CCPM\\nfor k, v in author_records.items():\\n\\n    # Restrict contributors to CU items\\n    if v[\\\"author_type\\\"] == \\\"contributor\\\":\\n        v[\\n            \\\"search_term\\\"\\n        ] = f\\\"({v['search_term']} AND ((\\\\\\\"University of Colorado\\\\\\\") OR (\\\\\\\"Colorado Center for Personalized Medicine\\\\\\\")))\\\"\\n\\nauthor_records\";\n",
       "                var nbb_formatted_code = \"# modify search terms, e.g., contributors are filtered by CU or CCPM\\nfor k, v in author_records.items():\\n\\n    # Restrict contributors to CU items\\n    if v[\\\"author_type\\\"] == \\\"contributor\\\":\\n        v[\\n            \\\"search_term\\\"\\n        ] = f\\\"({v['search_term']} AND ((\\\\\\\"University of Colorado\\\\\\\") OR (\\\\\\\"Colorado Center for Personalized Medicine\\\\\\\")))\\\"\\n\\nauthor_records\";\n",
       "                var nbb_cells = Jupyter.notebook.get_cells();\n",
       "                for (var i = 0; i < nbb_cells.length; ++i) {\n",
       "                    if (nbb_cells[i].input_prompt_number == nbb_cell_id) {\n",
       "                        if (nbb_cells[i].get_text() == nbb_unformatted_code) {\n",
       "                             nbb_cells[i].set_text(nbb_formatted_code);\n",
       "                        }\n",
       "                        break;\n",
       "                    }\n",
       "                }\n",
       "            }, 500);\n",
       "            "
      ],
      "text/plain": [
       "<IPython.core.display.Javascript object>"
      ]
     },
     "metadata": {},
     "output_type": "display_data"
    }
   ],
   "source": [
    "# modify search terms, e.g., contributors are filtered by CU or CCPM\n",
    "for k, v in author_records.items():\n",
    "\n",
    "    # Restrict contributors to CU items\n",
    "    if v[\"author_type\"] == \"contributor\":\n",
    "        v[\n",
    "            \"search_term\"\n",
    "        ] = f\"({v['search_term']} AND ((\\\"University of Colorado\\\") OR (\\\"Colorado Center for Personalized Medicine\\\")))\"\n",
    "\n",
    "author_records"
   ]
  },
  {
   "cell_type": "code",
   "execution_count": 10,
   "id": "b531499e",
   "metadata": {},
   "outputs": [
    {
     "data": {
      "application/javascript": [
       "\n",
       "            setTimeout(function() {\n",
       "                var nbb_cell_id = 10;\n",
       "                var nbb_unformatted_code = \"@sleep_and_retry\\n@limits(calls=NCBI_RATE_LIMIT, period=60)\\ndef search_ncbi(\\n    term: str,\\n    start_year: int,\\n    api_key: str = None,\\n    email: str = \\\"Stephen.Taylor@cuanschutz.edu\\\",\\n) -> List[str]:\\n    \\\"\\\"\\\"\\n    Look up IDs given a search term,\\n    a beginning year, and an optional API key.\\n\\n    NCBI asks that we use an API key,\\n    which increases API calls to 10/minute, instead of 3/minute.\\n\\n    Returns a list of IDs\\n    \\\"\\\"\\\"\\n    ids = []\\n\\n    params = {\\n        \\\"term\\\": term,\\n        \\\"format\\\": \\\"pmid\\\",\\n        \\\"tool\\\": \\\"CUAnschutz-Center_for_Health_AI-DEV\\\",\\n        \\\"email\\\": email,\\n        \\\"format\\\": \\\"json\\\",\\n        \\\"retmax\\\": 100,\\n        \\\"retstart\\\": 0,\\n        \\\"mindate\\\": f\\\"{start_year}/01/01\\\",\\n        \\\"maxdate\\\": f\\\"{start_year}/12/31\\\",\\n    }\\n\\n    if api_key:\\n        params[\\\"api_key\\\"] = api_key\\n\\n    # page through the results until there are no more ids\\n    while True:\\n        r = requests.get(\\n            \\\"https://eutils.ncbi.nlm.nih.gov/entrez/eutils/esearch.fcgi\\\", params\\n        )\\n        if r.status_code == 200:\\n            result = r.json()[\\\"esearchresult\\\"]\\n        else:\\n            logging.error(f\\\"NCBI returned a status code of {r.status_code}.\\\")\\n            break\\n\\n        if len(result[\\\"idlist\\\"]) == 0:\\n            # no more IDs\\n            break\\n        else:\\n            # append the IDs to the results...\\n            ids = ids + result[\\\"idlist\\\"]\\n            # and move the start chunk up by the size of retmax\\n            params[\\\"retstart\\\"] += params[\\\"retmax\\\"]\\n\\n    return ids\";\n",
       "                var nbb_formatted_code = \"@sleep_and_retry\\n@limits(calls=NCBI_RATE_LIMIT, period=60)\\ndef search_ncbi(\\n    term: str,\\n    start_year: int,\\n    api_key: str = None,\\n    email: str = \\\"Stephen.Taylor@cuanschutz.edu\\\",\\n) -> List[str]:\\n    \\\"\\\"\\\"\\n    Look up IDs given a search term,\\n    a beginning year, and an optional API key.\\n\\n    NCBI asks that we use an API key,\\n    which increases API calls to 10/minute, instead of 3/minute.\\n\\n    Returns a list of IDs\\n    \\\"\\\"\\\"\\n    ids = []\\n\\n    params = {\\n        \\\"term\\\": term,\\n        \\\"format\\\": \\\"pmid\\\",\\n        \\\"tool\\\": \\\"CUAnschutz-Center_for_Health_AI-DEV\\\",\\n        \\\"email\\\": email,\\n        \\\"format\\\": \\\"json\\\",\\n        \\\"retmax\\\": 100,\\n        \\\"retstart\\\": 0,\\n        \\\"mindate\\\": f\\\"{start_year}/01/01\\\",\\n        \\\"maxdate\\\": f\\\"{start_year}/12/31\\\",\\n    }\\n\\n    if api_key:\\n        params[\\\"api_key\\\"] = api_key\\n\\n    # page through the results until there are no more ids\\n    while True:\\n        r = requests.get(\\n            \\\"https://eutils.ncbi.nlm.nih.gov/entrez/eutils/esearch.fcgi\\\", params\\n        )\\n        if r.status_code == 200:\\n            result = r.json()[\\\"esearchresult\\\"]\\n        else:\\n            logging.error(f\\\"NCBI returned a status code of {r.status_code}.\\\")\\n            break\\n\\n        if len(result[\\\"idlist\\\"]) == 0:\\n            # no more IDs\\n            break\\n        else:\\n            # append the IDs to the results...\\n            ids = ids + result[\\\"idlist\\\"]\\n            # and move the start chunk up by the size of retmax\\n            params[\\\"retstart\\\"] += params[\\\"retmax\\\"]\\n\\n    return ids\";\n",
       "                var nbb_cells = Jupyter.notebook.get_cells();\n",
       "                for (var i = 0; i < nbb_cells.length; ++i) {\n",
       "                    if (nbb_cells[i].input_prompt_number == nbb_cell_id) {\n",
       "                        if (nbb_cells[i].get_text() == nbb_unformatted_code) {\n",
       "                             nbb_cells[i].set_text(nbb_formatted_code);\n",
       "                        }\n",
       "                        break;\n",
       "                    }\n",
       "                }\n",
       "            }, 500);\n",
       "            "
      ],
      "text/plain": [
       "<IPython.core.display.Javascript object>"
      ]
     },
     "metadata": {},
     "output_type": "display_data"
    }
   ],
   "source": [
    "@sleep_and_retry\n",
    "@limits(calls=NCBI_RATE_LIMIT, period=60)\n",
    "def search_ncbi(\n",
    "    term: str,\n",
    "    start_year: int,\n",
    "    api_key: str = None,\n",
    "    email: str = \"Stephen.Taylor@cuanschutz.edu\",\n",
    ") -> List[str]:\n",
    "    \"\"\"\n",
    "    Look up IDs given a search term,\n",
    "    a beginning year, and an optional API key.\n",
    "\n",
    "    NCBI asks that we use an API key,\n",
    "    which increases API calls to 10/minute, instead of 3/minute.\n",
    "\n",
    "    Returns a list of IDs\n",
    "    \"\"\"\n",
    "    ids = []\n",
    "\n",
    "    params = {\n",
    "        \"term\": term,\n",
    "        \"format\": \"pmid\",\n",
    "        \"tool\": \"CUAnschutz-Center_for_Health_AI-DEV\",\n",
    "        \"email\": email,\n",
    "        \"format\": \"json\",\n",
    "        \"retmax\": 100,\n",
    "        \"retstart\": 0,\n",
    "        \"mindate\": f\"{start_year}/01/01\",\n",
    "        \"maxdate\": f\"{start_year}/12/31\",\n",
    "    }\n",
    "\n",
    "    if api_key:\n",
    "        params[\"api_key\"] = api_key\n",
    "\n",
    "    # page through the results until there are no more ids\n",
    "    while True:\n",
    "        r = requests.get(\n",
    "            \"https://eutils.ncbi.nlm.nih.gov/entrez/eutils/esearch.fcgi\", params\n",
    "        )\n",
    "        if r.status_code == 200:\n",
    "            result = r.json()[\"esearchresult\"]\n",
    "        else:\n",
    "            logging.error(f\"NCBI returned a status code of {r.status_code}.\")\n",
    "            break\n",
    "\n",
    "        if len(result[\"idlist\"]) == 0:\n",
    "            # no more IDs\n",
    "            break\n",
    "        else:\n",
    "            # append the IDs to the results...\n",
    "            ids = ids + result[\"idlist\"]\n",
    "            # and move the start chunk up by the size of retmax\n",
    "            params[\"retstart\"] += params[\"retmax\"]\n",
    "\n",
    "    return ids"
   ]
  },
  {
   "cell_type": "code",
   "execution_count": 11,
   "id": "4fcc3a02",
   "metadata": {
    "scrolled": true
   },
   "outputs": [
    {
     "name": "stderr",
     "output_type": "stream",
     "text": [
      "INFO:root:Looking up `Kudron E` using ((Kudron E[Author]) AND ((\"University of Colorado\") OR (\"Colorado Center for Personalized Medicine\")))\n"
     ]
    },
    {
     "data": {
      "application/javascript": [
       "\n",
       "            setTimeout(function() {\n",
       "                var nbb_cell_id = 11;\n",
       "                var nbb_unformatted_code = \"# I would like to do this in parallel, but the deal with NCBI is we agree not to do that\\nid_dict = {}\\nfor author, v in author_records.items():\\n\\n    cache_key = f\\\"author-{author}\\\"\\n    if not cache.get(cache_key):\\n        logging.info(f\\\"Looking up `{author}` using {v['search_term']}\\\")\\n        ids = search_ncbi(term=v[\\\"search_term\\\"], start_year=THIS_YEAR, api_key=API_KEY)\\n        cache.set(cache_key, ids, expire=CACHE_EXPIRE_SECONDS)\\n    else:\\n        ids = cache[cache_key]\\n\\n    for id in ids:\\n        if not id_dict.get(id):\\n            # create an empty nested dict\\n            id_dict[id] = {\\\"authors\\\": []}\\n        id_dict[id][\\\"authors\\\"].append(author)\";\n",
       "                var nbb_formatted_code = \"# I would like to do this in parallel, but the deal with NCBI is we agree not to do that\\nid_dict = {}\\nfor author, v in author_records.items():\\n\\n    cache_key = f\\\"author-{author}\\\"\\n    if not cache.get(cache_key):\\n        logging.info(f\\\"Looking up `{author}` using {v['search_term']}\\\")\\n        ids = search_ncbi(term=v[\\\"search_term\\\"], start_year=THIS_YEAR, api_key=API_KEY)\\n        cache.set(cache_key, ids, expire=CACHE_EXPIRE_SECONDS)\\n    else:\\n        ids = cache[cache_key]\\n\\n    for id in ids:\\n        if not id_dict.get(id):\\n            # create an empty nested dict\\n            id_dict[id] = {\\\"authors\\\": []}\\n        id_dict[id][\\\"authors\\\"].append(author)\";\n",
       "                var nbb_cells = Jupyter.notebook.get_cells();\n",
       "                for (var i = 0; i < nbb_cells.length; ++i) {\n",
       "                    if (nbb_cells[i].input_prompt_number == nbb_cell_id) {\n",
       "                        if (nbb_cells[i].get_text() == nbb_unformatted_code) {\n",
       "                             nbb_cells[i].set_text(nbb_formatted_code);\n",
       "                        }\n",
       "                        break;\n",
       "                    }\n",
       "                }\n",
       "            }, 500);\n",
       "            "
      ],
      "text/plain": [
       "<IPython.core.display.Javascript object>"
      ]
     },
     "metadata": {},
     "output_type": "display_data"
    }
   ],
   "source": [
    "# I would like to do this in parallel, but the deal with NCBI is we agree not to do that\n",
    "id_dict = {}\n",
    "for author, v in author_records.items():\n",
    "\n",
    "    cache_key = f\"author-{author}\"\n",
    "    if not cache.get(cache_key):\n",
    "        logging.info(f\"Looking up `{author}` using {v['search_term']}\")\n",
    "        ids = search_ncbi(term=v[\"search_term\"], start_year=THIS_YEAR, api_key=API_KEY)\n",
    "        cache.set(cache_key, ids, expire=CACHE_EXPIRE_SECONDS)\n",
    "    else:\n",
    "        ids = cache[cache_key]\n",
    "\n",
    "    for id in ids:\n",
    "        if not id_dict.get(id):\n",
    "            # create an empty nested dict\n",
    "            id_dict[id] = {\"authors\": []}\n",
    "        id_dict[id][\"authors\"].append(author)"
   ]
  },
  {
   "cell_type": "markdown",
   "id": "97859ccb",
   "metadata": {},
   "source": [
    "How many items found?"
   ]
  },
  {
   "cell_type": "code",
   "execution_count": 12,
   "id": "88fbe381",
   "metadata": {},
   "outputs": [
    {
     "data": {
      "text/plain": [
       "338"
      ]
     },
     "execution_count": 12,
     "metadata": {},
     "output_type": "execute_result"
    },
    {
     "data": {
      "application/javascript": [
       "\n",
       "            setTimeout(function() {\n",
       "                var nbb_cell_id = 12;\n",
       "                var nbb_unformatted_code = \"len(id_dict)\";\n",
       "                var nbb_formatted_code = \"len(id_dict)\";\n",
       "                var nbb_cells = Jupyter.notebook.get_cells();\n",
       "                for (var i = 0; i < nbb_cells.length; ++i) {\n",
       "                    if (nbb_cells[i].input_prompt_number == nbb_cell_id) {\n",
       "                        if (nbb_cells[i].get_text() == nbb_unformatted_code) {\n",
       "                             nbb_cells[i].set_text(nbb_formatted_code);\n",
       "                        }\n",
       "                        break;\n",
       "                    }\n",
       "                }\n",
       "            }, 500);\n",
       "            "
      ],
      "text/plain": [
       "<IPython.core.display.Javascript object>"
      ]
     },
     "metadata": {},
     "output_type": "display_data"
    }
   ],
   "source": [
    "len(id_dict)"
   ]
  },
  {
   "cell_type": "code",
   "execution_count": 13,
   "id": "0f125349",
   "metadata": {},
   "outputs": [
    {
     "data": {
      "image/png": "[encoded data removed]",
      "text/plain": [
       "<Figure size 1008x864 with 1 Axes>"
      ]
     },
     "metadata": {
      "needs_background": "light"
     },
     "output_type": "display_data"
    },
    {
     "data": {
      "application/javascript": [
       "\n",
       "            setTimeout(function() {\n",
       "                var nbb_cell_id = 13;\n",
       "                var nbb_unformatted_code = \"# useful to get a handle on the shape of the data\\ndoc_count = {}\\nfor k, v in id_dict.items():\\n    for author in v[\\\"authors\\\"]:\\n        if not doc_count.get(author):\\n            doc_count[author] = 0\\n        doc_count[author] += 1\\n\\nauthors_df[\\\"doc_count\\\"] = pd.Series(doc_count)\\nax = authors_df.sort_values(by=\\\"doc_count\\\").plot.barh(figsize=(14, 12))\\nfig = ax.get_figure()\\nfig.savefig(os.path.join(BUILD_FOLDER, \\\"author_items.png\\\"))\";\n",
       "                var nbb_formatted_code = \"# useful to get a handle on the shape of the data\\ndoc_count = {}\\nfor k, v in id_dict.items():\\n    for author in v[\\\"authors\\\"]:\\n        if not doc_count.get(author):\\n            doc_count[author] = 0\\n        doc_count[author] += 1\\n\\nauthors_df[\\\"doc_count\\\"] = pd.Series(doc_count)\\nax = authors_df.sort_values(by=\\\"doc_count\\\").plot.barh(figsize=(14, 12))\\nfig = ax.get_figure()\\nfig.savefig(os.path.join(BUILD_FOLDER, \\\"author_items.png\\\"))\";\n",
       "                var nbb_cells = Jupyter.notebook.get_cells();\n",
       "                for (var i = 0; i < nbb_cells.length; ++i) {\n",
       "                    if (nbb_cells[i].input_prompt_number == nbb_cell_id) {\n",
       "                        if (nbb_cells[i].get_text() == nbb_unformatted_code) {\n",
       "                             nbb_cells[i].set_text(nbb_formatted_code);\n",
       "                        }\n",
       "                        break;\n",
       "                    }\n",
       "                }\n",
       "            }, 500);\n",
       "            "
      ],
      "text/plain": [
       "<IPython.core.display.Javascript object>"
      ]
     },
     "metadata": {},
     "output_type": "display_data"
    }
   ],
   "source": [
    "# useful to get a handle on the shape of the data\n",
    "doc_count = {}\n",
    "for k, v in id_dict.items():\n",
    "    for author in v[\"authors\"]:\n",
    "        if not doc_count.get(author):\n",
    "            doc_count[author] = 0\n",
    "        doc_count[author] += 1\n",
    "\n",
    "authors_df[\"doc_count\"] = pd.Series(doc_count)\n",
    "ax = authors_df.sort_values(by=\"doc_count\").plot.barh(figsize=(14, 12))\n",
    "fig = ax.get_figure()\n",
    "fig.savefig(os.path.join(BUILD_FOLDER, \"author_items.png\"))"
   ]
  },
  {
   "cell_type": "code",
   "execution_count": 14,
   "id": "de429055",
   "metadata": {
    "scrolled": true
   },
   "outputs": [
    {
     "data": {
      "application/javascript": [
       "\n",
       "            setTimeout(function() {\n",
       "                var nbb_cell_id = 14;\n",
       "                var nbb_unformatted_code = \"@sleep_and_retry\\n@limits(calls=NCBI_RATE_LIMIT, period=60)\\ndef fetch_csljson(id: str) -> Dict:\\n    \\\"\\\"\\\"\\n    Given an ID, fetch the csljson using manubot, which is of course using NCBI, so rate limited.\\n    \\\"\\\"\\\"\\n    logging.info(f\\\"Fetching csljson for {id}\\\")\\n    citations = Citations([id])\\n    return citations.get_csl_items()[0]\";\n",
       "                var nbb_formatted_code = \"@sleep_and_retry\\n@limits(calls=NCBI_RATE_LIMIT, period=60)\\ndef fetch_csljson(id: str) -> Dict:\\n    \\\"\\\"\\\"\\n    Given an ID, fetch the csljson using manubot, which is of course using NCBI, so rate limited.\\n    \\\"\\\"\\\"\\n    logging.info(f\\\"Fetching csljson for {id}\\\")\\n    citations = Citations([id])\\n    return citations.get_csl_items()[0]\";\n",
       "                var nbb_cells = Jupyter.notebook.get_cells();\n",
       "                for (var i = 0; i < nbb_cells.length; ++i) {\n",
       "                    if (nbb_cells[i].input_prompt_number == nbb_cell_id) {\n",
       "                        if (nbb_cells[i].get_text() == nbb_unformatted_code) {\n",
       "                             nbb_cells[i].set_text(nbb_formatted_code);\n",
       "                        }\n",
       "                        break;\n",
       "                    }\n",
       "                }\n",
       "            }, 500);\n",
       "            "
      ],
      "text/plain": [
       "<IPython.core.display.Javascript object>"
      ]
     },
     "metadata": {},
     "output_type": "display_data"
    }
   ],
   "source": [
    "@sleep_and_retry\n",
    "@limits(calls=NCBI_RATE_LIMIT, period=60)\n",
    "def fetch_csljson(id: str) -> Dict:\n",
    "    \"\"\"\n",
    "    Given an ID, fetch the csljson using manubot, which is of course using NCBI, so rate limited.\n",
    "    \"\"\"\n",
    "    logging.info(f\"Fetching csljson for {id}\")\n",
    "    citations = Citations([id])\n",
    "    return citations.get_csl_items()[0]"
   ]
  },
  {
   "cell_type": "code",
   "execution_count": 15,
   "id": "e3d1ee07",
   "metadata": {
    "scrolled": true
   },
   "outputs": [
    {
     "data": {
      "application/javascript": [
       "\n",
       "            setTimeout(function() {\n",
       "                var nbb_cell_id = 15;\n",
       "                var nbb_unformatted_code = \"# Retrive the csljson from manubot\\nkeys = [k for k in id_dict]\\n\\ncites = []\\nfor key in keys:\\n    cache_key = f\\\"csljson-{key}\\\"\\n\\n    if not cache.get(cache_key):\\n        csljson = fetch_csljson(key)\\n        cache.set(cache_key, csljson, expire=CACHE_EXPIRE_SECONDS)\\n    else:\\n        csljson = cache[cache_key]\\n\\n    cites.append(csljson)\";\n",
       "                var nbb_formatted_code = \"# Retrive the csljson from manubot\\nkeys = [k for k in id_dict]\\n\\ncites = []\\nfor key in keys:\\n    cache_key = f\\\"csljson-{key}\\\"\\n\\n    if not cache.get(cache_key):\\n        csljson = fetch_csljson(key)\\n        cache.set(cache_key, csljson, expire=CACHE_EXPIRE_SECONDS)\\n    else:\\n        csljson = cache[cache_key]\\n\\n    cites.append(csljson)\";\n",
       "                var nbb_cells = Jupyter.notebook.get_cells();\n",
       "                for (var i = 0; i < nbb_cells.length; ++i) {\n",
       "                    if (nbb_cells[i].input_prompt_number == nbb_cell_id) {\n",
       "                        if (nbb_cells[i].get_text() == nbb_unformatted_code) {\n",
       "                             nbb_cells[i].set_text(nbb_formatted_code);\n",
       "                        }\n",
       "                        break;\n",
       "                    }\n",
       "                }\n",
       "            }, 500);\n",
       "            "
      ],
      "text/plain": [
       "<IPython.core.display.Javascript object>"
      ]
     },
     "metadata": {},
     "output_type": "display_data"
    }
   ],
   "source": [
    "# Retrive the csljson from manubot\n",
    "keys = [k for k in id_dict]\n",
    "\n",
    "cites = []\n",
    "for key in keys:\n",
    "    cache_key = f\"csljson-{key}\"\n",
    "\n",
    "    if not cache.get(cache_key):\n",
    "        csljson = fetch_csljson(key)\n",
    "        cache.set(cache_key, csljson, expire=CACHE_EXPIRE_SECONDS)\n",
    "    else:\n",
    "        csljson = cache[cache_key]\n",
    "\n",
    "    cites.append(csljson)"
   ]
  },
  {
   "cell_type": "code",
   "execution_count": 16,
   "id": "d11fd8bb",
   "metadata": {},
   "outputs": [
    {
     "data": {
      "application/javascript": [
       "\n",
       "            setTimeout(function() {\n",
       "                var nbb_cell_id = 16;\n",
       "                var nbb_unformatted_code = \"# I'm going to want to sort these later.\\nfor rec in cites:\\n    key = rec[\\\"PMID\\\"]\\n\\n    id_dict[key][\\\"csljson\\\"] = rec\\n    id_dict[key][\\\"title\\\"] = rec[\\\"title\\\"].strip()\\n\\n    # all this for the date!\\n    if rec.get(\\\"issued\\\"):\\n        issued_date_parts = rec[\\\"issued\\\"][\\\"date-parts\\\"][0]\\n        date_str = str(issued_date_parts[0])\\n        try:\\n            date_str += f\\\"/{issued_date_parts[1]}\\\"\\n            try:\\n                date_str += f\\\"/{issued_date_parts[2]}\\\"\\n            except:\\n                pass\\n        except:\\n            pass\\n\\n        id_dict[key][\\\"issued_date\\\"] = date_str\";\n",
       "                var nbb_formatted_code = \"# I'm going to want to sort these later.\\nfor rec in cites:\\n    key = rec[\\\"PMID\\\"]\\n\\n    id_dict[key][\\\"csljson\\\"] = rec\\n    id_dict[key][\\\"title\\\"] = rec[\\\"title\\\"].strip()\\n\\n    # all this for the date!\\n    if rec.get(\\\"issued\\\"):\\n        issued_date_parts = rec[\\\"issued\\\"][\\\"date-parts\\\"][0]\\n        date_str = str(issued_date_parts[0])\\n        try:\\n            date_str += f\\\"/{issued_date_parts[1]}\\\"\\n            try:\\n                date_str += f\\\"/{issued_date_parts[2]}\\\"\\n            except:\\n                pass\\n        except:\\n            pass\\n\\n        id_dict[key][\\\"issued_date\\\"] = date_str\";\n",
       "                var nbb_cells = Jupyter.notebook.get_cells();\n",
       "                for (var i = 0; i < nbb_cells.length; ++i) {\n",
       "                    if (nbb_cells[i].input_prompt_number == nbb_cell_id) {\n",
       "                        if (nbb_cells[i].get_text() == nbb_unformatted_code) {\n",
       "                             nbb_cells[i].set_text(nbb_formatted_code);\n",
       "                        }\n",
       "                        break;\n",
       "                    }\n",
       "                }\n",
       "            }, 500);\n",
       "            "
      ],
      "text/plain": [
       "<IPython.core.display.Javascript object>"
      ]
     },
     "metadata": {},
     "output_type": "display_data"
    }
   ],
   "source": [
    "# I'm going to want to sort these later.\n",
    "for rec in cites:\n",
    "    key = rec[\"PMID\"]\n",
    "\n",
    "    id_dict[key][\"csljson\"] = rec\n",
    "    id_dict[key][\"title\"] = rec[\"title\"].strip()\n",
    "\n",
    "    # all this for the date!\n",
    "    if rec.get(\"issued\"):\n",
    "        issued_date_parts = rec[\"issued\"][\"date-parts\"][0]\n",
    "        date_str = str(issued_date_parts[0])\n",
    "        try:\n",
    "            date_str += f\"/{issued_date_parts[1]}\"\n",
    "            try:\n",
    "                date_str += f\"/{issued_date_parts[2]}\"\n",
    "            except:\n",
    "                pass\n",
    "        except:\n",
    "            pass\n",
    "\n",
    "        id_dict[key][\"issued_date\"] = date_str"
   ]
  },
  {
   "cell_type": "code",
   "execution_count": 17,
   "id": "1a56b180",
   "metadata": {
    "scrolled": true
   },
   "outputs": [
    {
     "data": {
      "text/html": [
       "<div>\n",
       "<style scoped>\n",
       "    .dataframe tbody tr th:only-of-type {\n",
       "        vertical-align: middle;\n",
       "    }\n",
       "\n",
       "    .dataframe tbody tr th {\n",
       "        vertical-align: top;\n",
       "    }\n",
       "\n",
       "    .dataframe thead th {\n",
       "        text-align: right;\n",
       "    }\n",
       "</style>\n",
       "<table border=\"1\" class=\"dataframe\">\n",
       "  <thead>\n",
       "    <tr style=\"text-align: right;\">\n",
       "      <th></th>\n",
       "      <th>authors</th>\n",
       "      <th>csljson</th>\n",
       "      <th>title</th>\n",
       "      <th>issued_date</th>\n",
       "      <th>year</th>\n",
       "    </tr>\n",
       "  </thead>\n",
       "  <tbody>\n",
       "    <tr>\n",
       "      <th>33629880</th>\n",
       "      <td>[Cohen M]</td>\n",
       "      <td>{'title': '\"Death Diamond\" Tracing on Thromboe...</td>\n",
       "      <td>\"Death Diamond\" Tracing on Thromboelastography...</td>\n",
       "      <td>2021/2/25</td>\n",
       "      <td>2021</td>\n",
       "    </tr>\n",
       "    <tr>\n",
       "      <th>34758253</th>\n",
       "      <td>[Melissa Haendel]</td>\n",
       "      <td>{'title': '100,000 Genomes Pilot on Rare-Disea...</td>\n",
       "      <td>100,000 Genomes Pilot on Rare-Disease Diagnosi...</td>\n",
       "      <td>2021/11/11</td>\n",
       "      <td>2021</td>\n",
       "    </tr>\n",
       "    <tr>\n",
       "      <th>34245921</th>\n",
       "      <td>[Crooks K]</td>\n",
       "      <td>{'title': 'A Curriculum for Genomic Education ...</td>\n",
       "      <td>A Curriculum for Genomic Education of Molecula...</td>\n",
       "      <td>2021/7/7</td>\n",
       "      <td>2021</td>\n",
       "    </tr>\n",
       "    <tr>\n",
       "      <th>33960013</th>\n",
       "      <td>[Sean Davis]</td>\n",
       "      <td>{'title': 'A Floating Mold Technique for the P...</td>\n",
       "      <td>A Floating Mold Technique for the Programmed A...</td>\n",
       "      <td>2021/5/7</td>\n",
       "      <td>2021</td>\n",
       "    </tr>\n",
       "    <tr>\n",
       "      <th>34436483</th>\n",
       "      <td>[Johnson RK, Kechris K, Yang I]</td>\n",
       "      <td>{'title': 'A Mediation Approach to Discovering...</td>\n",
       "      <td>A Mediation Approach to Discovering Causal Rel...</td>\n",
       "      <td>2021/8/14</td>\n",
       "      <td>2021</td>\n",
       "    </tr>\n",
       "    <tr>\n",
       "      <th>...</th>\n",
       "      <td>...</td>\n",
       "      <td>...</td>\n",
       "      <td>...</td>\n",
       "      <td>...</td>\n",
       "      <td>...</td>\n",
       "    </tr>\n",
       "    <tr>\n",
       "      <th>34582791</th>\n",
       "      <td>[Barnes K, Boorgula M, Lange L, Mathias R]</td>\n",
       "      <td>{'title': 'Whole-genome sequencing in diverse ...</td>\n",
       "      <td>Whole-genome sequencing in diverse subjects id...</td>\n",
       "      <td>2021/9/27</td>\n",
       "      <td>2021</td>\n",
       "    </tr>\n",
       "    <tr>\n",
       "      <th>34216016</th>\n",
       "      <td>[Taylor M]</td>\n",
       "      <td>{'title': 'ZMYND11 variants are a novel cause ...</td>\n",
       "      <td>ZMYND11 variants are a novel cause of centrote...</td>\n",
       "      <td>2021/7/16</td>\n",
       "      <td>2021</td>\n",
       "    </tr>\n",
       "    <tr>\n",
       "      <th>33997407</th>\n",
       "      <td>[Barnes K, Campbell M, Crooks K]</td>\n",
       "      <td>{'title': 'Zika Virus Congenital Syndrome and ...</td>\n",
       "      <td>Zika Virus Congenital Syndrome and</td>\n",
       "      <td>2021/4/22</td>\n",
       "      <td>2021</td>\n",
       "    </tr>\n",
       "    <tr>\n",
       "      <th>34428202</th>\n",
       "      <td>[Casey Greene]</td>\n",
       "      <td>{'title': 'miQC: An adaptive probabilistic fra...</td>\n",
       "      <td>miQC: An adaptive probabilistic framework for ...</td>\n",
       "      <td>2021/8/24</td>\n",
       "      <td>2021</td>\n",
       "    </tr>\n",
       "    <tr>\n",
       "      <th>33526006</th>\n",
       "      <td>[Kechris K]</td>\n",
       "      <td>{'title': 'tidyMicro: a pipeline for microbiom...</td>\n",
       "      <td>tidyMicro: a pipeline for microbiome data anal...</td>\n",
       "      <td>2021/2/1</td>\n",
       "      <td>2021</td>\n",
       "    </tr>\n",
       "  </tbody>\n",
       "</table>\n",
       "<p>338 rows × 5 columns</p>\n",
       "</div>"
      ],
      "text/plain": [
       "                                             authors  \\\n",
       "33629880                                   [Cohen M]   \n",
       "34758253                           [Melissa Haendel]   \n",
       "34245921                                  [Crooks K]   \n",
       "33960013                                [Sean Davis]   \n",
       "34436483             [Johnson RK, Kechris K, Yang I]   \n",
       "...                                              ...   \n",
       "34582791  [Barnes K, Boorgula M, Lange L, Mathias R]   \n",
       "34216016                                  [Taylor M]   \n",
       "33997407            [Barnes K, Campbell M, Crooks K]   \n",
       "34428202                              [Casey Greene]   \n",
       "33526006                                 [Kechris K]   \n",
       "\n",
       "                                                    csljson  \\\n",
       "33629880  {'title': '\"Death Diamond\" Tracing on Thromboe...   \n",
       "34758253  {'title': '100,000 Genomes Pilot on Rare-Disea...   \n",
       "34245921  {'title': 'A Curriculum for Genomic Education ...   \n",
       "33960013  {'title': 'A Floating Mold Technique for the P...   \n",
       "34436483  {'title': 'A Mediation Approach to Discovering...   \n",
       "...                                                     ...   \n",
       "34582791  {'title': 'Whole-genome sequencing in diverse ...   \n",
       "34216016  {'title': 'ZMYND11 variants are a novel cause ...   \n",
       "33997407  {'title': 'Zika Virus Congenital Syndrome and ...   \n",
       "34428202  {'title': 'miQC: An adaptive probabilistic fra...   \n",
       "33526006  {'title': 'tidyMicro: a pipeline for microbiom...   \n",
       "\n",
       "                                                      title issued_date  year  \n",
       "33629880  \"Death Diamond\" Tracing on Thromboelastography...   2021/2/25  2021  \n",
       "34758253  100,000 Genomes Pilot on Rare-Disease Diagnosi...  2021/11/11  2021  \n",
       "34245921  A Curriculum for Genomic Education of Molecula...    2021/7/7  2021  \n",
       "33960013  A Floating Mold Technique for the Programmed A...    2021/5/7  2021  \n",
       "34436483  A Mediation Approach to Discovering Causal Rel...   2021/8/14  2021  \n",
       "...                                                     ...         ...   ...  \n",
       "34582791  Whole-genome sequencing in diverse subjects id...   2021/9/27  2021  \n",
       "34216016  ZMYND11 variants are a novel cause of centrote...   2021/7/16  2021  \n",
       "33997407                 Zika Virus Congenital Syndrome and   2021/4/22  2021  \n",
       "34428202  miQC: An adaptive probabilistic framework for ...   2021/8/24  2021  \n",
       "33526006  tidyMicro: a pipeline for microbiome data anal...    2021/2/1  2021  \n",
       "\n",
       "[338 rows x 5 columns]"
      ]
     },
     "execution_count": 17,
     "metadata": {},
     "output_type": "execute_result"
    },
    {
     "data": {
      "application/javascript": [
       "\n",
       "            setTimeout(function() {\n",
       "                var nbb_cell_id = 17;\n",
       "                var nbb_unformatted_code = \"# sort the dictionary by title\\ndf = pd.DataFrame.from_dict(id_dict, orient=\\\"index\\\")\\n# The filter date in the search isn't necessarily represented in the issue date in the CSLJSON.\\ndf[\\\"year\\\"] = THIS_YEAR\\ndf.sort_values(by=\\\"title\\\", inplace=True)\\ndf\";\n",
       "                var nbb_formatted_code = \"# sort the dictionary by title\\ndf = pd.DataFrame.from_dict(id_dict, orient=\\\"index\\\")\\n# The filter date in the search isn't necessarily represented in the issue date in the CSLJSON.\\ndf[\\\"year\\\"] = THIS_YEAR\\ndf.sort_values(by=\\\"title\\\", inplace=True)\\ndf\";\n",
       "                var nbb_cells = Jupyter.notebook.get_cells();\n",
       "                for (var i = 0; i < nbb_cells.length; ++i) {\n",
       "                    if (nbb_cells[i].input_prompt_number == nbb_cell_id) {\n",
       "                        if (nbb_cells[i].get_text() == nbb_unformatted_code) {\n",
       "                             nbb_cells[i].set_text(nbb_formatted_code);\n",
       "                        }\n",
       "                        break;\n",
       "                    }\n",
       "                }\n",
       "            }, 500);\n",
       "            "
      ],
      "text/plain": [
       "<IPython.core.display.Javascript object>"
      ]
     },
     "metadata": {},
     "output_type": "display_data"
    }
   ],
   "source": [
    "# sort the dictionary by title\n",
    "df = pd.DataFrame.from_dict(id_dict, orient=\"index\")\n",
    "# The filter date in the search isn't necessarily represented in the issue date in the CSLJSON.\n",
    "df[\"year\"] = THIS_YEAR\n",
    "df.sort_values(by=\"title\", inplace=True)\n",
    "df"
   ]
  },
  {
   "cell_type": "code",
   "execution_count": 18,
   "id": "ceb54847",
   "metadata": {
    "scrolled": true
   },
   "outputs": [
    {
     "data": {
      "application/javascript": [
       "\n",
       "            setTimeout(function() {\n",
       "                var nbb_cell_id = 18;\n",
       "                var nbb_unformatted_code = \"@sleep_and_retry\\n@limits(calls=NCBI_RATE_LIMIT, period=60)\\ndef get_markdown(id: str) -> Dict[str, str]:\\n    \\\"\\\"\\\"\\n    This version gets a single cite per ID.\\n\\n    Manubot is also calling on NCBI, so rate-limiting applies.\\n    \\\"\\\"\\\"\\n    csl_path = os.path.abspath(\\\"manubot-style-title-case.csl\\\")\\n    csl_path = csl_path.replace(\\\"\\\\\\\\\\\", \\\"/\\\")\\n\\n    logging.info(f\\\"Creating cite reference for {id}\\\")\\n\\n    # Use manubot-cite to fetch the formatted citation\\n    args = [\\n        \\\"manubot\\\",\\n        \\\"cite\\\",\\n        \\\"--format=markdown\\\",\\n        f\\\"--csl={csl_path}\\\",\\n        id,\\n    ]\\n\\n    process = subprocess.run(\\n        args=args,\\n        encoding=\\\"utf-8\\\",\\n        stdout=subprocess.PIPE,\\n        stderr=subprocess.PIPE,\\n    )\\n\\n    assert process.returncode == 0, process.stderr\\n\\n    return {\\n        \\\"id\\\": id,\\n        \\\"cite\\\": process.stdout,\\n    }\";\n",
       "                var nbb_formatted_code = \"@sleep_and_retry\\n@limits(calls=NCBI_RATE_LIMIT, period=60)\\ndef get_markdown(id: str) -> Dict[str, str]:\\n    \\\"\\\"\\\"\\n    This version gets a single cite per ID.\\n\\n    Manubot is also calling on NCBI, so rate-limiting applies.\\n    \\\"\\\"\\\"\\n    csl_path = os.path.abspath(\\\"manubot-style-title-case.csl\\\")\\n    csl_path = csl_path.replace(\\\"\\\\\\\\\\\", \\\"/\\\")\\n\\n    logging.info(f\\\"Creating cite reference for {id}\\\")\\n\\n    # Use manubot-cite to fetch the formatted citation\\n    args = [\\n        \\\"manubot\\\",\\n        \\\"cite\\\",\\n        \\\"--format=markdown\\\",\\n        f\\\"--csl={csl_path}\\\",\\n        id,\\n    ]\\n\\n    process = subprocess.run(\\n        args=args,\\n        encoding=\\\"utf-8\\\",\\n        stdout=subprocess.PIPE,\\n        stderr=subprocess.PIPE,\\n    )\\n\\n    assert process.returncode == 0, process.stderr\\n\\n    return {\\n        \\\"id\\\": id,\\n        \\\"cite\\\": process.stdout,\\n    }\";\n",
       "                var nbb_cells = Jupyter.notebook.get_cells();\n",
       "                for (var i = 0; i < nbb_cells.length; ++i) {\n",
       "                    if (nbb_cells[i].input_prompt_number == nbb_cell_id) {\n",
       "                        if (nbb_cells[i].get_text() == nbb_unformatted_code) {\n",
       "                             nbb_cells[i].set_text(nbb_formatted_code);\n",
       "                        }\n",
       "                        break;\n",
       "                    }\n",
       "                }\n",
       "            }, 500);\n",
       "            "
      ],
      "text/plain": [
       "<IPython.core.display.Javascript object>"
      ]
     },
     "metadata": {},
     "output_type": "display_data"
    }
   ],
   "source": [
    "@sleep_and_retry\n",
    "@limits(calls=NCBI_RATE_LIMIT, period=60)\n",
    "def get_markdown(id: str) -> Dict[str, str]:\n",
    "    \"\"\"\n",
    "    This version gets a single cite per ID.\n",
    "\n",
    "    Manubot is also calling on NCBI, so rate-limiting applies.\n",
    "    \"\"\"\n",
    "    csl_path = os.path.abspath(\"manubot-style-title-case.csl\")\n",
    "    csl_path = csl_path.replace(\"\\\\\", \"/\")\n",
    "\n",
    "    logging.info(f\"Creating cite reference for {id}\")\n",
    "\n",
    "    # Use manubot-cite to fetch the formatted citation\n",
    "    args = [\n",
    "        \"manubot\",\n",
    "        \"cite\",\n",
    "        \"--format=markdown\",\n",
    "        f\"--csl={csl_path}\",\n",
    "        id,\n",
    "    ]\n",
    "\n",
    "    process = subprocess.run(\n",
    "        args=args,\n",
    "        encoding=\"utf-8\",\n",
    "        stdout=subprocess.PIPE,\n",
    "        stderr=subprocess.PIPE,\n",
    "    )\n",
    "\n",
    "    assert process.returncode == 0, process.stderr\n",
    "\n",
    "    return {\n",
    "        \"id\": id,\n",
    "        \"cite\": process.stdout,\n",
    "    }"
   ]
  },
  {
   "cell_type": "code",
   "execution_count": 19,
   "id": "9dd20020",
   "metadata": {
    "scrolled": false
   },
   "outputs": [
    {
     "data": {
      "application/javascript": [
       "\n",
       "            setTimeout(function() {\n",
       "                var nbb_cell_id = 19;\n",
       "                var nbb_unformatted_code = \"# create a list of pubmed ids for manubot-cite\\nids = [f\\\"pubmed:{id}\\\" for id in df.index.to_list()]\\n\\n# get cites, admittedly the long way round.\\nmy_list = []\\nfor id in df.index.to_list():\\n    cache_key = f\\\"md-{id}\\\"\\n\\n    # look it up in the cache\\n    if not cache.get(cache_key):\\n        md = get_markdown(id)\\n        cache.set(cache_key, md, expire=CACHE_EXPIRE_SECONDS)\\n    else:\\n        md = cache[cache_key]\\n\\n    my_list.append(md)\";\n",
       "                var nbb_formatted_code = \"# create a list of pubmed ids for manubot-cite\\nids = [f\\\"pubmed:{id}\\\" for id in df.index.to_list()]\\n\\n# get cites, admittedly the long way round.\\nmy_list = []\\nfor id in df.index.to_list():\\n    cache_key = f\\\"md-{id}\\\"\\n\\n    # look it up in the cache\\n    if not cache.get(cache_key):\\n        md = get_markdown(id)\\n        cache.set(cache_key, md, expire=CACHE_EXPIRE_SECONDS)\\n    else:\\n        md = cache[cache_key]\\n\\n    my_list.append(md)\";\n",
       "                var nbb_cells = Jupyter.notebook.get_cells();\n",
       "                for (var i = 0; i < nbb_cells.length; ++i) {\n",
       "                    if (nbb_cells[i].input_prompt_number == nbb_cell_id) {\n",
       "                        if (nbb_cells[i].get_text() == nbb_unformatted_code) {\n",
       "                             nbb_cells[i].set_text(nbb_formatted_code);\n",
       "                        }\n",
       "                        break;\n",
       "                    }\n",
       "                }\n",
       "            }, 500);\n",
       "            "
      ],
      "text/plain": [
       "<IPython.core.display.Javascript object>"
      ]
     },
     "metadata": {},
     "output_type": "display_data"
    }
   ],
   "source": [
    "# create a list of pubmed ids for manubot-cite\n",
    "ids = [f\"pubmed:{id}\" for id in df.index.to_list()]\n",
    "\n",
    "# get cites, admittedly the long way round.\n",
    "my_list = []\n",
    "for id in df.index.to_list():\n",
    "    cache_key = f\"md-{id}\"\n",
    "\n",
    "    # look it up in the cache\n",
    "    if not cache.get(cache_key):\n",
    "        md = get_markdown(id)\n",
    "        cache.set(cache_key, md, expire=CACHE_EXPIRE_SECONDS)\n",
    "    else:\n",
    "        md = cache[cache_key]\n",
    "\n",
    "    my_list.append(md)"
   ]
  },
  {
   "cell_type": "markdown",
   "id": "7bded28f",
   "metadata": {},
   "source": [
    "Build up the markdown"
   ]
  },
  {
   "cell_type": "code",
   "execution_count": 20,
   "id": "8e75c5a4",
   "metadata": {},
   "outputs": [
    {
     "data": {
      "application/javascript": [
       "\n",
       "            setTimeout(function() {\n",
       "                var nbb_cell_id = 20;\n",
       "                var nbb_unformatted_code = \"image_path = os.path.abspath(os.path.join(BUILD_FOLDER, \\\"author_items.png\\\"))\\n\\n# Windows paths. Switch the slashes over if windows\\nimage_path = image_path.replace(\\\"\\\\\\\\\\\", \\\"/\\\")\\n\\nwith open(os.path.join(BUILD_FOLDER, \\\"cites.md\\\"), \\\"w\\\", encoding=\\\"utf-8\\\") as f:\\n    f.write(f\\\"# Center for Health AI, Published Items {THIS_YEAR}\\\\n\\\\n\\\")\\n\\n    f.write(f\\\"## Author Item Counts\\\\n\\\\n\\\")\\n    f.write(f\\\"![]({image_path})\\\\n\\\\n\\\")\\n\\n    f.write(f\\\"## Published Items Citations\\\\n\\\\n\\\")\\n\\n    # In the custom CSL, I don't include the citation number.\\n    # This is just a numbered list now.\\n    for i in range(len(my_list)):\\n        rec = my_list[i]\\n        f.write(f\\\"{i+1}. {rec['cite']}\\\")\\n        f.write(\\\"\\\\n\\\")\";\n",
       "                var nbb_formatted_code = \"image_path = os.path.abspath(os.path.join(BUILD_FOLDER, \\\"author_items.png\\\"))\\n\\n# Windows paths. Switch the slashes over if windows\\nimage_path = image_path.replace(\\\"\\\\\\\\\\\", \\\"/\\\")\\n\\nwith open(os.path.join(BUILD_FOLDER, \\\"cites.md\\\"), \\\"w\\\", encoding=\\\"utf-8\\\") as f:\\n    f.write(f\\\"# Center for Health AI, Published Items {THIS_YEAR}\\\\n\\\\n\\\")\\n\\n    f.write(f\\\"## Author Item Counts\\\\n\\\\n\\\")\\n    f.write(f\\\"![]({image_path})\\\\n\\\\n\\\")\\n\\n    f.write(f\\\"## Published Items Citations\\\\n\\\\n\\\")\\n\\n    # In the custom CSL, I don't include the citation number.\\n    # This is just a numbered list now.\\n    for i in range(len(my_list)):\\n        rec = my_list[i]\\n        f.write(f\\\"{i+1}. {rec['cite']}\\\")\\n        f.write(\\\"\\\\n\\\")\";\n",
       "                var nbb_cells = Jupyter.notebook.get_cells();\n",
       "                for (var i = 0; i < nbb_cells.length; ++i) {\n",
       "                    if (nbb_cells[i].input_prompt_number == nbb_cell_id) {\n",
       "                        if (nbb_cells[i].get_text() == nbb_unformatted_code) {\n",
       "                             nbb_cells[i].set_text(nbb_formatted_code);\n",
       "                        }\n",
       "                        break;\n",
       "                    }\n",
       "                }\n",
       "            }, 500);\n",
       "            "
      ],
      "text/plain": [
       "<IPython.core.display.Javascript object>"
      ]
     },
     "metadata": {},
     "output_type": "display_data"
    }
   ],
   "source": [
    "image_path = os.path.abspath(os.path.join(BUILD_FOLDER, \"author_items.png\"))\n",
    "\n",
    "# Windows paths. Switch the slashes over if windows\n",
    "image_path = image_path.replace(\"\\\\\", \"/\")\n",
    "\n",
    "with open(os.path.join(BUILD_FOLDER, \"cites.md\"), \"w\", encoding=\"utf-8\") as f:\n",
    "    f.write(f\"# Center for Health AI, Published Items {THIS_YEAR}\\n\\n\")\n",
    "\n",
    "    f.write(f\"## Author Item Counts\\n\\n\")\n",
    "    f.write(f\"![]({image_path})\\n\\n\")\n",
    "\n",
    "    f.write(f\"## Published Items Citations\\n\\n\")\n",
    "\n",
    "    # In the custom CSL, I don't include the citation number.\n",
    "    # This is just a numbered list now.\n",
    "    for i in range(len(my_list)):\n",
    "        rec = my_list[i]\n",
    "        f.write(f\"{i+1}. {rec['cite']}\")\n",
    "        f.write(\"\\n\")"
   ]
  },
  {
   "cell_type": "code",
   "execution_count": 21,
   "id": "7468e624",
   "metadata": {},
   "outputs": [
    {
     "data": {
      "application/javascript": [
       "\n",
       "            setTimeout(function() {\n",
       "                var nbb_cell_id = 21;\n",
       "                var nbb_unformatted_code = \"# convert markdown to Microsoft Word\\nargs = [\\n    \\\"pandoc\\\",\\n    \\\"-s\\\",\\n    os.path.join(BUILD_FOLDER, \\\"cites.md\\\"),\\n    \\\"-o\\\",\\n    os.path.join(BUILD_FOLDER, \\\"cites.docx\\\"),\\n]\\n\\nprocess = subprocess.run(\\n    args=args,\\n    encoding=\\\"utf-8\\\",\\n    stdout=subprocess.PIPE,\\n    stderr=subprocess.PIPE,\\n)\\n\\nassert process.returncode == 0\";\n",
       "                var nbb_formatted_code = \"# convert markdown to Microsoft Word\\nargs = [\\n    \\\"pandoc\\\",\\n    \\\"-s\\\",\\n    os.path.join(BUILD_FOLDER, \\\"cites.md\\\"),\\n    \\\"-o\\\",\\n    os.path.join(BUILD_FOLDER, \\\"cites.docx\\\"),\\n]\\n\\nprocess = subprocess.run(\\n    args=args,\\n    encoding=\\\"utf-8\\\",\\n    stdout=subprocess.PIPE,\\n    stderr=subprocess.PIPE,\\n)\\n\\nassert process.returncode == 0\";\n",
       "                var nbb_cells = Jupyter.notebook.get_cells();\n",
       "                for (var i = 0; i < nbb_cells.length; ++i) {\n",
       "                    if (nbb_cells[i].input_prompt_number == nbb_cell_id) {\n",
       "                        if (nbb_cells[i].get_text() == nbb_unformatted_code) {\n",
       "                             nbb_cells[i].set_text(nbb_formatted_code);\n",
       "                        }\n",
       "                        break;\n",
       "                    }\n",
       "                }\n",
       "            }, 500);\n",
       "            "
      ],
      "text/plain": [
       "<IPython.core.display.Javascript object>"
      ]
     },
     "metadata": {},
     "output_type": "display_data"
    }
   ],
   "source": [
    "# convert markdown to Microsoft Word\n",
    "args = [\n",
    "    \"pandoc\",\n",
    "    \"-s\",\n",
    "    os.path.join(BUILD_FOLDER, \"cites.md\"),\n",
    "    \"-o\",\n",
    "    os.path.join(BUILD_FOLDER, \"cites.docx\"),\n",
    "]\n",
    "\n",
    "process = subprocess.run(\n",
    "    args=args,\n",
    "    encoding=\"utf-8\",\n",
    "    stdout=subprocess.PIPE,\n",
    "    stderr=subprocess.PIPE,\n",
    ")\n",
    "\n",
    "assert process.returncode == 0"
   ]
  },
  {
   "cell_type": "code",
   "execution_count": 22,
   "id": "3758018e",
   "metadata": {},
   "outputs": [
    {
     "data": {
      "application/javascript": [
       "\n",
       "            setTimeout(function() {\n",
       "                var nbb_cell_id = 22;\n",
       "                var nbb_unformatted_code = \"cache.close()\";\n",
       "                var nbb_formatted_code = \"cache.close()\";\n",
       "                var nbb_cells = Jupyter.notebook.get_cells();\n",
       "                for (var i = 0; i < nbb_cells.length; ++i) {\n",
       "                    if (nbb_cells[i].input_prompt_number == nbb_cell_id) {\n",
       "                        if (nbb_cells[i].get_text() == nbb_unformatted_code) {\n",
       "                             nbb_cells[i].set_text(nbb_formatted_code);\n",
       "                        }\n",
       "                        break;\n",
       "                    }\n",
       "                }\n",
       "            }, 500);\n",
       "            "
      ],
      "text/plain": [
       "<IPython.core.display.Javascript object>"
      ]
     },
     "metadata": {},
     "output_type": "display_data"
    }
   ],
   "source": [
    "cache.close()"
   ]
  },
  {
   "cell_type": "code",
   "execution_count": null,
   "id": "61e4e229",
   "metadata": {},
   "outputs": [],
   "source": []
  }
 ],
 "metadata": {
  "celltoolbar": "Tags",
  "kernelspec": {
   "display_name": "Python 3 (ipykernel)",
   "language": "python",
   "name": "python3"
  },
  "language_info": {
   "codemirror_mode": {
    "name": "ipython",
    "version": 3
   },
   "file_extension": ".py",
   "mimetype": "text/x-python",
   "name": "python",
   "nbconvert_exporter": "python",
   "pygments_lexer": "ipython3",
   "version": "3.8.12"
  }
 },
 "nbformat": 4,
 "nbformat_minor": 5
}
