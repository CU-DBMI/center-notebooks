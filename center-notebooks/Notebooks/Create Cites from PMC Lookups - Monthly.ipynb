{
 "cells": [
  {
   "cell_type": "markdown",
   "id": "f2747125",
   "metadata": {},
   "source": [
    "# Published Items for the Center for Health AI - Monthly\n",
    "\n",
    "This takes a list of authors and searches for any items published for the provided month, grabs the proper citation from manubot-cite, and creates a markdown and MS Word document.\n",
    "\n",
    "This isn't a replacement for a proper data pipeline. Just a demo to see if the selection logic is sound.\n",
    "\n",
    "- 2021/12/20 First demo (ST)\n",
    "- 2022/01/18 Fetch pubmed instead of PMC ids (ST)\n",
    "- 2022/01/19 Added caching to help dev go faster (ST)\n",
    "- 2022/06/24 Changes for monthly counts (DB)"
   ]
  },
  {
   "cell_type": "code",
   "execution_count": null,
   "id": "e9ac9ebc",
   "metadata": {},
   "outputs": [],
   "source": [
    "import calendar\n",
    "import json\n",
    "import logging\n",
    "import os\n",
    "import subprocess\n",
    "from datetime import date, datetime\n",
    "from typing import Dict, List, Union\n",
    "\n",
    "import manubot\n",
    "import pandas as pd\n",
    "import pandoc\n",
    "import requests\n",
    "from diskcache import Cache\n",
    "from manubot.cite.citations import Citations\n",
    "from ratelimit import RateLimitException, limits, sleep_and_retry\n",
    "\n",
    "log = logging.getLogger(__name__)\n",
    "logging.basicConfig(level=logging.INFO)\n",
    "\n",
    "BUILD_FOLDER = \"_build\"\n",
    "\n",
    "cache = Cache(BUILD_FOLDER)"
   ]
  },
  {
   "cell_type": "code",
   "execution_count": null,
   "id": "e0d0aa77",
   "metadata": {
    "tags": [
     "parameters"
    ]
   },
   "outputs": [],
   "source": [
    "# Papermill Parameters Cell\n",
    "# These can be used as arguments via papermill\n",
    "\n",
    "# Set a year for lookups\n",
    "THIS_YEAR = 2021\n",
    "\n",
    "# Set a month for lookups\n",
    "THIS_MONTH = 6\n",
    "\n",
    "# Optional NCBI API key\n",
    "API_KEY = \"\"\n",
    "\n",
    "# NCBI API email\n",
    "API_EMAIL = \"dave.bunten@cuanschutz.edu\"\n",
    "\n",
    "# For testing, set a sample size between 0 and 1.0\n",
    "SAMPLE_FRACTION = 1.0\n",
    "\n",
    "# Cache expiration in seconds\n",
    "CACHE_EXPIRE_SECONDS = 60 * 60 * 24  # seconds * minutes * hours = 1 day"
   ]
  },
  {
   "cell_type": "code",
   "execution_count": null,
   "id": "e2220454-3122-4fa8-81f8-28a9df3675b5",
   "metadata": {},
   "outputs": [],
   "source": [
    "BUILD_MARKDOWN_FILENAME = \"cites_monthly.md\"\n",
    "BUILD_AUTHOR_COUNT_HBAR_CHART = \"author_items_monthly.png\""
   ]
  },
  {
   "cell_type": "code",
   "execution_count": null,
   "id": "9dbc56cb",
   "metadata": {},
   "outputs": [],
   "source": [
    "# if we don't have an API_KEY from parameters\n",
    "# and an environment variable is set for this\n",
    "# set the API_KEY to the environment var\n",
    "if not API_KEY and os.environ.get(\"NCBI_API_KEY\", \"\"):\n",
    "    API_KEY = os.environ[\"NCBI_API_KEY\"]\n",
    "\n",
    "# set rate limit based on whether there's an API_KEY\n",
    "# based on NCBI requirements\n",
    "if API_KEY:\n",
    "    NCBI_RATE_LIMIT = 10\n",
    "else:\n",
    "    NCBI_RATE_LIMIT = 3\n",
    "\n",
    "NCBI_RATE_LIMIT"
   ]
  },
  {
   "cell_type": "code",
   "execution_count": null,
   "id": "950f58a2-4e9c-4c30-812b-e0a782d19cf0",
   "metadata": {},
   "outputs": [],
   "source": [
    "# create mindate and maxdate based on provided year and month numbers\n",
    "MONTH_NAME = datetime.strptime(str(THIS_MONTH), \"%m\").strftime(\"%B\")\n",
    "_, num_month_days = calendar.monthrange(THIS_YEAR, THIS_MONTH)\n",
    "MINDATE = date(THIS_YEAR, THIS_MONTH, 1).strftime(\"%Y/%m/%d\")\n",
    "MAXDATE = date(THIS_YEAR, THIS_MONTH, num_month_days).strftime(\"%Y/%m/%d\")\n",
    "print(\"Month range for %s %s: %s - %s\" % (MONTH_NAME, THIS_YEAR, MINDATE, MAXDATE))"
   ]
  },
  {
   "cell_type": "code",
   "execution_count": null,
   "id": "0977e046",
   "metadata": {},
   "outputs": [],
   "source": [
    "# will write out to a folder\n",
    "if not os.path.exists(BUILD_FOLDER):\n",
    "    os.makedirs(BUILD_FOLDER)"
   ]
  },
  {
   "cell_type": "code",
   "execution_count": null,
   "id": "07f5e6e7",
   "metadata": {},
   "outputs": [],
   "source": [
    "# Read in the authors and their specific search terms\n",
    "authors_df = pd.read_json(\"authors.json\", orient=\"index\")\n",
    "authors_df"
   ]
  },
  {
   "cell_type": "code",
   "execution_count": null,
   "id": "01db61e7",
   "metadata": {},
   "outputs": [],
   "source": [
    "# for testing it's nice to take a sample\n",
    "if 0 < SAMPLE_FRACTION < 1.0:\n",
    "    authors_df = authors_df.sample(frac=SAMPLE_FRACTION)"
   ]
  },
  {
   "cell_type": "code",
   "execution_count": null,
   "id": "3335f29f",
   "metadata": {},
   "outputs": [],
   "source": [
    "# convert into a dict\n",
    "author_records = authors_df.to_dict(\"index\")\n",
    "author_records"
   ]
  },
  {
   "cell_type": "code",
   "execution_count": null,
   "id": "ab2df6e3",
   "metadata": {},
   "outputs": [],
   "source": [
    "# modify search terms, e.g., contributors are filtered by CU or CCPM\n",
    "for k, v in author_records.items():\n",
    "\n",
    "    # Restrict contributors to CU items\n",
    "    if v[\"author_type\"] == \"contributor\":\n",
    "        v[\n",
    "            \"search_term\"\n",
    "        ] = f\"({v['search_term']} AND ((\\\"University of Colorado\\\") OR (\\\"Colorado Center for Personalized Medicine\\\")))\"\n",
    "\n",
    "author_records"
   ]
  },
  {
   "cell_type": "code",
   "execution_count": null,
   "id": "b531499e",
   "metadata": {},
   "outputs": [],
   "source": [
    "@sleep_and_retry\n",
    "@limits(calls=NCBI_RATE_LIMIT, period=60)\n",
    "def search_ncbi(\n",
    "    term: str,\n",
    "    mindate: str,\n",
    "    maxdate: str,\n",
    "    api_key: str = None,\n",
    "    email: str = API_EMAIL,\n",
    ") -> List[str]:\n",
    "    \"\"\"\n",
    "    Look up IDs given a search term,\n",
    "    a beginning year, and an optional API key.\n",
    "\n",
    "    NCBI asks that we use an API key,\n",
    "    which increases API calls to 10/minute, instead of 3/minute.\n",
    "\n",
    "    Returns a list of IDs\n",
    "    \"\"\"\n",
    "    ids = []\n",
    "\n",
    "    params = {\n",
    "        \"term\": term,\n",
    "        \"format\": \"pmid\",\n",
    "        \"tool\": \"CUAnschutz-Center_for_Health_AI-DEV\",\n",
    "        \"email\": email,\n",
    "        \"format\": \"json\",\n",
    "        \"retmax\": 100,\n",
    "        \"retstart\": 0,\n",
    "        # note: date format is in yyyy/mm/dd\n",
    "        \"mindate\": mindate,\n",
    "        \"maxdate\": maxdate,\n",
    "    }\n",
    "\n",
    "    if api_key:\n",
    "        params[\"api_key\"] = api_key\n",
    "\n",
    "    # page through the results until there are no more ids\n",
    "    while True:\n",
    "        r = requests.get(\n",
    "            \"https://eutils.ncbi.nlm.nih.gov/entrez/eutils/esearch.fcgi\", params\n",
    "        )\n",
    "        if r.status_code == 200:\n",
    "            result = r.json()[\"esearchresult\"]\n",
    "        else:\n",
    "            logging.error(f\"NCBI returned a status code of {r.status_code}.\")\n",
    "            break\n",
    "\n",
    "        if len(result[\"idlist\"]) == 0:\n",
    "            # no more IDs\n",
    "            break\n",
    "        else:\n",
    "            # append the IDs to the results...\n",
    "            ids = ids + result[\"idlist\"]\n",
    "            # and move the start chunk up by the size of retmax\n",
    "            params[\"retstart\"] += params[\"retmax\"]\n",
    "\n",
    "    return ids"
   ]
  },
  {
   "cell_type": "code",
   "execution_count": null,
   "id": "4fcc3a02",
   "metadata": {
    "scrolled": true
   },
   "outputs": [],
   "source": [
    "# I would like to do this in parallel, but the deal with NCBI is we agree not to do that\n",
    "id_dict = {}\n",
    "\n",
    "for author, v in author_records.items():\n",
    "\n",
    "    cache_key = f\"author-{author}\"\n",
    "    if not cache.get(cache_key):\n",
    "        logging.info(f\"Looking up `{author}` using {v['search_term']}\")\n",
    "        ids = search_ncbi(\n",
    "            term=v[\"search_term\"], mindate=MINDATE, maxdate=MAXDATE, api_key=API_KEY\n",
    "        )\n",
    "        cache.set(cache_key, ids, expire=CACHE_EXPIRE_SECONDS)\n",
    "    else:\n",
    "        ids = cache[cache_key]\n",
    "\n",
    "    for id in ids:\n",
    "        if not id_dict.get(id):\n",
    "            # create an empty nested dict\n",
    "            id_dict[id] = {\"authors\": []}\n",
    "        id_dict[id][\"authors\"].append(author)"
   ]
  },
  {
   "cell_type": "markdown",
   "id": "97859ccb",
   "metadata": {},
   "source": [
    "How many items found?"
   ]
  },
  {
   "cell_type": "code",
   "execution_count": null,
   "id": "88fbe381",
   "metadata": {},
   "outputs": [],
   "source": [
    "len(id_dict)"
   ]
  },
  {
   "cell_type": "code",
   "execution_count": null,
   "id": "0f125349",
   "metadata": {},
   "outputs": [],
   "source": [
    "# useful to get a handle on the shape of the data\n",
    "doc_count = {}\n",
    "for k, v in id_dict.items():\n",
    "    for author in v[\"authors\"]:\n",
    "        if not doc_count.get(author):\n",
    "            doc_count[author] = 0\n",
    "        doc_count[author] += 1\n",
    "\n",
    "authors_df[\"doc_count\"] = pd.Series(doc_count)\n",
    "fig = (\n",
    "    authors_df.sort_index()\n",
    "    .sort_values(by=[\"doc_count\"], ascending=True, na_position=\"first\")\n",
    "    .plot(kind=\"barh\", figsize=(14, 12), legend=False, fontsize=14)\n",
    "    .get_figure()\n",
    ")\n",
    "fig.savefig(os.path.join(BUILD_FOLDER, BUILD_AUTHOR_COUNT_HBAR_CHART))"
   ]
  },
  {
   "cell_type": "code",
   "execution_count": null,
   "id": "de429055",
   "metadata": {
    "scrolled": true
   },
   "outputs": [],
   "source": [
    "@sleep_and_retry\n",
    "@limits(calls=NCBI_RATE_LIMIT, period=60)\n",
    "def fetch_csljson(id: str) -> Dict:\n",
    "    \"\"\"\n",
    "    Given an ID, fetch the csljson using manubot, which is of course using NCBI, so rate limited.\n",
    "    \"\"\"\n",
    "    logging.info(f\"Fetching csljson for {id}\")\n",
    "    citations = Citations([id])\n",
    "    return citations.get_csl_items()[0]"
   ]
  },
  {
   "cell_type": "code",
   "execution_count": null,
   "id": "e3d1ee07",
   "metadata": {
    "scrolled": true
   },
   "outputs": [],
   "source": [
    "# Retrive the csljson from manubot\n",
    "keys = [k for k in id_dict]\n",
    "\n",
    "cites = []\n",
    "for key in keys:\n",
    "    cache_key = f\"csljson-{key}\"\n",
    "\n",
    "    if not cache.get(cache_key):\n",
    "        csljson = fetch_csljson(key)\n",
    "        cache.set(cache_key, csljson, expire=CACHE_EXPIRE_SECONDS)\n",
    "    else:\n",
    "        csljson = cache[cache_key]\n",
    "\n",
    "    cites.append(csljson)"
   ]
  },
  {
   "cell_type": "code",
   "execution_count": null,
   "id": "d11fd8bb",
   "metadata": {},
   "outputs": [],
   "source": [
    "# I'm going to want to sort these later.\n",
    "for rec in cites:\n",
    "    key = rec[\"PMID\"]\n",
    "\n",
    "    id_dict[key][\"csljson\"] = rec\n",
    "    id_dict[key][\"title\"] = rec[\"title\"].strip()\n",
    "\n",
    "    # all this for the date!\n",
    "    if rec.get(\"issued\"):\n",
    "        issued_date_parts = rec[\"issued\"][\"date-parts\"][0]\n",
    "        date_str = str(issued_date_parts[0])\n",
    "        try:\n",
    "            date_str += f\"/{issued_date_parts[1]}\"\n",
    "            try:\n",
    "                date_str += f\"/{issued_date_parts[2]}\"\n",
    "            except:\n",
    "                pass\n",
    "        except:\n",
    "            pass\n",
    "\n",
    "        id_dict[key][\"issued_date\"] = date_str"
   ]
  },
  {
   "cell_type": "code",
   "execution_count": null,
   "id": "1a56b180",
   "metadata": {
    "scrolled": true
   },
   "outputs": [],
   "source": [
    "# sort the dictionary by title\n",
    "df = pd.DataFrame.from_dict(id_dict, orient=\"index\")\n",
    "# The filter date in the search isn't necessarily represented in the issue date in the CSLJSON.\n",
    "df[\"year\"] = THIS_YEAR\n",
    "df[\"month\"] = THIS_MONTH\n",
    "df.sort_values(by=\"title\", inplace=True)\n",
    "df"
   ]
  },
  {
   "cell_type": "code",
   "execution_count": null,
   "id": "ceb54847",
   "metadata": {
    "scrolled": true
   },
   "outputs": [],
   "source": [
    "@sleep_and_retry\n",
    "@limits(calls=NCBI_RATE_LIMIT, period=60)\n",
    "def get_markdown(id: str) -> Dict[str, str]:\n",
    "    \"\"\"\n",
    "    This version gets a single cite per ID.\n",
    "\n",
    "    Manubot is also calling on NCBI, so rate-limiting applies.\n",
    "    \"\"\"\n",
    "    csl_path = os.path.abspath(\"manubot-style-title-case.csl\")\n",
    "    csl_path = csl_path.replace(\"\\\\\", \"/\")\n",
    "\n",
    "    logging.info(f\"Creating cite reference for {id}\")\n",
    "\n",
    "    # Use manubot-cite to fetch the formatted citation\n",
    "    args = [\n",
    "        \"manubot\",\n",
    "        \"cite\",\n",
    "        \"--format=markdown\",\n",
    "        f\"--csl={csl_path}\",\n",
    "        id,\n",
    "    ]\n",
    "\n",
    "    process = subprocess.run(\n",
    "        args=args,\n",
    "        encoding=\"utf-8\",\n",
    "        stdout=subprocess.PIPE,\n",
    "        stderr=subprocess.PIPE,\n",
    "    )\n",
    "\n",
    "    assert process.returncode == 0, process.stderr\n",
    "\n",
    "    return {\n",
    "        \"id\": id,\n",
    "        \"cite\": process.stdout,\n",
    "    }"
   ]
  },
  {
   "cell_type": "code",
   "execution_count": null,
   "id": "9dd20020",
   "metadata": {},
   "outputs": [],
   "source": [
    "# create a list of pubmed ids for manubot-cite\n",
    "ids = [f\"pubmed:{id}\" for id in df.index.to_list()]\n",
    "\n",
    "# get cites, admittedly the long way round.\n",
    "my_list = []\n",
    "for id in df.index.to_list():\n",
    "    cache_key = f\"md-{id}\"\n",
    "\n",
    "    # look it up in the cache\n",
    "    if not cache.get(cache_key):\n",
    "        md = get_markdown(id)\n",
    "        cache.set(cache_key, md, expire=CACHE_EXPIRE_SECONDS)\n",
    "    else:\n",
    "        md = cache[cache_key]\n",
    "\n",
    "    my_list.append(md)"
   ]
  },
  {
   "cell_type": "markdown",
   "id": "7bded28f",
   "metadata": {},
   "source": [
    "Build up the markdown"
   ]
  },
  {
   "cell_type": "code",
   "execution_count": null,
   "id": "8e75c5a4",
   "metadata": {},
   "outputs": [],
   "source": [
    "image_path = os.path.abspath(os.path.join(BUILD_FOLDER, BUILD_AUTHOR_COUNT_HBAR_CHART))\n",
    "\n",
    "# Windows paths. Switch the slashes over if windows\n",
    "image_path = image_path.replace(\"\\\\\", \"/\")\n",
    "\n",
    "with open(\n",
    "    os.path.join(BUILD_FOLDER, BUILD_MARKDOWN_FILENAME), \"w\", encoding=\"utf-8\"\n",
    ") as f:\n",
    "    f.write(f\"# Center for Health AI, Published Items • _{MONTH_NAME} {THIS_YEAR}_\\n\\n\")\n",
    "\n",
    "    f.write(f\"## Author Item Counts\\n\\n\")\n",
    "    f.write(\n",
    "        f'![Horizontal bar chart showing author names and their citation count.]({image_path} \"Author Citation Count\")\\n\\n'\n",
    "    )\n",
    "\n",
    "    f.write(f\"## Published Items Citations\\n\\n\")\n",
    "\n",
    "    # In the custom CSL, I don't include the citation number.\n",
    "    # This is just a numbered list now.\n",
    "    for i in range(len(my_list)):\n",
    "        rec = my_list[i]\n",
    "        f.write(f\"{i+1}. {rec['cite']}\")\n",
    "        f.write(\"\\n\")"
   ]
  },
  {
   "cell_type": "code",
   "execution_count": null,
   "id": "7468e624",
   "metadata": {},
   "outputs": [],
   "source": [
    "# convert markdown to Microsoft Word\n",
    "args = [\n",
    "    \"pandoc\",\n",
    "    \"-s\",\n",
    "    os.path.join(BUILD_FOLDER, BUILD_MARKDOWN_FILENAME),\n",
    "    \"-o\",\n",
    "    os.path.join(BUILD_FOLDER, BUILD_MARKDOWN_FILENAME.replace(\".md\", \".docx\")),\n",
    "]\n",
    "\n",
    "process = subprocess.run(\n",
    "    args=args,\n",
    "    encoding=\"utf-8\",\n",
    "    stdout=subprocess.PIPE,\n",
    "    stderr=subprocess.PIPE,\n",
    ")\n",
    "\n",
    "assert process.returncode == 0"
   ]
  },
  {
   "cell_type": "code",
   "execution_count": null,
   "id": "3758018e",
   "metadata": {},
   "outputs": [],
   "source": [
    "cache.close()"
   ]
  }
 ],
 "metadata": {
  "celltoolbar": "Tags",
  "kernelspec": {
   "display_name": "Python 3 (ipykernel)",
   "language": "python",
   "name": "python3"
  },
  "language_info": {
   "codemirror_mode": {
    "name": "ipython",
    "version": 3
   },
   "file_extension": ".py",
   "mimetype": "text/x-python",
   "name": "python",
   "nbconvert_exporter": "python",
   "pygments_lexer": "ipython3",
   "version": "3.9.12"
  }
 },
 "nbformat": 4,
 "nbformat_minor": 5
}
