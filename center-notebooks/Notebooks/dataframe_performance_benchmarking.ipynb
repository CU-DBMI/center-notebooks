{
 "cells": [
  {
   "cell_type": "markdown",
   "id": "67826fa0-078a-4eec-9259-66282bea8d47",
   "metadata": {},
   "source": [
    "# Dataframe Performance Benchmarking\n",
    "\n",
    "Comparing various types of dataframes for performance. Focus is on pandas-compatibile API's for cross-utility. \n",
    "\n",
    "## Candidates\n",
    "\n",
    "- [Pandas](https://pandas.pydata.org/docs/index.html)\n",
    "- [Modin](https://modin.readthedocs.io/en/stable/)\n",
    "- [Polars](https://pola-rs.github.io/polars-book/user-guide/index.html)\n",
    "- [Mars](https://docs.pymars.org/en/latest/index.html)\n",
    "- [Dask Dataframe](https://docs.dask.org/en/stable/dataframe.html)"
   ]
  },
  {
   "cell_type": "markdown",
   "id": "01e59d7b-72b4-4751-8f1c-05c66121eb88",
   "metadata": {},
   "source": [
    "## Scaffold"
   ]
  },
  {
   "cell_type": "code",
   "execution_count": null,
   "id": "33eaadbe-0f43-4c8b-a8f0-cef054d14589",
   "metadata": {},
   "outputs": [],
   "source": [
    "import math\n",
    "import os\n",
    "import timeit\n",
    "import urllib.request\n",
    "\n",
    "import dask.dataframe as dask_dataframe\n",
    "import mars.dataframe as mars_dataframe\n",
    "import modin.pandas as modin_pandas\n",
    "import numpy as np\n",
    "import pandas as pandas\n",
    "import polars as polars\n",
    "from distributed import Client"
   ]
  },
  {
   "cell_type": "code",
   "execution_count": null,
   "id": "ce174a31-5bd9-4e8e-af49-ced889fe3638",
   "metadata": {},
   "outputs": [],
   "source": [
    "# show relevant python versions\n",
    "!pip freeze | egrep \"pandas|modin|polars|pymars|dask\""
   ]
  },
  {
   "cell_type": "code",
   "execution_count": null,
   "id": "0dc1a970-db8f-4500-81db-6a27cddb0635",
   "metadata": {},
   "outputs": [],
   "source": [
    "# some globals that we'll use through this notebook\n",
    "data_dir = \"./data\"\n",
    "data_file = f\"{data_dir}/sample.csv\""
   ]
  },
  {
   "cell_type": "code",
   "execution_count": null,
   "id": "c9145ef9-5a14-4388-bce3-0d7ff726328a",
   "metadata": {},
   "outputs": [],
   "source": [
    "# create a data dir if it doesn't already exist\n",
    "if not os.path.exists(f\"{data_dir}\"):\n",
    "    os.makedirs(f\"{data_dir}\")"
   ]
  },
  {
   "cell_type": "code",
   "execution_count": null,
   "id": "1d5202b2-bc89-48b0-8e64-a662bf684fe9",
   "metadata": {},
   "outputs": [],
   "source": [
    "# create a timeit function which we'll keep standard throughout benchmarking\n",
    "def dataframe_timeit(stmt: str) -> float:\n",
    "    print(\"Timing: \", stmt)\n",
    "    return timeit.timeit(stmt, globals=globals(), number=5)"
   ]
  },
  {
   "cell_type": "code",
   "execution_count": null,
   "id": "5cb32abd-ed3e-442e-8e53-fa6dca4b775f",
   "metadata": {},
   "outputs": [],
   "source": [
    "# Dask execution environment initialization\n",
    "client = Client()"
   ]
  },
  {
   "cell_type": "code",
   "execution_count": null,
   "id": "294cf2ea-0a86-4b34-9d24-4a649d82af57",
   "metadata": {},
   "outputs": [],
   "source": [
    "results = pandas.DataFrame(index=[\"pandas\", \"modin\", \"polars\", \"mars\", \"dask\"])\n",
    "results"
   ]
  },
  {
   "cell_type": "code",
   "execution_count": null,
   "id": "be4e43f1-9eaf-4f83-bbbb-e7ff117ea27d",
   "metadata": {},
   "outputs": [],
   "source": [
    "# create sample data\n",
    "# reference: https://modin.readthedocs.io/en/stable/#modin-is-a-dataframe-for-datasets-from-1mb-to-1tb\n",
    "dataframe_data = np.random.randint(0, 100_000_000_000, size=(2**12, 2**12))\n",
    "\n",
    "if not os.path.isfile(f\"{data_file}\"):\n",
    "    df = pandas.DataFrame(dataframe_data)\n",
    "    df.to_csv(f\"{data_file}\")\n",
    "    filesize = round(os.path.getsize(data_file) / 1024 / 1024)\n",
    "    print(f\"{data_file} is ~{filesize} MB\")"
   ]
  },
  {
   "cell_type": "code",
   "execution_count": null,
   "id": "ca93f70c-57c0-4cf5-95a2-5e00eb6e55a9",
   "metadata": {},
   "outputs": [],
   "source": [
    "df = pandas.DataFrame(dataframe_data)\n",
    "df.to_csv(f\"{data_file}\")\n",
    "filesize = round(os.path.getsize(data_file) / 1024 / 1024)\n",
    "print(f\"{data_file} is ~{filesize} MB\")"
   ]
  },
  {
   "cell_type": "markdown",
   "id": "d0a30525-24a8-46db-aa99-e2cf710c694f",
   "metadata": {},
   "source": [
    "## Data Reads"
   ]
  },
  {
   "cell_type": "code",
   "execution_count": null,
   "id": "e3703ed1-d850-4e62-be15-77ec28e126f9",
   "metadata": {},
   "outputs": [],
   "source": [
    "def pandas_csv_read():\n",
    "    return pandas.read_csv(data_file)\n",
    "\n",
    "\n",
    "def modin_csv_read():\n",
    "    return modin_pandas.read_csv(data_file)\n",
    "\n",
    "\n",
    "def polars_csv_read():\n",
    "    return polars.read_csv(data_file)\n",
    "\n",
    "\n",
    "def mars_csv_read():\n",
    "    return mars_dataframe.read_csv(data_file).execute()\n",
    "\n",
    "\n",
    "def dask_csv_read():\n",
    "    return dask_dataframe.read_csv(data_file)\n",
    "\n",
    "\n",
    "results[\"read_csv_func\"] = [\n",
    "    \"pandas_csv_read()\",\n",
    "    \"modin_csv_read()\",\n",
    "    \"polars_csv_read()\",\n",
    "    \"mars_csv_read()\",\n",
    "    \"dask_csv_read()\",\n",
    "]\n",
    "results[\"read_csv_func\"]"
   ]
  },
  {
   "cell_type": "code",
   "execution_count": null,
   "id": "bb746343-3050-4a5a-8e68-665dda838e2c",
   "metadata": {},
   "outputs": [],
   "source": [
    "results[\"read_csv\"] = results[\"read_csv_func\"].apply(lambda x: dataframe_timeit(x))\n",
    "results[\"read_csv\"]"
   ]
  },
  {
   "cell_type": "markdown",
   "id": "5760073d-862c-45cd-b0bf-504db2e04eba",
   "metadata": {},
   "source": [
    "## Data Writes"
   ]
  },
  {
   "cell_type": "code",
   "execution_count": null,
   "id": "12ab7fa9-c33e-462b-b82c-ba3454728269",
   "metadata": {},
   "outputs": [],
   "source": [
    "# pre-prepare df csv reads to isolate only writes\n",
    "pandas_df = pandas_csv_read()\n",
    "modin_df = modin_csv_read()\n",
    "polars_df = polars_csv_read()\n",
    "mars_df = mars_csv_read()\n",
    "dask_df = dask_csv_read()"
   ]
  },
  {
   "cell_type": "code",
   "execution_count": null,
   "id": "d59cb562-9df5-4bee-be18-c5a05aeeec52",
   "metadata": {},
   "outputs": [],
   "source": [
    "def pandas_csv_write():\n",
    "    pandas_df.to_csv(data_file)\n",
    "\n",
    "\n",
    "def modin_csv_write():\n",
    "    modin_df.to_csv(data_file)\n",
    "\n",
    "\n",
    "def polars_csv_write():\n",
    "    polars_df.to_csv(data_file)\n",
    "\n",
    "\n",
    "def mars_csv_write():\n",
    "    mars_df.to_csv(data_file).execute()\n",
    "\n",
    "\n",
    "def dask_csv_write():\n",
    "    dask_df.to_csv(data_file, single_file=True)\n",
    "\n",
    "\n",
    "results[\"write_csv_func\"] = [\n",
    "    \"pandas_csv_write()\",\n",
    "    \"modin_csv_write()\",\n",
    "    \"polars_csv_write()\",\n",
    "    \"mars_csv_write()\",\n",
    "    \"dask_csv_write()\",\n",
    "]\n",
    "results[\"write_csv_func\"]"
   ]
  },
  {
   "cell_type": "code",
   "execution_count": null,
   "id": "79e29206-a527-4b9e-bc23-03a7275e9d14",
   "metadata": {},
   "outputs": [],
   "source": [
    "results[\"write_csv\"] = results[\"write_csv_func\"].apply(lambda x: dataframe_timeit(x))\n",
    "results[\"write_csv\"]"
   ]
  }
 ],
 "metadata": {
  "kernelspec": {
   "display_name": "Python 3 (ipykernel)",
   "language": "python",
   "name": "python3"
  },
  "language_info": {
   "codemirror_mode": {
    "name": "ipython",
    "version": 3
   },
   "file_extension": ".py",
   "mimetype": "text/x-python",
   "name": "python",
   "nbconvert_exporter": "python",
   "pygments_lexer": "ipython3",
   "version": "3.9.12"
  }
 },
 "nbformat": 4,
 "nbformat_minor": 5
}
